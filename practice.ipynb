{
 "cells": [
  {
   "cell_type": "markdown",
   "metadata": {},
   "source": [
    "%config IPCompleter.greedy=True\n"
   ]
  },
  {
   "cell_type": "code",
   "execution_count": 26,
   "metadata": {},
   "outputs": [
    {
     "name": "stdout",
     "output_type": "stream",
     "text": [
      "1 4 9 16 25 36 49 64 81 100\n"
     ]
    }
   ],
   "source": [
    "new_list=[]\n",
    "\n",
    "for x in range(1,11):\n",
    "    new_list.append(x**2)\n",
    "\n",
    "print (*new_list)"
   ]
  },
  {
   "cell_type": "code",
   "execution_count": 15,
   "metadata": {},
   "outputs": [
    {
     "name": "stdout",
     "output_type": "stream",
     "text": [
      "1 2 3 5 7 11 13 17 19 "
     ]
    }
   ],
   "source": [
    "def prime_numbers_upto(a_number):\n",
    "    for x in range(1, a_number):\n",
    "        count =0\n",
    "        if x <= 2:\n",
    "            print(x, end=\" \")\n",
    "    \n",
    "        elif(x%2 !=0):\n",
    "            for y in range (2, x//2):\n",
    "                if x%y ==0:\n",
    "                    count +=1\n",
    "            if count == 0:\n",
    "                print (x, end =\" \")\n",
    "                \n",
    "\n",
    "prime_numbers_upto(21)                \n",
    "        "
   ]
  },
  {
   "cell_type": "markdown",
   "metadata": {},
   "source": [
    "## Comprehensions"
   ]
  },
  {
   "cell_type": "code",
   "execution_count": 6,
   "metadata": {},
   "outputs": [
    {
     "data": {
      "text/plain": [
       "[10, 20, 30, 40, 50]"
      ]
     },
     "execution_count": 6,
     "metadata": {},
     "output_type": "execute_result"
    }
   ],
   "source": [
    "# multiply each item in the list by 10 and make another list\n",
    "\n",
    "nums = [1, 2, 3, 4, 5]\n",
    "my_list = [n*10 for n in nums]\n",
    "my_list"
   ]
  },
  {
   "cell_type": "code",
   "execution_count": 7,
   "metadata": {},
   "outputs": [
    {
     "data": {
      "text/plain": [
       "[10, 30, 50]"
      ]
     },
     "execution_count": 7,
     "metadata": {},
     "output_type": "execute_result"
    }
   ],
   "source": [
    "# multiply each item in the list by 10 if its an odd number \n",
    "# and make another list\n",
    "\n",
    "nums = [1, 2, 3, 4, 5]\n",
    "my_list = [n*10 for n in nums if n%2==1]\n",
    "my_list"
   ]
  },
  {
   "cell_type": "code",
   "execution_count": 45,
   "metadata": {},
   "outputs": [
    {
     "name": "stdout",
     "output_type": "stream",
     "text": [
      "[1, 3, 5, 7, 9]\n"
     ]
    }
   ],
   "source": [
    "# odd numbers upto 10\n",
    "\n",
    "x = [x for x in range(10) if x%2==1]\n",
    "print (x)"
   ]
  },
  {
   "cell_type": "code",
   "execution_count": 8,
   "metadata": {},
   "outputs": [
    {
     "data": {
      "text/plain": [
       "[('x', 0),\n",
       " ('x', 1),\n",
       " ('x', 2),\n",
       " ('x', 3),\n",
       " ('y', 0),\n",
       " ('y', 1),\n",
       " ('y', 2),\n",
       " ('y', 3),\n",
       " ('z', 0),\n",
       " ('z', 1),\n",
       " ('z', 2),\n",
       " ('z', 3)]"
      ]
     },
     "execution_count": 8,
     "metadata": {},
     "output_type": "execute_result"
    }
   ],
   "source": [
    "# (letter, num) pair for each letter in \"x,y,z\" and each number in \"0,1,2,3\"\n",
    "\n",
    "my_list = [(letter, num) for letter in \"xyz\" for num in range(4)]\n",
    "my_list"
   ]
  },
  {
   "cell_type": "code",
   "execution_count": 23,
   "metadata": {},
   "outputs": [
    {
     "name": "stdout",
     "output_type": "stream",
     "text": [
      "['I', ' ', 'k', 'n', 'o', 'w', ' ', 'h', 'o', 'w', ' ', 't', 'o', ' ', 's', 'e', 'p', 'e', 'r', 'a', 't', 'e', ' ', 'w', 'o', 'r', 'd', 's', '!']\n"
     ]
    }
   ],
   "source": [
    "# seperate words into letters\n",
    "\n",
    "def letter_seperator(a_str):\n",
    "    x = [a_str[n] for n in range(len(a_str))]\n",
    "    print(x)\n",
    "    \n",
    "letter_seperator(\"I know how to seperate words!\")"
   ]
  },
  {
   "cell_type": "code",
   "execution_count": 9,
   "metadata": {},
   "outputs": [
    {
     "name": "stdout",
     "output_type": "stream",
     "text": [
      "[1, 2, 3, 4, 5, 6, 7, 8, 9, 10]\n"
     ]
    }
   ],
   "source": [
    "# nested lists\n",
    "\n",
    "nested_list=[[1,2,3,4,5],[6,7,8,9,10]]\n",
    "\n",
    "x = [item for inner_list in nested_list for item in inner_list]\n",
    "print(x)"
   ]
  },
  {
   "cell_type": "code",
   "execution_count": 34,
   "metadata": {},
   "outputs": [
    {
     "data": {
      "text/plain": [
       "{2: 4, 4: 16, 6: 36, 8: 64}"
      ]
     },
     "execution_count": 34,
     "metadata": {},
     "output_type": "execute_result"
    }
   ],
   "source": [
    "# dictionary comprehensions\n",
    "\n",
    "{x:x**2 for x in range(1,10) if x%2==0}"
   ]
  },
  {
   "cell_type": "code",
   "execution_count": 26,
   "metadata": {},
   "outputs": [
    {
     "data": {
      "text/plain": [
       "{'Ali': 'Bir',\n",
       " 'Veli': 'Yedi',\n",
       " 'Cem': 'Sekiz',\n",
       " 'David': 'Yedi',\n",
       " 'Elif': 'Bir',\n",
       " 'Fahri': 'Sekiz'}"
      ]
     },
     "execution_count": 26,
     "metadata": {},
     "output_type": "execute_result"
    }
   ],
   "source": [
    "# dictionary comprehensions\n",
    "\n",
    "first = ['Ali','Veli','Cem', \"David\", \"Elif\", \"Fahri\"]\n",
    "last = ['Bir','Yedi','Sekiz', \"Yedi\", \"Bir\", \"Sekiz\"]\n",
    "\n",
    "my_dict = {first:last for first, last in zip(first, last)}\n",
    "my_dict"
   ]
  },
  {
   "cell_type": "code",
   "execution_count": 35,
   "metadata": {},
   "outputs": [
    {
     "data": {
      "text/plain": [
       "{'Ali': 'Bir', 'Cem': 'Sekiz', 'Elif': 'Bir', 'Fahri': 'Sekiz'}"
      ]
     },
     "execution_count": 35,
     "metadata": {},
     "output_type": "execute_result"
    }
   ],
   "source": [
    "# dictionary comprehensions\n",
    "\n",
    "first = ['Ali','Veli','Cem', \"David\", \"Elif\", \"Fahri\"]\n",
    "last = ['Bir','Yedi','Sekiz', \"Yedi\", \"Bir\", \"Sekiz\"]\n",
    "\n",
    "my_dict = {first:last for first, last in zip(first, last) if last != \"Yedi\"}\n",
    "my_dict"
   ]
  },
  {
   "cell_type": "code",
   "execution_count": 37,
   "metadata": {},
   "outputs": [
    {
     "data": {
      "text/plain": [
       "{1, 2, 3, 4, 5, 6, 7, 8, 9}"
      ]
     },
     "execution_count": 37,
     "metadata": {},
     "output_type": "execute_result"
    }
   ],
   "source": [
    "# set comprehensions\n",
    "\n",
    "nums = [1,2,3,1,2,3,5,6,4,5,6,4,8,9,7,8,9,7,8]\n",
    "my_set= set(nums)\n",
    "my_set"
   ]
  },
  {
   "cell_type": "code",
   "execution_count": 38,
   "metadata": {},
   "outputs": [
    {
     "data": {
      "text/plain": [
       "{1, 2, 3, 4, 5, 6, 7, 8, 9}"
      ]
     },
     "execution_count": 38,
     "metadata": {},
     "output_type": "execute_result"
    }
   ],
   "source": [
    "# set comprehensions\n",
    "\n",
    "nums = [1,2,3,1,2,3,5,6,4,5,6,4,8,9,7,8,9,7,8]\n",
    "my_set= {n for n in nums}\n",
    "my_set"
   ]
  },
  {
   "cell_type": "markdown",
   "metadata": {},
   "source": [
    "### lambda\n",
    "lambda functions are another way of defining the functions\n",
    "it can be useful when you need to create a function that is going to be used only once \n",
    "or when you don't want to bother defining all the routines for function"
   ]
  },
  {
   "cell_type": "code",
   "execution_count": 36,
   "metadata": {},
   "outputs": [
    {
     "data": {
      "text/plain": [
       "16"
      ]
     },
     "execution_count": 36,
     "metadata": {},
     "output_type": "execute_result"
    }
   ],
   "source": [
    "sqr = lambda x:x**2\n",
    "sqr(4)"
   ]
  },
  {
   "cell_type": "code",
   "execution_count": 41,
   "metadata": {},
   "outputs": [
    {
     "name": "stdout",
     "output_type": "stream",
     "text": [
      "False\n"
     ]
    },
    {
     "data": {
      "text/plain": [
       "True"
      ]
     },
     "execution_count": 41,
     "metadata": {},
     "output_type": "execute_result"
    }
   ],
   "source": [
    "is_result_even = lambda x,y : True if x*y%2==0 else False\n",
    "\n",
    "print(is_result_even(3,5))\n",
    "is_result_even(4,7)"
   ]
  },
  {
   "cell_type": "markdown",
   "metadata": {},
   "source": [
    "### filter\n",
    "\n",
    "The filter filters out items based on a test function which is a filter and apply functions to pairs of item \n",
    "The first parameter in filter () must be boolean\n",
    "This function will be applied to every element of the list l. \n",
    "Only if first parameter returns True will the element of the list be included in the result list."
   ]
  },
  {
   "cell_type": "code",
   "execution_count": 65,
   "metadata": {},
   "outputs": [
    {
     "data": {
      "text/plain": [
       "[2, 4, 6, 8, 10]"
      ]
     },
     "execution_count": 65,
     "metadata": {},
     "output_type": "execute_result"
    }
   ],
   "source": [
    "def is_even(x):\n",
    "    \n",
    "    if x%2==0:\n",
    "        \n",
    "        return True\n",
    "    else:\n",
    "        return False\n",
    "\n",
    "\n",
    "list(filter (is_even, range(1,11)))\n",
    "# there is no () or parameter when calling the function"
   ]
  },
  {
   "cell_type": "code",
   "execution_count": 64,
   "metadata": {},
   "outputs": [
    {
     "data": {
      "text/plain": [
       "[2, 4, 6, 8, 10]"
      ]
     },
     "execution_count": 64,
     "metadata": {},
     "output_type": "execute_result"
    }
   ],
   "source": [
    "# the same with lambda fıunction\n",
    "\n",
    "list(filter (lambda x: True if x % 2==0 else False, range(1,11)))"
   ]
  },
  {
   "cell_type": "code",
   "execution_count": 67,
   "metadata": {},
   "outputs": [
    {
     "data": {
      "text/plain": [
       "[2, 4, 6, 8, 10]"
      ]
     },
     "execution_count": 67,
     "metadata": {},
     "output_type": "execute_result"
    }
   ],
   "source": [
    "# the same with lambda fıunction - shorter version\n",
    "list(filter (lambda x: x % 2==0, range(1,11)))"
   ]
  },
  {
   "cell_type": "markdown",
   "metadata": {},
   "source": [
    "### map\n",
    "map function applies a passed-in function to each item in an iterable object \n",
    "and returns a list containing all the function call result.\n",
    "it takes a function as the first parameter, and an iterable object as the second parameter"
   ]
  },
  {
   "cell_type": "code",
   "execution_count": 70,
   "metadata": {},
   "outputs": [
    {
     "data": {
      "text/plain": [
       "[1, 4, 9, 16, 25]"
      ]
     },
     "execution_count": 70,
     "metadata": {},
     "output_type": "execute_result"
    }
   ],
   "source": [
    "items = [1, 2, 3, 4, 5]\n",
    "\n",
    "def sqr(x): \n",
    "    \n",
    "    return x ** 2\n",
    "\n",
    "list(map(sqr, items))"
   ]
  },
  {
   "cell_type": "code",
   "execution_count": 71,
   "metadata": {},
   "outputs": [
    {
     "data": {
      "text/plain": [
       "[1, 4, 9, 16, 25]"
      ]
     },
     "execution_count": 71,
     "metadata": {},
     "output_type": "execute_result"
    }
   ],
   "source": [
    "list(map(lambda x: x**2, items))"
   ]
  },
  {
   "cell_type": "code",
   "execution_count": 87,
   "metadata": {},
   "outputs": [
    {
     "name": "stdout",
     "output_type": "stream",
     "text": [
      "0 1 4 3 16 5 36 7 64 9\n"
     ]
    }
   ],
   "source": [
    "# the squares if the number is even; else leave it as it is\n",
    "\n",
    "result = list(map((lambda x: x**2 if x%2==0 else x),  range(10)))\n",
    "print (*result)"
   ]
  },
  {
   "cell_type": "code",
   "execution_count": null,
   "metadata": {},
   "outputs": [],
   "source": []
  },
  {
   "cell_type": "markdown",
   "metadata": {},
   "source": [
    "## zipfile module"
   ]
  },
  {
   "cell_type": "code",
   "execution_count": 65,
   "metadata": {},
   "outputs": [],
   "source": [
    "import zipfile\n",
    "\n",
    "my_zip = zipfile.ZipFile(\"zipped_files.zip\", 'w')\n",
    "\n",
    "my_zip.write(\"one.txt\")\n",
    "my_zip.write(\"two.png\")\n",
    "\n",
    "my_zip.close()"
   ]
  },
  {
   "cell_type": "code",
   "execution_count": 67,
   "metadata": {},
   "outputs": [],
   "source": [
    "# Alternatively with context manager\n",
    "\n",
    "with zipfile.ZipFile(\"zipped_files.zip\", 'w') as my_zip:\n",
    "    my_zip.write(\"one.txt\")\n",
    "    my_zip.write(\"two.png\")"
   ]
  }
 ],
 "metadata": {
  "kernelspec": {
   "display_name": "Python 3",
   "language": "python",
   "name": "python3"
  },
  "language_info": {
   "codemirror_mode": {
    "name": "ipython",
    "version": 3
   },
   "file_extension": ".py",
   "mimetype": "text/x-python",
   "name": "python",
   "nbconvert_exporter": "python",
   "pygments_lexer": "ipython3",
   "version": "3.7.6"
  }
 },
 "nbformat": 4,
 "nbformat_minor": 4
}
