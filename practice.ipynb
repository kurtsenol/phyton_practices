{
 "cells": [
  {
   "cell_type": "markdown",
   "metadata": {},
   "source": [
    "%config IPCompleter.greedy=True\n"
   ]
  },
  {
   "cell_type": "code",
   "execution_count": 1,
   "metadata": {},
   "outputs": [
    {
     "name": "stdout",
     "output_type": "stream",
     "text": [
      "1 4 9 16 25 36 49 64 81 100\n"
     ]
    }
   ],
   "source": [
    "# square number upto a given number\n",
    "\n",
    "new_list=[]\n",
    "\n",
    "for x in range(1,11):\n",
    "    new_list.append(x**2)\n",
    "\n",
    "print (*new_list)"
   ]
  },
  {
   "cell_type": "code",
   "execution_count": 2,
   "metadata": {},
   "outputs": [
    {
     "name": "stdout",
     "output_type": "stream",
     "text": [
      "1 2 3 5 7 11 13 17 19 "
     ]
    }
   ],
   "source": [
    "# prime number upto a given number\n",
    "\n",
    "def prime_numbers_upto(a_number):\n",
    "    for x in range(1, a_number):\n",
    "        count =0\n",
    "        if x <= 2:\n",
    "            print(x, end=\" \")\n",
    "    \n",
    "        elif(x%2 !=0):\n",
    "            for y in range (2, x//2):\n",
    "                if x%y ==0:\n",
    "                    count +=1\n",
    "            if count == 0:\n",
    "                print (x, end =\" \")\n",
    "                \n",
    "\n",
    "prime_numbers_upto(21)                \n",
    "        "
   ]
  },
  {
   "cell_type": "code",
   "execution_count": 3,
   "metadata": {},
   "outputs": [
    {
     "name": "stdout",
     "output_type": "stream",
     "text": [
      "abc\n",
      "a b c\n"
     ]
    }
   ],
   "source": [
    "# turning list to a string\n",
    "\n",
    "a_list = [\"a\",\"b\",\"c\"]\n",
    "\n",
    "a_str_1 = \"\".join(a_list)\n",
    "a_str_2 = \" \".join(a_list)\n",
    "print(a_str_1)\n",
    "print(a_str_2)"
   ]
  },
  {
   "cell_type": "code",
   "execution_count": 4,
   "metadata": {},
   "outputs": [
    {
     "name": "stdout",
     "output_type": "stream",
     "text": [
      "['a', 'b', 'c']\n",
      "['a', ' ', 'b', ' ', 'c']\n"
     ]
    }
   ],
   "source": [
    "# turning string to a list\n",
    "\n",
    "a_str_1 = \"abc\"\n",
    "a_str_2 = \"a b c\"\n",
    "a_list_1 = list(a_str_1)\n",
    "a_list_2 = list(a_str_2)\n",
    "\n",
    "print(a_list_1)\n",
    "print(a_list_2)"
   ]
  },
  {
   "cell_type": "code",
   "execution_count": 5,
   "metadata": {},
   "outputs": [
    {
     "name": "stdout",
     "output_type": "stream",
     "text": [
      "[['yellow', 'orange']]\n",
      "[['yellow', 'orange'], ['red']]\n",
      "['red', 'pink']\n",
      "[['yellow', 'orange'], ['red', 'pink']]\n"
     ]
    }
   ],
   "source": [
    "# side effects after mutation \n",
    "\n",
    "warm = [\"yellow\", \"orange\"]\n",
    "hot = [\"red\"]\n",
    "\n",
    "colors = [warm]\n",
    "print(colors)\n",
    "\n",
    "colors.append(hot)\n",
    "print(colors)\n",
    "\n",
    "hot.append(\"pink\")\n",
    "print(hot)\n",
    "print(colors)"
   ]
  },
  {
   "cell_type": "code",
   "execution_count": 6,
   "metadata": {},
   "outputs": [
    {
     "name": "stdout",
     "output_type": "stream",
     "text": [
      "[2, 3, 4]\n"
     ]
    }
   ],
   "source": [
    "# removing common elements of a list\n",
    "# why returned [2,3,4] instead of [3,4]???\n",
    "# be careful, do not mutate a list that you iterate over!!!\n",
    "\n",
    "list_1 = [1,2,3,4]\n",
    "list_2 = [1,2,5,6]\n",
    "\n",
    "for n in list_1:\n",
    "    if n in list_2:\n",
    "        list_1.remove(n)\n",
    "        \n",
    "print(list_1)"
   ]
  },
  {
   "cell_type": "code",
   "execution_count": 7,
   "metadata": {},
   "outputs": [
    {
     "name": "stdout",
     "output_type": "stream",
     "text": [
      "[3, 4]\n"
     ]
    }
   ],
   "source": [
    "# correction to above problem\n",
    "# first get copy of the list, iterate over the copy and mutate the original list\n",
    "\n",
    "list_1 = [1,2,3,4]\n",
    "list_2 = [1,2,5,6]\n",
    "list_1_copy = list_1 [:] # get copy of the list\n",
    "\n",
    "for n in list_1_copy:\n",
    "    if n in list_2:\n",
    "        list_1.remove(n)\n",
    "        \n",
    "print(list_1)"
   ]
  },
  {
   "cell_type": "markdown",
   "metadata": {},
   "source": [
    "## Sets\n",
    "\n",
    "The sets module provides classes for constructing and manipulating **unordered collections of unique elements**. We can use it to compare two lists."
   ]
  },
  {
   "cell_type": "code",
   "execution_count": 8,
   "metadata": {},
   "outputs": [
    {
     "name": "stdout",
     "output_type": "stream",
     "text": [
      "{1, 2, 3, 4} {8, 2, 4, 6} set() {0, 1, 2, 3}\n"
     ]
    }
   ],
   "source": [
    "# s = {} creates empty dictionary not a set\n",
    "# s = ([]) creates an empty set\n",
    "\n",
    "set_1 = set([1,2,3,4])\n",
    "set_2 = {2,4,6,8}\n",
    "set_3 = set([])\n",
    "set_4 = {1,2,1,2,3,3,0,1}\n",
    "\n",
    "print(set_1, set_2, set_3, set_4)"
   ]
  },
  {
   "cell_type": "code",
   "execution_count": 9,
   "metadata": {},
   "outputs": [
    {
     "data": {
      "text/plain": [
       "{1, 2, 3, 4, 5}"
      ]
     },
     "execution_count": 9,
     "metadata": {},
     "output_type": "execute_result"
    }
   ],
   "source": [
    "# add an item to a set\n",
    "\n",
    "set_1.add(5)\n",
    "set_1"
   ]
  },
  {
   "cell_type": "code",
   "execution_count": 10,
   "metadata": {},
   "outputs": [
    {
     "data": {
      "text/plain": [
       "{1, 2, 3, 4, 5, 6, 7, 8, 9}"
      ]
     },
     "execution_count": 10,
     "metadata": {},
     "output_type": "execute_result"
    }
   ],
   "source": [
    "# add multiple items to a set\n",
    "\n",
    "set_1.update([4,5,6,7,8,9])\n",
    "set_1"
   ]
  },
  {
   "cell_type": "code",
   "execution_count": 11,
   "metadata": {},
   "outputs": [
    {
     "data": {
      "text/plain": [
       "{1, 2, 3, 4, 5, 6, 7}"
      ]
     },
     "execution_count": 11,
     "metadata": {},
     "output_type": "execute_result"
    }
   ],
   "source": [
    "# remove an item from a set\n",
    "# we can use both \"remove()\" and \"discard()\" method to remove an item from a set.\n",
    "# If the element is not a member, \"remove()\" raises a KeyError, whereas \"discard()\" doesn't. \n",
    "\n",
    "set_1.remove(9)\n",
    "set_1.discard(8)\n",
    "set_1.discard(10)\n",
    "set_1"
   ]
  },
  {
   "cell_type": "code",
   "execution_count": 12,
   "metadata": {},
   "outputs": [
    {
     "data": {
      "text/plain": [
       "{3}"
      ]
     },
     "execution_count": 12,
     "metadata": {},
     "output_type": "execute_result"
    }
   ],
   "source": [
    "# finding intersection among sets\n",
    "\n",
    "s1 = {1, 2, 3}\n",
    "s2 = {2, 3, 4}\n",
    "s3 = {3, 4, 5}\n",
    "\n",
    "s4= s1.intersection(s2,s3)\n",
    "s4"
   ]
  },
  {
   "cell_type": "code",
   "execution_count": 13,
   "metadata": {},
   "outputs": [
    {
     "name": "stdout",
     "output_type": "stream",
     "text": [
      "{1}\n",
      "{4}\n",
      "set()\n"
     ]
    }
   ],
   "source": [
    "# finding differences among sets\n",
    "\n",
    "s1 = {1, 2, 3}\n",
    "s2 = {2, 3, 4}\n",
    "s3 = {3, 4, 5}\n",
    "\n",
    "s4 = s1.difference(s2)\n",
    "s5 = s2.difference(s1)\n",
    "s6 = s2.difference(s1, s3)\n",
    "\n",
    "print(s4)\n",
    "print(s5)\n",
    "print(s6)"
   ]
  },
  {
   "cell_type": "code",
   "execution_count": 14,
   "metadata": {},
   "outputs": [
    {
     "name": "stdout",
     "output_type": "stream",
     "text": [
      "{1, 4}\n"
     ]
    }
   ],
   "source": [
    "# finding symmetric differences among sets\n",
    "# set of elements that are in either A or B , but not in their intersection.\n",
    "\n",
    "s1 = {1, 2, 3}\n",
    "s2 = {2, 3, 4}\n",
    "s3 = {3, 4, 5}\n",
    "\n",
    "s4 = s1.symmetric_difference(s2)\n",
    "\n",
    "print(s4)"
   ]
  },
  {
   "cell_type": "markdown",
   "metadata": {},
   "source": [
    "## Comprehensions"
   ]
  },
  {
   "cell_type": "code",
   "execution_count": 15,
   "metadata": {},
   "outputs": [
    {
     "data": {
      "text/plain": [
       "[10, 20, 30, 40, 50]"
      ]
     },
     "execution_count": 15,
     "metadata": {},
     "output_type": "execute_result"
    }
   ],
   "source": [
    "# multiply each item in the list by 10 and make another list\n",
    "\n",
    "nums = [1, 2, 3, 4, 5]\n",
    "my_list = [n*10 for n in nums]\n",
    "my_list"
   ]
  },
  {
   "cell_type": "code",
   "execution_count": 16,
   "metadata": {},
   "outputs": [
    {
     "data": {
      "text/plain": [
       "[10, 30, 50]"
      ]
     },
     "execution_count": 16,
     "metadata": {},
     "output_type": "execute_result"
    }
   ],
   "source": [
    "# multiply each item in the list by 10 if its an odd number \n",
    "# and make another list\n",
    "\n",
    "nums = [1, 2, 3, 4, 5]\n",
    "my_list = [n*10 for n in nums if n%2==1]\n",
    "my_list"
   ]
  },
  {
   "cell_type": "code",
   "execution_count": 17,
   "metadata": {},
   "outputs": [
    {
     "name": "stdout",
     "output_type": "stream",
     "text": [
      "[1, 3, 5, 7, 9]\n"
     ]
    }
   ],
   "source": [
    "# odd numbers upto 10\n",
    "\n",
    "x = [x for x in range(10) if x%2==1]\n",
    "print (x)"
   ]
  },
  {
   "cell_type": "code",
   "execution_count": 18,
   "metadata": {},
   "outputs": [
    {
     "data": {
      "text/plain": [
       "[('x', 0),\n",
       " ('x', 1),\n",
       " ('x', 2),\n",
       " ('x', 3),\n",
       " ('y', 0),\n",
       " ('y', 1),\n",
       " ('y', 2),\n",
       " ('y', 3),\n",
       " ('z', 0),\n",
       " ('z', 1),\n",
       " ('z', 2),\n",
       " ('z', 3)]"
      ]
     },
     "execution_count": 18,
     "metadata": {},
     "output_type": "execute_result"
    }
   ],
   "source": [
    "# (letter, num) pair for each letter in \"x,y,z\" and each number in \"0,1,2,3\"\n",
    "\n",
    "my_list = [(letter, num) for letter in \"xyz\" for num in range(4)]\n",
    "my_list"
   ]
  },
  {
   "cell_type": "code",
   "execution_count": 19,
   "metadata": {},
   "outputs": [
    {
     "name": "stdout",
     "output_type": "stream",
     "text": [
      "['I', ' ', 'k', 'n', 'o', 'w', ' ', 'h', 'o', 'w', ' ', 't', 'o', ' ', 's', 'e', 'p', 'e', 'r', 'a', 't', 'e', ' ', 'w', 'o', 'r', 'd', 's', '!']\n"
     ]
    }
   ],
   "source": [
    "# seperate words into letters\n",
    "\n",
    "def letter_seperator(a_str):\n",
    "    x = [a_str[n] for n in range(len(a_str))]\n",
    "    print(x)\n",
    "    \n",
    "letter_seperator(\"I know how to seperate words!\")"
   ]
  },
  {
   "cell_type": "code",
   "execution_count": 20,
   "metadata": {},
   "outputs": [
    {
     "name": "stdout",
     "output_type": "stream",
     "text": [
      "[1, 2, 3, 4, 5, 6, 7, 8, 9, 10]\n"
     ]
    }
   ],
   "source": [
    "# nested lists\n",
    "\n",
    "nested_list=[[1,2,3,4,5],[6,7,8,9,10]]\n",
    "\n",
    "x = [item for inner_list in nested_list for item in inner_list]\n",
    "print(x)"
   ]
  },
  {
   "cell_type": "code",
   "execution_count": 21,
   "metadata": {},
   "outputs": [
    {
     "data": {
      "text/plain": [
       "{2: 4, 4: 16, 6: 36, 8: 64}"
      ]
     },
     "execution_count": 21,
     "metadata": {},
     "output_type": "execute_result"
    }
   ],
   "source": [
    "# dictionary comprehensions\n",
    "\n",
    "{x:x**2 for x in range(1,10) if x%2==0}"
   ]
  },
  {
   "cell_type": "code",
   "execution_count": 22,
   "metadata": {},
   "outputs": [
    {
     "data": {
      "text/plain": [
       "{'Ali': 'Bir',\n",
       " 'Veli': 'Yedi',\n",
       " 'Cem': 'Sekiz',\n",
       " 'David': 'Yedi',\n",
       " 'Elif': 'Bir',\n",
       " 'Fahri': 'Sekiz'}"
      ]
     },
     "execution_count": 22,
     "metadata": {},
     "output_type": "execute_result"
    }
   ],
   "source": [
    "# dictionary comprehensions\n",
    "\n",
    "first = ['Ali','Veli','Cem', \"David\", \"Elif\", \"Fahri\"]\n",
    "last = ['Bir','Yedi','Sekiz', \"Yedi\", \"Bir\", \"Sekiz\"]\n",
    "\n",
    "my_dict = {first:last for first, last in zip(first, last)}\n",
    "my_dict"
   ]
  },
  {
   "cell_type": "code",
   "execution_count": 23,
   "metadata": {},
   "outputs": [
    {
     "data": {
      "text/plain": [
       "{'Ali': 'Bir', 'Cem': 'Sekiz', 'Elif': 'Bir', 'Fahri': 'Sekiz'}"
      ]
     },
     "execution_count": 23,
     "metadata": {},
     "output_type": "execute_result"
    }
   ],
   "source": [
    "# dictionary comprehensions\n",
    "\n",
    "first = ['Ali','Veli','Cem', \"David\", \"Elif\", \"Fahri\"]\n",
    "last = ['Bir','Yedi','Sekiz', \"Yedi\", \"Bir\", \"Sekiz\"]\n",
    "\n",
    "my_dict = {first:last for first, last in zip(first, last) if last != \"Yedi\"}\n",
    "my_dict"
   ]
  },
  {
   "cell_type": "code",
   "execution_count": 24,
   "metadata": {},
   "outputs": [
    {
     "data": {
      "text/plain": [
       "{1, 2, 3, 4, 5, 6, 7, 8, 9}"
      ]
     },
     "execution_count": 24,
     "metadata": {},
     "output_type": "execute_result"
    }
   ],
   "source": [
    "# set comprehensions\n",
    "\n",
    "nums = [1,2,3,1,2,3,5,6,4,5,6,4,8,9,7,8,9,7,8]\n",
    "my_set= set(nums)\n",
    "my_set"
   ]
  },
  {
   "cell_type": "code",
   "execution_count": 25,
   "metadata": {},
   "outputs": [
    {
     "data": {
      "text/plain": [
       "{1, 2, 3, 4, 5, 6, 7, 8, 9}"
      ]
     },
     "execution_count": 25,
     "metadata": {},
     "output_type": "execute_result"
    }
   ],
   "source": [
    "# set comprehensions\n",
    "\n",
    "nums = [1,2,3,1,2,3,5,6,4,5,6,4,8,9,7,8,9,7,8]\n",
    "my_set= {n for n in nums}\n",
    "my_set"
   ]
  },
  {
   "cell_type": "markdown",
   "metadata": {},
   "source": [
    "### lambda\n",
    "lambda functions are another way of defining the functions\n",
    "it can be useful when you need to create a function that is going to be used only once \n",
    "or when you don't want to bother defining all the routines for function"
   ]
  },
  {
   "cell_type": "code",
   "execution_count": 26,
   "metadata": {},
   "outputs": [
    {
     "data": {
      "text/plain": [
       "16"
      ]
     },
     "execution_count": 26,
     "metadata": {},
     "output_type": "execute_result"
    }
   ],
   "source": [
    "sqr = lambda x:x**2\n",
    "sqr(4)"
   ]
  },
  {
   "cell_type": "code",
   "execution_count": 27,
   "metadata": {},
   "outputs": [
    {
     "name": "stdout",
     "output_type": "stream",
     "text": [
      "False\n"
     ]
    },
    {
     "data": {
      "text/plain": [
       "True"
      ]
     },
     "execution_count": 27,
     "metadata": {},
     "output_type": "execute_result"
    }
   ],
   "source": [
    "is_result_even = lambda x,y : True if x*y%2==0 else False\n",
    "\n",
    "print(is_result_even(3,5))\n",
    "is_result_even(4,7)"
   ]
  },
  {
   "cell_type": "markdown",
   "metadata": {},
   "source": [
    "### filter\n",
    "\n",
    "The filter filters out items based on a test function which is a filter and apply functions to pairs of item \n",
    "The first parameter in filter () must be boolean\n",
    "This function will be applied to every element of the list l. \n",
    "Only if first parameter returns True will the element of the list be included in the result list."
   ]
  },
  {
   "cell_type": "code",
   "execution_count": 28,
   "metadata": {},
   "outputs": [
    {
     "data": {
      "text/plain": [
       "[2, 4, 6, 8, 10]"
      ]
     },
     "execution_count": 28,
     "metadata": {},
     "output_type": "execute_result"
    }
   ],
   "source": [
    "def is_even(x):\n",
    "    \n",
    "    if x%2==0:\n",
    "        \n",
    "        return True\n",
    "    else:\n",
    "        return False\n",
    "\n",
    "\n",
    "list(filter (is_even, range(1,11)))\n",
    "# there is no () or parameter when calling the function"
   ]
  },
  {
   "cell_type": "code",
   "execution_count": 29,
   "metadata": {},
   "outputs": [
    {
     "data": {
      "text/plain": [
       "[2, 4, 6, 8, 10]"
      ]
     },
     "execution_count": 29,
     "metadata": {},
     "output_type": "execute_result"
    }
   ],
   "source": [
    "# the same with lambda fıunction\n",
    "\n",
    "list(filter (lambda x: True if x % 2==0 else False, range(1,11)))"
   ]
  },
  {
   "cell_type": "code",
   "execution_count": 30,
   "metadata": {},
   "outputs": [
    {
     "data": {
      "text/plain": [
       "[2, 4, 6, 8, 10]"
      ]
     },
     "execution_count": 30,
     "metadata": {},
     "output_type": "execute_result"
    }
   ],
   "source": [
    "# the same with lambda fıunction - shorter version\n",
    "list(filter (lambda x: x % 2==0, range(1,11)))"
   ]
  },
  {
   "cell_type": "markdown",
   "metadata": {},
   "source": [
    "### map\n",
    "map function applies a passed-in function to each item in an iterable object \n",
    "and returns a list containing all the function call result.\n",
    "it takes a function as the first parameter, and an iterable object as the second parameter"
   ]
  },
  {
   "cell_type": "code",
   "execution_count": 31,
   "metadata": {},
   "outputs": [
    {
     "data": {
      "text/plain": [
       "[1, 4, 9, 16, 25]"
      ]
     },
     "execution_count": 31,
     "metadata": {},
     "output_type": "execute_result"
    }
   ],
   "source": [
    "items = [1, 2, 3, 4, 5]\n",
    "\n",
    "def sqr(x): \n",
    "    \n",
    "    return x ** 2\n",
    "\n",
    "list(map(sqr, items))"
   ]
  },
  {
   "cell_type": "code",
   "execution_count": 32,
   "metadata": {},
   "outputs": [
    {
     "data": {
      "text/plain": [
       "[1, 4, 9, 16, 25]"
      ]
     },
     "execution_count": 32,
     "metadata": {},
     "output_type": "execute_result"
    }
   ],
   "source": [
    "list(map(lambda x: x**2, items))"
   ]
  },
  {
   "cell_type": "code",
   "execution_count": 33,
   "metadata": {},
   "outputs": [
    {
     "name": "stdout",
     "output_type": "stream",
     "text": [
      "0 1 4 3 16 5 36 7 64 9\n"
     ]
    }
   ],
   "source": [
    "# the squares if the number is even; else leave it as it is\n",
    "\n",
    "result = list(map((lambda x: x**2 if x%2==0 else x),  range(10)))\n",
    "print (*result)"
   ]
  },
  {
   "cell_type": "markdown",
   "metadata": {},
   "source": [
    "## random module"
   ]
  },
  {
   "cell_type": "code",
   "execution_count": 34,
   "metadata": {},
   "outputs": [
    {
     "data": {
      "text/plain": [
       "0.9656339558399094"
      ]
     },
     "execution_count": 34,
     "metadata": {},
     "output_type": "execute_result"
    }
   ],
   "source": [
    "# random() method\n",
    "# returns a value 0(inclusive) and 1 (not inclusive) \n",
    "\n",
    "import random\n",
    "\n",
    "value = random.random()\n",
    "value"
   ]
  },
  {
   "cell_type": "code",
   "execution_count": 35,
   "metadata": {},
   "outputs": [
    {
     "data": {
      "text/plain": [
       "9.043275939554588"
      ]
     },
     "execution_count": 35,
     "metadata": {},
     "output_type": "execute_result"
    }
   ],
   "source": [
    "# uniform method()\n",
    "# returns a floating between a specified range\n",
    "\n",
    "value = random.uniform(4,13)\n",
    "value"
   ]
  },
  {
   "cell_type": "code",
   "execution_count": 36,
   "metadata": {},
   "outputs": [
    {
     "data": {
      "text/plain": [
       "9"
      ]
     },
     "execution_count": 36,
     "metadata": {},
     "output_type": "execute_result"
    }
   ],
   "source": [
    "# randint method()\n",
    "# returns an integer between a specified range\n",
    "\n",
    "value = random.randint(-4,13)\n",
    "value"
   ]
  },
  {
   "cell_type": "code",
   "execution_count": 37,
   "metadata": {},
   "outputs": [
    {
     "name": "stdout",
     "output_type": "stream",
     "text": [
      "Selected student is Ali\n"
     ]
    }
   ],
   "source": [
    "# choice() method\n",
    "# picks a random value from a list of values\n",
    "\n",
    "students_list = ['Ali','Veli','Cem', \"David\", \"Elif\", \"Fahri\"]\n",
    "\n",
    "selected_student = random.choice(students_list)\n",
    "print(\"Selected student is {}\".format(selected_student))"
   ]
  },
  {
   "cell_type": "code",
   "execution_count": 38,
   "metadata": {},
   "outputs": [
    {
     "name": "stdout",
     "output_type": "stream",
     "text": [
      "['red', 'blue', 'red', 'blue', 'red', 'red', 'red', 'green', 'green', 'red']\n"
     ]
    }
   ],
   "source": [
    "# choices() method\n",
    "# It returns a list with the randomly selected element from the specified sequence.\n",
    "# You can weigh the possibility of each result with the weights parameter.\n",
    "# The sequence can be a string, a range, a list, a tuple or any other kind of sequence.\n",
    "\n",
    "colors = ['red','blue','green']\n",
    "\n",
    "results =  random.choices(colors, weights=[4,4,2], k=10)\n",
    "print(results)"
   ]
  },
  {
   "cell_type": "code",
   "execution_count": 39,
   "metadata": {},
   "outputs": [
    {
     "name": "stdout",
     "output_type": "stream",
     "text": [
      "[46, 25, 17, 51, 11, 18, 7]\n"
     ]
    }
   ],
   "source": [
    "# be careful! even length of list is greater than the \"k\" value, choices() method may return the same values.\n",
    "# for selecting unique values we use sample() method.\n",
    "# When using sample() method, \"k\" parameter should be less than length of list\n",
    "\n",
    "deck = list(range(1,53))\n",
    "\n",
    "samples =  random.sample(deck, k=7)\n",
    "print(samples)"
   ]
  },
  {
   "cell_type": "code",
   "execution_count": 40,
   "metadata": {},
   "outputs": [
    {
     "name": "stdout",
     "output_type": "stream",
     "text": [
      "[23, 22, 2, 43, 52, 28, 3, 44, 32, 41, 10, 15, 49, 39, 9, 4, 24, 16, 46, 1, 48, 19, 36, 20, 50, 38, 13, 26, 29, 14, 18, 45, 31, 33, 21, 37, 40, 34, 42, 17, 27, 12, 25, 5, 30, 35, 6, 11, 51, 7, 47, 8]\n"
     ]
    }
   ],
   "source": [
    "# shuffle() method,  shuffles a list in place\n",
    "\n",
    "deck = list(range(1,53))\n",
    "\n",
    "random.shuffle(deck)\n",
    "print(deck)"
   ]
  },
  {
   "cell_type": "markdown",
   "metadata": {},
   "source": [
    "## \"==\" vs \"is\" for comparison\n",
    "\n",
    "* \"==\" checks for equality\n",
    "* \"is\" checks for identity, if two objects hold the same location in memory  "
   ]
  },
  {
   "cell_type": "code",
   "execution_count": 41,
   "metadata": {},
   "outputs": [
    {
     "name": "stdout",
     "output_type": "stream",
     "text": [
      "2611413973128\n",
      "2611413987528\n",
      "True\n",
      "False\n"
     ]
    }
   ],
   "source": [
    "list_1 = [1,2,3]\n",
    "list_2 = [1,2,3]\n",
    "\n",
    "print(id(list_1))\n",
    "print(id(list_2))\n",
    "\n",
    "print(list_1 == list_2)\n",
    "print(list_1 is list_2)"
   ]
  },
  {
   "cell_type": "code",
   "execution_count": 42,
   "metadata": {},
   "outputs": [
    {
     "name": "stdout",
     "output_type": "stream",
     "text": [
      "2611413555464\n",
      "2611413555464\n",
      "True\n",
      "True\n"
     ]
    }
   ],
   "source": [
    "list_1 = [1,2,3]\n",
    "list_2 = list_1\n",
    "\n",
    "print(id(list_1))\n",
    "print(id(list_2))\n",
    "\n",
    "print(list_1 == list_2)\n",
    "print(list_1 is list_2)"
   ]
  },
  {
   "cell_type": "markdown",
   "metadata": {},
   "source": [
    "### unpacking"
   ]
  },
  {
   "cell_type": "code",
   "execution_count": 43,
   "metadata": {},
   "outputs": [
    {
     "name": "stdout",
     "output_type": "stream",
     "text": [
      "1 2\n"
     ]
    }
   ],
   "source": [
    "# assign two variables to the items of a tuple at the same time\n",
    "\n",
    "a, b = (1,2)\n",
    "print(a,b)"
   ]
  },
  {
   "cell_type": "code",
   "execution_count": 44,
   "metadata": {},
   "outputs": [
    {
     "name": "stdout",
     "output_type": "stream",
     "text": [
      "3\n"
     ]
    }
   ],
   "source": [
    "# if you don't need the second variable\n",
    "\n",
    "a, _ = (3,4)\n",
    "print(a)"
   ]
  },
  {
   "cell_type": "code",
   "execution_count": 45,
   "metadata": {},
   "outputs": [
    {
     "name": "stdout",
     "output_type": "stream",
     "text": [
      "1 2 [3, 4, 5, 6, 7]\n"
     ]
    }
   ],
   "source": [
    "# assign multiple variables \n",
    "\n",
    "a, b, *c = (1,2,3,4,5,6,7)\n",
    "print(a,b, c)"
   ]
  },
  {
   "cell_type": "code",
   "execution_count": 46,
   "metadata": {},
   "outputs": [
    {
     "name": "stdout",
     "output_type": "stream",
     "text": [
      "1 2 [3, 4, 5] 6 7\n"
     ]
    }
   ],
   "source": [
    "# assign multiple variables \n",
    "\n",
    "a, b, *c, d, e = (1,2,3,4,5,6,7)\n",
    "print(a,b,c,d,e)"
   ]
  },
  {
   "cell_type": "markdown",
   "metadata": {},
   "source": [
    "## zipfile module"
   ]
  },
  {
   "cell_type": "code",
   "execution_count": 47,
   "metadata": {},
   "outputs": [
    {
     "ename": "FileNotFoundError",
     "evalue": "[WinError 2] Sistem belirtilen dosyayı bulamıyor: 'one.txt'",
     "output_type": "error",
     "traceback": [
      "\u001b[1;31m---------------------------------------------------------------------------\u001b[0m",
      "\u001b[1;31mFileNotFoundError\u001b[0m                         Traceback (most recent call last)",
      "\u001b[1;32m<ipython-input-47-a3c30e7969c0>\u001b[0m in \u001b[0;36m<module>\u001b[1;34m\u001b[0m\n\u001b[0;32m      3\u001b[0m \u001b[0mmy_zip\u001b[0m \u001b[1;33m=\u001b[0m \u001b[0mzipfile\u001b[0m\u001b[1;33m.\u001b[0m\u001b[0mZipFile\u001b[0m\u001b[1;33m(\u001b[0m\u001b[1;34m\"zipped_files.zip\"\u001b[0m\u001b[1;33m,\u001b[0m \u001b[1;34m'w'\u001b[0m\u001b[1;33m)\u001b[0m\u001b[1;33m\u001b[0m\u001b[1;33m\u001b[0m\u001b[0m\n\u001b[0;32m      4\u001b[0m \u001b[1;33m\u001b[0m\u001b[0m\n\u001b[1;32m----> 5\u001b[1;33m \u001b[0mmy_zip\u001b[0m\u001b[1;33m.\u001b[0m\u001b[0mwrite\u001b[0m\u001b[1;33m(\u001b[0m\u001b[1;34m\"one.txt\"\u001b[0m\u001b[1;33m)\u001b[0m\u001b[1;33m\u001b[0m\u001b[1;33m\u001b[0m\u001b[0m\n\u001b[0m\u001b[0;32m      6\u001b[0m \u001b[0mmy_zip\u001b[0m\u001b[1;33m.\u001b[0m\u001b[0mwrite\u001b[0m\u001b[1;33m(\u001b[0m\u001b[1;34m\"two.png\"\u001b[0m\u001b[1;33m)\u001b[0m\u001b[1;33m\u001b[0m\u001b[1;33m\u001b[0m\u001b[0m\n\u001b[0;32m      7\u001b[0m \u001b[1;33m\u001b[0m\u001b[0m\n",
      "\u001b[1;32mC:\\Anaconda3\\envs\\myenv\\lib\\zipfile.py\u001b[0m in \u001b[0;36mwrite\u001b[1;34m(self, filename, arcname, compress_type, compresslevel)\u001b[0m\n\u001b[0;32m   1728\u001b[0m             )\n\u001b[0;32m   1729\u001b[0m \u001b[1;33m\u001b[0m\u001b[0m\n\u001b[1;32m-> 1730\u001b[1;33m         \u001b[0mzinfo\u001b[0m \u001b[1;33m=\u001b[0m \u001b[0mZipInfo\u001b[0m\u001b[1;33m.\u001b[0m\u001b[0mfrom_file\u001b[0m\u001b[1;33m(\u001b[0m\u001b[0mfilename\u001b[0m\u001b[1;33m,\u001b[0m \u001b[0marcname\u001b[0m\u001b[1;33m)\u001b[0m\u001b[1;33m\u001b[0m\u001b[1;33m\u001b[0m\u001b[0m\n\u001b[0m\u001b[0;32m   1731\u001b[0m \u001b[1;33m\u001b[0m\u001b[0m\n\u001b[0;32m   1732\u001b[0m         \u001b[1;32mif\u001b[0m \u001b[0mzinfo\u001b[0m\u001b[1;33m.\u001b[0m\u001b[0mis_dir\u001b[0m\u001b[1;33m(\u001b[0m\u001b[1;33m)\u001b[0m\u001b[1;33m:\u001b[0m\u001b[1;33m\u001b[0m\u001b[1;33m\u001b[0m\u001b[0m\n",
      "\u001b[1;32mC:\\Anaconda3\\envs\\myenv\\lib\\zipfile.py\u001b[0m in \u001b[0;36mfrom_file\u001b[1;34m(cls, filename, arcname)\u001b[0m\n\u001b[0;32m    516\u001b[0m         \u001b[1;32mif\u001b[0m \u001b[0misinstance\u001b[0m\u001b[1;33m(\u001b[0m\u001b[0mfilename\u001b[0m\u001b[1;33m,\u001b[0m \u001b[0mos\u001b[0m\u001b[1;33m.\u001b[0m\u001b[0mPathLike\u001b[0m\u001b[1;33m)\u001b[0m\u001b[1;33m:\u001b[0m\u001b[1;33m\u001b[0m\u001b[1;33m\u001b[0m\u001b[0m\n\u001b[0;32m    517\u001b[0m             \u001b[0mfilename\u001b[0m \u001b[1;33m=\u001b[0m \u001b[0mos\u001b[0m\u001b[1;33m.\u001b[0m\u001b[0mfspath\u001b[0m\u001b[1;33m(\u001b[0m\u001b[0mfilename\u001b[0m\u001b[1;33m)\u001b[0m\u001b[1;33m\u001b[0m\u001b[1;33m\u001b[0m\u001b[0m\n\u001b[1;32m--> 518\u001b[1;33m         \u001b[0mst\u001b[0m \u001b[1;33m=\u001b[0m \u001b[0mos\u001b[0m\u001b[1;33m.\u001b[0m\u001b[0mstat\u001b[0m\u001b[1;33m(\u001b[0m\u001b[0mfilename\u001b[0m\u001b[1;33m)\u001b[0m\u001b[1;33m\u001b[0m\u001b[1;33m\u001b[0m\u001b[0m\n\u001b[0m\u001b[0;32m    519\u001b[0m         \u001b[0misdir\u001b[0m \u001b[1;33m=\u001b[0m \u001b[0mstat\u001b[0m\u001b[1;33m.\u001b[0m\u001b[0mS_ISDIR\u001b[0m\u001b[1;33m(\u001b[0m\u001b[0mst\u001b[0m\u001b[1;33m.\u001b[0m\u001b[0mst_mode\u001b[0m\u001b[1;33m)\u001b[0m\u001b[1;33m\u001b[0m\u001b[1;33m\u001b[0m\u001b[0m\n\u001b[0;32m    520\u001b[0m         \u001b[0mmtime\u001b[0m \u001b[1;33m=\u001b[0m \u001b[0mtime\u001b[0m\u001b[1;33m.\u001b[0m\u001b[0mlocaltime\u001b[0m\u001b[1;33m(\u001b[0m\u001b[0mst\u001b[0m\u001b[1;33m.\u001b[0m\u001b[0mst_mtime\u001b[0m\u001b[1;33m)\u001b[0m\u001b[1;33m\u001b[0m\u001b[1;33m\u001b[0m\u001b[0m\n",
      "\u001b[1;31mFileNotFoundError\u001b[0m: [WinError 2] Sistem belirtilen dosyayı bulamıyor: 'one.txt'"
     ]
    }
   ],
   "source": [
    "import zipfile\n",
    "\n",
    "my_zip = zipfile.ZipFile(\"zipped_files.zip\", 'w')\n",
    "\n",
    "my_zip.write(\"one.txt\")\n",
    "my_zip.write(\"two.png\")\n",
    "\n",
    "my_zip.close()"
   ]
  },
  {
   "cell_type": "code",
   "execution_count": null,
   "metadata": {},
   "outputs": [],
   "source": [
    "# Alternatively with context manager\n",
    "\n",
    "with zipfile.ZipFile(\"zipped_files.zip\", 'w') as my_zip:\n",
    "    my_zip.write(\"one.txt\")\n",
    "    my_zip.write(\"two.png\")"
   ]
  },
  {
   "cell_type": "markdown",
   "metadata": {},
   "source": [
    "## 3 different methods for iteration\n",
    "\n",
    "We will try to find a cube root of a given number with 3 different methods."
   ]
  },
  {
   "cell_type": "markdown",
   "metadata": {},
   "source": [
    "### 1. guess-and-check algorithms\n",
    "\n",
    "* searches from 0 to the given number.\n",
    "* when exceeds the the given number break the loop\n",
    "* just give the answer if the given number is a perfect cube, otherwise returns nothing."
   ]
  },
  {
   "cell_type": "code",
   "execution_count": 1,
   "metadata": {},
   "outputs": [
    {
     "name": "stdout",
     "output_type": "stream",
     "text": [
      "cube root of -27 is -3\n"
     ]
    }
   ],
   "source": [
    "def find_cuberoot(cube):\n",
    "\n",
    "    for num in range(abs(cube)+1):\n",
    "        \n",
    "        if num**3 >= abs(cube):\n",
    "            break;\n",
    "\n",
    "    if num**3 != abs(cube):\n",
    "        print(f\"{cube} isn't a perfect cube\")\n",
    "    \n",
    "    else:\n",
    "        if cube < 0:\n",
    "            num = -num\n",
    "        print (f\"cube root of {cube} is {num}\")\n",
    "\n",
    "find_cuberoot(-27)"
   ]
  },
  {
   "cell_type": "markdown",
   "metadata": {},
   "source": [
    "### 2. approximate solution methods\n",
    "\n",
    "* searching for a close enough answer\n",
    "* starts from 0 and increment by some small value\n",
    "* \"close enough\" is given by an \"epsilon\" number which defines solution interval\n",
    "* keep iteration if `abs(num**3 - cube) >= epsilon` \n",
    "* decreasing increment size = > slower program\n",
    "* increasing epsilon = > less acurate answer"
   ]
  },
  {
   "cell_type": "code",
   "execution_count": 2,
   "metadata": {},
   "outputs": [
    {
     "name": "stdout",
     "output_type": "stream",
     "text": [
      "have done 46415 trials \n",
      "cube root of 100 is approximately 4.641500000002521\n"
     ]
    }
   ],
   "source": [
    "def find_cuberoot(cube, increment_size, epsilon):\n",
    "    \n",
    "    num = 0\n",
    "    no_trial = 0\n",
    "    while abs(num**3 - cube) >= epsilon and num**3 <= cube:\n",
    "        \n",
    "        num += increment_size\n",
    "        no_trial +=1\n",
    "    print (f\"have done {no_trial} trials \")\n",
    "    \n",
    "    if abs(num**3 > cube):\n",
    "        print(\"couldn't find any solution\")\n",
    "    else:\n",
    "        print(f\"cube root of {cube} is approximately {num}\")\n",
    "\n",
    "find_cuberoot(100, 0.0001, 0.01)"
   ]
  },
  {
   "cell_type": "markdown",
   "metadata": {},
   "source": [
    "### bisection search\n",
    "\n",
    "* the list must be sorted\n",
    "* eliminates half the search space with each iteration\n",
    "* the larger the space is, the better it is to use bisection seacrh "
   ]
  },
  {
   "cell_type": "code",
   "execution_count": 3,
   "metadata": {},
   "outputs": [
    {
     "name": "stdout",
     "output_type": "stream",
     "text": [
      "have done 14 trials \n",
      "cube root of 100 is approximately 4.6417236328125\n"
     ]
    }
   ],
   "source": [
    "def find_cuberoot(cube, epsilon):\n",
    "    \n",
    "    no_trial = 0\n",
    "    low =0\n",
    "    high = cube\n",
    "    num = (low+high)/2\n",
    "    while abs(num**3 - cube) >= epsilon:\n",
    "        \n",
    "        if num**3 > cube:\n",
    "            high=num\n",
    "        else:\n",
    "            low= num\n",
    "\n",
    "        no_trial +=1\n",
    "        num = (low+high)/2        \n",
    "    \n",
    "    print (f\"have done {no_trial} trials \")\n",
    "    \n",
    "    print(f\"cube root of {cube} is approximately {num}\")\n",
    "\n",
    "find_cuberoot(100, 0.01)"
   ]
  },
  {
   "cell_type": "markdown",
   "metadata": {},
   "source": [
    "* with approximate solution methods we have made 46415 trials to find cube root of 100, whereas we have made just 14 trials with bisection search method."
   ]
  },
  {
   "cell_type": "code",
   "execution_count": 28,
   "metadata": {},
   "outputs": [
    {
     "data": {
      "text/plain": [
       "True"
      ]
     },
     "execution_count": 28,
     "metadata": {},
     "output_type": "execute_result"
    }
   ],
   "source": [
    "# bisection search with recursion method_ Option 1\n",
    "# search whether an element exists in an ordered list\n",
    "# complexity O(n log n), since we copy list in recursion methods\n",
    "\n",
    "def bisect_search_1(a_list, e):\n",
    "    \n",
    "    # check if there is an element in the list\n",
    "    if a_list==[]:\n",
    "        return False\n",
    "    \n",
    "    # if there is only 1 element\n",
    "    elif len(a_list)==1:\n",
    "        return e == a_list[0]\n",
    "    \n",
    "    else: \n",
    "        \n",
    "        # find the half point of the list \n",
    "        half = len(a_list) // 2\n",
    "        \n",
    "        # if the middle element is greater than what we search\n",
    "        # search for first half, otherwise the second\n",
    "        if a_list[half] > e:\n",
    "            return bisect_search_1(a_list[:half], e)\n",
    "        else:\n",
    "            return bisect_search_1(a_list[half:], e)\n",
    "\n",
    "bisect_search_1([1,2,3,4,5,6,7,8,9], 9)"
   ]
  },
  {
   "cell_type": "code",
   "execution_count": 32,
   "metadata": {},
   "outputs": [
    {
     "data": {
      "text/plain": [
       "True"
      ]
     },
     "execution_count": 32,
     "metadata": {},
     "output_type": "execute_result"
    }
   ],
   "source": [
    "# bisection search with recursion method_ Option 2\n",
    "# search whether an element exists in an ordered list\n",
    "# complexity O(log n), since we don't copy list in recursion methods, just move the list indexes\n",
    "\n",
    "def bisect_search_2(a_list, e):\n",
    "    def bisect_search_helper(a_list, e, low, high):\n",
    "        \n",
    "        # check if there is only 1 element left\n",
    "        if high==low:\n",
    "            return a_list[low] ==e\n",
    "        \n",
    "        # find the middle point of the list \n",
    "        middle = (low+high)//2\n",
    "        \n",
    "        if a_list[middle] == e:\n",
    "            return True\n",
    "        \n",
    "        # if the middle element is greater than what we search\n",
    "        # search for first half, otherwise the second\n",
    "        elif a_list[middle] > e:\n",
    "            if low == middle: # nothing left to search\n",
    "                return False\n",
    "            else: \n",
    "                return bisect_search_helper(a_list, e, low, middle-1)\n",
    "        else:\n",
    "            return bisect_search_helper(a_list, e, middle+1, high)\n",
    "    \n",
    "    # check if there is an element in the list\n",
    "    if len(a_list) == 0:\n",
    "        return False\n",
    "    else:\n",
    "        return bisect_search_helper(a_list, e, 0, len(a_list))\n",
    "    \n",
    "bisect_search_2([1,2,3,4,5,6,7,8,9], 9)"
   ]
  },
  {
   "cell_type": "markdown",
   "metadata": {},
   "source": [
    "## Recursion\n",
    "\n",
    "* reduce a problem to simpler versions of the same problem\n",
    "* a programming technique where a function calls itself with a reduced input"
   ]
  },
  {
   "cell_type": "code",
   "execution_count": 4,
   "metadata": {},
   "outputs": [
    {
     "data": {
      "text/plain": [
       "50"
      ]
     },
     "execution_count": 4,
     "metadata": {},
     "output_type": "execute_result"
    }
   ],
   "source": [
    "# \"a\" multiplied by \"b\"\n",
    "\n",
    "def multiplication(a, b):\n",
    "    \n",
    "    # base case\n",
    "    if b ==1:\n",
    "        return a\n",
    "    \n",
    "    # recursive step\n",
    "    else: \n",
    "        return a+ multiplication(a, b-1)\n",
    "    \n",
    "multiplication(5,10)"
   ]
  },
  {
   "cell_type": "code",
   "execution_count": 5,
   "metadata": {},
   "outputs": [
    {
     "data": {
      "text/plain": [
       "3628800"
      ]
     },
     "execution_count": 5,
     "metadata": {},
     "output_type": "execute_result"
    }
   ],
   "source": [
    "# calculate n factorial with recursion method\n",
    "\n",
    "def factorial(n):\n",
    "    \n",
    "    # base case\n",
    "    if n ==1:\n",
    "        return 1\n",
    "    \n",
    "    # recursive step\n",
    "    else: \n",
    "        return n * factorial(n-1)\n",
    "    \n",
    "factorial(10)"
   ]
  },
  {
   "cell_type": "code",
   "execution_count": 6,
   "metadata": {},
   "outputs": [
    {
     "data": {
      "text/plain": [
       "3628800"
      ]
     },
     "execution_count": 6,
     "metadata": {},
     "output_type": "execute_result"
    }
   ],
   "source": [
    "# calculate n factorial with iteration method\n",
    "\n",
    "def factorial(n):\n",
    "    \n",
    "    result=1\n",
    "    for n in range(1, n+1):\n",
    "        result *= n\n",
    "    \n",
    "    return result\n",
    "        \n",
    "factorial(10)"
   ]
  },
  {
   "cell_type": "code",
   "execution_count": 16,
   "metadata": {},
   "outputs": [
    {
     "name": "stdout",
     "output_type": "stream",
     "text": [
      "9227465\n",
      "time elapsed : 2.234375\n"
     ]
    }
   ],
   "source": [
    "# fibonacci numbers with recursive method\n",
    "# 1-1-2-3-5-8-13-21\n",
    "\n",
    "import time\n",
    "\n",
    "def fib(n):\n",
    "    if n==0 or n==1:\n",
    "        return 1\n",
    "    else:\n",
    "        return fib(n-1) + fib(n-2)\n",
    "\n",
    "t_0 = time.process_time()\n",
    "\n",
    "print(fib(34))\n",
    "\n",
    "t_1 = time.process_time() - t_0\n",
    "\n",
    "print(f\"time elapsed : {t_1}\")"
   ]
  },
  {
   "cell_type": "code",
   "execution_count": 14,
   "metadata": {},
   "outputs": [
    {
     "name": "stdout",
     "output_type": "stream",
     "text": [
      "9227465\n",
      "time elapsed : 0.0\n"
     ]
    }
   ],
   "source": [
    "# fibonacci with a dictionary\n",
    "# first initialize the dictionary then call function\n",
    "# with the above method, to calculate fib(34) it makes over 11 million recurcive calss,\n",
    "# with using a dictionary, it makes just 65 recurcive calss,\n",
    "\n",
    "def fib(n, a_dict):\n",
    "    if n in a_dict:\n",
    "        return a_dict[n]\n",
    "    else:\n",
    "        result = fib(n-1, a_dict) + fib(n-2, a_dict)\n",
    "        a_dict[n] = result\n",
    "        return result\n",
    "\n",
    "\n",
    "t_0 = time.process_time()\n",
    "\n",
    "fib_dict = {1:1, 2:2}\n",
    "print(fib(34, fib_dict))\n",
    "\n",
    "t_1 = time.process_time() - t_0\n",
    "\n",
    "print(f\"time elapsed : {t_1}\")"
   ]
  },
  {
   "cell_type": "code",
   "execution_count": 1,
   "metadata": {},
   "outputs": [
    {
     "name": "stdout",
     "output_type": "stream",
     "text": [
      "True\n",
      "True\n"
     ]
    }
   ],
   "source": [
    "# palindrome\n",
    "# sequence of characters which reads the same backward as forward\n",
    "\n",
    "def is_Palindrome(a_str):\n",
    "\n",
    "    def to_Chars(a_str):\n",
    "        a_str = a_str.lower()\n",
    "        result =\"\"\n",
    "        for letter in a_str:\n",
    "            if letter in \"abcdefghijklmnopqrstuvwxyz\":\n",
    "                result += letter\n",
    "        return result\n",
    "        \n",
    "    def is_Pal(a_str):\n",
    "        if len(a_str) <=1:\n",
    "            return True\n",
    "        else:\n",
    "            return a_str[0] == a_str[-1] and is_Pal(a_str[1:-1])\n",
    "    \n",
    "    return is_Pal(to_Chars(a_str))\n",
    "        \n",
    "            \n",
    "print(is_Palindrome(\"A man, a plan, a canal – Panama\"))\n",
    "print(is_Palindrome(\"Able was I ere I saw Elba\"))"
   ]
  },
  {
   "cell_type": "code",
   "execution_count": 28,
   "metadata": {},
   "outputs": [
    {
     "data": {
      "text/plain": [
       "[[],\n",
       " [1],\n",
       " [2],\n",
       " [1, 2],\n",
       " [3],\n",
       " [1, 3],\n",
       " [2, 3],\n",
       " [1, 2, 3],\n",
       " [4],\n",
       " [1, 4],\n",
       " [2, 4],\n",
       " [1, 2, 4],\n",
       " [3, 4],\n",
       " [1, 3, 4],\n",
       " [2, 3, 4],\n",
       " [1, 2, 3, 4]]"
      ]
     },
     "execution_count": 28,
     "metadata": {},
     "output_type": "execute_result"
    }
   ],
   "source": [
    "# POWER SET – CONCEPT \n",
    "# to generate the power set\tof integers from 1 to n\n",
    "# assume we can generate power set of integers from 1 to n-1\t\n",
    "# then\tall\tof\tthose subsets belong to\tbigger\tpower set and all of those subsets with\tn\t\n",
    "# added to each\tof them also belong\tto the bigger power set\t\n",
    "\n",
    "\n",
    "def genSubsets(a_list):\n",
    "    \n",
    "    if len(a_list) == 0:\n",
    "        return [[]] # list of empty list\n",
    "    \n",
    "    # all subsets without last element\n",
    "    smaller = genSubsets(a_list[:-1]) \n",
    "    \n",
    "    # last element as a list \n",
    "    extra = [a_list[-1]]\n",
    "    new =[]\n",
    "    \n",
    "    # last element will be added to all subsets\n",
    "    for small in smaller:\n",
    "        new.append(small+extra)\n",
    "    \n",
    "    # combine those with last element and those without\n",
    "    return smaller + new\n",
    "\n",
    "genSubsets([1,2,3,4])"
   ]
  },
  {
   "cell_type": "markdown",
   "metadata": {},
   "source": [
    "## Sorting"
   ]
  },
  {
   "cell_type": "markdown",
   "metadata": {},
   "source": [
    "#### Selection Sort\n",
    "\n",
    "1. extract minimum element, swap it with element at index 0\n",
    "2. in remaining sublist, extract minimum element, swap it with the element\tat index 1\t\t\n",
    "3. keep\tthe\tleft portion of\tthe\tlist sorted, at\ti’th step, first i\telements in list are sorted, all other elements are\tbigger than first i elements\n",
    "\n",
    "complexity:  O($n^2$) where n is len(L)\t"
   ]
  },
  {
   "cell_type": "code",
   "execution_count": 41,
   "metadata": {},
   "outputs": [
    {
     "data": {
      "text/plain": [
       "[0, 0, 1, 2, 3, 4, 5, 5, 6, 7, 8, 9]"
      ]
     },
     "execution_count": 41,
     "metadata": {},
     "output_type": "execute_result"
    }
   ],
   "source": [
    "def selection_sort(L):\n",
    "    suffixSt = 0\n",
    "    while suffixSt != len(L):\n",
    "        for i in range(suffixSt+1, len(L)):\n",
    "            if L[i] < L[suffixSt]:\n",
    "                L[suffixSt], L[i] = L[i], L[suffixSt]\n",
    "        suffixSt += 1\n",
    "    return L\n",
    "selection_sort([4,3,0,2,1,6,9,8,7,5,5,0])"
   ]
  },
  {
   "cell_type": "markdown",
   "metadata": {},
   "source": [
    "#### Merge Sort\n",
    "\n",
    "\tuse a divide-and-conquer approach:\n",
    "1. if list is of length\t0 or 1,\talready\tsorted\t\n",
    "2. if list has more\tthan one element, split\tinto two lists, and sort each\t\n",
    "3. merge\tsorted\tsublists\t\n",
    "    a. look\tat\tfirst\telement\tof\teach,\tmove\tsmaller\tto\tend\tof\tthe result\t\n",
    "    b. when\tone\tlist\tempty,\tjust\tcopy\trest\tof\tother\tlist\t\n",
    "    \n",
    "complexity:  O(n log n) where n is len(L)\t"
   ]
  },
  {
   "cell_type": "code",
   "execution_count": 43,
   "metadata": {},
   "outputs": [
    {
     "data": {
      "text/plain": [
       "[0, 0, 1, 2, 3, 4, 5, 5, 6, 7, 8, 9]"
      ]
     },
     "execution_count": 43,
     "metadata": {},
     "output_type": "execute_result"
    }
   ],
   "source": [
    "def merge(left, right):\n",
    "    result = []\n",
    "    i,j = 0,0\n",
    "    while i < len(left) and j < len(right):\n",
    "        if left[i] < right[j]:\n",
    "            result.append(left[i])\n",
    "            i += 1\n",
    "        else:\n",
    "            result.append(right[j])\n",
    "            j += 1\n",
    "    while (i < len(left)):\n",
    "        result.append(left[i])\n",
    "        i += 1\n",
    "    while (j < len(right)):\n",
    "        result.append(right[j])\n",
    "        j += 1\n",
    "    return result\n",
    "\n",
    "\n",
    "def merge_sort(L):\n",
    "    if len(L) < 2:\n",
    "        return L[:]\n",
    "    else:\n",
    "        middle = len(L)//2\n",
    "        left = merge_sort(L[:middle])\n",
    "        right = merge_sort(L[middle:])\n",
    "    return merge(left, right)\n",
    "merge_sort([4,3,0,2,1,6,9,8,7,5,5,0])"
   ]
  },
  {
   "cell_type": "code",
   "execution_count": null,
   "metadata": {},
   "outputs": [],
   "source": []
  }
 ],
 "metadata": {
  "kernelspec": {
   "display_name": "Python 3",
   "language": "python",
   "name": "python3"
  },
  "language_info": {
   "codemirror_mode": {
    "name": "ipython",
    "version": 3
   },
   "file_extension": ".py",
   "mimetype": "text/x-python",
   "name": "python",
   "nbconvert_exporter": "python",
   "pygments_lexer": "ipython3",
   "version": "3.7.6"
  }
 },
 "nbformat": 4,
 "nbformat_minor": 4
}
