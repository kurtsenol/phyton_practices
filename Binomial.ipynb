{
 "cells": [
  {
   "cell_type": "markdown",
   "metadata": {},
   "source": [
    "### Binomial Distribution\n",
    "the binomial distribution is the probability distribution of a sequence of experiments where each experiment produces a binary outcome and where each of the outcomes is independent of all the others."
   ]
  },
  {
   "cell_type": "markdown",
   "metadata": {},
   "source": [
    "The function returns a list of samples from a binomial distribution based on the inputted parameters when calling `np.random.binomial(n, p, size)`.\n",
    "\n",
    "For example,\n",
    "\n",
    "* n = 10 (samples or trials)\n",
    "* p = 0.5 (probability of success)\n",
    "* size = 10000 (number of experiments)"
   ]
  },
  {
   "cell_type": "code",
   "execution_count": 9,
   "metadata": {},
   "outputs": [
    {
     "name": "stdout",
     "output_type": "stream",
     "text": [
      "[5 9 5 ... 9 5 3]\n"
     ]
    }
   ],
   "source": [
    "import numpy as np\n",
    "\n",
    "tests = np.random.binomial(10, 0.5, size=10000)\n",
    "\n",
    "print(tests)"
   ]
  },
  {
   "cell_type": "markdown",
   "metadata": {},
   "source": [
    "* probability of getting 6 heads with 10 coin flips by running 10,000 simulations of 10 coin flips:"
   ]
  },
  {
   "cell_type": "code",
   "execution_count": 28,
   "metadata": {},
   "outputs": [
    {
     "name": "stdout",
     "output_type": "stream",
     "text": [
      "The probability of 6 heads is: 0.2081\n"
     ]
    }
   ],
   "source": [
    "n=10\n",
    "p=0.5\n",
    "runs = 10000\n",
    "prob_6 = sum([1 for i in np.random.binomial(n, p, size=runs) if i==6])/runs\n",
    "print('The probability of 6 heads is: ' + str(prob_6))"
   ]
  },
  {
   "cell_type": "markdown",
   "metadata": {},
   "source": [
    "### Real World Applications of the Binomial Distribution"
   ]
  },
  {
   "cell_type": "markdown",
   "metadata": {},
   "source": [
    "The typical call center employee completes on average 50 calls per day.\n",
    "The probability of a conversion (purchase) for each call is 4%.\n",
    "The average revenue to your company for each conversion is 20 dollars. \n",
    "The call center you are analyzing has 100 employees.\n",
    "Each employee is paid 200 dollars per day of work."
   ]
  },
  {
   "cell_type": "code",
   "execution_count": 39,
   "metadata": {},
   "outputs": [
    {
     "name": "stdout",
     "output_type": "stream",
     "text": [
      "Average Conversions per Employee: 2.29\n",
      "Standard Deviation of Conversions per Employee: 1.46\n",
      "Total Conversions: 229\n",
      "Total Revenues: 22900\n",
      "Total Expense: 20000\n",
      "Total Profits: 2900\n"
     ]
    }
   ],
   "source": [
    "# Call Center Simulation\n",
    "\n",
    "# Number of employees to simulate\n",
    "employees = 100\n",
    "\n",
    "# Cost per employee\n",
    "wage = 200\n",
    "\n",
    "# Number of independent calls per employee\n",
    "n = 50\n",
    "\n",
    "# Probability of success for each call\n",
    "p = 0.04\n",
    "\n",
    "# Revenue per call\n",
    "revenue = 100\n",
    "\n",
    "# Binomial random variables of call center employees\n",
    "conversions = np.random.binomial(n, p, size=employees)\n",
    "\n",
    "# Print some key metrics of our call center\n",
    "print('Average Conversions per Employee: ' + str(round(np.mean(conversions), 2)))\n",
    "print('Standard Deviation of Conversions per Employee: ' + str(round(np.std(conversions), 2)))\n",
    "print('Total Conversions: ' + str(np.sum(conversions)))\n",
    "print('Total Revenues: ' + str(np.sum(conversions)*revenue))\n",
    "print('Total Expense: ' + str(employees*wage))\n",
    "print('Total Profits: ' + str(np.sum(conversions)*revenue - employees*wage))"
   ]
  },
  {
   "cell_type": "markdown",
   "metadata": {},
   "source": [
    "* If we increase number of calls to 55 and the probability to 0.05:"
   ]
  },
  {
   "cell_type": "code",
   "execution_count": 41,
   "metadata": {},
   "outputs": [
    {
     "name": "stdout",
     "output_type": "stream",
     "text": [
      "Average Conversions per Employee: 2.56\n",
      "Standard Deviation of Conversions per Employee: 1.53\n",
      "Total Conversions: 256\n",
      "Total Revenues: 25600\n",
      "Total Expense: 20000\n",
      "Total Profits: 5600\n"
     ]
    }
   ],
   "source": [
    "# Number of employees to simulate\n",
    "employees = 100\n",
    "\n",
    "# Cost per employee\n",
    "wage = 200\n",
    "\n",
    "# Number of independent calls per employee\n",
    "n = 55\n",
    "\n",
    "# Probability of success for each call\n",
    "p = 0.05\n",
    "\n",
    "# Revenue per call\n",
    "revenue = 100\n",
    "\n",
    "# Binomial random variables of call center employees\n",
    "conversions = np.random.binomial(n, p, size=employees)\n",
    "\n",
    "# Print some key metrics of our call center\n",
    "print('Average Conversions per Employee: ' + str(round(np.mean(conversions), 2)))\n",
    "print('Standard Deviation of Conversions per Employee: ' + str(round(np.std(conversions), 2)))\n",
    "print('Total Conversions: ' + str(np.sum(conversions)))\n",
    "print('Total Revenues: ' + str(np.sum(conversions)*revenue))\n",
    "print('Total Expense: ' + str(employees*wage))\n",
    "print('Total Profits: ' + str(np.sum(conversions)*revenue - employees*wage))"
   ]
  },
  {
   "cell_type": "markdown",
   "metadata": {},
   "source": [
    "### Relationship between Binomial and Poisson distributions\n",
    "\n",
    "Using the `np.random.poisson()` function, draw 10000 samples from a Poisson distribution with\n",
    "a mean of 10.\n",
    "-Make a list of the n and p values to consider for the Binomial distribution. Choose n =\n",
    "[20, 100, 1000] and p = [0.5, 0.1, 0.01] so that np is always 10.\n",
    "-Using `np.random.binomial()` inside the provided for loop, draw 10000 samples from a Binomial\n",
    "distribution with each n, p pair and print the mean and standard deviation of the samples.\n",
    "There are 3 n, p pairs: 20, 0.5, 100, 0.1, and 1000, 0.01. These can be accessed inside the\n",
    "loop as n[i], p[i]."
   ]
  },
  {
   "cell_type": "code",
   "execution_count": 50,
   "metadata": {},
   "outputs": [
    {
     "name": "stdout",
     "output_type": "stream",
     "text": [
      "Poisson:      10.0072 3.1394184429604155\n",
      "n = 20 Binom: 10.0144 2.217158686246882\n",
      "n = 100 Binom: 9.9806 3.0020365820555885\n",
      "n = 1000 Binom: 9.9843 3.149897380868145\n"
     ]
    }
   ],
   "source": [
    "# Draw 10,000 samples out of Poisson distribution: samples_poisson\n",
    "samples_poisson = np.random.poisson(10, size=10000)\n",
    "\n",
    "# Print the mean and standard deviation\n",
    "print('Poisson:     ', np.mean(samples_poisson),\n",
    "      np.std(samples_poisson))\n",
    "\n",
    "# Specify values of n and p to consider for Binomial: n, p\n",
    "n = [20, 100, 1000]\n",
    "p = [0.5, 0.1, 0.01]\n",
    "\n",
    "# Draw 10,000 samples for each n,p pair: samples_binomial\n",
    "for i in range(3):\n",
    "    samples_binomial = np.random.binomial(n[i], p[i], 10000)\n",
    "\n",
    "    # Print results\n",
    "    print('n =', n[i], 'Binom:', np.mean(samples_binomial),\n",
    "          np.std(samples_binomial))"
   ]
  },
  {
   "cell_type": "code",
   "execution_count": null,
   "metadata": {},
   "outputs": [],
   "source": []
  },
  {
   "cell_type": "code",
   "execution_count": null,
   "metadata": {},
   "outputs": [],
   "source": []
  },
  {
   "cell_type": "code",
   "execution_count": null,
   "metadata": {},
   "outputs": [],
   "source": []
  },
  {
   "cell_type": "markdown",
   "metadata": {},
   "source": [
    "Source : [towardsdatascience.com](https://towardsdatascience.com/fun-with-the-binomial-distribution-96a5ecabf65b) - Fun with the Binomial Distribution"
   ]
  }
 ],
 "metadata": {
  "kernelspec": {
   "display_name": "Python 3",
   "language": "python",
   "name": "python3"
  },
  "language_info": {
   "codemirror_mode": {
    "name": "ipython",
    "version": 3
   },
   "file_extension": ".py",
   "mimetype": "text/x-python",
   "name": "python",
   "nbconvert_exporter": "python",
   "pygments_lexer": "ipython3",
   "version": "3.7.6"
  }
 },
 "nbformat": 4,
 "nbformat_minor": 4
}
