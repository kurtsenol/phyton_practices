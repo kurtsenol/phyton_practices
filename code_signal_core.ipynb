{
  "nbformat": 4,
  "nbformat_minor": 0,
  "metadata": {
    "colab": {
      "name": "code_signal_core.ipynb",
      "provenance": [],
      "collapsed_sections": [],
      "authorship_tag": "ABX9TyNM74O8ZzeqBms/G3xPE6DH",
      "include_colab_link": true
    },
    "kernelspec": {
      "name": "python3",
      "display_name": "Python 3"
    }
  },
  "cells": [
    {
      "cell_type": "markdown",
      "metadata": {
        "id": "view-in-github",
        "colab_type": "text"
      },
      "source": [
        "<a href=\"https://colab.research.google.com/github/kurtsenol/python_practices/blob/master/code_signal_core.ipynb\" target=\"_parent\"><img src=\"https://colab.research.google.com/assets/colab-badge.svg\" alt=\"Open In Colab\"/></a>"
      ]
    },
    {
      "cell_type": "markdown",
      "metadata": {
        "id": "HZW0fqW6peRC"
      },
      "source": [
        "**addTwoDigits**"
      ]
    },
    {
      "cell_type": "code",
      "metadata": {
        "id": "Jy8fWXr-pecx"
      },
      "source": [
        "def addTwoDigits(n):\r\n",
        "  return sum([int(i) for i in str(n)])"
      ],
      "execution_count": null,
      "outputs": []
    },
    {
      "cell_type": "code",
      "metadata": {
        "colab": {
          "base_uri": "https://localhost:8080/"
        },
        "id": "kgNs203Vper9",
        "outputId": "0c46fb3c-b108-47ae-b778-0eea438c0e9e"
      },
      "source": [
        "n = 29\r\n",
        "addTwoDigits(n)"
      ],
      "execution_count": null,
      "outputs": [
        {
          "output_type": "execute_result",
          "data": {
            "text/plain": [
              "11"
            ]
          },
          "metadata": {
            "tags": []
          },
          "execution_count": 3
        }
      ]
    },
    {
      "cell_type": "markdown",
      "metadata": {
        "id": "zMB6DXGr547V"
      },
      "source": [
        "**phoneCall**"
      ]
    },
    {
      "cell_type": "code",
      "metadata": {
        "id": "o4XcnYvYpev_"
      },
      "source": [
        "def phoneCall(min1, min2_10, min11, s):\r\n",
        "    if s<min1:\r\n",
        "        return 0\r\n",
        "    elif s>=min1 and s<=min1+9*min2_10:\r\n",
        "        return 1+(s-min1)//min2_10\r\n",
        "    return 10+(s-min1-9*min2_10)//min11"
      ],
      "execution_count": null,
      "outputs": []
    },
    {
      "cell_type": "code",
      "metadata": {
        "colab": {
          "base_uri": "https://localhost:8080/"
        },
        "id": "Dh0xLOMvpe4N",
        "outputId": "d8539db2-474c-4a0c-eace-a6cd8c5666e0"
      },
      "source": [
        "min1 = 3\r\n",
        "min2_10 = 1\r\n",
        "min11 = 2\r\n",
        "s = 20\r\n",
        "phoneCall(min1, min2_10, min11, s)"
      ],
      "execution_count": null,
      "outputs": [
        {
          "output_type": "execute_result",
          "data": {
            "text/plain": [
              "14"
            ]
          },
          "metadata": {
            "tags": []
          },
          "execution_count": 11
        }
      ]
    },
    {
      "cell_type": "code",
      "metadata": {
        "id": "669IFy-s2513"
      },
      "source": [
        ""
      ],
      "execution_count": null,
      "outputs": []
    }
  ]
}