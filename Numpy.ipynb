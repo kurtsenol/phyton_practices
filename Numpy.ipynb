{
 "cells": [
  {
   "cell_type": "code",
   "execution_count": 19,
   "metadata": {},
   "outputs": [],
   "source": [
    "import numpy as np"
   ]
  },
  {
   "cell_type": "markdown",
   "metadata": {},
   "source": [
    "Let us create a NumPy array using arange function in NumPy. The 1d-array starts at 0 and ends at 8"
   ]
  },
  {
   "cell_type": "code",
   "execution_count": 35,
   "metadata": {},
   "outputs": [
    {
     "data": {
      "text/plain": [
       "array([0, 1, 2, 3, 4, 5, 6, 7, 8])"
      ]
     },
     "execution_count": 35,
     "metadata": {},
     "output_type": "execute_result"
    }
   ],
   "source": [
    "array = np.arange(9)\n",
    "array"
   ]
  },
  {
   "cell_type": "markdown",
   "metadata": {},
   "source": [
    "### Boolean Operators\n",
    "\n",
    "we can compare two Numpy arrays element-wise"
   ]
  },
  {
   "cell_type": "code",
   "execution_count": 20,
   "metadata": {},
   "outputs": [
    {
     "name": "stdout",
     "output_type": "stream",
     "text": [
      "[ True  True False False]\n",
      "[False  True  True False]\n"
     ]
    }
   ],
   "source": [
    "my_house = np.array([18.0, 20.0, 10.75, 9.50])\n",
    "your_house = np.array([14.0, 24.0, 14.25, 9.0])\n",
    "\n",
    "# my_house greater than or equal to 18\n",
    "print(my_house >= 18)\n",
    "\n",
    "# my_house less than your_house\n",
    "print(my_house < your_house)"
   ]
  },
  {
   "cell_type": "code",
   "execution_count": 27,
   "metadata": {},
   "outputs": [
    {
     "data": {
      "text/plain": [
       "array([10. , 10.5, 11. , 11.5, 12. , 12.5])"
      ]
     },
     "execution_count": 27,
     "metadata": {},
     "output_type": "execute_result"
    }
   ],
   "source": [
    "array = np.arange(10,13,0.5)\n",
    "array"
   ]
  },
  {
   "cell_type": "code",
   "execution_count": 28,
   "metadata": {},
   "outputs": [
    {
     "name": "stdout",
     "output_type": "stream",
     "text": [
      "[ True  True  True  True  True False]\n",
      "[False False  True  True  True  True]\n"
     ]
    }
   ],
   "source": [
    "print(array<=12)\n",
    "print(array>=11)"
   ]
  },
  {
   "cell_type": "code",
   "execution_count": 29,
   "metadata": {},
   "outputs": [
    {
     "data": {
      "text/plain": [
       "array([False, False,  True,  True,  True, False])"
      ]
     },
     "execution_count": 29,
     "metadata": {},
     "output_type": "execute_result"
    }
   ],
   "source": [
    "np.logical_and(array<=12, array>=11)"
   ]
  },
  {
   "cell_type": "code",
   "execution_count": 30,
   "metadata": {},
   "outputs": [
    {
     "data": {
      "text/plain": [
       "array([11. , 11.5, 12. ])"
      ]
     },
     "execution_count": 30,
     "metadata": {},
     "output_type": "execute_result"
    }
   ],
   "source": [
    "array[np.logical_and(array<=12, array>=11)]"
   ]
  },
  {
   "cell_type": "markdown",
   "metadata": {},
   "source": [
    "### From list to Numpy array "
   ]
  },
  {
   "cell_type": "code",
   "execution_count": 21,
   "metadata": {},
   "outputs": [],
   "source": [
    "height = [70, 73, 66, 71]\n",
    "weight = [159, 185, 194, 157]\n",
    "\n",
    "# Calculate the BMI: bmi\n",
    "np_height_m = np.array(height) * 0.0254\n",
    "np_weight_kg = np.array(weight) * 0.453592\n",
    "bmi = np_weight_kg / np_height_m ** 2\n",
    "\n",
    "print(type(np_height_m))\n",
    "print(type(np_weight_kg))\n",
    "\n",
    "# Create the light array\n",
    "light = np.array(bmi < 23)\n",
    "\n",
    "# Print out light\n",
    "print(light)\n",
    "\n",
    "# Print out BMIs of all baseball players whose BMI is below 21\n",
    "print(bmi[light])"
   ]
  },
  {
   "cell_type": "markdown",
   "metadata": {},
   "source": [
    "### 2d-numpy-arrays arithmetics"
   ]
  },
  {
   "cell_type": "code",
   "execution_count": 44,
   "metadata": {},
   "outputs": [
    {
     "data": {
      "text/plain": [
       "array([  5,  10,  15,  20,  25,  30,  35,  40,  45,  50,  55,  60,  65,\n",
       "        70,  75,  80,  85,  90,  95, 100])"
      ]
     },
     "execution_count": 44,
     "metadata": {},
     "output_type": "execute_result"
    }
   ],
   "source": [
    "array = np.arange(5,105,5)\n",
    "array"
   ]
  },
  {
   "cell_type": "markdown",
   "metadata": {},
   "source": [
    "We can use NumPy’s `reshape()` function to convert the 1d-array to 2d-array of dimension 3×3, 3 rows and 3 columns. NumPy’s reshape function takes a tuple as input."
   ]
  },
  {
   "cell_type": "code",
   "execution_count": 45,
   "metadata": {},
   "outputs": [
    {
     "data": {
      "text/plain": [
       "array([[  5,  10,  15,  20],\n",
       "       [ 25,  30,  35,  40],\n",
       "       [ 45,  50,  55,  60],\n",
       "       [ 65,  70,  75,  80],\n",
       "       [ 85,  90,  95, 100]])"
      ]
     },
     "execution_count": 45,
     "metadata": {},
     "output_type": "execute_result"
    }
   ],
   "source": [
    "array2D = array.reshape((5,4))\n",
    "array2D"
   ]
  },
  {
   "cell_type": "code",
   "execution_count": 102,
   "metadata": {},
   "outputs": [
    {
     "data": {
      "text/plain": [
       "array([[ 1.778   , 72.121128],\n",
       "       [ 1.8542  , 83.91452 ],\n",
       "       [ 1.6764  , 87.996848],\n",
       "       [ 1.8034  , 71.213944]])"
      ]
     },
     "execution_count": 102,
     "metadata": {},
     "output_type": "execute_result"
    }
   ],
   "source": [
    "height = [70, 73, 66, 71]\n",
    "weight = [159, 185, 194, 157]\n",
    "\n",
    "np_height_m = np.array(height) * 0.0254\n",
    "np_weight_kg = np.array(weight) * 0.453592\n",
    "\n",
    "np_2d = np.column_stack((np_height_m, np_weight_kg))\n",
    "np_2d"
   ]
  },
  {
   "cell_type": "code",
   "execution_count": 99,
   "metadata": {},
   "outputs": [
    {
     "data": {
      "text/plain": [
       "array([[  3.556   , 144.242256],\n",
       "       [  3.7084  , 167.82904 ],\n",
       "       [  3.3528  , 175.993696],\n",
       "       [  3.6068  , 142.427888]])"
      ]
     },
     "execution_count": 99,
     "metadata": {},
     "output_type": "execute_result"
    }
   ],
   "source": [
    "np_2d * 2"
   ]
  },
  {
   "cell_type": "code",
   "execution_count": 101,
   "metadata": {},
   "outputs": [
    {
     "data": {
      "text/plain": [
       "array([[ 70., 159.],\n",
       "       [ 73., 185.],\n",
       "       [ 66., 194.],\n",
       "       [ 71., 157.]])"
      ]
     },
     "execution_count": 101,
     "metadata": {},
     "output_type": "execute_result"
    }
   ],
   "source": [
    "np_2d / np.array([0.0254, 0.453592])"
   ]
  },
  {
   "cell_type": "code",
   "execution_count": 103,
   "metadata": {},
   "outputs": [
    {
     "data": {
      "text/plain": [
       "array([[  2.778   , 172.121128],\n",
       "       [  2.8542  , 183.91452 ],\n",
       "       [  2.6764  , 187.996848],\n",
       "       [  2.8034  , 171.213944]])"
      ]
     },
     "execution_count": 103,
     "metadata": {},
     "output_type": "execute_result"
    }
   ],
   "source": [
    "np_2d + np.array([1, 100])"
   ]
  },
  {
   "cell_type": "code",
   "execution_count": 104,
   "metadata": {},
   "outputs": [
    {
     "data": {
      "text/plain": [
       "array([[  3.556   , 144.242256],\n",
       "       [  3.7084  , 167.82904 ],\n",
       "       [  3.3528  , 175.993696],\n",
       "       [  3.6068  , 142.427888]])"
      ]
     },
     "execution_count": 104,
     "metadata": {},
     "output_type": "execute_result"
    }
   ],
   "source": [
    "np_2d + np_2d"
   ]
  },
  {
   "cell_type": "markdown",
   "metadata": {},
   "source": [
    "#### Generate Data\n",
    "\n",
    "`np.round(np.random.normal(distribution mean, distribution std., number of samples))`"
   ]
  },
  {
   "cell_type": "code",
   "execution_count": 123,
   "metadata": {},
   "outputs": [
    {
     "data": {
      "text/plain": [
       "array([[ 2.21, 77.77],\n",
       "       [ 1.94, 65.69],\n",
       "       [ 1.58, 89.65],\n",
       "       [ 2.23, 82.4 ],\n",
       "       [ 1.88, 57.5 ],\n",
       "       [ 1.91, 73.82],\n",
       "       [ 1.64, 74.7 ],\n",
       "       [ 1.3 , 96.37],\n",
       "       [ 1.72, 88.34],\n",
       "       [ 1.71, 84.57]])"
      ]
     },
     "execution_count": 123,
     "metadata": {},
     "output_type": "execute_result"
    }
   ],
   "source": [
    "height = np.round(np.random.normal(1.70, 0.20, 10), 2)\n",
    "weight = np.round(np.random.normal(75, 10, 10), 2)\n",
    "\n",
    "np_group = np.column_stack((height, weight))\n",
    "np_group"
   ]
  },
  {
   "cell_type": "code",
   "execution_count": 127,
   "metadata": {},
   "outputs": [
    {
     "name": "stdout",
     "output_type": "stream",
     "text": [
      "Average height: 1.812\n",
      "Median height: 1.7999999999999998\n",
      "Standard Deviation of height: 0.26984439960836687\n",
      "Correlation: [[ 1.         -0.49409564]\n",
      " [-0.49409564  1.        ]]\n"
     ]
    }
   ],
   "source": [
    "# Print mean height (first column)\n",
    "avg = np.mean(np_group[:,0])\n",
    "print(\"Average height: \" + str(avg))\n",
    "\n",
    "# Print median height.\n",
    "med = np.median(np_group[:,0])\n",
    "print(\"Median height: \" + str(med))\n",
    "\n",
    "# Print out the standard deviation on height. \n",
    "stddev = np.std(np_group[:,0])\n",
    "print(\"Standard Deviation of height: \" + str(stddev))\n",
    "\n",
    "# Print out correlation between first and second column. \n",
    "corr = np.corrcoef(np_group[:,0], np_group[:,1])\n",
    "print(\"Correlation: \" + str(corr))"
   ]
  },
  {
   "cell_type": "markdown",
   "metadata": {},
   "source": [
    "#### Practise\n",
    "\n",
    "We have two lists. positions = ['GK', 'M', 'A', 'D', ...] heights = [191, 184, 185, 180, ...]\n",
    "\n",
    "Each element in the lists corresponds to a player. The first list, positions, contains\n",
    "strings representing each player's position. The possible positions are: 'GK' (goalkeeper),\n",
    "'M' (midfield), 'A' (attack) and 'D' (defense). The second list, heights, contains integers\n",
    "representing the height of the player in cm. The first player in the lists is a goalkeeper\n",
    "and is pretty tall (191 cm)."
   ]
  },
  {
   "cell_type": "code",
   "execution_count": 130,
   "metadata": {},
   "outputs": [
    {
     "data": {
      "text/plain": [
       "array(['A', 'M', 'M', 'M', 'D', 'D', 'D', 'M', 'M', 'D', 'D', 'A', 'D',\n",
       "       'M', 'GK', 'GK', 'A', 'A', 'A', 'A', 'M', 'M', 'A', 'GK', 'A', 'A',\n",
       "       'M', 'M', 'D', 'M', 'D', 'D', 'D', 'M', 'A', 'A', 'D', 'A', 'M',\n",
       "       'M', 'M', 'A', 'M', 'D', 'GK', 'GK', 'M', 'GK', 'M', 'GK', 'A',\n",
       "       'M', 'D', 'A', 'M', 'D', 'D', 'GK', 'A', 'M', 'M', 'GK', 'M', 'D',\n",
       "       'A', 'M', 'GK', 'M', 'A', 'M', 'M', 'A', 'A', 'A', 'A', 'A', 'D',\n",
       "       'M', 'D', 'A', 'D', 'M', 'M', 'D', 'A', 'D', 'GK', 'M', 'M', 'M',\n",
       "       'GK', 'M', 'M', 'M', 'M', 'M', 'M', 'D', 'A', 'M'], dtype='<U2')"
      ]
     },
     "execution_count": 130,
     "metadata": {},
     "output_type": "execute_result"
    }
   ],
   "source": [
    "positions = ['GK', 'M', 'A', 'D']\n",
    "np_positions = np.random.choice(positions, 100, p=[1/11, 4/11, 3/11, 3/11])\n",
    "np_positions"
   ]
  },
  {
   "cell_type": "code",
   "execution_count": 140,
   "metadata": {},
   "outputs": [
    {
     "data": {
      "text/plain": [
       "array([1.31, 1.86, 1.85, 1.8 , 1.77, 1.49, 1.66, 1.57, 1.74, 1.28, 2.15,\n",
       "       2.05, 1.51, 1.73, 1.88, 1.94, 1.66, 1.42, 1.91, 1.93, 1.35, 2.13,\n",
       "       1.9 , 1.94, 1.9 , 1.77, 1.44, 1.44, 1.79, 1.64, 1.65, 1.82, 1.75,\n",
       "       2.03, 1.85, 1.75, 1.79, 1.33, 1.89, 1.78, 1.36, 2.13, 1.75, 1.77,\n",
       "       1.73, 1.76, 1.88, 1.69, 1.49, 2.05, 1.92, 1.44, 1.42, 1.79, 1.77,\n",
       "       1.89, 1.67, 1.74, 1.24, 1.62, 1.72, 1.81, 1.85, 1.75, 2.02, 1.81,\n",
       "       1.93, 1.81, 1.51, 1.75, 1.57, 1.99, 1.78, 1.34, 1.58, 1.61, 1.82,\n",
       "       2.04, 1.52, 1.6 , 1.79, 1.58, 1.66, 1.52, 1.97, 2.08, 1.58, 1.98,\n",
       "       1.58, 1.64, 1.61, 1.63, 1.68, 1.64, 1.59, 1.54, 1.4 , 1.65, 1.81,\n",
       "       1.75])"
      ]
     },
     "execution_count": 140,
     "metadata": {},
     "output_type": "execute_result"
    }
   ],
   "source": [
    "np_heights = np.round(np.random.normal(1.70, 0.20, 100), 2)\n",
    "np_heights"
   ]
  },
  {
   "cell_type": "code",
   "execution_count": 141,
   "metadata": {},
   "outputs": [
    {
     "name": "stdout",
     "output_type": "stream",
     "text": [
      "[1.88 1.94 1.94 1.73 1.76 1.69 2.05 1.74 1.81 1.93 1.58 1.61]\n",
      "Median height of goalkeepers: 1.7850000000000001\n",
      "Median height of other players: 1.75\n"
     ]
    }
   ],
   "source": [
    "# Heights of the goalkeepers: gk_heights\n",
    "gk_heights = np_heights[np_positions == 'GK']\n",
    "print(gk_heights)\n",
    "\n",
    "# Heights of the other players: other_heights\n",
    "other_heights = np_heights[np_positions != 'GK']\n",
    "\n",
    "# Print out the median height of goalkeepers. \n",
    "print(\"Median height of goalkeepers: \" + str(np.median(gk_heights)))\n",
    "\n",
    "# Print out the median height of other players. \n",
    "print(\"Median height of other players: \" + str(np.median(other_heights)))"
   ]
  },
  {
   "cell_type": "markdown",
   "metadata": {},
   "source": [
    "### Numpay iteration"
   ]
  },
  {
   "cell_type": "code",
   "execution_count": 16,
   "metadata": {},
   "outputs": [
    {
     "data": {
      "text/plain": [
       "array([[ 5, 10],\n",
       "       [15, 20],\n",
       "       [25, 30]])"
      ]
     },
     "execution_count": 16,
     "metadata": {},
     "output_type": "execute_result"
    }
   ],
   "source": [
    "import numpy as np\n",
    "array = np.arange(5,35,5).reshape(3,2)\n",
    "array"
   ]
  },
  {
   "cell_type": "code",
   "execution_count": 17,
   "metadata": {},
   "outputs": [
    {
     "name": "stdout",
     "output_type": "stream",
     "text": [
      "5\n",
      "10\n",
      "15\n",
      "20\n",
      "25\n",
      "30\n"
     ]
    }
   ],
   "source": [
    "for val in np.nditer(array):\n",
    "    print(val)"
   ]
  },
  {
   "cell_type": "markdown",
   "metadata": {},
   "source": [
    "`seed()`: sets the random seed, so that your results are the reproducible between simulations.\n",
    "As an argument, it takes an integer of your choosing. If you call the function,\n",
    "no output will be generated."
   ]
  },
  {
   "cell_type": "code",
   "execution_count": 24,
   "metadata": {},
   "outputs": [
    {
     "name": "stdout",
     "output_type": "stream",
     "text": [
      "0.6964691855978616\n",
      "0.28613933495037946\n",
      "0.2268514535642031\n"
     ]
    }
   ],
   "source": [
    "# Set the seed\n",
    "np.random.seed(123)\n",
    "\n",
    "# Generate and print random float\n",
    "print(np.random.rand())\n",
    "print(np.random.rand())\n",
    "print(np.random.rand())"
   ]
  },
  {
   "cell_type": "code",
   "execution_count": 39,
   "metadata": {},
   "outputs": [
    {
     "name": "stdout",
     "output_type": "stream",
     "text": [
      "6\n",
      "3\n"
     ]
    }
   ],
   "source": [
    "np.random.seed(123)\n",
    "\n",
    "# Use randint() to simulate a dice\n",
    "print(np.random.randint(1, 7))\n",
    "\n",
    "# Use randint() again\n",
    "print(np.random.randint(1, 7))"
   ]
  },
  {
   "cell_type": "code",
   "execution_count": null,
   "metadata": {},
   "outputs": [],
   "source": []
  },
  {
   "cell_type": "code",
   "execution_count": null,
   "metadata": {},
   "outputs": [],
   "source": [
    "Source : Datacamp - intro-to-python-for-data-science"
   ]
  }
 ],
 "metadata": {
  "kernelspec": {
   "display_name": "Python 3",
   "language": "python",
   "name": "python3"
  },
  "language_info": {
   "codemirror_mode": {
    "name": "ipython",
    "version": 3
   },
   "file_extension": ".py",
   "mimetype": "text/x-python",
   "name": "python",
   "nbconvert_exporter": "python",
   "pygments_lexer": "ipython3",
   "version": "3.7.6"
  }
 },
 "nbformat": 4,
 "nbformat_minor": 4
}
