{
 "cells": [
  {
   "cell_type": "code",
   "execution_count": 19,
   "metadata": {},
   "outputs": [],
   "source": [
    "import numpy as np"
   ]
  },
  {
   "cell_type": "markdown",
   "metadata": {},
   "source": [
    "Let us create a NumPy array using arange function in NumPy. The 1d-array starts at 0 and ends at 8"
   ]
  },
  {
   "cell_type": "code",
   "execution_count": 35,
   "metadata": {},
   "outputs": [
    {
     "data": {
      "text/plain": [
       "array([0, 1, 2, 3, 4, 5, 6, 7, 8])"
      ]
     },
     "execution_count": 35,
     "metadata": {},
     "output_type": "execute_result"
    }
   ],
   "source": [
    "array = np.arange(9)\n",
    "array"
   ]
  },
  {
   "cell_type": "markdown",
   "metadata": {},
   "source": [
    "### Boolean Operators\n",
    "\n",
    "we can compare two Numpy arrays element-wise"
   ]
  },
  {
   "cell_type": "code",
   "execution_count": 20,
   "metadata": {},
   "outputs": [
    {
     "name": "stdout",
     "output_type": "stream",
     "text": [
      "[ True  True False False]\n",
      "[False  True  True False]\n"
     ]
    }
   ],
   "source": [
    "my_house = np.array([18.0, 20.0, 10.75, 9.50])\n",
    "your_house = np.array([14.0, 24.0, 14.25, 9.0])\n",
    "\n",
    "# my_house greater than or equal to 18\n",
    "print(my_house >= 18)\n",
    "\n",
    "# my_house less than your_house\n",
    "print(my_house < your_house)"
   ]
  },
  {
   "cell_type": "code",
   "execution_count": 27,
   "metadata": {},
   "outputs": [
    {
     "data": {
      "text/plain": [
       "array([10. , 10.5, 11. , 11.5, 12. , 12.5])"
      ]
     },
     "execution_count": 27,
     "metadata": {},
     "output_type": "execute_result"
    }
   ],
   "source": [
    "array = np.arange(10,13,0.5)\n",
    "array"
   ]
  },
  {
   "cell_type": "code",
   "execution_count": 28,
   "metadata": {},
   "outputs": [
    {
     "name": "stdout",
     "output_type": "stream",
     "text": [
      "[ True  True  True  True  True False]\n",
      "[False False  True  True  True  True]\n"
     ]
    }
   ],
   "source": [
    "print(array<=12)\n",
    "print(array>=11)"
   ]
  },
  {
   "cell_type": "code",
   "execution_count": 29,
   "metadata": {},
   "outputs": [
    {
     "data": {
      "text/plain": [
       "array([False, False,  True,  True,  True, False])"
      ]
     },
     "execution_count": 29,
     "metadata": {},
     "output_type": "execute_result"
    }
   ],
   "source": [
    "np.logical_and(array<=12, array>=11)"
   ]
  },
  {
   "cell_type": "code",
   "execution_count": 30,
   "metadata": {},
   "outputs": [
    {
     "data": {
      "text/plain": [
       "array([11. , 11.5, 12. ])"
      ]
     },
     "execution_count": 30,
     "metadata": {},
     "output_type": "execute_result"
    }
   ],
   "source": [
    "array[np.logical_and(array<=12, array>=11)]"
   ]
  },
  {
   "cell_type": "markdown",
   "metadata": {},
   "source": [
    "### From list to Numpy array "
   ]
  },
  {
   "cell_type": "code",
   "execution_count": 21,
   "metadata": {},
   "outputs": [],
   "source": [
    "height = [70, 73, 66, 71]\n",
    "weight = [159, 185, 194, 157]\n",
    "\n",
    "# Calculate the BMI: bmi\n",
    "np_height_m = np.array(height) * 0.0254\n",
    "np_weight_kg = np.array(weight) * 0.453592\n",
    "bmi = np_weight_kg / np_height_m ** 2\n",
    "\n",
    "print(type(np_height_m))\n",
    "print(type(np_weight_kg))\n",
    "\n",
    "# Create the light array\n",
    "light = np.array(bmi < 23)\n",
    "\n",
    "# Print out light\n",
    "print(light)\n",
    "\n",
    "# Print out BMIs of all baseball players whose BMI is below 21\n",
    "print(bmi[light])"
   ]
  },
  {
   "cell_type": "markdown",
   "metadata": {},
   "source": [
    "### 2d-numpy-arrays arithmetics"
   ]
  },
  {
   "cell_type": "code",
   "execution_count": 44,
   "metadata": {},
   "outputs": [
    {
     "data": {
      "text/plain": [
       "array([  5,  10,  15,  20,  25,  30,  35,  40,  45,  50,  55,  60,  65,\n",
       "        70,  75,  80,  85,  90,  95, 100])"
      ]
     },
     "execution_count": 44,
     "metadata": {},
     "output_type": "execute_result"
    }
   ],
   "source": [
    "array = np.arange(5,105,5)\n",
    "array"
   ]
  },
  {
   "cell_type": "markdown",
   "metadata": {},
   "source": [
    "We can use NumPy’s `reshape()` function to convert the 1d-array to 2d-array of dimension 3×3, 3 rows and 3 columns. NumPy’s reshape function takes a tuple as input."
   ]
  },
  {
   "cell_type": "code",
   "execution_count": 45,
   "metadata": {},
   "outputs": [
    {
     "data": {
      "text/plain": [
       "array([[  5,  10,  15,  20],\n",
       "       [ 25,  30,  35,  40],\n",
       "       [ 45,  50,  55,  60],\n",
       "       [ 65,  70,  75,  80],\n",
       "       [ 85,  90,  95, 100]])"
      ]
     },
     "execution_count": 45,
     "metadata": {},
     "output_type": "execute_result"
    }
   ],
   "source": [
    "array2D = array.reshape((5,4))\n",
    "array2D"
   ]
  },
  {
   "cell_type": "code",
   "execution_count": 102,
   "metadata": {},
   "outputs": [
    {
     "data": {
      "text/plain": [
       "array([[ 1.778   , 72.121128],\n",
       "       [ 1.8542  , 83.91452 ],\n",
       "       [ 1.6764  , 87.996848],\n",
       "       [ 1.8034  , 71.213944]])"
      ]
     },
     "execution_count": 102,
     "metadata": {},
     "output_type": "execute_result"
    }
   ],
   "source": [
    "height = [70, 73, 66, 71]\n",
    "weight = [159, 185, 194, 157]\n",
    "\n",
    "np_height_m = np.array(height) * 0.0254\n",
    "np_weight_kg = np.array(weight) * 0.453592\n",
    "\n",
    "np_2d = np.column_stack((np_height_m, np_weight_kg))\n",
    "np_2d"
   ]
  },
  {
   "cell_type": "code",
   "execution_count": 99,
   "metadata": {},
   "outputs": [
    {
     "data": {
      "text/plain": [
       "array([[  3.556   , 144.242256],\n",
       "       [  3.7084  , 167.82904 ],\n",
       "       [  3.3528  , 175.993696],\n",
       "       [  3.6068  , 142.427888]])"
      ]
     },
     "execution_count": 99,
     "metadata": {},
     "output_type": "execute_result"
    }
   ],
   "source": [
    "np_2d * 2"
   ]
  },
  {
   "cell_type": "code",
   "execution_count": 101,
   "metadata": {},
   "outputs": [
    {
     "data": {
      "text/plain": [
       "array([[ 70., 159.],\n",
       "       [ 73., 185.],\n",
       "       [ 66., 194.],\n",
       "       [ 71., 157.]])"
      ]
     },
     "execution_count": 101,
     "metadata": {},
     "output_type": "execute_result"
    }
   ],
   "source": [
    "np_2d / np.array([0.0254, 0.453592])"
   ]
  },
  {
   "cell_type": "code",
   "execution_count": 103,
   "metadata": {},
   "outputs": [
    {
     "data": {
      "text/plain": [
       "array([[  2.778   , 172.121128],\n",
       "       [  2.8542  , 183.91452 ],\n",
       "       [  2.6764  , 187.996848],\n",
       "       [  2.8034  , 171.213944]])"
      ]
     },
     "execution_count": 103,
     "metadata": {},
     "output_type": "execute_result"
    }
   ],
   "source": [
    "np_2d + np.array([1, 100])"
   ]
  },
  {
   "cell_type": "code",
   "execution_count": 104,
   "metadata": {},
   "outputs": [
    {
     "data": {
      "text/plain": [
       "array([[  3.556   , 144.242256],\n",
       "       [  3.7084  , 167.82904 ],\n",
       "       [  3.3528  , 175.993696],\n",
       "       [  3.6068  , 142.427888]])"
      ]
     },
     "execution_count": 104,
     "metadata": {},
     "output_type": "execute_result"
    }
   ],
   "source": [
    "np_2d + np_2d"
   ]
  },
  {
   "cell_type": "markdown",
   "metadata": {},
   "source": [
    "#### Generate Data\n",
    "\n",
    "`np.round(np.random.normal(distribution mean, distribution std., number of samples))`"
   ]
  },
  {
   "cell_type": "code",
   "execution_count": 123,
   "metadata": {},
   "outputs": [
    {
     "data": {
      "text/plain": [
       "array([[ 2.21, 77.77],\n",
       "       [ 1.94, 65.69],\n",
       "       [ 1.58, 89.65],\n",
       "       [ 2.23, 82.4 ],\n",
       "       [ 1.88, 57.5 ],\n",
       "       [ 1.91, 73.82],\n",
       "       [ 1.64, 74.7 ],\n",
       "       [ 1.3 , 96.37],\n",
       "       [ 1.72, 88.34],\n",
       "       [ 1.71, 84.57]])"
      ]
     },
     "execution_count": 123,
     "metadata": {},
     "output_type": "execute_result"
    }
   ],
   "source": [
    "height = np.round(np.random.normal(1.70, 0.20, 10), 2)\n",
    "weight = np.round(np.random.normal(75, 10, 10), 2)\n",
    "\n",
    "np_group = np.column_stack((height, weight))\n",
    "np_group"
   ]
  },
  {
   "cell_type": "code",
   "execution_count": 127,
   "metadata": {},
   "outputs": [
    {
     "name": "stdout",
     "output_type": "stream",
     "text": [
      "Average height: 1.812\n",
      "Median height: 1.7999999999999998\n",
      "Standard Deviation of height: 0.26984439960836687\n",
      "Correlation: [[ 1.         -0.49409564]\n",
      " [-0.49409564  1.        ]]\n"
     ]
    }
   ],
   "source": [
    "# Print mean height (first column)\n",
    "avg = np.mean(np_group[:,0])\n",
    "print(\"Average height: \" + str(avg))\n",
    "\n",
    "# Print median height.\n",
    "med = np.median(np_group[:,0])\n",
    "print(\"Median height: \" + str(med))\n",
    "\n",
    "# Print out the standard deviation on height. \n",
    "stddev = np.std(np_group[:,0])\n",
    "print(\"Standard Deviation of height: \" + str(stddev))\n",
    "\n",
    "# Print out correlation between first and second column. \n",
    "corr = np.corrcoef(np_group[:,0], np_group[:,1])\n",
    "print(\"Correlation: \" + str(corr))"
   ]
  },
  {
   "cell_type": "markdown",
   "metadata": {},
   "source": [
    "#### Practise\n",
    "\n",
    "We have two lists. positions = ['GK', 'M', 'A', 'D', ...] heights = [191, 184, 185, 180, ...]\n",
    "\n",
    "Each element in the lists corresponds to a player. The first list, positions, contains\n",
    "strings representing each player's position. The possible positions are: 'GK' (goalkeeper),\n",
    "'M' (midfield), 'A' (attack) and 'D' (defense). The second list, heights, contains integers\n",
    "representing the height of the player in cm. The first player in the lists is a goalkeeper\n",
    "and is pretty tall (191 cm)."
   ]
  },
  {
   "cell_type": "code",
   "execution_count": 130,
   "metadata": {},
   "outputs": [
    {
     "data": {
      "text/plain": [
       "array(['A', 'M', 'M', 'M', 'D', 'D', 'D', 'M', 'M', 'D', 'D', 'A', 'D',\n",
       "       'M', 'GK', 'GK', 'A', 'A', 'A', 'A', 'M', 'M', 'A', 'GK', 'A', 'A',\n",
       "       'M', 'M', 'D', 'M', 'D', 'D', 'D', 'M', 'A', 'A', 'D', 'A', 'M',\n",
       "       'M', 'M', 'A', 'M', 'D', 'GK', 'GK', 'M', 'GK', 'M', 'GK', 'A',\n",
       "       'M', 'D', 'A', 'M', 'D', 'D', 'GK', 'A', 'M', 'M', 'GK', 'M', 'D',\n",
       "       'A', 'M', 'GK', 'M', 'A', 'M', 'M', 'A', 'A', 'A', 'A', 'A', 'D',\n",
       "       'M', 'D', 'A', 'D', 'M', 'M', 'D', 'A', 'D', 'GK', 'M', 'M', 'M',\n",
       "       'GK', 'M', 'M', 'M', 'M', 'M', 'M', 'D', 'A', 'M'], dtype='<U2')"
      ]
     },
     "execution_count": 130,
     "metadata": {},
     "output_type": "execute_result"
    }
   ],
   "source": [
    "positions = ['GK', 'M', 'A', 'D']\n",
    "np_positions = np.random.choice(positions, 100, p=[1/11, 4/11, 3/11, 3/11])\n",
    "np_positions"
   ]
  },
  {
   "cell_type": "code",
   "execution_count": 140,
   "metadata": {},
   "outputs": [
    {
     "data": {
      "text/plain": [
       "array([1.31, 1.86, 1.85, 1.8 , 1.77, 1.49, 1.66, 1.57, 1.74, 1.28, 2.15,\n",
       "       2.05, 1.51, 1.73, 1.88, 1.94, 1.66, 1.42, 1.91, 1.93, 1.35, 2.13,\n",
       "       1.9 , 1.94, 1.9 , 1.77, 1.44, 1.44, 1.79, 1.64, 1.65, 1.82, 1.75,\n",
       "       2.03, 1.85, 1.75, 1.79, 1.33, 1.89, 1.78, 1.36, 2.13, 1.75, 1.77,\n",
       "       1.73, 1.76, 1.88, 1.69, 1.49, 2.05, 1.92, 1.44, 1.42, 1.79, 1.77,\n",
       "       1.89, 1.67, 1.74, 1.24, 1.62, 1.72, 1.81, 1.85, 1.75, 2.02, 1.81,\n",
       "       1.93, 1.81, 1.51, 1.75, 1.57, 1.99, 1.78, 1.34, 1.58, 1.61, 1.82,\n",
       "       2.04, 1.52, 1.6 , 1.79, 1.58, 1.66, 1.52, 1.97, 2.08, 1.58, 1.98,\n",
       "       1.58, 1.64, 1.61, 1.63, 1.68, 1.64, 1.59, 1.54, 1.4 , 1.65, 1.81,\n",
       "       1.75])"
      ]
     },
     "execution_count": 140,
     "metadata": {},
     "output_type": "execute_result"
    }
   ],
   "source": [
    "np_heights = np.round(np.random.normal(1.70, 0.20, 100), 2)\n",
    "np_heights"
   ]
  },
  {
   "cell_type": "code",
   "execution_count": 141,
   "metadata": {},
   "outputs": [
    {
     "name": "stdout",
     "output_type": "stream",
     "text": [
      "[1.88 1.94 1.94 1.73 1.76 1.69 2.05 1.74 1.81 1.93 1.58 1.61]\n",
      "Median height of goalkeepers: 1.7850000000000001\n",
      "Median height of other players: 1.75\n"
     ]
    }
   ],
   "source": [
    "# Heights of the goalkeepers: gk_heights\n",
    "gk_heights = np_heights[np_positions == 'GK']\n",
    "print(gk_heights)\n",
    "\n",
    "# Heights of the other players: other_heights\n",
    "other_heights = np_heights[np_positions != 'GK']\n",
    "\n",
    "# Print out the median height of goalkeepers. \n",
    "print(\"Median height of goalkeepers: \" + str(np.median(gk_heights)))\n",
    "\n",
    "# Print out the median height of other players. \n",
    "print(\"Median height of other players: \" + str(np.median(other_heights)))"
   ]
  },
  {
   "cell_type": "markdown",
   "metadata": {},
   "source": [
    "### Numpay iteration"
   ]
  },
  {
   "cell_type": "code",
   "execution_count": 3,
   "metadata": {},
   "outputs": [
    {
     "data": {
      "text/plain": [
       "array([[ 5, 10],\n",
       "       [15, 20],\n",
       "       [25, 30]])"
      ]
     },
     "execution_count": 3,
     "metadata": {},
     "output_type": "execute_result"
    }
   ],
   "source": [
    "import numpy as np\n",
    "array = np.arange(5,35,5).reshape(3,2)\n",
    "array"
   ]
  },
  {
   "cell_type": "code",
   "execution_count": 17,
   "metadata": {},
   "outputs": [
    {
     "name": "stdout",
     "output_type": "stream",
     "text": [
      "5\n",
      "10\n",
      "15\n",
      "20\n",
      "25\n",
      "30\n"
     ]
    }
   ],
   "source": [
    "for val in np.nditer(array):\n",
    "    print(val)"
   ]
  },
  {
   "cell_type": "markdown",
   "metadata": {},
   "source": [
    "`seed()`: sets the random seed, so that your results are the reproducible between simulations.\n",
    "As an argument, it takes an integer of your choosing. If you call the function,\n",
    "no output will be generated."
   ]
  },
  {
   "cell_type": "code",
   "execution_count": 24,
   "metadata": {},
   "outputs": [
    {
     "name": "stdout",
     "output_type": "stream",
     "text": [
      "0.6964691855978616\n",
      "0.28613933495037946\n",
      "0.2268514535642031\n"
     ]
    }
   ],
   "source": [
    "# Set the seed\n",
    "np.random.seed(123)\n",
    "\n",
    "# Generate and print random float\n",
    "print(np.random.rand())\n",
    "print(np.random.rand())\n",
    "print(np.random.rand())"
   ]
  },
  {
   "cell_type": "code",
   "execution_count": 39,
   "metadata": {},
   "outputs": [
    {
     "name": "stdout",
     "output_type": "stream",
     "text": [
      "6\n",
      "3\n"
     ]
    }
   ],
   "source": [
    "np.random.seed(123)\n",
    "\n",
    "# Use randint() to simulate a dice\n",
    "print(np.random.randint(1, 7))\n",
    "\n",
    "# Use randint() again\n",
    "print(np.random.randint(1, 7))"
   ]
  },
  {
   "cell_type": "markdown",
   "metadata": {},
   "source": [
    "### Generating random numbers"
   ]
  },
  {
   "cell_type": "code",
   "execution_count": 18,
   "metadata": {},
   "outputs": [
    {
     "data": {
      "image/png": "[encoded data removed]",
      "text/plain": [
       "<Figure size 432x288 with 1 Axes>"
      ]
     },
     "metadata": {
      "needs_background": "light"
     },
     "output_type": "display_data"
    }
   ],
   "source": [
    "# Seed the random number generator\n",
    "np.random.seed(42)\n",
    "\n",
    "# Initialize random numbers: random_numbers\n",
    "random_numbers = np.empty(100000)\n",
    "\n",
    "# Generate random numbers by looping over range(100000)\n",
    "for i in range(100000):\n",
    "    random_numbers[i] = np.random.random()\n",
    "\n",
    "# Plot a histogram\n",
    "_ = plt.hist(random_numbers)\n",
    "\n",
    "# Show the plot\n",
    "plt.show()"
   ]
  },
  {
   "cell_type": "markdown",
   "metadata": {},
   "source": [
    "### computing-percentiles"
   ]
  },
  {
   "cell_type": "code",
   "execution_count": 4,
   "metadata": {},
   "outputs": [
    {
     "name": "stdout",
     "output_type": "stream",
     "text": [
      "[3.3    4.     4.35   4.6    4.9775]\n"
     ]
    }
   ],
   "source": [
    "versicolor_petal_length = np.array([4.7,  4.5,  4.9,  4.,  4.6,  4.5,  4.7,  3.3,  4.6,  3.9,  3.5,\n",
    "                                    4.2,  4.,  4.7,  3.6,  4.4,  4.5,  4.1,  4.5,  3.9,  4.8,  4.,\n",
    "                                    4.9,  4.7,  4.3,  4.4,  4.8,  5.,  4.5,  3.5,  3.8,  3.7,  3.9,\n",
    "                                    5.1,  4.5,  4.5,  4.7,  4.4,  4.1,  4.,  4.4,  4.6,  4.,  3.3,\n",
    "                                    4.2,  4.2,  4.2,  4.3,  3.,  4.1])\n",
    "\n",
    "# Specify array of percentiles: percentiles\n",
    "percentiles = np.array([2.5, 25, 50, 75, 97.5])\n",
    "\n",
    "# Compute percentiles: ptiles_vers\n",
    "ptiles_vers = np.percentile(versicolor_petal_length, percentiles)\n",
    "\n",
    "# Print the result\n",
    "print(ptiles_vers)"
   ]
  },
  {
   "cell_type": "markdown",
   "metadata": {},
   "source": [
    "* Comparing percentiles to ECDF"
   ]
  },
  {
   "cell_type": "code",
   "execution_count": 6,
   "metadata": {},
   "outputs": [
    {
     "data": {
      "image/png": "[encoded data removed]",
      "text/plain": [
       "<Figure size 432x288 with 1 Axes>"
      ]
     },
     "metadata": {
      "needs_background": "light"
     },
     "output_type": "display_data"
    }
   ],
   "source": [
    "import matplotlib.pyplot as plt\n",
    "\n",
    "x_vers = np.array([3.,  3.3,  3.3,  3.5,  3.5,  3.6,  3.7,  3.8,  3.9,  3.9,  3.9,\n",
    "                   4.,  4.,  4.,  4.,  4.,  4.1,  4.1,  4.1,  4.2,  4.2,  4.2,\n",
    "                   4.2,  4.3,  4.3,  4.4,  4.4,  4.4,  4.4,  4.5,  4.5,  4.5,  4.5,\n",
    "                   4.5,  4.5,  4.5,  4.6,  4.6,  4.6,  4.7,  4.7,  4.7,  4.7,  4.7,\n",
    "                   4.8,  4.8,  4.9,  4.9,  5.,  5.1])\n",
    "\n",
    "y_vers = np.array([0.02,  0.04,  0.06,  0.08,  0.1,  0.12,  0.14,  0.16,  0.18,\n",
    "                   0.2,  0.22,  0.24,  0.26,  0.28,  0.3,  0.32,  0.34,  0.36,\n",
    "                   0.38,  0.4,  0.42,  0.44,  0.46,  0.48,  0.5,  0.52,  0.54,\n",
    "                   0.56,  0.58,  0.6,  0.62,  0.64,  0.66,  0.68,  0.7,  0.72,\n",
    "                   0.74,  0.76,  0.78,  0.8,  0.82,  0.84,  0.86,  0.88,  0.9,\n",
    "                   0.92,  0.94,  0.96,  0.98,  1.])\n",
    "\n",
    "percentiles = np.array([2.5,  25.,  50.,  75.,  97.5])\n",
    "\n",
    "# Plot the ECDF\n",
    "_ = plt.plot(x_vers, y_vers, '.')\n",
    "plt.margins(0.02)\n",
    "_ = plt.xlabel('petal length (cm)')\n",
    "_ = plt.ylabel('ECDF')\n",
    "\n",
    "# Overlay percentiles as red diamonds.\n",
    "_ = plt.plot(ptiles_vers, percentiles / 100, marker='D', color='red',\n",
    "             linestyle='none')\n",
    "\n",
    "# Show the plot\n",
    "plt.show()"
   ]
  },
  {
   "cell_type": "markdown",
   "metadata": {},
   "source": [
    "### standard deviation and the variance"
   ]
  },
  {
   "cell_type": "code",
   "execution_count": 11,
   "metadata": {},
   "outputs": [
    {
     "name": "stdout",
     "output_type": "stream",
     "text": [
      "0.21640000000000004 0.21640000000000004\n"
     ]
    }
   ],
   "source": [
    "# Array of differences to mean: differences\n",
    "differences = np.array(versicolor_petal_length -\n",
    "                       np.mean(versicolor_petal_length))\n",
    "\n",
    "# Square the differences: diff_sq\n",
    "diff_sq = differences ** 2\n",
    "\n",
    "# Compute the mean square difference: variance_explicit\n",
    "variance_explicit = np.mean(diff_sq)\n",
    "\n",
    "# Compute the variance using NumPy: variance_np\n",
    "variance_np = np.var(versicolor_petal_length)\n",
    "\n",
    "# Print the results\n",
    "print(variance_explicit, variance_np)"
   ]
  },
  {
   "cell_type": "code",
   "execution_count": 10,
   "metadata": {},
   "outputs": [
    {
     "name": "stdout",
     "output_type": "stream",
     "text": [
      "0.4651881339845203\n",
      "0.4651881339845203\n"
     ]
    }
   ],
   "source": [
    "# Compute the variance: variance\n",
    "variance = np.var(versicolor_petal_length)\n",
    "\n",
    "# Print the square root of the variance\n",
    "print(np.sqrt(variance))\n",
    "\n",
    "# Print the standard deviation\n",
    "print(np.std(versicolor_petal_length))"
   ]
  },
  {
   "cell_type": "markdown",
   "metadata": {},
   "source": [
    "### Computing the covariance\n",
    "\n",
    "The covariance may be computed using the Numpy function `np.cov()`. For example,\n",
    "we have two sets of data x and y, `np.cov(x, y)` returns a 2D array where ***entries\n",
    "[0,1] and [1,0] are the covariances. Entry [0,0] is the variance of the data in x,\n",
    "and entry [1,1] is the variance of the data in y***. This 2D output array is called\n",
    "the covariance matrix, since it organizes the self- and covariance."
   ]
  },
  {
   "cell_type": "code",
   "execution_count": 13,
   "metadata": {},
   "outputs": [
    {
     "name": "stdout",
     "output_type": "stream",
     "text": [
      "[[0.22081633 0.07310204]\n",
      " [0.07310204 0.03910612]]\n",
      "0.07310204081632653\n"
     ]
    }
   ],
   "source": [
    "versicolor_petal_length = np.array([4.7,  4.5,  4.9,  4.,  4.6,  4.5,  4.7,  3.3,  4.6,  3.9,  3.5,\n",
    "                                    4.2,  4.,  4.7,  3.6,  4.4,  4.5,  4.1,  4.5,  3.9,  4.8,  4.,\n",
    "                                    4.9,  4.7,  4.3,  4.4,  4.8,  5.,  4.5,  3.5,  3.8,  3.7,  3.9,\n",
    "                                    5.1,  4.5,  4.5,  4.7,  4.4,  4.1,  4.,  4.4,  4.6,  4.,  3.3,\n",
    "                                    4.2,  4.2,  4.2,  4.3,  3.,  4.1])\n",
    "\n",
    "versicolor_petal_width = np.array([1.4,  1.5,  1.5,  1.3,  1.5,  1.3,  1.6,  1.,  1.3,  1.4,  1.,\n",
    "                                   1.5,  1.,  1.4,  1.3,  1.4,  1.5,  1.,  1.5,  1.1,  1.8,  1.3,\n",
    "                                   1.5,  1.2,  1.3,  1.4,  1.4,  1.7,  1.5,  1.,  1.1,  1.,  1.2,\n",
    "                                   1.6,  1.5,  1.6,  1.5,  1.3,  1.3,  1.3,  1.2,  1.4,  1.2,  1.,\n",
    "                                   1.3,  1.2,  1.3,  1.3,  1.1,  1.3])\n",
    "\n",
    "# Compute the covariance matrix: covariance_matrix\n",
    "covariance_matrix = np.cov(versicolor_petal_length, versicolor_petal_width)\n",
    "\n",
    "# Print covariance matrix\n",
    "print(covariance_matrix)\n",
    "\n",
    "# Extract covariance of length and width of petals: petal_cov\n",
    "petal_cov = covariance_matrix[0, 1]\n",
    "\n",
    "# Print the length/width covariance\n",
    "print(petal_cov)"
   ]
  },
  {
   "cell_type": "markdown",
   "metadata": {},
   "source": [
    "### Computing the Pearson correlation coefficient\n",
    "\n",
    "the Pearson correlation coefficient, also called the\n",
    "Pearson r, is often easier to interpret than the covariance. It is computed using\n",
    "the `np.corrcoef()` function. Like `np.cov()`, it takes two arrays as arguments and\n",
    "returns a 2D array. Entries [0,0] and [1,1] are necessarily equal to 1, and the value we are after is entry [0,1]."
   ]
  },
  {
   "cell_type": "code",
   "execution_count": 15,
   "metadata": {},
   "outputs": [
    {
     "name": "stdout",
     "output_type": "stream",
     "text": [
      "0.7866680885228169\n"
     ]
    }
   ],
   "source": [
    "def pearson_r(x, y):\n",
    "    \"\"\"Compute Pearson correlation coefficient between two arrays.\"\"\"\n",
    "    # Compute correlation matrix: corr_mat\n",
    "    corr_mat = np.corrcoef(x, y)\n",
    "\n",
    "    # Return entry [0,1]\n",
    "    return corr_mat[0, 1]\n",
    "\n",
    "\n",
    "# Compute Pearson correlation coefficient for I. versicolor: r\n",
    "r = pearson_r(versicolor_petal_length, versicolor_petal_width)\n",
    "\n",
    "# Print the result\n",
    "print(r)"
   ]
  },
  {
   "cell_type": "code",
   "execution_count": null,
   "metadata": {},
   "outputs": [],
   "source": []
  },
  {
   "cell_type": "code",
   "execution_count": null,
   "metadata": {},
   "outputs": [],
   "source": []
  },
  {
   "cell_type": "code",
   "execution_count": null,
   "metadata": {},
   "outputs": [],
   "source": []
  },
  {
   "cell_type": "code",
   "execution_count": null,
   "metadata": {},
   "outputs": [],
   "source": [
    "Source : Datacamp - intro-to-python-for-data-science"
   ]
  }
 ],
 "metadata": {
  "kernelspec": {
   "display_name": "Python 3",
   "language": "python",
   "name": "python3"
  },
  "language_info": {
   "codemirror_mode": {
    "name": "ipython",
    "version": 3
   },
   "file_extension": ".py",
   "mimetype": "text/x-python",
   "name": "python",
   "nbconvert_exporter": "python",
   "pygments_lexer": "ipython3",
   "version": "3.7.6"
  }
 },
 "nbformat": 4,
 "nbformat_minor": 4
}
