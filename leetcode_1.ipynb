{
  "nbformat": 4,
  "nbformat_minor": 0,
  "metadata": {
    "colab": {
      "name": "leetcode_1.ipynb",
      "provenance": [],
      "collapsed_sections": [],
      "authorship_tag": "ABX9TyP72Oy+fCENtaCZNpnYPAwR",
      "include_colab_link": true
    },
    "kernelspec": {
      "name": "python3",
      "display_name": "Python 3"
    },
    "language_info": {
      "name": "python"
    }
  },
  "cells": [
    {
      "cell_type": "markdown",
      "metadata": {
        "id": "view-in-github",
        "colab_type": "text"
      },
      "source": [
        "<a href=\"https://colab.research.google.com/github/kurtsenol/python_practices/blob/master/leetcode_1.ipynb\" target=\"_parent\"><img src=\"https://colab.research.google.com/assets/colab-badge.svg\" alt=\"Open In Colab\"/></a>"
      ]
    },
    {
      "cell_type": "markdown",
      "metadata": {
        "id": "RCYxZkzeblVq"
      },
      "source": [
        "####Longest Common Prefix"
      ]
    },
    {
      "cell_type": "code",
      "metadata": {
        "id": "5xLnuuTSf3Pa"
      },
      "source": [
        "def longestCommonPrefix(strs):\n",
        "    \"\"\"\n",
        "    :type strs: List[str]\n",
        "    :rtype: str\n",
        "    \"\"\"\n",
        "    strs = sorted(strs, key=len)\n",
        "\n",
        "    l = [list(set(word[i] for word in strs)) for i in range(len(strs[0]))]\n",
        "\n",
        "    res=\"\"\n",
        "    for el in l:\n",
        "      if len(el)==1:\n",
        "        res+=\"\".join(el)\n",
        "      else:\n",
        "        break;\n",
        "\n",
        "    return res "
      ],
      "execution_count": 45,
      "outputs": []
    },
    {
      "cell_type": "markdown",
      "metadata": {
        "id": "WqIaVeLik4H_"
      },
      "source": [
        "####Valid Parentheses"
      ]
    },
    {
      "cell_type": "code",
      "metadata": {
        "id": "Nlql4rvpi6Ei"
      },
      "source": [
        "class Solution(object):\n",
        "    def isValid(self, s):\n",
        "        \"\"\"\n",
        "        :type s: str\n",
        "        :rtype: bool\n",
        "        \"\"\"\n",
        "\n",
        "        print(\"f run\")\n",
        "        \n",
        "        if len(s)==0:\n",
        "            print(\"ini if\")\n",
        "            return True\n",
        "        elif len(s)>=2:\n",
        "            if \"()\" in s or \"[]\" in s or \"{}\" in s:\n",
        "            \n",
        "                if \"()\" in s:\n",
        "                    s=s.replace(\"()\", \"\")    \n",
        "                if \"[]\" in s:\n",
        "                    s=s.replace(\"[]\", \"\")\n",
        "                if \"{}\" in s:\n",
        "                     s=s.replace(\"{}\", \"\")               \n",
        "                print(\"first if\")\n",
        "                q = Solution()\n",
        "                return q.isValid(s)\n",
        "            else:\n",
        "                print(\"first if else\")\n",
        "                return False   "
      ],
      "execution_count": 96,
      "outputs": []
    },
    {
      "cell_type": "code",
      "metadata": {
        "colab": {
          "base_uri": "https://localhost:8080/"
        },
        "id": "GqIvr7wUlDza",
        "outputId": "6739189d-83af-42b9-9bff-51c39a516c5b"
      },
      "source": [
        "mysol = Solution()\n",
        "s = \"()[]{}\"\n",
        "mysol.isValid(s)"
      ],
      "execution_count": 97,
      "outputs": [
        {
          "output_type": "stream",
          "text": [
            "f run\n",
            "first if\n",
            "f run\n",
            "ini if\n"
          ],
          "name": "stdout"
        },
        {
          "output_type": "execute_result",
          "data": {
            "text/plain": [
              "True"
            ]
          },
          "metadata": {
            "tags": []
          },
          "execution_count": 97
        }
      ]
    },
    {
      "cell_type": "code",
      "metadata": {
        "colab": {
          "base_uri": "https://localhost:8080/"
        },
        "id": "t4zxaTpx4Znb",
        "outputId": "6d4a57fa-3d03-4945-d1e8-24ce34541e9f"
      },
      "source": [
        "s = \"([)]\"\n",
        "mysol.isValid(s)"
      ],
      "execution_count": 98,
      "outputs": [
        {
          "output_type": "stream",
          "text": [
            "f run\n",
            "first if else\n"
          ],
          "name": "stdout"
        },
        {
          "output_type": "execute_result",
          "data": {
            "text/plain": [
              "False"
            ]
          },
          "metadata": {
            "tags": []
          },
          "execution_count": 98
        }
      ]
    },
    {
      "cell_type": "code",
      "metadata": {
        "colab": {
          "base_uri": "https://localhost:8080/"
        },
        "id": "25CP2J-BEkps",
        "outputId": "3d7e0ff4-cf79-4dda-9f35-22ac5ff5577a"
      },
      "source": [
        "s = \"{[]}\"\n",
        "mysol.isValid(s)"
      ],
      "execution_count": 99,
      "outputs": [
        {
          "output_type": "stream",
          "text": [
            "f run\n",
            "first if\n",
            "f run\n",
            "ini if\n"
          ],
          "name": "stdout"
        },
        {
          "output_type": "execute_result",
          "data": {
            "text/plain": [
              "True"
            ]
          },
          "metadata": {
            "tags": []
          },
          "execution_count": 99
        }
      ]
    },
    {
      "cell_type": "code",
      "metadata": {
        "id": "hPQwcj6MJj-d"
      },
      "source": [
        ""
      ],
      "execution_count": null,
      "outputs": []
    }
  ]
}