{
  "nbformat": 4,
  "nbformat_minor": 0,
  "metadata": {
    "colab": {
      "name": "leetcode_1.ipynb",
      "provenance": [],
      "collapsed_sections": [],
      "authorship_tag": "ABX9TyNPjprewt2g3m9ylZppdEeO",
      "include_colab_link": true
    },
    "kernelspec": {
      "name": "python3",
      "display_name": "Python 3"
    },
    "language_info": {
      "name": "python"
    }
  },
  "cells": [
    {
      "cell_type": "markdown",
      "metadata": {
        "id": "view-in-github",
        "colab_type": "text"
      },
      "source": [
        "<a href=\"https://colab.research.google.com/github/kurtsenol/python_practices/blob/master/leetcode_1.ipynb\" target=\"_parent\"><img src=\"https://colab.research.google.com/assets/colab-badge.svg\" alt=\"Open In Colab\"/></a>"
      ]
    },
    {
      "cell_type": "markdown",
      "metadata": {
        "id": "RCYxZkzeblVq"
      },
      "source": [
        "####Longest Common Prefix"
      ]
    },
    {
      "cell_type": "code",
      "metadata": {
        "id": "5xLnuuTSf3Pa"
      },
      "source": [
        "def longestCommonPrefix(strs):\n",
        "    \"\"\"\n",
        "    :type strs: List[str]\n",
        "    :rtype: str\n",
        "    \"\"\"\n",
        "    strs = sorted(strs, key=len)\n",
        "\n",
        "    l = [list(set(word[i] for word in strs)) for i in range(len(strs[0]))]\n",
        "\n",
        "    res=\"\"\n",
        "    for el in l:\n",
        "      if len(el)==1:\n",
        "        res+=\"\".join(el)\n",
        "      else:\n",
        "        break;\n",
        "\n",
        "    return res "
      ],
      "execution_count": null,
      "outputs": []
    },
    {
      "cell_type": "markdown",
      "metadata": {
        "id": "WqIaVeLik4H_"
      },
      "source": [
        "####Valid Parentheses"
      ]
    },
    {
      "cell_type": "code",
      "metadata": {
        "id": "Nlql4rvpi6Ei"
      },
      "source": [
        "class Solution(object):\n",
        "    def isValid(self, s):\n",
        "        \"\"\"\n",
        "        :type s: str\n",
        "        :rtype: bool\n",
        "        \"\"\"\n",
        "\n",
        "        print(\"f run\")\n",
        "        \n",
        "        if len(s)==0:\n",
        "            print(\"ini if\")\n",
        "            return True\n",
        "        elif len(s)>=2:\n",
        "            if \"()\" in s or \"[]\" in s or \"{}\" in s:\n",
        "            \n",
        "                if \"()\" in s:\n",
        "                    s=s.replace(\"()\", \"\")    \n",
        "                if \"[]\" in s:\n",
        "                    s=s.replace(\"[]\", \"\")\n",
        "                if \"{}\" in s:\n",
        "                     s=s.replace(\"{}\", \"\")               \n",
        "                print(\"first if\")\n",
        "                q = Solution()\n",
        "                return q.isValid(s)\n",
        "            else:\n",
        "                print(\"first if else\")\n",
        "                return False   "
      ],
      "execution_count": null,
      "outputs": []
    },
    {
      "cell_type": "code",
      "metadata": {
        "colab": {
          "base_uri": "https://localhost:8080/"
        },
        "id": "GqIvr7wUlDza",
        "outputId": "6739189d-83af-42b9-9bff-51c39a516c5b"
      },
      "source": [
        "mysol = Solution()\n",
        "s = \"()[]{}\"\n",
        "mysol.isValid(s)"
      ],
      "execution_count": null,
      "outputs": [
        {
          "output_type": "stream",
          "text": [
            "f run\n",
            "first if\n",
            "f run\n",
            "ini if\n"
          ],
          "name": "stdout"
        },
        {
          "output_type": "execute_result",
          "data": {
            "text/plain": [
              "True"
            ]
          },
          "metadata": {
            "tags": []
          },
          "execution_count": 97
        }
      ]
    },
    {
      "cell_type": "code",
      "metadata": {
        "colab": {
          "base_uri": "https://localhost:8080/"
        },
        "id": "t4zxaTpx4Znb",
        "outputId": "6d4a57fa-3d03-4945-d1e8-24ce34541e9f"
      },
      "source": [
        "s = \"([)]\"\n",
        "mysol.isValid(s)"
      ],
      "execution_count": null,
      "outputs": [
        {
          "output_type": "stream",
          "text": [
            "f run\n",
            "first if else\n"
          ],
          "name": "stdout"
        },
        {
          "output_type": "execute_result",
          "data": {
            "text/plain": [
              "False"
            ]
          },
          "metadata": {
            "tags": []
          },
          "execution_count": 98
        }
      ]
    },
    {
      "cell_type": "code",
      "metadata": {
        "colab": {
          "base_uri": "https://localhost:8080/"
        },
        "id": "25CP2J-BEkps",
        "outputId": "3d7e0ff4-cf79-4dda-9f35-22ac5ff5577a"
      },
      "source": [
        "s = \"{[]}\"\n",
        "mysol.isValid(s)"
      ],
      "execution_count": null,
      "outputs": [
        {
          "output_type": "stream",
          "text": [
            "f run\n",
            "first if\n",
            "f run\n",
            "ini if\n"
          ],
          "name": "stdout"
        },
        {
          "output_type": "execute_result",
          "data": {
            "text/plain": [
              "True"
            ]
          },
          "metadata": {
            "tags": []
          },
          "execution_count": 99
        }
      ]
    },
    {
      "cell_type": "code",
      "metadata": {
        "id": "hPQwcj6MJj-d"
      },
      "source": [
        ""
      ],
      "execution_count": null,
      "outputs": []
    },
    {
      "cell_type": "markdown",
      "metadata": {
        "id": "VeZJg3Ds1qRl"
      },
      "source": [
        "####Remove Duplicates from Sorted Array"
      ]
    },
    {
      "cell_type": "code",
      "metadata": {
        "id": "fVaAdsnu1twd"
      },
      "source": [
        "def removeDuplicates(nums):\n",
        "    \"\"\"\n",
        "    :type nums: List[int]\n",
        "    :rtype: int\n",
        "    \"\"\"\n",
        "\n",
        "    res = [nums[i] for i in range(len(nums)-1) if nums[i]!=nums[i+1]]\n",
        "    print(res)\n",
        "    if nums[-1] not in res:\n",
        "      res.append(nums[-1])\n",
        "\n",
        "    return len(set(nums)) res\n",
        "    "
      ],
      "execution_count": 21,
      "outputs": []
    },
    {
      "cell_type": "code",
      "metadata": {
        "colab": {
          "base_uri": "https://localhost:8080/"
        },
        "id": "7h8aNA0O1z11",
        "outputId": "f91ba74c-04a7-49ee-c7fa-be36b6d1bb27"
      },
      "source": [
        "nums = [0,0,1,1,1,2,2,3,3,4]\n",
        "removeDuplicates(nums)"
      ],
      "execution_count": 22,
      "outputs": [
        {
          "output_type": "stream",
          "text": [
            "[0, 1, 2, 3]\n"
          ],
          "name": "stdout"
        },
        {
          "output_type": "execute_result",
          "data": {
            "text/plain": [
              "(5, [0, 1, 2, 3, 4])"
            ]
          },
          "metadata": {
            "tags": []
          },
          "execution_count": 22
        }
      ]
    },
    {
      "cell_type": "markdown",
      "metadata": {
        "id": "uwKt4buB7Ywi"
      },
      "source": [
        "#### Search Insert Position"
      ]
    },
    {
      "cell_type": "code",
      "metadata": {
        "id": "SbUtGFN-4Uj1"
      },
      "source": [
        "def searchInsert(nums, target):\n",
        "    \"\"\"\n",
        "    :type nums: List[int]\n",
        "    :type target: int\n",
        "    :rtype: int\n",
        "    \"\"\"\n",
        "    if target in nums:\n",
        "      print(nums.index(target))\n",
        "      return nums.index(target)\n",
        "\n",
        "    else:\n",
        "      for i in range(len(nums)):\n",
        "        if target<nums[i]:\n",
        "          print(i)\n",
        "          return i\n",
        "      return len(nums)\n",
        "\n",
        "\n",
        "\n"
      ],
      "execution_count": 41,
      "outputs": []
    },
    {
      "cell_type": "code",
      "metadata": {
        "colab": {
          "base_uri": "https://localhost:8080/"
        },
        "id": "isjXgDRa7kTW",
        "outputId": "52c8b9a8-06a5-414a-bac2-696d3d423c66"
      },
      "source": [
        "nums = [1,3,5,6]\n",
        "target =0\n",
        "searchInsert(nums, target)"
      ],
      "execution_count": 42,
      "outputs": [
        {
          "output_type": "stream",
          "text": [
            "0\n"
          ],
          "name": "stdout"
        },
        {
          "output_type": "execute_result",
          "data": {
            "text/plain": [
              "0"
            ]
          },
          "metadata": {
            "tags": []
          },
          "execution_count": 42
        }
      ]
    },
    {
      "cell_type": "code",
      "metadata": {
        "colab": {
          "base_uri": "https://localhost:8080/"
        },
        "id": "sWHwjOlJ9Joq",
        "outputId": "c8f1de81-52ba-4e2b-f37c-172e475824ad"
      },
      "source": [
        "nums = [1,3,5,6]\n",
        "target =7\n",
        "searchInsert(nums, target)"
      ],
      "execution_count": 43,
      "outputs": [
        {
          "output_type": "execute_result",
          "data": {
            "text/plain": [
              "4"
            ]
          },
          "metadata": {
            "tags": []
          },
          "execution_count": 43
        }
      ]
    },
    {
      "cell_type": "code",
      "metadata": {
        "colab": {
          "base_uri": "https://localhost:8080/"
        },
        "id": "lRCGSo5m7lf8",
        "outputId": "ca25d591-4368-4f04-8c0f-3ed1c8e9995b"
      },
      "source": [
        "if target in nums:\n",
        "  print(nums.index(target))\n",
        "else:\n",
        "  for i in range(len(nums)):\n",
        "    if target<nums[i]:\n",
        "      print(i)\n",
        "      break"
      ],
      "execution_count": 34,
      "outputs": [
        {
          "output_type": "stream",
          "text": [
            "0\n"
          ],
          "name": "stdout"
        }
      ]
    },
    {
      "cell_type": "code",
      "metadata": {
        "id": "2vCtOFPF7lc5"
      },
      "source": [
        ""
      ],
      "execution_count": null,
      "outputs": []
    },
    {
      "cell_type": "code",
      "metadata": {
        "id": "6xozhwLE7lZ1"
      },
      "source": [
        ""
      ],
      "execution_count": null,
      "outputs": []
    },
    {
      "cell_type": "code",
      "metadata": {
        "id": "n7an2B9m7lW0"
      },
      "source": [
        ""
      ],
      "execution_count": null,
      "outputs": []
    },
    {
      "cell_type": "code",
      "metadata": {
        "id": "9TnozF6v7lUF"
      },
      "source": [
        ""
      ],
      "execution_count": null,
      "outputs": []
    }
  ]
}