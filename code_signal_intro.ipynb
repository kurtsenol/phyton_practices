{
  "nbformat": 4,
  "nbformat_minor": 0,
  "metadata": {
    "colab": {
      "name": "code_signal_intro.ipynb",
      "provenance": [],
      "collapsed_sections": [],
      "authorship_tag": "ABX9TyPJ9UUooZdot+uM1f4fWiNb",
      "include_colab_link": true
    },
    "kernelspec": {
      "name": "python3",
      "display_name": "Python 3"
    }
  },
  "cells": [
    {
      "cell_type": "markdown",
      "metadata": {
        "id": "view-in-github",
        "colab_type": "text"
      },
      "source": [
        "<a href=\"https://colab.research.google.com/github/kurtsenol/python_practices/blob/master/code_signal_intro.ipynb\" target=\"_parent\"><img src=\"https://colab.research.google.com/assets/colab-badge.svg\" alt=\"Open In Colab\"/></a>"
      ]
    },
    {
      "cell_type": "markdown",
      "metadata": {
        "id": "-sM1uC6bCLKt"
      },
      "source": [
        "# Practice"
      ]
    },
    {
      "cell_type": "markdown",
      "metadata": {
        "id": "tNsxZ95VB8IX"
      },
      "source": [
        "**1.** Given an array of integers, find the pair of adjacent elements that has the largest product and return that product.\r\n",
        "\r\n",
        "Example\r\n",
        "\r\n",
        "For inputArray = [3, 6, -2, -5, 7, 3], the output should be\r\n",
        "adjacentElementsProduct(inputArray) = 21.\r\n",
        "\r\n",
        "7 and 3 produce the largest product.\r\n"
      ]
    },
    {
      "cell_type": "code",
      "metadata": {
        "id": "AGKihZMEB7In"
      },
      "source": [
        "def adjacentElementsProduct(inputArray):\r\n",
        "  l = []  \r\n",
        "  for i in range(len(inputArray)-1):\r\n",
        "    l.append(inputArray[i]*inputArray[i+1])\r\n",
        "  return max(l)"
      ],
      "execution_count": null,
      "outputs": []
    },
    {
      "cell_type": "code",
      "metadata": {
        "id": "u0PWpPoNB7LZ"
      },
      "source": [
        "inputArray = [3, 6, -2, -5, 7, 3]"
      ],
      "execution_count": null,
      "outputs": []
    },
    {
      "cell_type": "code",
      "metadata": {
        "colab": {
          "base_uri": "https://localhost:8080/"
        },
        "id": "44FhWfFlFcbH",
        "outputId": "7854fb2e-695a-479e-bac1-205cff17f231"
      },
      "source": [
        "%timeit adjacentElementsProduct(inputArray)"
      ],
      "execution_count": null,
      "outputs": [
        {
          "output_type": "stream",
          "text": [
            "The slowest run took 6.48 times longer than the fastest. This could mean that an intermediate result is being cached.\n",
            "1000000 loops, best of 3: 1.15 µs per loop\n"
          ],
          "name": "stdout"
        }
      ]
    },
    {
      "cell_type": "code",
      "metadata": {
        "id": "DOPoIv6TB7OH"
      },
      "source": [
        "def adjacentElementsProduct(inputArray):\r\n",
        "    return max([inputArray[i] * inputArray[i+1] for i in range(len(inputArray)-1)])"
      ],
      "execution_count": null,
      "outputs": []
    },
    {
      "cell_type": "code",
      "metadata": {
        "colab": {
          "base_uri": "https://localhost:8080/"
        },
        "id": "IV-W3oSZEYHq",
        "outputId": "9d0dd2a4-4d4a-45fa-8d22-276ab463d975"
      },
      "source": [
        "%timeit adjacentElementsProduct(inputArray)"
      ],
      "execution_count": null,
      "outputs": [
        {
          "output_type": "stream",
          "text": [
            "The slowest run took 6.30 times longer than the fastest. This could mean that an intermediate result is being cached.\n",
            "1000000 loops, best of 3: 1.19 µs per loop\n"
          ],
          "name": "stdout"
        }
      ]
    },
    {
      "cell_type": "markdown",
      "metadata": {
        "id": "f1hZ7DKHKP4N"
      },
      "source": [
        "**2.** Below we will define an n-interesting polygon. Your task is to find the area of a polygon for a given n.\r\n",
        "\r\n",
        "A 1-interesting polygon is just a square with a side of length 1. An n-interesting polygon is obtained by taking the n - 1-interesting polygon and appending 1-interesting polygons to its rim, side by side. You can see the 1-, 2-, 3- and 4-interesting polygons in the picture below.\r\n",
        "\r\n",
        "Example\r\n",
        "\r\n",
        "For n = 2, the output should be\r\n",
        "shapeArea(n) = 5;\r\n",
        "For n = 3, the output should be\r\n",
        "shapeArea(n) = 13."
      ]
    },
    {
      "cell_type": "code",
      "metadata": {
        "id": "JqrFEKJqEYEu"
      },
      "source": [
        "def shapeArea(n):\r\n",
        "  if n==1:\r\n",
        "    return 1\r\n",
        "  return sum([4*n for n in range(1,n)])+1\r\n"
      ],
      "execution_count": null,
      "outputs": []
    },
    {
      "cell_type": "code",
      "metadata": {
        "colab": {
          "base_uri": "https://localhost:8080/"
        },
        "id": "RqcMejvSEYCL",
        "outputId": "f7d36d48-75e2-4221-874a-8c17354909ec"
      },
      "source": [
        "%timeit shapeArea(10)"
      ],
      "execution_count": null,
      "outputs": [
        {
          "output_type": "stream",
          "text": [
            "The slowest run took 4.35 times longer than the fastest. This could mean that an intermediate result is being cached.\n",
            "1000000 loops, best of 3: 974 ns per loop\n"
          ],
          "name": "stdout"
        }
      ]
    },
    {
      "cell_type": "code",
      "metadata": {
        "id": "L2I03EMsEX_L"
      },
      "source": [
        "def shapeArea(n):\r\n",
        "    return n**2 + (n-1)**2"
      ],
      "execution_count": null,
      "outputs": []
    },
    {
      "cell_type": "code",
      "metadata": {
        "colab": {
          "base_uri": "https://localhost:8080/"
        },
        "id": "dTFad31MPjln",
        "outputId": "1d1bc653-ab49-4d6d-8f17-a656a985c39d"
      },
      "source": [
        "%timeit shapeArea(10)"
      ],
      "execution_count": null,
      "outputs": [
        {
          "output_type": "stream",
          "text": [
            "The slowest run took 4.05 times longer than the fastest. This could mean that an intermediate result is being cached.\n",
            "1000000 loops, best of 3: 534 ns per loop\n"
          ],
          "name": "stdout"
        }
      ]
    },
    {
      "cell_type": "markdown",
      "metadata": {
        "id": "dfXJTkE6B7eT"
      },
      "source": [
        "**3.** Ratiorg got statues of different sizes as a present from CodeMaster for his birthday, each statue having an non-negative integer size. Since he likes to make things perfect, he wants to arrange them from smallest to largest so that each statue will be bigger than the previous one exactly by 1. He may need some additional statues to be able to accomplish that. Help him figure out the minimum number of additional statues needed.\r\n",
        "\r\n",
        "Example\r\n",
        "\r\n",
        "For statues = [6, 2, 3, 8], the output should be\r\n",
        "makeArrayConsecutive2(statues) = 3.\r\n",
        "\r\n",
        "Ratiorg needs statues of sizes 4, 5 and 7.\r\n",
        "\r\n",
        "The minimal number of statues that need to be added to existing statues such that it contains every integer size from an interval [L, R] (for some L, R) and no other sizes."
      ]
    },
    {
      "cell_type": "code",
      "metadata": {
        "id": "ZToE9aIFP99_"
      },
      "source": [
        "def makeArrayConsecutive2(statues):\r\n",
        "  desired= list(range(min(statues), max(statues)+1))\r\n",
        "  return len(desired) - len(statues)\r\n"
      ],
      "execution_count": null,
      "outputs": []
    },
    {
      "cell_type": "code",
      "metadata": {
        "id": "iG5uQZxtP97P"
      },
      "source": [
        "statues = [6, 2, 3, 8]"
      ],
      "execution_count": null,
      "outputs": []
    },
    {
      "cell_type": "code",
      "metadata": {
        "colab": {
          "base_uri": "https://localhost:8080/"
        },
        "id": "R_ExE_tuP94d",
        "outputId": "e93c2d08-1ff5-4a37-8eec-554052a68c4e"
      },
      "source": [
        "makeArrayConsecutive2(statues)"
      ],
      "execution_count": null,
      "outputs": [
        {
          "output_type": "execute_result",
          "data": {
            "text/plain": [
              "3"
            ]
          },
          "metadata": {
            "tags": []
          },
          "execution_count": 45
        }
      ]
    },
    {
      "cell_type": "markdown",
      "metadata": {
        "id": "NF2Fc_73SDnr"
      },
      "source": [
        "**4.** Given a sequence of integers as an array, determine whether it is possible to obtain a strictly increasing sequence by removing no more than one element from the array.\r\n",
        "\r\n",
        "Note: sequence a0, a1, ..., an is considered to be a strictly increasing if a0 < a1 < ... < an. Sequence containing only one element is also considered to be strictly increasing.\r\n",
        "\r\n",
        "Example\r\n",
        "\r\n",
        "For sequence = [1, 3, 2, 1], the output should be\r\n",
        "almostIncreasingSequence(sequence) = false.\r\n",
        "\r\n",
        "There is no one element in this array that can be removed in order to get a strictly increasing sequence.\r\n",
        "\r\n",
        "For sequence = [1, 3, 2], the output should be\r\n",
        "almostIncreasingSequence(sequence) = true.\r\n",
        "\r\n",
        "You can remove 3 from the array to get the strictly increasing sequence [1, 2]. Alternately, you can remove 2 to get the strictly increasing sequence [1, 3]."
      ]
    },
    {
      "cell_type": "code",
      "metadata": {
        "id": "4XPI_TMgP91p"
      },
      "source": [
        "def almostIncreasingSequence(sequence):\r\n",
        "    \r\n",
        "    ind = [i for i in range(len(sequence)-1) if sequence[i]>=sequence[i+1]]\r\n",
        "\r\n",
        "    if len(ind)==0:\r\n",
        "      return True\r\n",
        "    elif len(ind)==1:\r\n",
        "        seq = sequence.copy()\r\n",
        "        del seq[ind[0]]\r\n",
        "        if sorted(list(set(seq)))==seq:\r\n",
        "          return True\r\n",
        "        seq = sequence.copy()\r\n",
        "        del seq[ind[0]+1]\r\n",
        "        if sorted(list(set(seq)))==seq:\r\n",
        "          return True\r\n",
        "        else: \r\n",
        "          return False\r\n",
        "    else:\r\n",
        "        return False"
      ],
      "execution_count": null,
      "outputs": []
    },
    {
      "cell_type": "code",
      "metadata": {
        "id": "klKGx6GRP9y-"
      },
      "source": [
        "sequence = [1, 2, 3, 4, 3, 6]"
      ],
      "execution_count": null,
      "outputs": []
    },
    {
      "cell_type": "code",
      "metadata": {
        "id": "wLbddWe8P9wK",
        "colab": {
          "base_uri": "https://localhost:8080/"
        },
        "outputId": "45ee9e96-5f56-46ef-8f35-d846b3bc798a"
      },
      "source": [
        "almostIncreasingSequence(sequence)"
      ],
      "execution_count": null,
      "outputs": [
        {
          "output_type": "execute_result",
          "data": {
            "text/plain": [
              "True"
            ]
          },
          "metadata": {
            "tags": []
          },
          "execution_count": 3
        }
      ]
    },
    {
      "cell_type": "markdown",
      "metadata": {
        "id": "7-lP7yOCdSOJ"
      },
      "source": [
        "**5.** After becoming famous, the CodeBots decided to move into a new building together. Each of the rooms has a different cost, and some of them are free, but there's a rumour that all the free rooms are haunted! Since the CodeBots are quite superstitious, they refuse to stay in any of the free rooms, or any of the rooms below any of the free rooms.\r\n",
        "\r\n",
        "Given matrix, a rectangular matrix of integers, where each value represents the cost of the room, your task is to return the total sum of all rooms that are suitable for the CodeBots (ie: add up all the values that don't appear below a 0).\r\n",
        "\r\n",
        "Example\r\n",
        "\r\n",
        "For\r\n",
        "\r\n",
        "matrix = [[0, 1, 1, 2], \r\n",
        "          [0, 5, 0, 0], \r\n",
        "          [2, 0, 3, 3]]\r\n",
        "the output should be\r\n",
        "matrixElementsSum(matrix) = 9."
      ]
    },
    {
      "cell_type": "code",
      "metadata": {
        "id": "UeyxOWJEdTmI"
      },
      "source": [
        "def matrixElementsSum(matrix):\r\n",
        "    tot=0\r\n",
        "    f=[]  \r\n",
        "    for i in range(len(matrix)):\r\n",
        "      for index, j in enumerate(matrix[i]):\r\n",
        "        if index not in f:\r\n",
        "          if j==0: f.append(index)\r\n",
        "          tot += j \r\n",
        "    return tot"
      ],
      "execution_count": null,
      "outputs": []
    },
    {
      "cell_type": "code",
      "metadata": {
        "id": "CrgHais5dUO-"
      },
      "source": [
        "matrix = [[0, 1, 1, 2], \r\n",
        "          [0, 5, 0, 0], \r\n",
        "          [2, 0, 3, 3]]"
      ],
      "execution_count": null,
      "outputs": []
    },
    {
      "cell_type": "code",
      "metadata": {
        "colab": {
          "base_uri": "https://localhost:8080/"
        },
        "id": "EXvEJ_3ndULu",
        "outputId": "4fd9fc0b-9f9e-497c-cb31-2d59f2b03ade"
      },
      "source": [
        "matrixElementsSum(matrix)"
      ],
      "execution_count": null,
      "outputs": [
        {
          "output_type": "execute_result",
          "data": {
            "text/plain": [
              "9"
            ]
          },
          "metadata": {
            "tags": []
          },
          "execution_count": 10
        }
      ]
    },
    {
      "cell_type": "code",
      "metadata": {
        "id": "B4NiYkOTdUIx"
      },
      "source": [
        "matrix = [[1, 1, 1, 0], \r\n",
        "          [0, 5, 0, 1], \r\n",
        "          [2, 1, 3, 10]]"
      ],
      "execution_count": null,
      "outputs": []
    },
    {
      "cell_type": "code",
      "metadata": {
        "colab": {
          "base_uri": "https://localhost:8080/"
        },
        "id": "PuNk8i0odUFt",
        "outputId": "dd39a996-fd14-4b58-ffe0-4a9267556994"
      },
      "source": [
        "matrixElementsSum(matrix)"
      ],
      "execution_count": null,
      "outputs": [
        {
          "output_type": "execute_result",
          "data": {
            "text/plain": [
              "9"
            ]
          },
          "metadata": {
            "tags": []
          },
          "execution_count": 12
        }
      ]
    },
    {
      "cell_type": "markdown",
      "metadata": {
        "id": "62GR_JKwhPu5"
      },
      "source": [
        "**6.** Given an array of strings, return another array containing all of its longest strings.\r\n",
        "\r\n",
        "Example\r\n",
        "\r\n",
        "For inputArray = [\"aba\", \"aa\", \"ad\", \"vcd\", \"aba\"], the output should be\r\n",
        "allLongestStrings(inputArray) = [\"aba\", \"vcd\", \"aba\"]."
      ]
    },
    {
      "cell_type": "code",
      "metadata": {
        "id": "j4asSaZRdUCf"
      },
      "source": [
        "def allLongestStrings(inputArray):\r\n",
        "    max_len = max([len(i) for i in inputArray])\r\n",
        "    return [s for s in inputArray if len(s)==max_len]\r\n",
        "\r\n"
      ],
      "execution_count": null,
      "outputs": []
    },
    {
      "cell_type": "code",
      "metadata": {
        "colab": {
          "base_uri": "https://localhost:8080/"
        },
        "id": "SWDusrZshQXC",
        "outputId": "670d5a53-5214-4001-9c1f-52e3b1982eb2"
      },
      "source": [
        "allLongestStrings(inputArray)"
      ],
      "execution_count": null,
      "outputs": [
        {
          "output_type": "execute_result",
          "data": {
            "text/plain": [
              "['aba', 'vcd', 'aba']"
            ]
          },
          "metadata": {
            "tags": []
          },
          "execution_count": 18
        }
      ]
    },
    {
      "cell_type": "markdown",
      "metadata": {
        "id": "PtDwhSe2iZ8s"
      },
      "source": [
        "**7.** Given two strings, find the number of common characters between them.\r\n",
        "\r\n",
        "Example\r\n",
        "\r\n",
        "For s1 = \"aabcc\" and s2 = \"adcaa\", the output should be\r\n",
        "commonCharacterCount(s1, s2) = 3."
      ]
    },
    {
      "cell_type": "code",
      "metadata": {
        "id": "fo2796m4ia-Y"
      },
      "source": [
        "def commonCharacterCount(s1, s2):\r\n",
        "  from collections import Counter\r\n",
        "  tot=0\r\n",
        "  d1 = Counter(list(s1))\r\n",
        "  d2 = Counter(list(s2))\r\n",
        "  for key, value in d1.items():\r\n",
        "    if key in d2:\r\n",
        "      tot += min(d1[key], d2[key])\r\n",
        "  return tot\r\n",
        "\r\n"
      ],
      "execution_count": null,
      "outputs": []
    },
    {
      "cell_type": "code",
      "metadata": {
        "id": "H-7-TYJVia66"
      },
      "source": [
        "s1 = \"aabcc\"\r\n",
        "s2 = \"adcaa\""
      ],
      "execution_count": null,
      "outputs": []
    },
    {
      "cell_type": "code",
      "metadata": {
        "colab": {
          "base_uri": "https://localhost:8080/"
        },
        "id": "A-6Vi11sia3V",
        "outputId": "9bd5d3e9-fd20-42b5-9fe9-bbd27ff9063a"
      },
      "source": [
        "commonCharacterCount(s1, s2)"
      ],
      "execution_count": null,
      "outputs": [
        {
          "output_type": "execute_result",
          "data": {
            "text/plain": [
              "3"
            ]
          },
          "metadata": {
            "tags": []
          },
          "execution_count": 41
        }
      ]
    },
    {
      "cell_type": "markdown",
      "metadata": {
        "id": "bniC6eWDlep6"
      },
      "source": [
        "**8.** Ticket numbers usually consist of an even number of digits. A ticket number is considered lucky if the sum of the first half of the digits is equal to the sum of the second half.\r\n",
        "\r\n",
        "Given a ticket number n, determine if it's lucky or not.\r\n",
        "\r\n",
        "Example\r\n",
        "\r\n",
        "For n = 1230, the output should be\r\n",
        "isLucky(n) = true;\r\n",
        "For n = 239017, the output should be\r\n",
        "isLucky(n) = false."
      ]
    },
    {
      "cell_type": "code",
      "metadata": {
        "id": "7Leqn1WRiaV9"
      },
      "source": [
        "def isLucky(n):\r\n",
        "  l = list(str(n))\r\n",
        "  half = int(len(l)/2)\r\n",
        "  fh = l[:half]\r\n",
        "  sh = l[half:]\r\n",
        "  f= [int(e) for e in fh]\r\n",
        "  s= [int(e) for e in sh]\r\n",
        "  return sum(f)==sum(s)"
      ],
      "execution_count": null,
      "outputs": []
    },
    {
      "cell_type": "code",
      "metadata": {
        "id": "6u7CJBCzhQLa"
      },
      "source": [
        "n = 1230"
      ],
      "execution_count": null,
      "outputs": []
    },
    {
      "cell_type": "code",
      "metadata": {
        "colab": {
          "base_uri": "https://localhost:8080/"
        },
        "id": "ekwP5jMbjX4d",
        "outputId": "18fbea48-bd89-443b-c0a2-1ea39f95ee10"
      },
      "source": [
        "isLucky(n)"
      ],
      "execution_count": null,
      "outputs": [
        {
          "output_type": "execute_result",
          "data": {
            "text/plain": [
              "True"
            ]
          },
          "metadata": {
            "tags": []
          },
          "execution_count": 66
        }
      ]
    },
    {
      "cell_type": "markdown",
      "metadata": {
        "id": "TzPLRxrej8kR"
      },
      "source": [
        "**9.** **reverseInParentheses**"
      ]
    },
    {
      "cell_type": "code",
      "metadata": {
        "id": "m1_GJB-HmYBl"
      },
      "source": [
        "def sortByHeight(a):\r\n",
        "  indexes = [index for index,el in enumerate(a) if el==-1]\r\n",
        "  sorted_list = sorted([s for s in a if s!=-1])\r\n",
        "  for x in indexes:\r\n",
        "    sorted_list.insert(x,-1) \r\n",
        "  return sorted_list\r\n"
      ],
      "execution_count": null,
      "outputs": []
    },
    {
      "cell_type": "code",
      "metadata": {
        "id": "Mxwf0t0ing0J"
      },
      "source": [
        "a = [-1, 150, 190, 170, -1, -1, 160, 180]"
      ],
      "execution_count": null,
      "outputs": []
    },
    {
      "cell_type": "code",
      "metadata": {
        "colab": {
          "base_uri": "https://localhost:8080/"
        },
        "id": "p1Ek57y3o9U8",
        "outputId": "a61f33c7-185a-4160-e235-4224dea6bd43"
      },
      "source": [
        "sortByHeight(a)"
      ],
      "execution_count": null,
      "outputs": [
        {
          "output_type": "execute_result",
          "data": {
            "text/plain": [
              "[-1, 150, 160, 170, -1, -1, 180, 190]"
            ]
          },
          "metadata": {
            "tags": []
          },
          "execution_count": 16
        }
      ]
    },
    {
      "cell_type": "markdown",
      "metadata": {
        "id": "8UjZhhcHp7Nb"
      },
      "source": [
        "**10.**"
      ]
    },
    {
      "cell_type": "code",
      "metadata": {
        "id": "2oIOpl8C9rEo"
      },
      "source": [
        "def reverseInParentheses(inputString):\r\n",
        "  import re\r\n",
        "  \r\n",
        "  para =re.findall(r\"\\(\\w+\\)\", inputString)\r\n",
        "  para = para[0] if para else None\r\n",
        "  while para :\r\n",
        "      inputString = inputString.replace(para, para.strip(\"()\")[::-1])\r\n",
        "      para =re.findall(r\"\\(\\w+\\)\", inputString)\r\n",
        "      para = para[0] if para else None\r\n",
        "  return inputString.strip(\"()\")"
      ],
      "execution_count": null,
      "outputs": []
    },
    {
      "cell_type": "code",
      "metadata": {
        "id": "qp1sF0Ce6pmf"
      },
      "source": [
        "inputString = \"foo(bar)baz\""
      ],
      "execution_count": null,
      "outputs": []
    },
    {
      "cell_type": "code",
      "metadata": {
        "colab": {
          "base_uri": "https://localhost:8080/",
          "height": 35
        },
        "id": "UpmLD3ia6HNL",
        "outputId": "9f2775ca-3d12-4912-a6c5-94cda84f9ad1"
      },
      "source": [
        "reverseInParentheses(inputString)"
      ],
      "execution_count": null,
      "outputs": [
        {
          "output_type": "execute_result",
          "data": {
            "application/vnd.google.colaboratory.intrinsic+json": {
              "type": "string"
            },
            "text/plain": [
              "'foorabbaz'"
            ]
          },
          "metadata": {
            "tags": []
          },
          "execution_count": 78
        }
      ]
    },
    {
      "cell_type": "code",
      "metadata": {
        "id": "MzBzcC7J07lr"
      },
      "source": [
        "inputString_1= \"foo(bar(baz))blim\""
      ],
      "execution_count": null,
      "outputs": []
    },
    {
      "cell_type": "code",
      "metadata": {
        "colab": {
          "base_uri": "https://localhost:8080/",
          "height": 35
        },
        "id": "WSjZgo-56wqK",
        "outputId": "724f591d-1b24-4793-f970-1b2d6e432ca2"
      },
      "source": [
        "reverseInParentheses(inputString_1)"
      ],
      "execution_count": null,
      "outputs": [
        {
          "output_type": "execute_result",
          "data": {
            "application/vnd.google.colaboratory.intrinsic+json": {
              "type": "string"
            },
            "text/plain": [
              "'foobazrabblim'"
            ]
          },
          "metadata": {
            "tags": []
          },
          "execution_count": 80
        }
      ]
    },
    {
      "cell_type": "code",
      "metadata": {
        "id": "2n2vrtqa7GdD"
      },
      "source": [
        "inputString_2= \"foorabbaz\""
      ],
      "execution_count": null,
      "outputs": []
    },
    {
      "cell_type": "code",
      "metadata": {
        "id": "KKTFJi_frQhF",
        "colab": {
          "base_uri": "https://localhost:8080/",
          "height": 35
        },
        "outputId": "2af319d4-5e4e-41a4-95ae-46f347b74281"
      },
      "source": [
        "reverseInParentheses(inputString_2)"
      ],
      "execution_count": null,
      "outputs": [
        {
          "output_type": "execute_result",
          "data": {
            "application/vnd.google.colaboratory.intrinsic+json": {
              "type": "string"
            },
            "text/plain": [
              "'foorabbaz'"
            ]
          },
          "metadata": {
            "tags": []
          },
          "execution_count": 82
        }
      ]
    },
    {
      "cell_type": "code",
      "metadata": {
        "id": "2tn2iX7p9Nhk"
      },
      "source": [
        "inputString_3 =\"(skeeg(for)skeeg)\""
      ],
      "execution_count": null,
      "outputs": []
    },
    {
      "cell_type": "code",
      "metadata": {
        "id": "hxTwOMydrQeK",
        "colab": {
          "base_uri": "https://localhost:8080/",
          "height": 35
        },
        "outputId": "42499192-cad8-4366-bc81-712457649555"
      },
      "source": [
        "reverseInParentheses(inputString_3)"
      ],
      "execution_count": null,
      "outputs": [
        {
          "output_type": "execute_result",
          "data": {
            "application/vnd.google.colaboratory.intrinsic+json": {
              "type": "string"
            },
            "text/plain": [
              "'geeksforgeeks'"
            ]
          },
          "metadata": {
            "tags": []
          },
          "execution_count": 84
        }
      ]
    },
    {
      "cell_type": "code",
      "metadata": {
        "id": "_RyXaFAErQbE"
      },
      "source": [
        "def reverseInParentheses(s):\r\n",
        "    for i in range(len(s)):\r\n",
        "        if s[i] == \"(\":\r\n",
        "            start = i\r\n",
        "            print(\"start \", start)\r\n",
        "        if s[i] == \")\":\r\n",
        "            end = i\r\n",
        "            print(\"end \", end)\r\n",
        "            return reverseInParentheses(s[:start] + s[start+1:end][::-1] + s[end+1:])\r\n",
        "    return s"
      ],
      "execution_count": null,
      "outputs": []
    },
    {
      "cell_type": "code",
      "metadata": {
        "colab": {
          "base_uri": "https://localhost:8080/",
          "height": 119
        },
        "id": "08DUurj9_lB-",
        "outputId": "59bd8897-cef8-438d-eba4-658840eac91a"
      },
      "source": [
        "reverseInParentheses(inputString_3)"
      ],
      "execution_count": null,
      "outputs": [
        {
          "output_type": "stream",
          "text": [
            "start  0\n",
            "start  6\n",
            "end  10\n",
            "start  0\n",
            "end  14\n"
          ],
          "name": "stdout"
        },
        {
          "output_type": "execute_result",
          "data": {
            "application/vnd.google.colaboratory.intrinsic+json": {
              "type": "string"
            },
            "text/plain": [
              "'geeksforgeeks'"
            ]
          },
          "metadata": {
            "tags": []
          },
          "execution_count": 87
        }
      ]
    },
    {
      "cell_type": "code",
      "metadata": {
        "colab": {
          "base_uri": "https://localhost:8080/",
          "height": 119
        },
        "id": "cmD44k7R_k-z",
        "outputId": "547e51aa-51cc-47f2-cca1-097112a8f035"
      },
      "source": [
        "reverseInParentheses(inputString_1)\r\n"
      ],
      "execution_count": null,
      "outputs": [
        {
          "output_type": "stream",
          "text": [
            "start  3\n",
            "start  7\n",
            "end  11\n",
            "start  3\n",
            "end  10\n"
          ],
          "name": "stdout"
        },
        {
          "output_type": "execute_result",
          "data": {
            "application/vnd.google.colaboratory.intrinsic+json": {
              "type": "string"
            },
            "text/plain": [
              "'foobazrabblim'"
            ]
          },
          "metadata": {
            "tags": []
          },
          "execution_count": 88
        }
      ]
    },
    {
      "cell_type": "markdown",
      "metadata": {
        "id": "LxCEIc_zCZ7t"
      },
      "source": [
        "**11. Add Border**\r\n"
      ]
    },
    {
      "cell_type": "code",
      "metadata": {
        "id": "oGMx2Gs7_k77"
      },
      "source": [
        "picture = [\"abc\",\r\n",
        "           \"ded\"]"
      ],
      "execution_count": null,
      "outputs": []
    },
    {
      "cell_type": "code",
      "metadata": {
        "id": "Gz6tgeNcCyPs"
      },
      "source": [
        "def addBorder(picture):\r\n",
        "  res=[]\r\n",
        "  for i in picture:\r\n",
        "    res.append(\"*\"+i+\"*\")\r\n",
        "  len_s = len(picture[0])\r\n",
        "  len_l = len(picture)\r\n",
        "  res.insert(0, \"*\"*(len_s+2))\r\n",
        "  res.append(\"*\"*(len_s+2))\r\n",
        "\r\n",
        "  return res\r\n"
      ],
      "execution_count": null,
      "outputs": []
    },
    {
      "cell_type": "code",
      "metadata": {
        "colab": {
          "base_uri": "https://localhost:8080/"
        },
        "id": "DmnHSxVBEjOP",
        "outputId": "2617dc04-db49-4f4b-c353-44a52d183631"
      },
      "source": [
        "addBorder(picture)"
      ],
      "execution_count": null,
      "outputs": [
        {
          "output_type": "execute_result",
          "data": {
            "text/plain": [
              "['*****', '*abc*', '*ded*', '*****']"
            ]
          },
          "metadata": {
            "tags": []
          },
          "execution_count": 110
        }
      ]
    },
    {
      "cell_type": "code",
      "metadata": {
        "id": "qsJvPO1XEMr3"
      },
      "source": [
        "for i in picture:\r\n",
        "  i = \"*\"+i+\"*\""
      ],
      "execution_count": null,
      "outputs": []
    },
    {
      "cell_type": "code",
      "metadata": {
        "colab": {
          "base_uri": "https://localhost:8080/"
        },
        "id": "kjRYWGbRDRYg",
        "outputId": "3ed42752-49fb-4a76-cbb2-ab407be8d5e5"
      },
      "source": [
        "len_s = len(picture[0])\r\n",
        "len_s"
      ],
      "execution_count": null,
      "outputs": [
        {
          "output_type": "execute_result",
          "data": {
            "text/plain": [
              "3"
            ]
          },
          "metadata": {
            "tags": []
          },
          "execution_count": 92
        }
      ]
    },
    {
      "cell_type": "code",
      "metadata": {
        "colab": {
          "base_uri": "https://localhost:8080/"
        },
        "id": "1uEYuHZpDdjf",
        "outputId": "803d637c-6a81-4576-a8b2-8ad65f9551bc"
      },
      "source": [
        "len_l = len(picture)\r\n",
        "len_l"
      ],
      "execution_count": null,
      "outputs": [
        {
          "output_type": "execute_result",
          "data": {
            "text/plain": [
              "2"
            ]
          },
          "metadata": {
            "tags": []
          },
          "execution_count": 93
        }
      ]
    },
    {
      "cell_type": "code",
      "metadata": {
        "id": "P2un2HMlDira"
      },
      "source": [
        "picture.insert(0, \"*\"*(len_s+2))"
      ],
      "execution_count": null,
      "outputs": []
    },
    {
      "cell_type": "code",
      "metadata": {
        "id": "U6ECRVV9Dv-H"
      },
      "source": [
        "picture.append(\"*\"*(len_s+2))"
      ],
      "execution_count": null,
      "outputs": []
    },
    {
      "cell_type": "code",
      "metadata": {
        "colab": {
          "base_uri": "https://localhost:8080/"
        },
        "id": "a-IuijDiD2p-",
        "outputId": "72fc4908-691e-42d1-bab3-cde70906ab65"
      },
      "source": [
        "picture"
      ],
      "execution_count": null,
      "outputs": [
        {
          "output_type": "execute_result",
          "data": {
            "text/plain": [
              "['*****', 'abc', 'ded', '*****']"
            ]
          },
          "metadata": {
            "tags": []
          },
          "execution_count": 100
        }
      ]
    },
    {
      "cell_type": "markdown",
      "metadata": {
        "id": "yTMueViuIc-B"
      },
      "source": [
        "**12. Are Similar?**\r\n"
      ]
    },
    {
      "cell_type": "code",
      "metadata": {
        "id": "jBSza9yAD-xO"
      },
      "source": [
        "def areSimilar(a, b):\r\n",
        "  if a==b:\r\n",
        "    return True\r\n",
        "  dissimilar_chars = [ind for ind, el in enumerate(a) if  el!=b[ind]]\r\n",
        "  if len(dissimilar_chars)==2:\r\n",
        "    if b[dissimilar_chars[0]]==a[dissimilar_chars[1]] and b[dissimilar_chars[1]]==a[dissimilar_chars[0]]:\r\n",
        "      return True\r\n",
        "  return False "
      ],
      "execution_count": null,
      "outputs": []
    },
    {
      "cell_type": "code",
      "metadata": {
        "id": "oJt8S29CMWTp"
      },
      "source": [
        "def areSimilar(A, B):\r\n",
        "    return sorted(A)==sorted(B) and sum([a!=b for a,b in zip(A,B)])<=2"
      ],
      "execution_count": null,
      "outputs": []
    },
    {
      "cell_type": "code",
      "metadata": {
        "colab": {
          "base_uri": "https://localhost:8080/"
        },
        "id": "420e8rmPLkEq",
        "outputId": "1a0ead05-6440-4420-bf22-75cabe6afebb"
      },
      "source": [
        "areSimilar(a, b)"
      ],
      "execution_count": null,
      "outputs": [
        {
          "output_type": "execute_result",
          "data": {
            "text/plain": [
              "True"
            ]
          },
          "metadata": {
            "tags": []
          },
          "execution_count": 21
        }
      ]
    },
    {
      "cell_type": "code",
      "metadata": {
        "id": "DhwMqzt3I7CZ"
      },
      "source": [
        "a = [1, 2, 3]\r\n",
        "b = [2, 1, 3]\r\n",
        "c = [1,2,3]"
      ],
      "execution_count": null,
      "outputs": []
    },
    {
      "cell_type": "code",
      "metadata": {
        "colab": {
          "base_uri": "https://localhost:8080/"
        },
        "id": "l0H2SzN9I6_H",
        "outputId": "6cd713a4-0da3-4080-b262-d4f069f5c7b0"
      },
      "source": [
        "areSimilar(a, b)"
      ],
      "execution_count": null,
      "outputs": [
        {
          "output_type": "execute_result",
          "data": {
            "text/plain": [
              "True"
            ]
          },
          "metadata": {
            "tags": []
          },
          "execution_count": 23
        }
      ]
    },
    {
      "cell_type": "markdown",
      "metadata": {
        "id": "1EUo0eQqMdKj"
      },
      "source": [
        "**13. arrayChange**"
      ]
    },
    {
      "cell_type": "code",
      "metadata": {
        "id": "CQ12K8fRMdxQ"
      },
      "source": [
        "def arrayChange(inputArray):\r\n",
        "  order= inputArray[0] \r\n",
        "  s = 0\r\n",
        "  for i in range(1,len(inputArray)):\r\n",
        "    if inputArray[i]>order:\r\n",
        "      order = inputArray[i]\r\n",
        "    else:\r\n",
        "      order += 1\r\n",
        "      s +=order - inputArray[i] \r\n",
        "  return s"
      ],
      "execution_count": null,
      "outputs": []
    },
    {
      "cell_type": "code",
      "metadata": {
        "id": "MYynVmUDMh8v"
      },
      "source": [
        "inputArray = [1, 1, 1]"
      ],
      "execution_count": null,
      "outputs": []
    },
    {
      "cell_type": "code",
      "metadata": {
        "colab": {
          "base_uri": "https://localhost:8080/"
        },
        "id": "23TFyBLWl_XD",
        "outputId": "d8f7849e-f3f3-42ca-c6bc-2516c0f9535f"
      },
      "source": [
        "arrayChange(inputArray)"
      ],
      "execution_count": null,
      "outputs": [
        {
          "output_type": "execute_result",
          "data": {
            "text/plain": [
              "3"
            ]
          },
          "metadata": {
            "tags": []
          },
          "execution_count": 25
        }
      ]
    },
    {
      "cell_type": "code",
      "metadata": {
        "id": "0J90A3XCsJsB"
      },
      "source": [
        "inputArray= [-1000, 0, -2, 0]"
      ],
      "execution_count": null,
      "outputs": []
    },
    {
      "cell_type": "code",
      "metadata": {
        "colab": {
          "base_uri": "https://localhost:8080/"
        },
        "id": "WXr4QIDZsK7W",
        "outputId": "5020b8d4-6aca-4a47-e18e-d25eb60c74f9"
      },
      "source": [
        "arrayChange(inputArray)"
      ],
      "execution_count": null,
      "outputs": [
        {
          "output_type": "execute_result",
          "data": {
            "text/plain": [
              "5"
            ]
          },
          "metadata": {
            "tags": []
          },
          "execution_count": 27
        }
      ]
    },
    {
      "cell_type": "markdown",
      "metadata": {
        "id": "LN_EIeTltvMn"
      },
      "source": [
        "**14.  palindromeRearranging**"
      ]
    },
    {
      "cell_type": "code",
      "metadata": {
        "id": "AC4hU72Xtvi_"
      },
      "source": [
        "def palindromeRearranging(inputString):\r\n",
        "  from collections import Counter\r\n",
        "  a = Counter(inputString)\r\n",
        "  c = [k for k,v in a.items() if v%2!=0]\r\n",
        "  return False if len(c)>1 else True"
      ],
      "execution_count": null,
      "outputs": []
    },
    {
      "cell_type": "code",
      "metadata": {
        "id": "RqJyRldbtwIE"
      },
      "source": [
        "inputString =  \"aabbc\""
      ],
      "execution_count": null,
      "outputs": []
    },
    {
      "cell_type": "code",
      "metadata": {
        "colab": {
          "base_uri": "https://localhost:8080/"
        },
        "id": "pCfHU766twEQ",
        "outputId": "b1a28f0e-026c-4408-8596-e6db5657f1ab"
      },
      "source": [
        "palindromeRearranging(inputString)\r\n"
      ],
      "execution_count": null,
      "outputs": [
        {
          "output_type": "execute_result",
          "data": {
            "text/plain": [
              "True"
            ]
          },
          "metadata": {
            "tags": []
          },
          "execution_count": 43
        }
      ]
    },
    {
      "cell_type": "code",
      "metadata": {
        "id": "QQ4uy5evtwCG"
      },
      "source": [
        "inputString =  \"aabbcc\""
      ],
      "execution_count": null,
      "outputs": []
    },
    {
      "cell_type": "code",
      "metadata": {
        "colab": {
          "base_uri": "https://localhost:8080/"
        },
        "id": "6QvLkIoYtv-D",
        "outputId": "62c79bcf-94f0-467b-97ed-80d4b7c61abe"
      },
      "source": [
        "palindromeRearranging(inputString)\r\n"
      ],
      "execution_count": null,
      "outputs": [
        {
          "output_type": "execute_result",
          "data": {
            "text/plain": [
              "True"
            ]
          },
          "metadata": {
            "tags": []
          },
          "execution_count": 44
        }
      ]
    },
    {
      "cell_type": "code",
      "metadata": {
        "id": "_mhYEnoTtv7C"
      },
      "source": [
        "inputString =  \"aabbcw\""
      ],
      "execution_count": null,
      "outputs": []
    },
    {
      "cell_type": "code",
      "metadata": {
        "colab": {
          "base_uri": "https://localhost:8080/"
        },
        "id": "eB3q5thpuYuS",
        "outputId": "797694dd-85a7-41d1-e66d-ed15fa40365d"
      },
      "source": [
        "palindromeRearranging(inputString)"
      ],
      "execution_count": null,
      "outputs": [
        {
          "output_type": "execute_result",
          "data": {
            "text/plain": [
              "False"
            ]
          },
          "metadata": {
            "tags": []
          },
          "execution_count": 48
        }
      ]
    },
    {
      "cell_type": "markdown",
      "metadata": {
        "id": "gWex9wkCEgOA"
      },
      "source": [
        "**15. isIPv4Address**"
      ]
    },
    {
      "cell_type": "code",
      "metadata": {
        "id": "ZPzvxYDZEp9T"
      },
      "source": [
        "def isIPv4Address(inputString):\r\n",
        "  a =inputString.split(\".\")\r\n",
        "  leading_zero = [el[0]==\"0\" for el in a if len(el)>1]  \r\n",
        "  print(leading_zero)\r\n",
        "  if len(a)==4 and True not in leading_zero:\r\n",
        "    res = [0<=int(i)<=255 for i in a if i if i.isdigit()]\r\n",
        "    if False not in res and len(res)==4: return True\r\n",
        "  return False \r\n",
        "\r\n",
        "\r\n"
      ],
      "execution_count": null,
      "outputs": []
    },
    {
      "cell_type": "code",
      "metadata": {
        "id": "FtlOu2C1vKL6"
      },
      "source": [
        "inputString = \"172.16.254.1\""
      ],
      "execution_count": null,
      "outputs": []
    },
    {
      "cell_type": "code",
      "metadata": {
        "colab": {
          "base_uri": "https://localhost:8080/"
        },
        "id": "xrCBW9QpGWlU",
        "outputId": "e909757c-db5a-43d3-b9ed-883c5a3fd57a"
      },
      "source": [
        "isIPv4Address(inputString)"
      ],
      "execution_count": null,
      "outputs": [
        {
          "output_type": "stream",
          "text": [
            "[False, False, False]\n"
          ],
          "name": "stdout"
        },
        {
          "output_type": "execute_result",
          "data": {
            "text/plain": [
              "True"
            ]
          },
          "metadata": {
            "tags": []
          },
          "execution_count": 144
        }
      ]
    },
    {
      "cell_type": "code",
      "metadata": {
        "colab": {
          "base_uri": "https://localhost:8080/"
        },
        "id": "W0q5NmSzI8FM",
        "outputId": "774195a4-bdcd-4092-9bbd-24b3bb8fd344"
      },
      "source": [
        "inputString= \"01.233.161.131\"\r\n",
        "isIPv4Address(inputString)\r\n"
      ],
      "execution_count": null,
      "outputs": [
        {
          "output_type": "stream",
          "text": [
            "[True, False, False, False]\n"
          ],
          "name": "stdout"
        },
        {
          "output_type": "execute_result",
          "data": {
            "text/plain": [
              "False"
            ]
          },
          "metadata": {
            "tags": []
          },
          "execution_count": 145
        }
      ]
    },
    {
      "cell_type": "code",
      "metadata": {
        "colab": {
          "base_uri": "https://localhost:8080/"
        },
        "id": "Q-fZ75xDEti8",
        "outputId": "ee1b1360-2081-4c82-c5c3-842b1bd1c8a1"
      },
      "source": [
        "inputString = \"172.316.254.1\"\r\n",
        "isIPv4Address(inputString)"
      ],
      "execution_count": null,
      "outputs": [
        {
          "output_type": "stream",
          "text": [
            "[False, False, False]\n"
          ],
          "name": "stdout"
        },
        {
          "output_type": "execute_result",
          "data": {
            "text/plain": [
              "False"
            ]
          },
          "metadata": {
            "tags": []
          },
          "execution_count": 146
        }
      ]
    },
    {
      "cell_type": "code",
      "metadata": {
        "colab": {
          "base_uri": "https://localhost:8080/"
        },
        "id": "JZqaEkmLEwiS",
        "outputId": "18e8ad88-ba7d-46d3-fcfc-a14413c4a380"
      },
      "source": [
        "inputString = \".254.255.0\"\r\n",
        "isIPv4Address(inputString)"
      ],
      "execution_count": null,
      "outputs": [
        {
          "output_type": "execute_result",
          "data": {
            "text/plain": [
              "False"
            ]
          },
          "metadata": {
            "tags": []
          },
          "execution_count": 77
        }
      ]
    },
    {
      "cell_type": "markdown",
      "metadata": {
        "id": "QOrsw3S-mNi_"
      },
      "source": [
        "**16. avoidObstacles**"
      ]
    },
    {
      "cell_type": "code",
      "metadata": {
        "id": "S06pQAU1NeJz"
      },
      "source": [
        "def avoidObstacles(inputArray):\r\n",
        "  for i in range(2,max(inputArray)+1):\r\n",
        "    if all([el%i!=0  for el in inputArray]):\r\n",
        "      return i\r\n",
        "  return False\r\n"
      ],
      "execution_count": null,
      "outputs": []
    },
    {
      "cell_type": "code",
      "metadata": {
        "id": "61sG989eNeGH"
      },
      "source": [
        "inputArray = [5, 3, 6, 7, 9]"
      ],
      "execution_count": null,
      "outputs": []
    },
    {
      "cell_type": "code",
      "metadata": {
        "colab": {
          "base_uri": "https://localhost:8080/"
        },
        "id": "fa5fZDArovae",
        "outputId": "10f44210-98f4-40ed-8722-d6d4d39b91ba"
      },
      "source": [
        "avoidObstacles(inputArray)"
      ],
      "execution_count": null,
      "outputs": [
        {
          "output_type": "execute_result",
          "data": {
            "text/plain": [
              "4"
            ]
          },
          "metadata": {
            "tags": []
          },
          "execution_count": 191
        }
      ]
    },
    {
      "cell_type": "markdown",
      "metadata": {
        "id": "oo8-KkWB9jGz"
      },
      "source": [
        "**17. Box Blur**\r\n"
      ]
    },
    {
      "cell_type": "code",
      "metadata": {
        "id": "XLZEekzVBQu9"
      },
      "source": [
        "def boxBlur(image):\r\n",
        "  import numpy as np\r\n",
        "  import math\r\n",
        "  ol=[]\r\n",
        "  img= np.array(image)\r\n",
        "  for i in range(len(image)-2):\r\n",
        "    il=[]\r\n",
        "    for j in range(len(image[0])-2):\r\n",
        "      a = math.floor(np.sum(img[i:i+3, j:j+3])/9)\r\n",
        "      il.append(a)\r\n",
        "    ol.append(il)\r\n",
        "  return ol"
      ],
      "execution_count": null,
      "outputs": []
    },
    {
      "cell_type": "code",
      "metadata": {
        "id": "SxhiILfxvIvt"
      },
      "source": [
        "image = [[7, 4, 0, 1], \r\n",
        "         [5, 6, 2, 2], \r\n",
        "         [6, 10, 7, 8], \r\n",
        "         [1, 4, 2, 0]]"
      ],
      "execution_count": null,
      "outputs": []
    },
    {
      "cell_type": "code",
      "metadata": {
        "colab": {
          "base_uri": "https://localhost:8080/"
        },
        "id": "OMZYhSjtBSSt",
        "outputId": "2b89a17a-e8b5-4737-f89e-cbbf45b9bc9f"
      },
      "source": [
        "boxBlur(image)"
      ],
      "execution_count": null,
      "outputs": [
        {
          "output_type": "execute_result",
          "data": {
            "text/plain": [
              "[[5, 4], [4, 4]]"
            ]
          },
          "metadata": {
            "tags": []
          },
          "execution_count": 209
        }
      ]
    },
    {
      "cell_type": "code",
      "metadata": {
        "id": "kgBE2PbCGS9q"
      },
      "source": [
        "image= [[36,0,18,9],\r\n",
        "        [27,54,9,0], \r\n",
        "        [81,63,72,45]]"
      ],
      "execution_count": null,
      "outputs": []
    },
    {
      "cell_type": "code",
      "metadata": {
        "colab": {
          "base_uri": "https://localhost:8080/"
        },
        "id": "aDIWAmwjGX7J",
        "outputId": "7e18eb83-816c-4418-84ec-e4c030536666"
      },
      "source": [
        "boxBlur(image)"
      ],
      "execution_count": null,
      "outputs": [
        {
          "output_type": "execute_result",
          "data": {
            "text/plain": [
              "[[40, 30]]"
            ]
          },
          "metadata": {
            "tags": []
          },
          "execution_count": 211
        }
      ]
    },
    {
      "cell_type": "markdown",
      "metadata": {
        "id": "lBziZwzrFjOx"
      },
      "source": [
        "**18. Minesweeper**\r\n"
      ]
    },
    {
      "cell_type": "code",
      "metadata": {
        "id": "xZsLw_pLFi3R"
      },
      "source": [
        "def minesweeper(matrix):\r\n",
        "  import numpy as np\r\n",
        "  true=1\r\n",
        "  false=0\r\n",
        "  np_mat = np.array(matrix)\r\n",
        "  res = np.zeros((len(matrix), len(matrix[0])))\r\n",
        "  for i in range(len(matrix)):\r\n",
        "    for j in range(len(matrix[0])):\r\n",
        "      j_min = 0 if j== 0 else j-1\r\n",
        "      i_min = 0 if i == 0 else i-1\r\n",
        "      j_max= len(matrix[0])+1 if j==len(matrix[0]) else j+2\r\n",
        "      i_max= len(matrix)+1 if i==len(matrix) else i+2\r\n",
        "      res[i,j] = np.sum(np_mat[i_min:i_max, j_min:j_max])-np_mat[i,j] \r\n",
        "  return res.tolist()"
      ],
      "execution_count": null,
      "outputs": []
    },
    {
      "cell_type": "code",
      "metadata": {
        "id": "DkZGrYMKdRHK"
      },
      "source": [
        "true=1\r\n",
        "false=0"
      ],
      "execution_count": null,
      "outputs": []
    },
    {
      "cell_type": "code",
      "metadata": {
        "id": "ufOlo9DiFi0T"
      },
      "source": [
        "matrix = [[true, false, false],\r\n",
        "          [false, true, false],\r\n",
        "          [false, false, false]]"
      ],
      "execution_count": null,
      "outputs": []
    },
    {
      "cell_type": "code",
      "metadata": {
        "colab": {
          "base_uri": "https://localhost:8080/"
        },
        "id": "kKi5pw_0ZHjL",
        "outputId": "9be99e26-2f2f-48d4-cd93-aec89ed65b75"
      },
      "source": [
        "minesweeper(matrix)"
      ],
      "execution_count": null,
      "outputs": [
        {
          "output_type": "execute_result",
          "data": {
            "text/plain": [
              "[[1.0, 2.0, 1.0], [2.0, 1.0, 1.0], [1.0, 1.0, 1.0]]"
            ]
          },
          "metadata": {
            "tags": []
          },
          "execution_count": 17
        }
      ]
    },
    {
      "cell_type": "code",
      "metadata": {
        "id": "K1JTzKOGagH8"
      },
      "source": [
        "matrix= [[true,false,false,true], \r\n",
        " [false,false,true,false], \r\n",
        " [true,true,false,true]]"
      ],
      "execution_count": null,
      "outputs": []
    },
    {
      "cell_type": "code",
      "metadata": {
        "colab": {
          "base_uri": "https://localhost:8080/"
        },
        "id": "Y3KG2chSXXCJ",
        "outputId": "7a69e252-9c11-46cf-dc43-430e88de7f6f"
      },
      "source": [
        "minesweeper(matrix)"
      ],
      "execution_count": null,
      "outputs": [
        {
          "output_type": "execute_result",
          "data": {
            "text/plain": [
              "[[0.0, 2.0, 2.0, 1.0], [3.0, 4.0, 3.0, 3.0], [1.0, 2.0, 3.0, 1.0]]"
            ]
          },
          "metadata": {
            "tags": []
          },
          "execution_count": 19
        }
      ]
    },
    {
      "cell_type": "markdown",
      "metadata": {
        "id": "VlmS2BFrdoCQ"
      },
      "source": [
        "**19. arrayReplace**"
      ]
    },
    {
      "cell_type": "code",
      "metadata": {
        "id": "iPLAhMUsdalt"
      },
      "source": [
        "def arrayReplace(inputArray, elemToReplace, substitutionElem):\r\n",
        "  return [int(str(i).replace(str(i), str(substitutionElem))) if i == elemToReplace else i for i in inputArray ]\r\n"
      ],
      "execution_count": null,
      "outputs": []
    },
    {
      "cell_type": "code",
      "metadata": {
        "id": "M_3njtjvd3mE"
      },
      "source": [
        "inputArray = [1, 2, 1]\r\n",
        "elemToReplace = 1\r\n",
        "substitutionElem = 3"
      ],
      "execution_count": null,
      "outputs": []
    },
    {
      "cell_type": "code",
      "metadata": {
        "colab": {
          "base_uri": "https://localhost:8080/"
        },
        "id": "F8qB1ruld3i2",
        "outputId": "0b202faa-c031-4e0f-b0ac-426bdfad19a9"
      },
      "source": [
        "arrayReplace(inputArray, elemToReplace, substitutionElem)"
      ],
      "execution_count": null,
      "outputs": [
        {
          "output_type": "execute_result",
          "data": {
            "text/plain": [
              "[3, 2, 3]"
            ]
          },
          "metadata": {
            "tags": []
          },
          "execution_count": 35
        }
      ]
    },
    {
      "cell_type": "markdown",
      "metadata": {
        "id": "79H0BXQKDeOG"
      },
      "source": [
        "**depositProfit**"
      ]
    },
    {
      "cell_type": "code",
      "metadata": {
        "id": "IIhUMx6cDd8p"
      },
      "source": [
        "def depositProfit(deposit, rate, threshold):\r\n",
        "    n=1\r\n",
        "    while n<=200:\r\n",
        "        if deposit*(1+rate/100)**n >=threshold:\r\n",
        "            print(deposit*(1+rate/100)**n)\r\n",
        "            return n\r\n",
        "        else:\r\n",
        "            n+=1\r\n",
        "    return (\"no solution\")\r\n"
      ],
      "execution_count": null,
      "outputs": []
    },
    {
      "cell_type": "code",
      "metadata": {
        "id": "dYh4a__GDd5d"
      },
      "source": [
        "deposit= 100\r\n",
        "rate= 1\r\n",
        "threshold= 101"
      ],
      "execution_count": null,
      "outputs": []
    },
    {
      "cell_type": "code",
      "metadata": {
        "id": "YRGF6W5ODd0a",
        "colab": {
          "base_uri": "https://localhost:8080/"
        },
        "outputId": "3a97c882-bd0f-4571-cdb3-928f695fd6aa"
      },
      "source": [
        "depositProfit(deposit, rate, threshold)"
      ],
      "execution_count": null,
      "outputs": [
        {
          "output_type": "stream",
          "text": [
            "102.01\n"
          ],
          "name": "stdout"
        },
        {
          "output_type": "execute_result",
          "data": {
            "text/plain": [
              "2"
            ]
          },
          "metadata": {
            "tags": []
          },
          "execution_count": 7
        }
      ]
    },
    {
      "cell_type": "markdown",
      "metadata": {
        "id": "vVo5ZZUwp7JC"
      },
      "source": [
        "**absoluteValuesSumMinimization**"
      ]
    },
    {
      "cell_type": "code",
      "metadata": {
        "colab": {
          "base_uri": "https://localhost:8080/"
        },
        "id": "C3y3sdv2zTOj",
        "outputId": "a504dd12-26c2-4763-fcb3-db739e650124"
      },
      "source": [
        "la=1\r\n",
        "fh = int(la/2-1)\r\n",
        "fh"
      ],
      "execution_count": null,
      "outputs": [
        {
          "output_type": "execute_result",
          "data": {
            "text/plain": [
              "0"
            ]
          },
          "metadata": {
            "tags": []
          },
          "execution_count": 75
        }
      ]
    },
    {
      "cell_type": "code",
      "metadata": {
        "id": "J5hgz4gHBfEg"
      },
      "source": [
        "def absoluteValuesSumMinimization(a):\r\n",
        "  import numpy as np\r\n",
        "  la = len(a)\r\n",
        "  fh = int(la/2)\r\n",
        "\r\n",
        "  if la%2==1:\r\n",
        "    return a[fh]\r\n",
        "\r\n",
        "  np_a =np.array(a)\r\n",
        "  print(sum(np.abs(np_a-np_a[fh-1])))\r\n",
        "  print(sum(np.abs(np_a-np_a[fh])))\r\n",
        "\r\n",
        "  if sum(np.abs(np_a-np_a[fh-1])) <= sum(np.abs(np_a-np_a[fh])):\r\n",
        "    return np_a[fh-1]\r\n",
        "  else:\r\n",
        "    return np_a[fh]"
      ],
      "execution_count": null,
      "outputs": []
    },
    {
      "cell_type": "code",
      "metadata": {
        "id": "R9782683qAuV"
      },
      "source": [
        "a = [2, 4, 7]"
      ],
      "execution_count": null,
      "outputs": []
    },
    {
      "cell_type": "code",
      "metadata": {
        "colab": {
          "base_uri": "https://localhost:8080/"
        },
        "id": "sUEpy2wBxDiD",
        "outputId": "6c241aa4-390f-48c4-c368-35ac6249196f"
      },
      "source": [
        "absoluteValuesSumMinimization(a)"
      ],
      "execution_count": null,
      "outputs": [
        {
          "output_type": "execute_result",
          "data": {
            "text/plain": [
              "4"
            ]
          },
          "metadata": {
            "tags": []
          },
          "execution_count": 89
        }
      ]
    },
    {
      "cell_type": "code",
      "metadata": {
        "id": "cFXA5VNSqAq3"
      },
      "source": [
        "a = [2, 3]"
      ],
      "execution_count": null,
      "outputs": []
    },
    {
      "cell_type": "code",
      "metadata": {
        "colab": {
          "base_uri": "https://localhost:8080/"
        },
        "id": "yZef1qsdxK6V",
        "outputId": "cddc90a7-e177-4c99-8b7c-6234d4b5fc9f"
      },
      "source": [
        "absoluteValuesSumMinimization(a)"
      ],
      "execution_count": null,
      "outputs": [
        {
          "output_type": "stream",
          "text": [
            "1\n",
            "1\n"
          ],
          "name": "stdout"
        },
        {
          "output_type": "execute_result",
          "data": {
            "text/plain": [
              "2"
            ]
          },
          "metadata": {
            "tags": []
          },
          "execution_count": 91
        }
      ]
    },
    {
      "cell_type": "code",
      "metadata": {
        "id": "IdDSR9rjqAlJ"
      },
      "source": [
        "a = [23]"
      ],
      "execution_count": null,
      "outputs": []
    },
    {
      "cell_type": "code",
      "metadata": {
        "colab": {
          "base_uri": "https://localhost:8080/"
        },
        "id": "SVCPXx9aqAiR",
        "outputId": "a703721e-73d8-4426-c406-b771c652ea96"
      },
      "source": [
        "absoluteValuesSumMinimization(a)\r\n"
      ],
      "execution_count": null,
      "outputs": [
        {
          "output_type": "execute_result",
          "data": {
            "text/plain": [
              "23"
            ]
          },
          "metadata": {
            "tags": []
          },
          "execution_count": 93
        }
      ]
    },
    {
      "cell_type": "markdown",
      "metadata": {
        "id": "NzZ_rzZhDx5n"
      },
      "source": [
        "**stringsRearrangement**"
      ]
    },
    {
      "cell_type": "code",
      "metadata": {
        "colab": {
          "base_uri": "https://localhost:8080/"
        },
        "id": "IOB6_9mRJMSA",
        "outputId": "c65deafe-b411-4852-9f7a-feede21dd1a2"
      },
      "source": [
        "from itertools import permutations\r\n",
        "\r\n",
        "possible_pers = permutations(inputArray)\r\n",
        "for per in possible_pers:\r\n",
        "  print(per)"
      ],
      "execution_count": null,
      "outputs": [
        {
          "output_type": "stream",
          "text": [
            "('aba', 'bbb', 'bab')\n",
            "('aba', 'bab', 'bbb')\n",
            "('bbb', 'aba', 'bab')\n",
            "('bbb', 'bab', 'aba')\n",
            "('bab', 'aba', 'bbb')\n",
            "('bab', 'bbb', 'aba')\n"
          ],
          "name": "stdout"
        }
      ]
    },
    {
      "cell_type": "code",
      "metadata": {
        "id": "yYGQccOeJMOv"
      },
      "source": [
        ""
      ],
      "execution_count": null,
      "outputs": []
    },
    {
      "cell_type": "code",
      "metadata": {
        "id": "frf0uqTbyK4R"
      },
      "source": [
        "from itertools import permutations\r\n",
        "\r\n",
        "def stringsRearrangement(inputArray):\r\n",
        "  possible_pers = permutations(inputArray)\r\n",
        "  res= False\r\n",
        "  for per in possible_pers:\r\n",
        "    # for i in range(len(per)-1):\r\n",
        "    if all([isDifferby1(per[i], per[i+1]) for i in  range(len(per)-1)]):\r\n",
        "      res = True\r\n",
        "      break\r\n",
        "  return res\r\n",
        "\r\n",
        "def isDifferby1(str1, str2):\r\n",
        "  return sum([str1[i]!=str2[i] for i in range(len(str1))])<2"
      ],
      "execution_count": null,
      "outputs": []
    },
    {
      "cell_type": "code",
      "metadata": {
        "colab": {
          "base_uri": "https://localhost:8080/"
        },
        "id": "kNCWaoJ6D0p4",
        "outputId": "8c367def-665f-42d1-e97f-63b72f45c694"
      },
      "source": [
        "inputArray = [\"aba\", \"bbb\", \"bab\"]\r\n",
        "stringsRearrangement(inputArray)"
      ],
      "execution_count": null,
      "outputs": [
        {
          "output_type": "execute_result",
          "data": {
            "text/plain": [
              "False"
            ]
          },
          "metadata": {
            "tags": []
          },
          "execution_count": 23
        }
      ]
    },
    {
      "cell_type": "code",
      "metadata": {
        "colab": {
          "base_uri": "https://localhost:8080/"
        },
        "id": "bqvZ_2TyEHfw",
        "outputId": "bf2f7300-e2e4-4b61-c0fc-f200eef01a39"
      },
      "source": [
        "inputArray = [\"ab\", \"bb\", \"aa\"]\r\n",
        "stringsRearrangement(inputArray)"
      ],
      "execution_count": null,
      "outputs": [
        {
          "output_type": "execute_result",
          "data": {
            "text/plain": [
              "True"
            ]
          },
          "metadata": {
            "tags": []
          },
          "execution_count": 24
        }
      ]
    },
    {
      "cell_type": "code",
      "metadata": {
        "id": "n_oGIUtGGAX2"
      },
      "source": [
        "def isDifferby1(str1, str2):\r\n",
        "  return sum([str1[i]!=str2[i] for i in range(len(str1))])<2"
      ],
      "execution_count": null,
      "outputs": []
    },
    {
      "cell_type": "code",
      "metadata": {
        "colab": {
          "base_uri": "https://localhost:8080/"
        },
        "id": "mMLjWk51IkqE",
        "outputId": "470255e9-fef9-4979-95ab-0500c4f7a45b"
      },
      "source": [
        "isDifferby1(inputArray[1], inputArray[2])"
      ],
      "execution_count": null,
      "outputs": [
        {
          "output_type": "execute_result",
          "data": {
            "text/plain": [
              "True"
            ]
          },
          "metadata": {
            "tags": []
          },
          "execution_count": 14
        }
      ]
    },
    {
      "cell_type": "markdown",
      "metadata": {
        "id": "TlJO7GAVTzuL"
      },
      "source": [
        "**arrayMaxConsecutiveSum**"
      ]
    },
    {
      "cell_type": "code",
      "metadata": {
        "id": "SB2GHibKbbHO"
      },
      "source": [
        "def arrayMaxConsecutiveSum(inputArray, k):\r\n",
        "    try: \r\n",
        "      m = max([sum(inputArray[i:i+k])  for i in range(len(inputArray)-k) if inputArray[i]>inputArray[i+k]] )\r\n",
        "    except:\r\n",
        "      m=0\r\n",
        "    temp = sum(inputArray[-k:])\r\n",
        "    return max(m,temp)  "
      ],
      "execution_count": null,
      "outputs": []
    },
    {
      "cell_type": "code",
      "metadata": {
        "id": "bqMDuW5Tdy1d"
      },
      "source": [
        "inputArray = [2, 3, 5, 1, 6]\r\n",
        "k=4\r\n",
        "arrayMaxConsecutiveSum(inputArray, k)"
      ],
      "execution_count": null,
      "outputs": []
    },
    {
      "cell_type": "code",
      "metadata": {
        "id": "cs2Zz2FybbDD"
      },
      "source": [
        "def arrayMaxConsecutiveSum(inputArray, k):\r\n",
        "    total = sum(inputArray[:k])\r\n",
        "    maxi= total\r\n",
        "    for i in range(len(inputArray)-k):\r\n",
        "      total += inputArray[i+k] - inputArray[i]\r\n",
        "      if total>maxi:\r\n",
        "        print(\"total:\", total, \"maxi:\", maxi)\r\n",
        "        maxi =total\r\n",
        "    return maxi  "
      ],
      "execution_count": null,
      "outputs": []
    },
    {
      "cell_type": "code",
      "metadata": {
        "colab": {
          "base_uri": "https://localhost:8080/"
        },
        "id": "MkCoM2ajItCs",
        "outputId": "c37d50f3-077d-4dea-e581-d5e6aae51bda"
      },
      "source": [
        "inputArray = [2, 3, 5, 1, 6]\r\n",
        "k=4\r\n",
        "arrayMaxConsecutiveSum(inputArray, k)"
      ],
      "execution_count": null,
      "outputs": [
        {
          "output_type": "stream",
          "text": [
            "total: 15 maxi: 11\n"
          ],
          "name": "stdout"
        },
        {
          "output_type": "execute_result",
          "data": {
            "text/plain": [
              "15"
            ]
          },
          "metadata": {
            "tags": []
          },
          "execution_count": 58
        }
      ]
    },
    {
      "cell_type": "code",
      "metadata": {
        "colab": {
          "base_uri": "https://localhost:8080/"
        },
        "id": "Rs785lOiT0c0",
        "outputId": "bf84b96d-4462-4612-ff55-2e61e427a8b3"
      },
      "source": [
        "inputArray= [2, 3, 5, 1, 6]\r\n",
        "k=2\r\n",
        "arrayMaxConsecutiveSum(inputArray, k)\r\n"
      ],
      "execution_count": null,
      "outputs": [
        {
          "output_type": "stream",
          "text": [
            "total: 8 maxi: 5\n"
          ],
          "name": "stdout"
        },
        {
          "output_type": "execute_result",
          "data": {
            "text/plain": [
              "8"
            ]
          },
          "metadata": {
            "tags": []
          },
          "execution_count": 59
        }
      ]
    },
    {
      "cell_type": "markdown",
      "metadata": {
        "id": "pc549lJv3-Sm"
      },
      "source": [
        "**knapsackLight**"
      ]
    },
    {
      "cell_type": "code",
      "metadata": {
        "id": "ZJ5rPo6OT3UU"
      },
      "source": [
        "def knapsackLight(value1, weight1, value2, weight2, maxW):\r\n",
        "    if weight1 + weight2 <= maxW:\r\n",
        "        return value1 +value2\r\n",
        "    elif value1>=value2:\r\n",
        "      if weight1<=maxW:\r\n",
        "        return value1\r\n",
        "      elif weight2<=maxW:\r\n",
        "        return value2\r\n",
        "    \r\n",
        "    elif value1<value2:\r\n",
        "      if weight2<=maxW:\r\n",
        "        return value2\r\n",
        "      elif weight1<=maxW:\r\n",
        "        return value1\r\n",
        "    return 0\r\n"
      ],
      "execution_count": null,
      "outputs": []
    },
    {
      "cell_type": "code",
      "metadata": {
        "id": "gE5BZ85F4D4h"
      },
      "source": [
        "\r\n",
        "value1 = 5\r\n",
        "weight1 = 3\r\n",
        "value2 = 7\r\n",
        "weight2 = 4\r\n",
        "maxW = 6"
      ],
      "execution_count": null,
      "outputs": []
    },
    {
      "cell_type": "code",
      "metadata": {
        "colab": {
          "base_uri": "https://localhost:8080/"
        },
        "id": "42UEx_AI49sY",
        "outputId": "273650f3-8777-47c9-ff60-b5b8cf6b40c5"
      },
      "source": [
        "knapsackLight(value1, weight1, value2, weight2, maxW)"
      ],
      "execution_count": null,
      "outputs": [
        {
          "output_type": "execute_result",
          "data": {
            "text/plain": [
              "7"
            ]
          },
          "metadata": {
            "tags": []
          },
          "execution_count": 78
        }
      ]
    },
    {
      "cell_type": "code",
      "metadata": {
        "id": "ClJMBVga4D1p"
      },
      "source": [
        "list_1 = [value1, weight1]\r\n",
        "list_2 = [value2, weight2]"
      ],
      "execution_count": null,
      "outputs": []
    },
    {
      "cell_type": "code",
      "metadata": {
        "id": "uR0bR3g44Dyo"
      },
      "source": [
        "tot_list = list(zip(list_1, list_2))"
      ],
      "execution_count": null,
      "outputs": []
    },
    {
      "cell_type": "code",
      "metadata": {
        "colab": {
          "base_uri": "https://localhost:8080/"
        },
        "id": "GP9OVI5p4Dv7",
        "outputId": "d27daab1-c29c-4b56-955f-fe61866f1c09"
      },
      "source": [
        "tot_list[0]"
      ],
      "execution_count": null,
      "outputs": [
        {
          "output_type": "execute_result",
          "data": {
            "text/plain": [
              "(5, 7)"
            ]
          },
          "metadata": {
            "tags": []
          },
          "execution_count": 69
        }
      ]
    },
    {
      "cell_type": "markdown",
      "metadata": {
        "id": "7w-j-gL4AKCy"
      },
      "source": [
        "**digitDegree**"
      ]
    },
    {
      "cell_type": "code",
      "metadata": {
        "id": "UEN69X8o4Dts"
      },
      "source": [
        "def digitDegree(n):\r\n",
        "    res = 0\r\n",
        "    if n<=9:\r\n",
        "        return res\r\n",
        "    else:\r\n",
        "        res += 1\r\n",
        "        n = sum([int(i) for i in str(n)])\r\n",
        "        return res + digitDegree(n)"
      ],
      "execution_count": null,
      "outputs": []
    },
    {
      "cell_type": "code",
      "metadata": {
        "colab": {
          "base_uri": "https://localhost:8080/"
        },
        "id": "edgC0pLB4Dqg",
        "outputId": "3aa0db1a-c5ee-4570-a23c-76ca5b55c776"
      },
      "source": [
        "n = 91\r\n",
        "digitDegree(n)"
      ],
      "execution_count": null,
      "outputs": [
        {
          "output_type": "execute_result",
          "data": {
            "text/plain": [
              "2"
            ]
          },
          "metadata": {
            "tags": []
          },
          "execution_count": 91
        }
      ]
    },
    {
      "cell_type": "markdown",
      "metadata": {
        "id": "D4AF8oWKB9V8"
      },
      "source": [
        "**bishopAndPawn**"
      ]
    },
    {
      "cell_type": "code",
      "metadata": {
        "id": "4mF0xMXdB8u-"
      },
      "source": [
        "def bishopAndPawn(bishop, pawn):\r\n",
        "  dif = abs(ord(bishop[0]) - ord(pawn[0]))\r\n",
        "  if abs(int(bishop[1]) - int(pawn[1])) == dif:\r\n",
        "    return True\r\n",
        "  return False\r\n"
      ],
      "execution_count": null,
      "outputs": []
    },
    {
      "cell_type": "code",
      "metadata": {
        "colab": {
          "base_uri": "https://localhost:8080/"
        },
        "id": "KK2uUfyaB8sL",
        "outputId": "a778b19d-6fbb-470d-a6ed-c175799a591a"
      },
      "source": [
        "bishop = \"a1\"\r\n",
        "pawn = \"c3\"\r\n",
        "bishopAndPawn(bishop, pawn)"
      ],
      "execution_count": null,
      "outputs": [
        {
          "output_type": "execute_result",
          "data": {
            "text/plain": [
              "True"
            ]
          },
          "metadata": {
            "tags": []
          },
          "execution_count": 88
        }
      ]
    },
    {
      "cell_type": "markdown",
      "metadata": {
        "id": "4sgwlTm9EObA"
      },
      "source": [
        "**isBeautifulString**"
      ]
    },
    {
      "cell_type": "code",
      "metadata": {
        "id": "Z3kG8drSCfNR"
      },
      "source": [
        "def isBeautifulString(inputString):\r\n",
        "  from collections import Counter\r\n",
        "\r\n",
        "  c = Counter(inputString)\r\n",
        "  a_list= sorted(c.items(), key= lambda x: x[0])\r\n",
        "\r\n",
        "  if a_list[0][0]==\"a\" and a_list:\r\n",
        "    return all([(ord(a_list[i+1][0])-ord(a_list[i][0]))==1 and a_list[i+1][1]<=a_list[i][1] for i in range(len(a_list)-1)])\r\n",
        "  else: return False"
      ],
      "execution_count": null,
      "outputs": []
    },
    {
      "cell_type": "code",
      "metadata": {
        "id": "72tvMWU6R50E"
      },
      "source": [
        "def isBeautifulString(inputString):\r\n",
        "\r\n",
        "    import string\r\n",
        "    r = [inputString.count(i) for i in string.ascii_lowercase]\r\n",
        "    print(r)    \r\n",
        "    return r[::-1] == sorted(r)"
      ],
      "execution_count": null,
      "outputs": []
    },
    {
      "cell_type": "code",
      "metadata": {
        "colab": {
          "base_uri": "https://localhost:8080/"
        },
        "id": "em8WVQZ2L3w_",
        "outputId": "16d4ba1b-9f23-4e64-8e25-d8345615b7aa"
      },
      "source": [
        "inputString = \"faaabbcde\"\r\n",
        "isBeautifulString(inputString)"
      ],
      "execution_count": null,
      "outputs": [
        {
          "output_type": "stream",
          "text": [
            "[3, 2, 1, 1, 1, 1, 0, 0, 0, 0, 0, 0, 0, 0, 0, 0, 0, 0, 0, 0, 0, 0, 0, 0, 0, 0]\n"
          ],
          "name": "stdout"
        },
        {
          "output_type": "execute_result",
          "data": {
            "text/plain": [
              "True"
            ]
          },
          "metadata": {
            "tags": []
          },
          "execution_count": 38
        }
      ]
    },
    {
      "cell_type": "code",
      "metadata": {
        "colab": {
          "base_uri": "https://localhost:8080/"
        },
        "id": "VyUsOSHcL3uW",
        "outputId": "debcffb3-51a2-4391-a512-65145a52c5c7"
      },
      "source": [
        "inputString=\"bcd\"\r\n",
        "isBeautifulString(inputString)"
      ],
      "execution_count": null,
      "outputs": [
        {
          "output_type": "execute_result",
          "data": {
            "text/plain": [
              "False"
            ]
          },
          "metadata": {
            "tags": []
          },
          "execution_count": 33
        }
      ]
    },
    {
      "cell_type": "markdown",
      "metadata": {
        "id": "uTHiXIluqoMZ"
      },
      "source": [
        "**findEmailDomain**"
      ]
    },
    {
      "cell_type": "code",
      "metadata": {
        "id": "_40Ncud4rEeC"
      },
      "source": [
        "def findEmailDomain(address):\r\n",
        "  r_ind = address.rfind(\"@\")\r\n",
        "  return address[r_ind+1:]"
      ],
      "execution_count": null,
      "outputs": []
    },
    {
      "cell_type": "code",
      "metadata": {
        "colab": {
          "base_uri": "https://localhost:8080/",
          "height": 35
        },
        "id": "Wt7mdDafN87i",
        "outputId": "910f7b49-63f8-4505-803d-dcf366f43d3c"
      },
      "source": [
        "address = \"very.@.common@gmail.com\"\r\n",
        "findEmailDomain(address)"
      ],
      "execution_count": null,
      "outputs": [
        {
          "output_type": "execute_result",
          "data": {
            "application/vnd.google.colaboratory.intrinsic+json": {
              "type": "string"
            },
            "text/plain": [
              "'gmail.com'"
            ]
          },
          "metadata": {
            "tags": []
          },
          "execution_count": 13
        }
      ]
    },
    {
      "cell_type": "markdown",
      "metadata": {
        "id": "aumq76qZs_Ug"
      },
      "source": [
        "**buildPalindrome**"
      ]
    },
    {
      "cell_type": "code",
      "metadata": {
        "id": "8ZY2qK6KqpGM"
      },
      "source": [
        "def buildPalindrome(st):\r\n",
        "  if st == st[::-1]: return st\r\n",
        "  for i in range(1,len(st)+1):\r\n",
        "    new = st[::-1]\r\n",
        "    new =st[:i] +new\r\n",
        "    if new == new[::-1]:\r\n",
        "      return new[::-1]\r\n",
        "  return (\"no solution\")"
      ],
      "execution_count": null,
      "outputs": []
    },
    {
      "cell_type": "code",
      "metadata": {
        "colab": {
          "base_uri": "https://localhost:8080/",
          "height": 35
        },
        "id": "wZ-eH6VfqpCz",
        "outputId": "2a40fe0c-36dd-4c9d-842c-bb4cc7f59356"
      },
      "source": [
        "st = \"abcdcb\"\r\n",
        "buildPalindrome(st)"
      ],
      "execution_count": null,
      "outputs": [
        {
          "output_type": "execute_result",
          "data": {
            "application/vnd.google.colaboratory.intrinsic+json": {
              "type": "string"
            },
            "text/plain": [
              "'abcdcba'"
            ]
          },
          "metadata": {
            "tags": []
          },
          "execution_count": 39
        }
      ]
    },
    {
      "cell_type": "markdown",
      "metadata": {
        "id": "0w5f4WHo0YfN"
      },
      "source": [
        "**isMAC48Address**"
      ]
    },
    {
      "cell_type": "code",
      "metadata": {
        "id": "h07JNJY70Y5w"
      },
      "source": [
        "def isMAC48Address(inputString):\r\n",
        "  \r\n",
        "  if len(inputString)!=17: return False\r\n",
        "  import re\r\n",
        "  l = inputString.split(\"-\")\r\n",
        "  if len(l)==6 and all([re.match(r\"[0-9A-F]{2}\", el) for el in l]):\r\n",
        "    return True\r\n",
        "  else:\r\n",
        "    return False"
      ],
      "execution_count": null,
      "outputs": []
    },
    {
      "cell_type": "code",
      "metadata": {
        "colab": {
          "base_uri": "https://localhost:8080/"
        },
        "id": "0Chh6jbB0ZpA",
        "outputId": "c65c7264-4d6a-4250-bc59-b11e61993151"
      },
      "source": [
        "inputString = \"00-1B-63-84-45-E6\"\r\n",
        "isMAC48Address(inputString)"
      ],
      "execution_count": null,
      "outputs": [
        {
          "output_type": "execute_result",
          "data": {
            "text/plain": [
              "True"
            ]
          },
          "metadata": {
            "tags": []
          },
          "execution_count": 53
        }
      ]
    },
    {
      "cell_type": "markdown",
      "metadata": {
        "id": "4U1wg9Tb6Mu2"
      },
      "source": [
        "**lineEncoding**"
      ]
    },
    {
      "cell_type": "code",
      "metadata": {
        "id": "3V3-hVaa0ZgB"
      },
      "source": [
        "def lineEncoding(s):\r\n",
        "  b_list= [i for i in range(1,len(s)) if s[i]!= s[i-1]]\r\n",
        "  b_list.append(len(s))\r\n",
        "\r\n",
        "  c_list = [s[el-1:el] for ind,el in enumerate(b_list)]\r\n",
        "\r\n",
        "  res=\"\"\r\n",
        "  for i in range(len(b_list)):\r\n",
        "    if i ==0:\r\n",
        "      dif = b_list[i] -  0\r\n",
        "    else:\r\n",
        "      dif = b_list[i] -  b_list[i-1]\r\n",
        "    if dif>1:\r\n",
        "      res += str(dif)+c_list[i]\r\n",
        "    else:\r\n",
        "      res += c_list[i]\r\n",
        "\r\n",
        "    \r\n",
        "  return res\r\n"
      ],
      "execution_count": null,
      "outputs": []
    },
    {
      "cell_type": "code",
      "metadata": {
        "colab": {
          "base_uri": "https://localhost:8080/",
          "height": 35
        },
        "id": "2aPk97My6PPQ",
        "outputId": "4da26eae-bd7a-4980-f3ce-45a25f81c97f"
      },
      "source": [
        "s = \"aabbbc\"\r\n",
        "# lineEncoding(s) = \"2a3bc\"\r\n",
        "lineEncoding(s) "
      ],
      "execution_count": null,
      "outputs": [
        {
          "output_type": "execute_result",
          "data": {
            "application/vnd.google.colaboratory.intrinsic+json": {
              "type": "string"
            },
            "text/plain": [
              "'2a3bc'"
            ]
          },
          "metadata": {
            "tags": []
          },
          "execution_count": 49
        }
      ]
    },
    {
      "cell_type": "code",
      "metadata": {
        "id": "l_1xXZdTC6BJ",
        "colab": {
          "base_uri": "https://localhost:8080/",
          "height": 35
        },
        "outputId": "b004c7ac-f788-487a-b172-b8020dbe030c"
      },
      "source": [
        "s= \"abbcabb\"\r\n",
        "# \"a2bca2b\"\r\n",
        "lineEncoding(s) "
      ],
      "execution_count": null,
      "outputs": [
        {
          "output_type": "execute_result",
          "data": {
            "application/vnd.google.colaboratory.intrinsic+json": {
              "type": "string"
            },
            "text/plain": [
              "'a2bca2b'"
            ]
          },
          "metadata": {
            "tags": []
          },
          "execution_count": 50
        }
      ]
    },
    {
      "cell_type": "markdown",
      "metadata": {
        "id": "EIv1gbh0XIcx"
      },
      "source": [
        "**chessKnight**"
      ]
    },
    {
      "cell_type": "code",
      "metadata": {
        "id": "7C9tkVy4AQRw"
      },
      "source": [
        "def chessKnight(cell):\r\n",
        "  char_list = [ord(i) for i in s]\r\n",
        "  count=0\r\n",
        "  for i in [-1,1]:\r\n",
        "    for j in[-2,2]:\r\n",
        "      if min(char_list)<=ord(cell[0])+j <=max(char_list) and 1<=int(cell[1])+i<=8:\r\n",
        "        count +=1\r\n",
        "      if min(char_list)<=ord(cell[0])+i <=max(char_list) and 1<=int(cell[1])+j<=8:\r\n",
        "        count+=1\r\n",
        "\r\n",
        "  return count"
      ],
      "execution_count": null,
      "outputs": []
    },
    {
      "cell_type": "code",
      "metadata": {
        "id": "mPYBZaW4XM0a"
      },
      "source": [
        "cell = \"c2\""
      ],
      "execution_count": null,
      "outputs": []
    },
    {
      "cell_type": "code",
      "metadata": {
        "colab": {
          "base_uri": "https://localhost:8080/",
          "height": 279
        },
        "id": "kE0psVlPErl1",
        "outputId": "c15af64c-98c4-4a55-c5da-32d14b5774c0"
      },
      "source": [
        "chessKnight(cell)"
      ],
      "execution_count": null,
      "outputs": [
        {
          "output_type": "error",
          "ename": "NameError",
          "evalue": "ignored",
          "traceback": [
            "\u001b[0;31m---------------------------------------------------------------------------\u001b[0m",
            "\u001b[0;31mNameError\u001b[0m                                 Traceback (most recent call last)",
            "\u001b[0;32m<ipython-input-3-59d85cccf6c0>\u001b[0m in \u001b[0;36m<module>\u001b[0;34m()\u001b[0m\n\u001b[0;32m----> 1\u001b[0;31m \u001b[0mchessKnight\u001b[0m\u001b[0;34m(\u001b[0m\u001b[0mcell\u001b[0m\u001b[0;34m)\u001b[0m\u001b[0;34m\u001b[0m\u001b[0;34m\u001b[0m\u001b[0m\n\u001b[0m",
            "\u001b[0;32m<ipython-input-1-a26aca676eee>\u001b[0m in \u001b[0;36mchessKnight\u001b[0;34m(cell)\u001b[0m\n\u001b[1;32m      1\u001b[0m \u001b[0;32mdef\u001b[0m \u001b[0mchessKnight\u001b[0m\u001b[0;34m(\u001b[0m\u001b[0mcell\u001b[0m\u001b[0;34m)\u001b[0m\u001b[0;34m:\u001b[0m\u001b[0;34m\u001b[0m\u001b[0;34m\u001b[0m\u001b[0m\n\u001b[0;32m----> 2\u001b[0;31m   \u001b[0mchar_list\u001b[0m \u001b[0;34m=\u001b[0m \u001b[0;34m[\u001b[0m\u001b[0mord\u001b[0m\u001b[0;34m(\u001b[0m\u001b[0mi\u001b[0m\u001b[0;34m)\u001b[0m \u001b[0;32mfor\u001b[0m \u001b[0mi\u001b[0m \u001b[0;32min\u001b[0m \u001b[0ms\u001b[0m\u001b[0;34m]\u001b[0m\u001b[0;34m\u001b[0m\u001b[0;34m\u001b[0m\u001b[0m\n\u001b[0m\u001b[1;32m      3\u001b[0m   \u001b[0mcount\u001b[0m\u001b[0;34m=\u001b[0m\u001b[0;36m0\u001b[0m\u001b[0;34m\u001b[0m\u001b[0;34m\u001b[0m\u001b[0m\n\u001b[1;32m      4\u001b[0m   \u001b[0;32mfor\u001b[0m \u001b[0mi\u001b[0m \u001b[0;32min\u001b[0m \u001b[0;34m[\u001b[0m\u001b[0;34m-\u001b[0m\u001b[0;36m1\u001b[0m\u001b[0;34m,\u001b[0m\u001b[0;36m1\u001b[0m\u001b[0;34m]\u001b[0m\u001b[0;34m:\u001b[0m\u001b[0;34m\u001b[0m\u001b[0;34m\u001b[0m\u001b[0m\n\u001b[1;32m      5\u001b[0m     \u001b[0;32mfor\u001b[0m \u001b[0mj\u001b[0m \u001b[0;32min\u001b[0m\u001b[0;34m[\u001b[0m\u001b[0;34m-\u001b[0m\u001b[0;36m2\u001b[0m\u001b[0;34m,\u001b[0m\u001b[0;36m2\u001b[0m\u001b[0;34m]\u001b[0m\u001b[0;34m:\u001b[0m\u001b[0;34m\u001b[0m\u001b[0;34m\u001b[0m\u001b[0m\n",
            "\u001b[0;31mNameError\u001b[0m: name 's' is not defined"
          ]
        }
      ]
    },
    {
      "cell_type": "code",
      "metadata": {
        "id": "N3wsT_egXMxN"
      },
      "source": [
        "s= \"abcdefgh\""
      ],
      "execution_count": null,
      "outputs": []
    },
    {
      "cell_type": "code",
      "metadata": {
        "colab": {
          "base_uri": "https://localhost:8080/"
        },
        "id": "JmLK6lIfXMuc",
        "outputId": "2354a7ed-a76b-4b58-9ccb-a63968c3ec44"
      },
      "source": [
        "char_list = [ord(i) for i in s]\r\n",
        "char_list"
      ],
      "execution_count": null,
      "outputs": [
        {
          "output_type": "execute_result",
          "data": {
            "text/plain": [
              "[97, 98, 99, 100, 101, 102, 103, 104]"
            ]
          },
          "metadata": {
            "tags": []
          },
          "execution_count": 61
        }
      ]
    },
    {
      "cell_type": "code",
      "metadata": {
        "colab": {
          "base_uri": "https://localhost:8080/"
        },
        "id": "twfDZRG0Xnpb",
        "outputId": "c4fa716d-ee3e-4d78-89da-78aefa2ef8dc"
      },
      "source": [
        "count=0\r\n",
        "for i in [-1,1]:\r\n",
        "  for j in[-2,2]:\r\n",
        "    if min(char_list)<=ord(cell[0])+j <=max(char_list) and 1<=int(cell[1])+i<=8:\r\n",
        "      count +=1\r\n",
        "    if min(char_list)<=ord(cell[0])+i <=max(char_list) and 1<=int(cell[1])+j<=8:\r\n",
        "      count+=1\r\n",
        "count\r\n"
      ],
      "execution_count": null,
      "outputs": [
        {
          "output_type": "execute_result",
          "data": {
            "text/plain": [
              "6"
            ]
          },
          "metadata": {
            "tags": []
          },
          "execution_count": 62
        }
      ]
    },
    {
      "cell_type": "markdown",
      "metadata": {
        "id": "RagKjyk5EoFd"
      },
      "source": [
        "**deleteDigit**"
      ]
    },
    {
      "cell_type": "code",
      "metadata": {
        "id": "zIiGL_jbwH_1"
      },
      "source": [
        "def deleteDigit(n):\r\n",
        "    number = str(n)\r\n",
        "    for i in range(len(number), ):\r\n",
        "        if number[i] < number[i+1]:\r\n",
        "            print(number, i)\r\n",
        "            return getnumber(number, i)\r\n",
        "        if number[i+1] < number[i]:\r\n",
        "\r\n",
        "            print(number[i+1], number[i])\r\n",
        "\r\n",
        "            return getnumber(number, i+1)\r\n",
        "    return getnumber(number, len(number)-1)\r\n",
        "    \r\n",
        "\r\n",
        "def getnumber(number, index):\r\n",
        "  number = number[:index] + number[index+1:]\r\n",
        "  return int(number)"
      ],
      "execution_count": null,
      "outputs": []
    },
    {
      "cell_type": "code",
      "metadata": {
        "id": "n24ke2DpU-hR"
      },
      "source": [
        "def deleteDigit(n):\r\n",
        "  a_list = [int(i) for i in list(str(n))]\r\n",
        "  if min(a_list)!=a_list[-1] or len(a_list)<3:\r\n",
        "    a_list.remove(min(a_list))\r\n",
        "  else:\r\n",
        "    a_list.remove(min([i for i in a_list if i!= min(a_list)]))\r\n",
        "  res_str = \"\".join([str(i) for i in a_list])\r\n",
        "  return int(res_str)"
      ],
      "execution_count": null,
      "outputs": []
    },
    {
      "cell_type": "code",
      "metadata": {
        "id": "x2rKdMlQW4ba"
      },
      "source": [
        "def deleteDigit(n):\r\n",
        "    n = str(n)\r\n",
        "    return max(int(''.join(n[:i]+n[i+1:])) for i in range(len(n)))"
      ],
      "execution_count": null,
      "outputs": []
    },
    {
      "cell_type": "code",
      "metadata": {
        "colab": {
          "base_uri": "https://localhost:8080/"
        },
        "id": "Dchn2F_rE97H",
        "outputId": "388aba30-e136-45d5-f093-f0ac466b74cf"
      },
      "source": [
        "n = 152\r\n",
        "deleteDigit(n)"
      ],
      "execution_count": null,
      "outputs": [
        {
          "output_type": "execute_result",
          "data": {
            "text/plain": [
              "52"
            ]
          },
          "metadata": {
            "tags": []
          },
          "execution_count": 43
        }
      ]
    },
    {
      "cell_type": "code",
      "metadata": {
        "colab": {
          "base_uri": "https://localhost:8080/"
        },
        "id": "uFB_BJPMFpRU",
        "outputId": "54210ddb-adbe-416a-95d0-5617d97ebfa2"
      },
      "source": [
        "n= 861452\r\n",
        "deleteDigit(n)"
      ],
      "execution_count": null,
      "outputs": [
        {
          "output_type": "execute_result",
          "data": {
            "text/plain": [
              "86452"
            ]
          },
          "metadata": {
            "tags": []
          },
          "execution_count": 44
        }
      ]
    },
    {
      "cell_type": "markdown",
      "metadata": {
        "id": "ZracIWShLHAj"
      },
      "source": [
        "**longestWord**"
      ]
    },
    {
      "cell_type": "code",
      "metadata": {
        "id": "thY1WLcMRF5B"
      },
      "source": [
        "def longestWord(text):\r\n",
        "    \r\n",
        "    a_list= text.split(\" \")\r\n",
        "    print(a_list)\r\n",
        "    res = []\r\n",
        "    \r\n",
        "    for a in a_list:    \r\n",
        "        new=\"\"\r\n",
        "        for t in a:\r\n",
        "            if t.isalpha():\r\n",
        "                new +=t\r\n",
        "            else:\r\n",
        "                break\r\n",
        "        print(new)\r\n",
        "        res.append(new)\r\n",
        "\r\n",
        "    return \"\".join([el for el in res if len(el)==max([len(x) for x in res])])"
      ],
      "execution_count": null,
      "outputs": []
    },
    {
      "cell_type": "code",
      "metadata": {
        "id": "Ccvc9wYoNzNP"
      },
      "source": [
        "import re\r\n",
        "def longestWord(text):\r\n",
        "    return max(re.split('[^a-zA-Z]', text), key=len)"
      ],
      "execution_count": null,
      "outputs": []
    },
    {
      "cell_type": "code",
      "metadata": {
        "id": "Lhkd5BbLO-QI"
      },
      "source": [
        "def longestWord(text):\r\n",
        "    return max(\"\".join([i if i.isalpha() else \" \" for i in text]).split(),key=len)"
      ],
      "execution_count": null,
      "outputs": []
    },
    {
      "cell_type": "code",
      "metadata": {
        "id": "LrA9ccEVRF2E"
      },
      "source": [
        "text = \"Ready, steady, go!\""
      ],
      "execution_count": null,
      "outputs": []
    },
    {
      "cell_type": "code",
      "metadata": {
        "colab": {
          "base_uri": "https://localhost:8080/",
          "height": 35
        },
        "id": "NgH0xzTaLM_S",
        "outputId": "c70f68d6-5d5a-47d2-893e-0372770f9fd2"
      },
      "source": [
        "longestWord(text)"
      ],
      "execution_count": null,
      "outputs": [
        {
          "output_type": "execute_result",
          "data": {
            "application/vnd.google.colaboratory.intrinsic+json": {
              "type": "string"
            },
            "text/plain": [
              "'steady'"
            ]
          },
          "metadata": {
            "tags": []
          },
          "execution_count": 59
        }
      ]
    },
    {
      "cell_type": "code",
      "metadata": {
        "colab": {
          "base_uri": "https://localhost:8080/"
        },
        "id": "bfC1ZcT1LPU3",
        "outputId": "c6f7b453-8748-46cb-be21-231be3e26130"
      },
      "source": [
        "a = re.split('[^a-zA-Z]', text)\r\n",
        "a"
      ],
      "execution_count": null,
      "outputs": [
        {
          "output_type": "execute_result",
          "data": {
            "text/plain": [
              "['Ready', '', 'steady', '', 'go', '']"
            ]
          },
          "metadata": {
            "tags": []
          },
          "execution_count": 44
        }
      ]
    },
    {
      "cell_type": "markdown",
      "metadata": {
        "id": "bPUFRYADGmLC"
      },
      "source": [
        "**validTime**"
      ]
    },
    {
      "cell_type": "code",
      "metadata": {
        "id": "1ZELSvoKPZmg"
      },
      "source": [
        "def validTime(time):\r\n",
        "  t = time.split(\":\")\r\n",
        "  return all([0<=int(t[0])<24, 0<=int(t[1])<60])"
      ],
      "execution_count": null,
      "outputs": []
    },
    {
      "cell_type": "code",
      "metadata": {
        "id": "3Z6FIUgcGrE3"
      },
      "source": [
        "time = \"13:58\""
      ],
      "execution_count": null,
      "outputs": []
    },
    {
      "cell_type": "code",
      "metadata": {
        "colab": {
          "base_uri": "https://localhost:8080/"
        },
        "id": "0wnGXCfMHQzS",
        "outputId": "99b9244b-cc6c-4bde-fb2f-5923a6594b15"
      },
      "source": [
        "validTime(time)"
      ],
      "execution_count": null,
      "outputs": [
        {
          "output_type": "execute_result",
          "data": {
            "text/plain": [
              "True"
            ]
          },
          "metadata": {
            "tags": []
          },
          "execution_count": 19
        }
      ]
    },
    {
      "cell_type": "code",
      "metadata": {
        "colab": {
          "base_uri": "https://localhost:8080/"
        },
        "id": "oKagJoaxGxzh",
        "outputId": "5bd3043a-aee9-43a3-ca00-3ff1ba5beec0"
      },
      "source": [
        "time = \"02:76\"\r\n",
        "validTime(time)\r\n"
      ],
      "execution_count": null,
      "outputs": [
        {
          "output_type": "execute_result",
          "data": {
            "text/plain": [
              "False"
            ]
          },
          "metadata": {
            "tags": []
          },
          "execution_count": 20
        }
      ]
    },
    {
      "cell_type": "markdown",
      "metadata": {
        "id": "1QFthxyHL0ZH"
      },
      "source": [
        "**sumUpNumbers**"
      ]
    },
    {
      "cell_type": "code",
      "metadata": {
        "id": "lqTN2ea5G2ZJ"
      },
      "source": [
        "import re\r\n",
        "def sumUpNumbers(inputString):\r\n",
        "    return sum([int(s) for s in re.findall(\"\\d+\", inputString)])"
      ],
      "execution_count": null,
      "outputs": []
    },
    {
      "cell_type": "code",
      "metadata": {
        "id": "rTQFnDPOL2P9"
      },
      "source": [
        "inputString=  \"there are some (12) digits 5566 in this 770 string 239\""
      ],
      "execution_count": null,
      "outputs": []
    },
    {
      "cell_type": "code",
      "metadata": {
        "colab": {
          "base_uri": "https://localhost:8080/"
        },
        "id": "W3ZhOateL3T_",
        "outputId": "ad08270e-d8bc-4cd5-c7fc-5c342abfd21a"
      },
      "source": [
        "sumUpNumbers(inputString)"
      ],
      "execution_count": null,
      "outputs": [
        {
          "output_type": "execute_result",
          "data": {
            "text/plain": [
              "6587"
            ]
          },
          "metadata": {
            "tags": []
          },
          "execution_count": 70
        }
      ]
    },
    {
      "cell_type": "markdown",
      "metadata": {
        "id": "AEO8jf9pNVUE"
      },
      "source": [
        "**differentSquares**"
      ]
    },
    {
      "cell_type": "code",
      "metadata": {
        "id": "UQyJ_kZhL3Nl"
      },
      "source": [
        "def differentSquares(matrix):\r\n",
        "  for i in range(len(matrix)-1):\r\n",
        "    for j in range(len(matrix[0])-1):\r\n",
        "      new_item = [i for sub_l in [matrix[i][j:j+2],matrix[i+1][j:j+2]] for i in sub_l]\r\n",
        "      if new_item not in res:\r\n",
        "        res.append(new_item)\r\n",
        "  return len(res)"
      ],
      "execution_count": null,
      "outputs": []
    },
    {
      "cell_type": "code",
      "metadata": {
        "id": "mPoIlqJLL3KN"
      },
      "source": [
        "matrix = [[1, 2, 1],\r\n",
        "          [2, 2, 2],\r\n",
        "          [2, 2, 2],\r\n",
        "          [1, 2, 3],\r\n",
        "          [2, 2, 1]]"
      ],
      "execution_count": null,
      "outputs": []
    },
    {
      "cell_type": "code",
      "metadata": {
        "colab": {
          "base_uri": "https://localhost:8080/"
        },
        "id": "h09y5EckL3G-",
        "outputId": "27428cb8-1337-4791-c5f2-f1826ecb1e30"
      },
      "source": [
        "differentSquares(matrix)"
      ],
      "execution_count": null,
      "outputs": [
        {
          "output_type": "execute_result",
          "data": {
            "text/plain": [
              "6"
            ]
          },
          "metadata": {
            "tags": []
          },
          "execution_count": 73
        }
      ]
    },
    {
      "cell_type": "markdown",
      "metadata": {
        "id": "qHEWHqAocD_8"
      },
      "source": [
        "**digitsProduct**"
      ]
    },
    {
      "cell_type": "code",
      "metadata": {
        "id": "qXeIDFu_Pjg8"
      },
      "source": [
        "def digitsProduct(product):\r\n",
        "  \r\n",
        "  if product==0: return 10\r\n",
        "  \r\n",
        "  if product==1: return 1\r\n",
        "\r\n",
        "  res = []\r\n",
        "\r\n",
        "  i=9\r\n",
        "  while i>1:\r\n",
        "    if product%i ==0:\r\n",
        "      product/=i\r\n",
        "      res.append(i)\r\n",
        "    else:\r\n",
        "      i-=1\r\n",
        "  \r\n",
        "  if res:\r\n",
        "    return  int(\"\".join([str(i) for i in res[::-1]]))\r\n",
        "  else: return -1\r\n",
        "  "
      ],
      "execution_count": null,
      "outputs": []
    },
    {
      "cell_type": "code",
      "metadata": {
        "colab": {
          "base_uri": "https://localhost:8080/"
        },
        "id": "hrRd-xVvcIXA",
        "outputId": "a0223123-edc6-4023-e7e2-4e59585f3604"
      },
      "source": [
        "product= 360\r\n",
        "digitsProduct(product)"
      ],
      "execution_count": null,
      "outputs": [
        {
          "output_type": "execute_result",
          "data": {
            "text/plain": [
              "589"
            ]
          },
          "metadata": {
            "tags": []
          },
          "execution_count": 35
        }
      ]
    },
    {
      "cell_type": "code",
      "metadata": {
        "colab": {
          "base_uri": "https://localhost:8080/"
        },
        "id": "o9el5nTGmlQm",
        "outputId": "c5aa7914-87e6-4251-b08a-4f676fdfd120"
      },
      "source": [
        "product= 450\r\n",
        "digitsProduct(product)\r\n"
      ],
      "execution_count": null,
      "outputs": [
        {
          "output_type": "execute_result",
          "data": {
            "text/plain": [
              "2559"
            ]
          },
          "metadata": {
            "tags": []
          },
          "execution_count": 36
        }
      ]
    },
    {
      "cell_type": "markdown",
      "metadata": {
        "id": "WgfV8968qxst"
      },
      "source": [
        "**fileNaming**"
      ]
    },
    {
      "cell_type": "code",
      "metadata": {
        "id": "CSlMZerSqzVw"
      },
      "source": [
        "def fileNaming(names):\r\n",
        "\r\n",
        "  res = []\r\n",
        "\r\n",
        "  for f in names:\r\n",
        "    if f not in res:\r\n",
        "      res.append(f)\r\n",
        "    else:\r\n",
        "      i=1\r\n",
        "      flag= True\r\n",
        "      new_f=f + \"(\"+str(i)+\")\"\r\n",
        "      while flag:\r\n",
        "        if new_f in res:\r\n",
        "          i+=1\r\n",
        "          new_f=f + \"(\"+str(i)+\")\"\r\n",
        "        else:\r\n",
        "          res.append(new_f)\r\n",
        "          flag=False\r\n",
        "  return res"
      ],
      "execution_count": null,
      "outputs": []
    },
    {
      "cell_type": "code",
      "metadata": {
        "colab": {
          "base_uri": "https://localhost:8080/"
        },
        "id": "4ho5U7AMq3Vm",
        "outputId": "a1ac4ec2-07b9-4469-9b9e-bfadb3e8bf09"
      },
      "source": [
        "names= [\"dd\", \r\n",
        " \"dd(1)\", \r\n",
        " \"dd(2)\", \r\n",
        " \"dd\", \r\n",
        " \"dd(1)\", \r\n",
        " \"dd(1)(2)\", \r\n",
        " \"dd(1)(1)\", \r\n",
        " \"dd\", \r\n",
        " \"dd(1)\"]\r\n",
        "\r\n",
        "fileNaming(names)"
      ],
      "execution_count": null,
      "outputs": [
        {
          "output_type": "execute_result",
          "data": {
            "text/plain": [
              "['dd',\n",
              " 'dd(1)',\n",
              " 'dd(2)',\n",
              " 'dd(3)',\n",
              " 'dd(1)(1)',\n",
              " 'dd(1)(2)',\n",
              " 'dd(1)(1)(1)',\n",
              " 'dd(4)',\n",
              " 'dd(1)(3)']"
            ]
          },
          "metadata": {
            "tags": []
          },
          "execution_count": 81
        }
      ]
    },
    {
      "cell_type": "markdown",
      "metadata": {
        "id": "fz-FON8KpaSI"
      },
      "source": [
        "**messageFromBinaryCode**"
      ]
    },
    {
      "cell_type": "code",
      "metadata": {
        "id": "akSUlp3UvAil"
      },
      "source": [
        "def messageFromBinaryCode(code):\r\n",
        "  length=len(code)\r\n",
        "  step= 8\r\n",
        "  \r\n",
        "  chunks = [ code[i:i+step] for i in range(0, length, step)]\r\n",
        "  \r\n",
        "  a_list= [[int(e[-i-1])*2**i for i in range(len(e))] for e in chunks]\r\n",
        "\r\n",
        "  return \"\".join(list(map(chr, (map(sum, a_list)))))"
      ],
      "execution_count": null,
      "outputs": []
    },
    {
      "cell_type": "code",
      "metadata": {
        "colab": {
          "base_uri": "https://localhost:8080/",
          "height": 35
        },
        "id": "hgr4ihMOpddf",
        "outputId": "ab549405-a0c1-45fa-f8f2-8093351270b4"
      },
      "source": [
        "code = \"010010000110010101101100011011000110111100100001\"\r\n",
        "messageFromBinaryCode(code)"
      ],
      "execution_count": null,
      "outputs": [
        {
          "output_type": "execute_result",
          "data": {
            "application/vnd.google.colaboratory.intrinsic+json": {
              "type": "string"
            },
            "text/plain": [
              "'Hello!'"
            ]
          },
          "metadata": {
            "tags": []
          },
          "execution_count": 4
        }
      ]
    },
    {
      "cell_type": "code",
      "metadata": {
        "colab": {
          "base_uri": "https://localhost:8080/",
          "height": 35
        },
        "id": "NdePBMlsvDDG",
        "outputId": "c666afef-cce1-4d7d-be83-44384e60c29f"
      },
      "source": [
        "code= \"0110110001100001011001110110111101101101\"\r\n",
        "messageFromBinaryCode(code)"
      ],
      "execution_count": null,
      "outputs": [
        {
          "output_type": "execute_result",
          "data": {
            "application/vnd.google.colaboratory.intrinsic+json": {
              "type": "string"
            },
            "text/plain": [
              "'lagom'"
            ]
          },
          "metadata": {
            "tags": []
          },
          "execution_count": 7
        }
      ]
    },
    {
      "cell_type": "markdown",
      "metadata": {
        "id": "tohII2QCvThK"
      },
      "source": [
        "**spiralNumbers**"
      ]
    },
    {
      "cell_type": "code",
      "metadata": {
        "id": "SShoxj_xvEnt"
      },
      "source": [
        "def spiralNumbers(n):\r\n",
        "    a = [[0] * n for i in range(n)]\r\n",
        "    \r\n",
        "    num, rad = 1, n\r\n",
        "\r\n",
        "    while rad > 0:\r\n",
        "        i = n - rad\r\n",
        "        for j in range(n - rad, rad):\r\n",
        "            a[i][j] = num\r\n",
        "            num += 1\r\n",
        "\r\n",
        "        for i in range(n - rad + 1, rad):\r\n",
        "            a[i][j] = num\r\n",
        "            num += 1 \r\n",
        "\r\n",
        "        for j in range(rad - 2, n - rad - 1, -1):\r\n",
        "            a[i][j] = num\r\n",
        "            num += 1\r\n",
        "\r\n",
        "        for i in range(rad - 2, n - rad, -1):\r\n",
        "            a[i][j] = num\r\n",
        "            num += 1         \r\n",
        "\r\n",
        "        rad -= 1\r\n",
        "    \r\n",
        "    return a"
      ],
      "execution_count": null,
      "outputs": []
    },
    {
      "cell_type": "code",
      "metadata": {
        "colab": {
          "base_uri": "https://localhost:8080/"
        },
        "id": "bRhOyVFTpdOn",
        "outputId": "9446a14a-b09c-4f85-f2b9-7819ac47d69c"
      },
      "source": [
        "spiralNumbers(5)"
      ],
      "execution_count": null,
      "outputs": [
        {
          "output_type": "execute_result",
          "data": {
            "text/plain": [
              "[[1, 2, 3, 4, 5],\n",
              " [16, 17, 18, 19, 6],\n",
              " [15, 24, 25, 20, 7],\n",
              " [14, 23, 22, 21, 8],\n",
              " [13, 12, 11, 10, 9]]"
            ]
          },
          "metadata": {
            "tags": []
          },
          "execution_count": 2
        }
      ]
    },
    {
      "cell_type": "markdown",
      "metadata": {
        "id": "-D6MdbdEpjiI"
      },
      "source": [
        "**sudoku**"
      ]
    },
    {
      "cell_type": "code",
      "metadata": {
        "id": "HnH9j9yeqJa9"
      },
      "source": [
        "import numpy as np\r\n",
        "\r\n",
        "def sudoku(grid):\r\n",
        "  ng = np.array(grid)\r\n",
        "\r\n",
        "  return all([ np.sum(ng[i:i+3, j:j+3])==45 for i in range(0,9,3) for j in range(0,9,3)]) and all([ np.sum(ng[i,:])==45 for i in range(9)]) and all([ np.sum(ng[:,i])==45 for i in range(9)]) and all([sorted(l)==list(range(1,10)) for l in grid])\r\n",
        "                 "
      ],
      "execution_count": null,
      "outputs": []
    },
    {
      "cell_type": "code",
      "metadata": {
        "colab": {
          "base_uri": "https://localhost:8080/"
        },
        "id": "5TuBB-cFAOur",
        "outputId": "0443e801-db3b-4cd5-a9d4-b20cf78f2efa"
      },
      "source": [
        "grid = [[1, 3, 2, 5, 4, 6, 9, 8, 7],\r\n",
        "        [4, 6, 5, 8, 7, 9, 3, 2, 1],\r\n",
        "        [7, 9, 8, 2, 1, 3, 6, 5, 4],\r\n",
        "        [9, 2, 1, 4, 3, 5, 8, 7, 6],\r\n",
        "        [3, 5, 4, 7, 6, 8, 2, 1, 9],\r\n",
        "        [6, 8, 7, 1, 9, 2, 5, 4, 3],\r\n",
        "        [5, 7, 6, 9, 8, 1, 4, 3, 2],\r\n",
        "        [2, 4, 3, 6, 5, 7, 1, 9, 8],\r\n",
        "        [8, 1, 9, 3, 2, 4, 7, 6, 5]]\r\n",
        "sudoku(grid)"
      ],
      "execution_count": null,
      "outputs": [
        {
          "output_type": "execute_result",
          "data": {
            "text/plain": [
              "True"
            ]
          },
          "metadata": {
            "tags": []
          },
          "execution_count": 81
        }
      ]
    }
  ]
}