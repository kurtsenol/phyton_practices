{
 "cells": [
  {
   "cell_type": "markdown",
   "metadata": {},
   "source": [
    "## iterators vs iterables\n",
    "\n",
    "* iterable: an object with an associated `iter()` method.\n",
    "* iterable examples : srings, lists, dictionaries, range object, file connections.\n",
    "* When `iter()` method applied to an iterable, an iterator object is created. This is actually what \"for loop\" is doing.\n",
    "* iterator: an object associated wtih a `next()` method that produces the consecutive methods.\n",
    "* to create an iterator we use `iter()` method and pass in the iterable. Once we define the iterator, we pass it to the `next()` function and this returns the first value. Calling next again on the iterator returns the next value. We can run next() function until there is no left to return and it throws 'StopIteration error'.\n",
    "* We can iterate at once with \"*\", called star operator or splat operator. This star operator unpacks all elements of an iterator or an iterable. Be careful, when we do so, we can not do it again until we redefine our iterator. "
   ]
  },
  {
   "cell_type": "code",
   "execution_count": 1,
   "metadata": {},
   "outputs": [
    {
     "data": {
      "text/plain": [
       "<str_iterator at 0x22e0f1268c8>"
      ]
     },
     "execution_count": 1,
     "metadata": {},
     "output_type": "execute_result"
    }
   ],
   "source": [
    "# create an iterator\n",
    "\n",
    "word= \"Hello!\"\n",
    "it = iter(word)\n",
    "it"
   ]
  },
  {
   "cell_type": "code",
   "execution_count": 2,
   "metadata": {},
   "outputs": [
    {
     "data": {
      "text/plain": [
       "'H'"
      ]
     },
     "execution_count": 2,
     "metadata": {},
     "output_type": "execute_result"
    }
   ],
   "source": [
    "# get the next value of iterator\n",
    "\n",
    "next(it)"
   ]
  },
  {
   "cell_type": "code",
   "execution_count": 8,
   "metadata": {},
   "outputs": [
    {
     "ename": "StopIteration",
     "evalue": "",
     "output_type": "error",
     "traceback": [
      "\u001b[1;31m---------------------------------------------------------------------------\u001b[0m",
      "\u001b[1;31mStopIteration\u001b[0m                             Traceback (most recent call last)",
      "\u001b[1;32m<ipython-input-8-bc1ab118995a>\u001b[0m in \u001b[0;36m<module>\u001b[1;34m\u001b[0m\n\u001b[1;32m----> 1\u001b[1;33m \u001b[0mnext\u001b[0m\u001b[1;33m(\u001b[0m\u001b[0mit\u001b[0m\u001b[1;33m)\u001b[0m\u001b[1;33m\u001b[0m\u001b[1;33m\u001b[0m\u001b[0m\n\u001b[0m",
      "\u001b[1;31mStopIteration\u001b[0m: "
     ]
    }
   ],
   "source": [
    "# get the next value of iterator\n",
    "# run until get StopIteration Error\n",
    "\n",
    "next(it)"
   ]
  },
  {
   "cell_type": "code",
   "execution_count": 15,
   "metadata": {},
   "outputs": [
    {
     "name": "stdout",
     "output_type": "stream",
     "text": [
      "H e l l o !\n"
     ]
    }
   ],
   "source": [
    "# print all values of an iterator\n",
    "\n",
    "word= \"Hello!\"\n",
    "it = iter(word)\n",
    "print(*it)"
   ]
  },
  {
   "cell_type": "code",
   "execution_count": 16,
   "metadata": {},
   "outputs": [
    {
     "name": "stdout",
     "output_type": "stream",
     "text": [
      "\n"
     ]
    }
   ],
   "source": [
    "# can't get any return when we run again\n",
    "# we have to redefine iterator \n",
    "\n",
    "print(*it)"
   ]
  },
  {
   "cell_type": "code",
   "execution_count": 17,
   "metadata": {},
   "outputs": [
    {
     "name": "stdout",
     "output_type": "stream",
     "text": [
      "H e l l o !\n"
     ]
    }
   ],
   "source": [
    "# redefine iterator and print all values\n",
    "\n",
    "it = iter(word)\n",
    "print(*it)"
   ]
  },
  {
   "cell_type": "markdown",
   "metadata": {},
   "source": [
    "### Iterating over dictionaries\n",
    "\n",
    "to iterate over key, value pairs of a dictionary, we need to unpack them by applying `items()` method to the dictionary."
   ]
  },
  {
   "cell_type": "code",
   "execution_count": 18,
   "metadata": {},
   "outputs": [
    {
     "name": "stdout",
     "output_type": "stream",
     "text": [
      "a 1\n",
      "b 2\n",
      "c 3\n"
     ]
    }
   ],
   "source": [
    "a_dict = {\"a\":1,\"b\":2,\"c\":3}\n",
    "\n",
    "for key, value in a_dict.items():\n",
    "    print(key, value)\n"
   ]
  },
  {
   "cell_type": "markdown",
   "metadata": {},
   "source": [
    "### iterating over file connections"
   ]
  },
  {
   "cell_type": "code",
   "execution_count": 27,
   "metadata": {},
   "outputs": [
    {
     "name": "stdout",
     "output_type": "stream",
     "text": [
      "This is first line.\n",
      "\n"
     ]
    }
   ],
   "source": [
    "file = open(\"file.txt\")\n",
    "it = iter(file)\n",
    "print(next(it))"
   ]
  },
  {
   "cell_type": "code",
   "execution_count": 28,
   "metadata": {},
   "outputs": [
    {
     "name": "stdout",
     "output_type": "stream",
     "text": [
      "This is second line.\n",
      "\n"
     ]
    }
   ],
   "source": [
    "print(next(it))"
   ]
  },
  {
   "cell_type": "markdown",
   "metadata": {},
   "source": [
    "### enumerate() function\n",
    "\n",
    "enumerate() function takes any iterable as argument, such as list, and returns a enumerate object which consists of pairs containing the elements of the original iterable and their index within the iterable. We can use `list()` function on this enumerate object to turn it to a list of tuples.\n"
   ]
  },
  {
   "cell_type": "code",
   "execution_count": 30,
   "metadata": {},
   "outputs": [
    {
     "name": "stdout",
     "output_type": "stream",
     "text": [
      "<enumerate object at 0x0000022E10D7E278>\n"
     ]
    }
   ],
   "source": [
    "mutants = ['charles xavier', 'bobby drake', 'kurt wagner', 'max eisenhardt', 'kitty pryde']\n",
    "\n",
    "e =enumerate(mutants)\n",
    "print(e)"
   ]
  },
  {
   "cell_type": "code",
   "execution_count": 31,
   "metadata": {},
   "outputs": [
    {
     "name": "stdout",
     "output_type": "stream",
     "text": [
      "[(0, 'charles xavier'), (1, 'bobby drake'), (2, 'kurt wagner'), (3, 'max eisenhardt'), (4, 'kitty pryde')]\n"
     ]
    }
   ],
   "source": [
    "e_list = list(e)\n",
    "print(e_list)"
   ]
  },
  {
   "cell_type": "markdown",
   "metadata": {},
   "source": [
    "* enumerate object is also an iterable and we can loop over it by unpacking its elements using clause \"for index, value in enumerate(a_list)\" "
   ]
  },
  {
   "cell_type": "code",
   "execution_count": 32,
   "metadata": {},
   "outputs": [
    {
     "name": "stdout",
     "output_type": "stream",
     "text": [
      "0 charles xavier\n",
      "1 bobby drake\n",
      "2 kurt wagner\n",
      "3 max eisenhardt\n",
      "4 kitty pryde\n"
     ]
    }
   ],
   "source": [
    "for index, value in enumerate(mutants):\n",
    "    print(index, value)"
   ]
  },
  {
   "cell_type": "markdown",
   "metadata": {},
   "source": [
    "* by default the index starts at 0. But we can change it by passing in \"start=10\""
   ]
  },
  {
   "cell_type": "code",
   "execution_count": 33,
   "metadata": {},
   "outputs": [
    {
     "name": "stdout",
     "output_type": "stream",
     "text": [
      "10 charles xavier\n",
      "11 bobby drake\n",
      "12 kurt wagner\n",
      "13 max eisenhardt\n",
      "14 kitty pryde\n"
     ]
    }
   ],
   "source": [
    "for index, value in enumerate(mutants, start=10):\n",
    "    print(index, value)"
   ]
  },
  {
   "cell_type": "markdown",
   "metadata": {},
   "source": [
    "###  iterate over numpay arrays"
   ]
  },
  {
   "cell_type": "code",
   "execution_count": 2,
   "metadata": {},
   "outputs": [
    {
     "data": {
      "text/plain": [
       "array([[ 5, 10],\n",
       "       [15, 20],\n",
       "       [25, 30]])"
      ]
     },
     "execution_count": 2,
     "metadata": {},
     "output_type": "execute_result"
    }
   ],
   "source": [
    "import numpy as np\n",
    "array = np.arange(5,35,5).reshape(3,2)\n",
    "array"
   ]
  },
  {
   "cell_type": "code",
   "execution_count": 3,
   "metadata": {},
   "outputs": [
    {
     "name": "stdout",
     "output_type": "stream",
     "text": [
      "5\n",
      "10\n",
      "15\n",
      "20\n",
      "25\n",
      "30\n"
     ]
    }
   ],
   "source": [
    "for val in np.nditer(array):\n",
    "    print(val)"
   ]
  },
  {
   "cell_type": "markdown",
   "metadata": {},
   "source": [
    "###  iterate over pandas DataFrames"
   ]
  },
  {
   "cell_type": "code",
   "execution_count": 9,
   "metadata": {},
   "outputs": [
    {
     "data": {
      "text/html": [
       "<div>\n",
       "<style scoped>\n",
       "    .dataframe tbody tr th:only-of-type {\n",
       "        vertical-align: middle;\n",
       "    }\n",
       "\n",
       "    .dataframe tbody tr th {\n",
       "        vertical-align: top;\n",
       "    }\n",
       "\n",
       "    .dataframe thead th {\n",
       "        text-align: right;\n",
       "    }\n",
       "</style>\n",
       "<table border=\"1\" class=\"dataframe\">\n",
       "  <thead>\n",
       "    <tr style=\"text-align: right;\">\n",
       "      <th></th>\n",
       "      <th>country</th>\n",
       "      <th>capital</th>\n",
       "      <th>area</th>\n",
       "      <th>population</th>\n",
       "    </tr>\n",
       "  </thead>\n",
       "  <tbody>\n",
       "    <tr>\n",
       "      <th>BR</th>\n",
       "      <td>Brazil</td>\n",
       "      <td>Brasilia</td>\n",
       "      <td>8.516</td>\n",
       "      <td>200.40</td>\n",
       "    </tr>\n",
       "    <tr>\n",
       "      <th>RU</th>\n",
       "      <td>Russia</td>\n",
       "      <td>Moscow</td>\n",
       "      <td>17.100</td>\n",
       "      <td>143.50</td>\n",
       "    </tr>\n",
       "    <tr>\n",
       "      <th>IN</th>\n",
       "      <td>India</td>\n",
       "      <td>New Delhi</td>\n",
       "      <td>3.286</td>\n",
       "      <td>1252.00</td>\n",
       "    </tr>\n",
       "    <tr>\n",
       "      <th>CH</th>\n",
       "      <td>China</td>\n",
       "      <td>Beijing</td>\n",
       "      <td>9.597</td>\n",
       "      <td>1357.00</td>\n",
       "    </tr>\n",
       "    <tr>\n",
       "      <th>SA</th>\n",
       "      <td>South Africa</td>\n",
       "      <td>Pretoria</td>\n",
       "      <td>1.221</td>\n",
       "      <td>52.98</td>\n",
       "    </tr>\n",
       "  </tbody>\n",
       "</table>\n",
       "</div>"
      ],
      "text/plain": [
       "         country    capital    area  population\n",
       "BR        Brazil   Brasilia   8.516      200.40\n",
       "RU        Russia     Moscow  17.100      143.50\n",
       "IN         India  New Delhi   3.286     1252.00\n",
       "CH         China    Beijing   9.597     1357.00\n",
       "SA  South Africa   Pretoria   1.221       52.98"
      ]
     },
     "execution_count": 9,
     "metadata": {},
     "output_type": "execute_result"
    }
   ],
   "source": [
    "import pandas as pd\n",
    "brics = pd.read_csv(\"Data/brics.csv\", index_col=0)\n",
    "brics"
   ]
  },
  {
   "cell_type": "code",
   "execution_count": 10,
   "metadata": {},
   "outputs": [
    {
     "name": "stdout",
     "output_type": "stream",
     "text": [
      "country\n",
      "capital\n",
      "area\n",
      "population\n"
     ]
    }
   ],
   "source": [
    "for val in brics:\n",
    "    print(val)"
   ]
  },
  {
   "cell_type": "code",
   "execution_count": 20,
   "metadata": {},
   "outputs": [
    {
     "name": "stdout",
     "output_type": "stream",
     "text": [
      "BR\n",
      "country         Brazil\n",
      "capital       Brasilia\n",
      "area             8.516\n",
      "population       200.4\n",
      "Name: BR, dtype: object\n",
      "RU\n",
      "country       Russia\n",
      "capital       Moscow\n",
      "area            17.1\n",
      "population     143.5\n",
      "Name: RU, dtype: object\n",
      "IN\n",
      "country           India\n",
      "capital       New Delhi\n",
      "area              3.286\n",
      "population         1252\n",
      "Name: IN, dtype: object\n",
      "CH\n",
      "country         China\n",
      "capital       Beijing\n",
      "area            9.597\n",
      "population       1357\n",
      "Name: CH, dtype: object\n",
      "SA\n",
      "country       South Africa\n",
      "capital           Pretoria\n",
      "area                 1.221\n",
      "population           52.98\n",
      "Name: SA, dtype: object\n"
     ]
    }
   ],
   "source": [
    "for lab, row in brics.iterrows():\n",
    "    print(lab)\n",
    "    print(row)    "
   ]
  },
  {
   "cell_type": "code",
   "execution_count": 22,
   "metadata": {},
   "outputs": [
    {
     "name": "stdout",
     "output_type": "stream",
     "text": [
      "BR : Brasilia\n",
      "RU : Moscow\n",
      "IN : New Delhi\n",
      "CH : Beijing\n",
      "SA : Pretoria\n"
     ]
    }
   ],
   "source": [
    "for lab, row in brics.iterrows():\n",
    "    print(lab + \" : \" + row[\"capital\"])"
   ]
  },
  {
   "cell_type": "markdown",
   "metadata": {},
   "source": [
    "### creating series on every iteration"
   ]
  },
  {
   "cell_type": "code",
   "execution_count": 31,
   "metadata": {},
   "outputs": [
    {
     "data": {
      "text/html": [
       "<div>\n",
       "<style scoped>\n",
       "    .dataframe tbody tr th:only-of-type {\n",
       "        vertical-align: middle;\n",
       "    }\n",
       "\n",
       "    .dataframe tbody tr th {\n",
       "        vertical-align: top;\n",
       "    }\n",
       "\n",
       "    .dataframe thead th {\n",
       "        text-align: right;\n",
       "    }\n",
       "</style>\n",
       "<table border=\"1\" class=\"dataframe\">\n",
       "  <thead>\n",
       "    <tr style=\"text-align: right;\">\n",
       "      <th></th>\n",
       "      <th>country</th>\n",
       "      <th>capital</th>\n",
       "      <th>area</th>\n",
       "      <th>population</th>\n",
       "      <th>name_length</th>\n",
       "    </tr>\n",
       "  </thead>\n",
       "  <tbody>\n",
       "    <tr>\n",
       "      <th>BR</th>\n",
       "      <td>Brazil</td>\n",
       "      <td>Brasilia</td>\n",
       "      <td>8.516</td>\n",
       "      <td>200.40</td>\n",
       "      <td>6</td>\n",
       "    </tr>\n",
       "    <tr>\n",
       "      <th>RU</th>\n",
       "      <td>Russia</td>\n",
       "      <td>Moscow</td>\n",
       "      <td>17.100</td>\n",
       "      <td>143.50</td>\n",
       "      <td>6</td>\n",
       "    </tr>\n",
       "    <tr>\n",
       "      <th>IN</th>\n",
       "      <td>India</td>\n",
       "      <td>New Delhi</td>\n",
       "      <td>3.286</td>\n",
       "      <td>1252.00</td>\n",
       "      <td>5</td>\n",
       "    </tr>\n",
       "    <tr>\n",
       "      <th>CH</th>\n",
       "      <td>China</td>\n",
       "      <td>Beijing</td>\n",
       "      <td>9.597</td>\n",
       "      <td>1357.00</td>\n",
       "      <td>5</td>\n",
       "    </tr>\n",
       "    <tr>\n",
       "      <th>SA</th>\n",
       "      <td>South Africa</td>\n",
       "      <td>Pretoria</td>\n",
       "      <td>1.221</td>\n",
       "      <td>52.98</td>\n",
       "      <td>12</td>\n",
       "    </tr>\n",
       "  </tbody>\n",
       "</table>\n",
       "</div>"
      ],
      "text/plain": [
       "         country    capital    area  population  name_length\n",
       "BR        Brazil   Brasilia   8.516      200.40            6\n",
       "RU        Russia     Moscow  17.100      143.50            6\n",
       "IN         India  New Delhi   3.286     1252.00            5\n",
       "CH         China    Beijing   9.597     1357.00            5\n",
       "SA  South Africa   Pretoria   1.221       52.98           12"
      ]
     },
     "execution_count": 31,
     "metadata": {},
     "output_type": "execute_result"
    }
   ],
   "source": [
    "for lab, row in brics.iterrows():\n",
    "    brics.loc[lab, \"name_length\"] = len(row[\"country\"])\n",
    "brics"
   ]
  },
  {
   "cell_type": "code",
   "execution_count": 33,
   "metadata": {},
   "outputs": [
    {
     "data": {
      "text/html": [
       "<div>\n",
       "<style scoped>\n",
       "    .dataframe tbody tr th:only-of-type {\n",
       "        vertical-align: middle;\n",
       "    }\n",
       "\n",
       "    .dataframe tbody tr th {\n",
       "        vertical-align: top;\n",
       "    }\n",
       "\n",
       "    .dataframe thead th {\n",
       "        text-align: right;\n",
       "    }\n",
       "</style>\n",
       "<table border=\"1\" class=\"dataframe\">\n",
       "  <thead>\n",
       "    <tr style=\"text-align: right;\">\n",
       "      <th></th>\n",
       "      <th>country</th>\n",
       "      <th>capital</th>\n",
       "      <th>area</th>\n",
       "      <th>population</th>\n",
       "      <th>name_length</th>\n",
       "    </tr>\n",
       "  </thead>\n",
       "  <tbody>\n",
       "    <tr>\n",
       "      <th>BR</th>\n",
       "      <td>Brazil</td>\n",
       "      <td>Brasilia</td>\n",
       "      <td>8.516</td>\n",
       "      <td>200.40</td>\n",
       "      <td>8</td>\n",
       "    </tr>\n",
       "    <tr>\n",
       "      <th>RU</th>\n",
       "      <td>Russia</td>\n",
       "      <td>Moscow</td>\n",
       "      <td>17.100</td>\n",
       "      <td>143.50</td>\n",
       "      <td>6</td>\n",
       "    </tr>\n",
       "    <tr>\n",
       "      <th>IN</th>\n",
       "      <td>India</td>\n",
       "      <td>New Delhi</td>\n",
       "      <td>3.286</td>\n",
       "      <td>1252.00</td>\n",
       "      <td>9</td>\n",
       "    </tr>\n",
       "    <tr>\n",
       "      <th>CH</th>\n",
       "      <td>China</td>\n",
       "      <td>Beijing</td>\n",
       "      <td>9.597</td>\n",
       "      <td>1357.00</td>\n",
       "      <td>7</td>\n",
       "    </tr>\n",
       "    <tr>\n",
       "      <th>SA</th>\n",
       "      <td>South Africa</td>\n",
       "      <td>Pretoria</td>\n",
       "      <td>1.221</td>\n",
       "      <td>52.98</td>\n",
       "      <td>8</td>\n",
       "    </tr>\n",
       "  </tbody>\n",
       "</table>\n",
       "</div>"
      ],
      "text/plain": [
       "         country    capital    area  population  name_length\n",
       "BR        Brazil   Brasilia   8.516      200.40            8\n",
       "RU        Russia     Moscow  17.100      143.50            6\n",
       "IN         India  New Delhi   3.286     1252.00            9\n",
       "CH         China    Beijing   9.597     1357.00            7\n",
       "SA  South Africa   Pretoria   1.221       52.98            8"
      ]
     },
     "execution_count": 33,
     "metadata": {},
     "output_type": "execute_result"
    }
   ],
   "source": [
    "brics[\"name_length\"] = brics[\"capital\"].apply(len)\n",
    "brics"
   ]
  },
  {
   "cell_type": "code",
   "execution_count": 42,
   "metadata": {},
   "outputs": [
    {
     "data": {
      "text/html": [
       "<div>\n",
       "<style scoped>\n",
       "    .dataframe tbody tr th:only-of-type {\n",
       "        vertical-align: middle;\n",
       "    }\n",
       "\n",
       "    .dataframe tbody tr th {\n",
       "        vertical-align: top;\n",
       "    }\n",
       "\n",
       "    .dataframe thead th {\n",
       "        text-align: right;\n",
       "    }\n",
       "</style>\n",
       "<table border=\"1\" class=\"dataframe\">\n",
       "  <thead>\n",
       "    <tr style=\"text-align: right;\">\n",
       "      <th></th>\n",
       "      <th>country</th>\n",
       "      <th>capital</th>\n",
       "      <th>area</th>\n",
       "      <th>population</th>\n",
       "      <th>name_length</th>\n",
       "    </tr>\n",
       "  </thead>\n",
       "  <tbody>\n",
       "    <tr>\n",
       "      <th>BR</th>\n",
       "      <td>BRAZIL</td>\n",
       "      <td>Brasilia</td>\n",
       "      <td>8.516</td>\n",
       "      <td>200.40</td>\n",
       "      <td>8</td>\n",
       "    </tr>\n",
       "    <tr>\n",
       "      <th>RU</th>\n",
       "      <td>RUSSIA</td>\n",
       "      <td>Moscow</td>\n",
       "      <td>17.100</td>\n",
       "      <td>143.50</td>\n",
       "      <td>6</td>\n",
       "    </tr>\n",
       "    <tr>\n",
       "      <th>IN</th>\n",
       "      <td>INDIA</td>\n",
       "      <td>New Delhi</td>\n",
       "      <td>3.286</td>\n",
       "      <td>1252.00</td>\n",
       "      <td>9</td>\n",
       "    </tr>\n",
       "    <tr>\n",
       "      <th>CH</th>\n",
       "      <td>CHINA</td>\n",
       "      <td>Beijing</td>\n",
       "      <td>9.597</td>\n",
       "      <td>1357.00</td>\n",
       "      <td>7</td>\n",
       "    </tr>\n",
       "    <tr>\n",
       "      <th>SA</th>\n",
       "      <td>SOUTH AFRICA</td>\n",
       "      <td>Pretoria</td>\n",
       "      <td>1.221</td>\n",
       "      <td>52.98</td>\n",
       "      <td>8</td>\n",
       "    </tr>\n",
       "  </tbody>\n",
       "</table>\n",
       "</div>"
      ],
      "text/plain": [
       "         country    capital    area  population  name_length\n",
       "BR        BRAZIL   Brasilia   8.516      200.40            8\n",
       "RU        RUSSIA     Moscow  17.100      143.50            6\n",
       "IN         INDIA  New Delhi   3.286     1252.00            9\n",
       "CH         CHINA    Beijing   9.597     1357.00            7\n",
       "SA  SOUTH AFRICA   Pretoria   1.221       52.98            8"
      ]
     },
     "execution_count": 42,
     "metadata": {},
     "output_type": "execute_result"
    }
   ],
   "source": [
    "brics[\"country\"] = brics[\"country\"].apply(str.upper)\n",
    "brics"
   ]
  },
  {
   "cell_type": "markdown",
   "metadata": {},
   "source": [
    "### generator expressions"
   ]
  },
  {
   "cell_type": "code",
   "execution_count": 55,
   "metadata": {},
   "outputs": [
    {
     "data": {
      "text/plain": [
       "<generator object gen_func at 0x0000014E9E7857C8>"
      ]
     },
     "execution_count": 55,
     "metadata": {},
     "output_type": "execute_result"
    }
   ],
   "source": [
    "nums = [1, 2, 3, 4, 5, 6, 7, 8, 9, 10]\n",
    "\n",
    "def gen_func(a_list):\n",
    "    for n in a_list:\n",
    "        yield n*n\n",
    "\n",
    "my_gen = gen_func(nums)\n",
    "my_gen"
   ]
  },
  {
   "cell_type": "code",
   "execution_count": 56,
   "metadata": {},
   "outputs": [
    {
     "name": "stdout",
     "output_type": "stream",
     "text": [
      "1 4 9 16 25 36 49 64 81 100 "
     ]
    }
   ],
   "source": [
    "# be careful generatore don't store values!!\n",
    "# it means you can only print ones!!\n",
    "\n",
    "for i in my_gen:\n",
    "    print (i, end=\" \")"
   ]
  },
  {
   "cell_type": "code",
   "execution_count": 61,
   "metadata": {},
   "outputs": [
    {
     "name": "stdout",
     "output_type": "stream",
     "text": [
      "1 4 9 16 25 36 49 64 81 100 "
     ]
    }
   ],
   "source": [
    "# generator expressions\n",
    "# use () not [] for generators\n",
    "\n",
    "my_gen = (n*n for n in nums)\n",
    "\n",
    "for i in my_gen:\n",
    "    print (i, end=\" \")"
   ]
  },
  {
   "cell_type": "markdown",
   "metadata": {},
   "source": [
    "### zip() function\n",
    "\n",
    "`zip()` function takes any number of iterables and **returns a zip object that is an iterator of tuples**. If you wanted to print the values of a zip object, you can convert it into a list and then print it. Printing just a zip object will not return the values unless you unpack it first."
   ]
  },
  {
   "cell_type": "code",
   "execution_count": 2,
   "metadata": {},
   "outputs": [
    {
     "name": "stdout",
     "output_type": "stream",
     "text": [
      "[('charles xavier', 'prof x', 'telepathy'), ('bobby drake', 'iceman', 'thermokinesis'), ('kurt wagner', 'nightcrawler', 'teleportation'), ('max eisenhardt', 'magneto', 'magnetokinesis'), ('kitty pryde', 'shadowcat', 'intangibility')]\n"
     ]
    }
   ],
   "source": [
    "mutants = ['charles xavier', 'bobby drake', 'kurt wagner', 'max eisenhardt', 'kitty pryde']\n",
    "aliases = ['prof x', 'iceman', 'nightcrawler', 'magneto', 'shadowcat']\n",
    "powers = ['telepathy', 'thermokinesis', 'teleportation', 'magnetokinesis', 'intangibility']\n",
    "\n",
    "# Create a list of tuples: mutant_data\n",
    "mutant_data = list(zip(mutants, aliases, powers))\n",
    "\n",
    "# Print the list of tuples\n",
    "print(mutant_data)"
   ]
  },
  {
   "cell_type": "code",
   "execution_count": 37,
   "metadata": {},
   "outputs": [
    {
     "name": "stdout",
     "output_type": "stream",
     "text": [
      "<zip object at 0x0000022E103397C8>\n"
     ]
    }
   ],
   "source": [
    "# Create a zip object using the three lists: mutant_zip\n",
    "mutant_zip = zip(mutants, aliases, powers)\n",
    "\n",
    "# Print the zip object\n",
    "print(mutant_zip)"
   ]
  },
  {
   "cell_type": "code",
   "execution_count": 38,
   "metadata": {},
   "outputs": [
    {
     "name": "stdout",
     "output_type": "stream",
     "text": [
      "charles xavier prof x telepathy\n",
      "bobby drake iceman thermokinesis\n",
      "kurt wagner nightcrawler teleportation\n",
      "max eisenhardt magneto magnetokinesis\n",
      "kitty pryde shadowcat intangibility\n"
     ]
    }
   ],
   "source": [
    "# Unpack the zip object and print the tuple values\n",
    "for value1, value2, value3 in mutant_zip:\n",
    "    print(value1, value2, value3)"
   ]
  },
  {
   "cell_type": "code",
   "execution_count": 43,
   "metadata": {},
   "outputs": [
    {
     "name": "stdout",
     "output_type": "stream",
     "text": [
      "('charles xavier', 'prof x', 'telepathy') ('bobby drake', 'iceman', 'thermokinesis') ('kurt wagner', 'nightcrawler', 'teleportation') ('max eisenhardt', 'magneto', 'magnetokinesis') ('kitty pryde', 'shadowcat', 'intangibility')\n"
     ]
    }
   ],
   "source": [
    "# Because the previous print() call would have exhausted the elements in mutant_zip,\n",
    "# recreate the zip object you defined earlier and assign the result again to mutant_zip.\n",
    "# Splat operator(*) to print all the elements\n",
    "\n",
    "mutant_zip = zip(mutants, aliases, powers)\n",
    "print(*mutant_zip)"
   ]
  },
  {
   "cell_type": "code",
   "execution_count": 56,
   "metadata": {},
   "outputs": [
    {
     "data": {
      "text/plain": [
       "<zip at 0x22e102e3908>"
      ]
     },
     "execution_count": 56,
     "metadata": {},
     "output_type": "execute_result"
    }
   ],
   "source": [
    "# recreate mutant zip\n",
    "\n",
    "mutant_zip = zip(mutants, aliases, powers)\n",
    "mutant_zip"
   ]
  },
  {
   "cell_type": "code",
   "execution_count": 57,
   "metadata": {},
   "outputs": [
    {
     "name": "stdout",
     "output_type": "stream",
     "text": [
      "('charles xavier', 'bobby drake', 'kurt wagner', 'max eisenhardt', 'kitty pryde') ('prof x', 'iceman', 'nightcrawler', 'magneto', 'shadowcat') ('telepathy', 'thermokinesis', 'teleportation', 'magnetokinesis', 'intangibility')\n"
     ]
    }
   ],
   "source": [
    "# 'Unzip' the tuples in mutant_zip by unpacking them into positional arguments using the * operator \n",
    "# in a zip() call. Assign the results to their original variables in the same order.\n",
    "\n",
    "mutants, aliases, powers = zip(*mutant_zip)\n",
    "print(mutants, aliases, powers)"
   ]
  },
  {
   "cell_type": "code",
   "execution_count": 3,
   "metadata": {},
   "outputs": [
    {
     "name": "stdout",
     "output_type": "stream",
     "text": [
      "{'charles xavier': 'prof x', 'bobby drake': 'iceman', 'kurt wagner': 'nightcrawler', 'max eisenhardt': 'magneto', 'kitty pryde': 'shadowcat'}\n"
     ]
    }
   ],
   "source": [
    "# Dictionaries\n",
    "\n",
    "# Zip lists: zipped_lists\n",
    "zipped_lists = zip(mutants, aliases)\n",
    "\n",
    "# Create a dictionary: rs_dict\n",
    "rs_dict = dict(zipped_lists)\n",
    "\n",
    "# Print the dictionary\n",
    "print(rs_dict)"
   ]
  },
  {
   "cell_type": "code",
   "execution_count": 4,
   "metadata": {},
   "outputs": [
    {
     "name": "stdout",
     "output_type": "stream",
     "text": [
      "{'CountryName': 'Arab World', 'CountryCode': 'ARB', 'IndicatorName': 'Adolescent fertility rate (births per 1,000 women ages 15-19)', 'IndicatorCode': 'SP.ADO.TFRT', 'Year': '1960', 'Value': '133.56090740552298'}\n"
     ]
    }
   ],
   "source": [
    "# Pre-defined lists\n",
    "feature_names = ['CountryName', 'CountryCode',\n",
    "                 'IndicatorName', 'IndicatorCode', 'Year', 'Value']\n",
    "\n",
    "row_vals = ['Arab World', 'ARB',\n",
    "                'Adolescent fertility rate (births per 1,000 women ages 15-19)', 'SP.ADO.TFRT', \n",
    "                '1960', '133.56090740552298']\n",
    "\n",
    "# Define lists2dict()\n",
    "def lists2dict(list1, list2):\n",
    "    \"\"\"Return a dictionary where list1 provides\n",
    "    the keys and list2 provides the values.\"\"\"\n",
    "\n",
    "    # Zip lists: zipped_lists\n",
    "    zipped_lists = zip(list1, list2)\n",
    "\n",
    "    # Create a dictionary: rs_dict\n",
    "    rs_dict = dict(zipped_lists)\n",
    "\n",
    "    # Return the dictionary\n",
    "    return rs_dict\n",
    "\n",
    "# Call lists2dict: rs_fxn\n",
    "rs_fxn = lists2dict(feature_names, row_vals)\n",
    "\n",
    "# Print rs_fxn\n",
    "print(rs_fxn)"
   ]
  },
  {
   "cell_type": "code",
   "execution_count": 7,
   "metadata": {},
   "outputs": [
    {
     "name": "stdout",
     "output_type": "stream",
     "text": [
      "['Arab World', 'ARB', 'Adolescent fertility rate (births per 1,000 women ages 15-19)', 'SP.ADO.TFRT', '1960', '133.56090740552298']\n",
      "['Arab World', 'ARB', 'Age dependency ratio (% of working-age population)', 'SP.POP.DPND', '1960', '87.7976011532547']\n",
      "{'CountryName': 'Arab World', 'CountryCode': 'ARB', 'IndicatorName': 'Adolescent fertility rate (births per 1,000 women ages 15-19)', 'IndicatorCode': 'SP.ADO.TFRT', 'Year': '1960', 'Value': '133.56090740552298'}\n",
      "{'CountryName': 'Arab World', 'CountryCode': 'ARB', 'IndicatorName': 'Age dependency ratio (% of working-age population)', 'IndicatorCode': 'SP.POP.DPND', 'Year': '1960', 'Value': '87.7976011532547'}\n",
      "  CountryName CountryCode                                      IndicatorName  \\\n",
      "0  Arab World         ARB  Adolescent fertility rate (births per 1,000 wo...   \n",
      "1  Arab World         ARB  Age dependency ratio (% of working-age populat...   \n",
      "2  Arab World         ARB  Age dependency ratio, old (% of working-age po...   \n",
      "\n",
      "    IndicatorCode  Year               Value  \n",
      "0     SP.ADO.TFRT  1960  133.56090740552298  \n",
      "1     SP.POP.DPND  1960    87.7976011532547  \n",
      "2  SP.POP.DPND.OL  1960   6.634579191565161  \n"
     ]
    }
   ],
   "source": [
    "import pandas as pd\n",
    "\n",
    "feature_names = ['CountryName', 'CountryCode',\n",
    "                 'IndicatorName', 'IndicatorCode', 'Year', 'Value']\n",
    "\n",
    "row_lists = [['Arab World',\n",
    "             'ARB',\n",
    "             'Adolescent fertility rate (births per 1,000 women ages 15-19)',\n",
    "             'SP.ADO.TFRT',\n",
    "             '1960',\n",
    "             '133.56090740552298'],\n",
    "            ['Arab World',\n",
    "             'ARB',\n",
    "             'Age dependency ratio (% of working-age population)',\n",
    "             'SP.POP.DPND',\n",
    "             '1960',\n",
    "             '87.7976011532547'],\n",
    "            ['Arab World',\n",
    "             'ARB',\n",
    "             'Age dependency ratio, old (% of working-age population)',\n",
    "             'SP.POP.DPND.OL',\n",
    "             '1960',\n",
    "             '6.634579191565161']]\n",
    "\n",
    "# Print the first two lists in row_lists\n",
    "print(row_lists[0])\n",
    "print(row_lists[1])\n",
    "\n",
    "# Turn list of lists into list of dicts: list_of_dicts\n",
    "list_of_dicts = [lists2dict(feature_names, sublist) for sublist in row_lists]\n",
    "\n",
    "# Print the first two dictionaries in list_of_dicts\n",
    "print(list_of_dicts[0])\n",
    "print(list_of_dicts[1])\n",
    "\n",
    "# Turn list of dicts into a DataFrame: df\n",
    "df = pd.DataFrame(list_of_dicts)\n",
    "\n",
    "# Print the head of the DataFrame\n",
    "print(df.head())"
   ]
  },
  {
   "cell_type": "markdown",
   "metadata": {},
   "source": [
    "### Iterating over large size of data\n",
    "\n",
    "Sometimes, the data we have to process reaches a size that is too much for a computer's memory to handle. A solution to this is to process an entire data source chunk by chunk, instead of a single go all at once."
   ]
  },
  {
   "cell_type": "code",
   "execution_count": 60,
   "metadata": {},
   "outputs": [
    {
     "name": "stdout",
     "output_type": "stream",
     "text": [
      "{'United Kingdom': 5737, 'Bosnia and Herzegovina': 108, 'Thailand': 214, 'United States': 20949, 'Ukraine': 868, 'Canada': 3395, 'India': 9061, 'New Zealand': 524, 'Antigua and Barbuda': 9, 'Germany': 5866, 'Australia': 1903, 'Russian Federation': 1694, 'Brazil': 1948, 'Lithuania': 248, 'Israel': 952, 'South Africa': 627, 'Colombia': 313, 'Turkey': 949, 'Switzerland': 978, 'Argentina': 553, 'Sri Lanka': 372, 'Czech Republic': 764, 'Denmark': 617, 'Malaysia': 299, 'Bangladesh': 605, 'Spain': 1604, 'Serbia': 402, 'Poland': 1922, 'Sweden': 1274, 'China': 664, 'France': 2391, 'Netherlands': 1852, 'Italy': 1576, 'Philippines': 381, 'Ireland': 501, 'Pakistan': 923, 'Azerbaijan': 49, 'Austria': 839, 'Estonia': 195, 'Croatia': 260, 'South Korea': 160, 'Greece': 556, 'Japan': 391, 'Romania': 760, 'Finland': 546, 'Bulgaria': 659, 'Viet Nam': 231, 'Slovenia': 298, 'Iran': 738, 'Belarus': 202, 'Hungary': 513, 'Latvia': 136, 'Hong Kong (S.A.R.)': 188, 'United Arab Emirates': 158, 'Portugal': 525, 'Nigeria': 522, 'Norway': 574, 'Nicaragua': 30, 'Zimbabwe': 39, 'Egypt': 323, 'Mexico': 642, 'Dominican Republic': 97, 'Guatemala': 67, 'Chile': 206, 'Ecuador': 82, 'Ghana': 84, 'Uganda': 72, 'Cambodia': 30, 'Mauritius': 26, 'Nepal': 237, 'Singapore': 303, 'Sierra Leone': 2, 'Republic of Moldova': 43, 'Belgium': 727, 'Armenia': 86, 'Afghanistan': 44, 'Bahrain': 18, 'Mongolia': 17, 'Georgia': 80, 'Cyprus': 64, 'Kenya': 249, 'Luxembourg': 61, 'Saudi Arabia': 98, 'Cape Verde': 3, 'Peru': 130, 'Burundi': 3, 'Iraq': 39, 'Slovakia': 260, 'Algeria': 134, 'Taiwan': 187, 'Yemen': 19, 'Indonesia': 507, 'Morocco': 155, 'Libyan Arab Jamahiriya': 10, 'Belize': 3, 'Mali': 3, 'Trinidad and Tobago': 19, 'Venezuela, Bolivarian Republic of...': 88, 'Panama': 33, 'Lebanon': 120, 'Tunisia': 130, 'Kuwait': 20, 'Andorra': 7, \"Côte d'Ivoire\": 34, 'Syrian Arab Republic': 29, 'El Salvador': 67, 'Cameroon': 51, 'Malta': 65, 'Turkmenistan': 7, 'Brunei Darussalam': 1, 'Other Country (Not Listed Above)': 136, 'Costa Rica': 84, 'Jordan': 65, 'Albania': 86, 'Uzbekistan': 39, 'Sudan': 42, 'Kazakhstan': 64, 'The former Yugoslav Republic of Macedonia': 54, 'Ethiopia': 52, 'Paraguay': 52, 'Myanmar': 52, 'Somalia': 13, 'Guyana': 3, 'Honduras': 27, 'Qatar': 13, 'Jamaica': 28, 'Fiji': 5, 'Haiti': 5, 'Democratic Republic of the Congo': 7, 'Benin': 5, 'Namibia': 5, 'Montenegro': 17, 'Rwanda': 12, 'Tajikistan': 7, 'Uruguay': 111, 'Mauritania': 7, 'Bolivia': 36, 'Gabon': 2, 'Liechtenstein': 3, 'United Republic of Tanzania': 32, 'Kyrgyzstan': 19, \"Lao People's Democratic Republic\": 3, 'Madagascar': 15, 'Guinea': 3, 'Republic of Korea': 39, 'Cuba': 30, 'Maldives': 13, 'Monaco': 4, 'North Korea': 1, 'Senegal': 21, 'Angola': 5, 'Iceland': 49, 'Togo': 4, 'Swaziland': 8, 'Congo, Republic of the...': 7, 'Zambia': 12, 'Oman': 11, 'Timor-Leste': 1, 'Tonga': 1, 'Djibouti': 2, \"Democratic People's Republic of Korea\": 3, 'Niger': 1, 'Mozambique': 7, 'Botswana': 5, 'Dominica': 1, 'Papua New Guinea': 1, 'Barbados': 3, 'Seychelles': 2, 'Lesotho': 3, 'Bahamas': 3, 'Burkina Faso': 4, 'Saint Kitts and Nevis': 1, 'Malawi': 2, 'Liberia': 2, 'Bhutan': 2, 'Saint Vincent and the Grenadines': 1, 'San Marino': 2, 'Sao Tome and Principe': 1, 'Chad': 1, nan: 132}\n"
     ]
    }
   ],
   "source": [
    "import pandas as pd\n",
    "country_dict ={}\n",
    "\n",
    "    # Iterate over the file chunk by chunk\n",
    "for chunk in pd.read_csv(\"Data/survey.csv\", chunksize=100):\n",
    "    \n",
    "    # Iterate over the column in DataFrame\n",
    "    for entry in chunk[\"Country\"]:\n",
    "        \n",
    "        if entry in country_dict.keys():\n",
    "            country_dict[entry] += 1\n",
    "        else:\n",
    "            country_dict[entry] = 1\n",
    "\n",
    "# Print the populated dictionary\n",
    "print(country_dict)"
   ]
  },
  {
   "cell_type": "markdown",
   "metadata": {},
   "source": [
    "## itertools module\n",
    "\n",
    "The itertools module is a collection of functions that allows us to work with iterators in an efficient way. "
   ]
  },
  {
   "cell_type": "markdown",
   "metadata": {},
   "source": [
    "* `count()` function returns an iterator that counts. If we don't pass in any argument it starts at 0 and count out by one each iteration."
   ]
  },
  {
   "cell_type": "code",
   "execution_count": 2,
   "metadata": {},
   "outputs": [
    {
     "name": "stdout",
     "output_type": "stream",
     "text": [
      "0\n",
      "1\n",
      "2\n",
      "3\n",
      "4\n"
     ]
    }
   ],
   "source": [
    "import itertools\n",
    "\n",
    "counter =  itertools.count()\n",
    "\n",
    "print(next(counter))\n",
    "print(next(counter))\n",
    "print(next(counter))\n",
    "print(next(counter))\n",
    "print(next(counter))"
   ]
  },
  {
   "cell_type": "code",
   "execution_count": 63,
   "metadata": {},
   "outputs": [
    {
     "data": {
      "text/plain": [
       "[(0, 100), (1, 200), (2, 300), (3, 400)]"
      ]
     },
     "execution_count": 63,
     "metadata": {},
     "output_type": "execute_result"
    }
   ],
   "source": [
    "# create index for a list\n",
    "\n",
    "a_list = [100, 200, 300, 400]\n",
    "a_counter = itertools.count()\n",
    "\n",
    "data = list(zip(a_counter, a_list))\n",
    "data"
   ]
  },
  {
   "cell_type": "code",
   "execution_count": 64,
   "metadata": {},
   "outputs": [
    {
     "name": "stdout",
     "output_type": "stream",
     "text": [
      "5\n",
      "2.5\n",
      "0.0\n",
      "-2.5\n"
     ]
    }
   ],
   "source": [
    "# pass start and step arguments into count() function\n",
    "\n",
    "counter = itertools.count(start=5, step = -2.5)\n",
    "\n",
    "print(next(counter))\n",
    "print(next(counter))\n",
    "print(next(counter))\n",
    "print(next(counter))"
   ]
  },
  {
   "cell_type": "code",
   "execution_count": 68,
   "metadata": {},
   "outputs": [
    {
     "name": "stdout",
     "output_type": "stream",
     "text": [
      "[(0, 100), (1, 200), (2, 300), (3, 400)]\n"
     ]
    }
   ],
   "source": [
    "# use zip() function for lists that have different lengths\n",
    "\n",
    "a_list = [100, 200, 300, 400]\n",
    "\n",
    "data = list(zip(range(10), a_list))\n",
    "print(data)"
   ]
  },
  {
   "cell_type": "code",
   "execution_count": 69,
   "metadata": {},
   "outputs": [
    {
     "name": "stdout",
     "output_type": "stream",
     "text": [
      "[(0, 100), (1, 200), (2, 300), (3, 400), (4, None), (5, None), (6, None), (7, None), (8, None), (9, None)]\n"
     ]
    }
   ],
   "source": [
    "# use itertools.zip_longest() function for lists that have different lengths\n",
    "\n",
    "a_list = [100, 200, 300, 400]\n",
    "\n",
    "data = list(itertools.zip_longest(range(10), a_list))\n",
    "print(data)"
   ]
  },
  {
   "cell_type": "code",
   "execution_count": 73,
   "metadata": {},
   "outputs": [
    {
     "name": "stdout",
     "output_type": "stream",
     "text": [
      "1 2 3 1 2 3 1 2 "
     ]
    }
   ],
   "source": [
    "# itertools.cycle() function for infinite iterator \n",
    "\n",
    "counter = itertools.cycle([1,2,3])\n",
    "\n",
    "print(next(counter), end= \" \")\n",
    "print(next(counter), end= \" \")\n",
    "print(next(counter), end= \" \")\n",
    "print(next(counter), end= \" \")\n",
    "print(next(counter), end= \" \")\n",
    "print(next(counter), end= \" \")\n",
    "print(next(counter), end= \" \")"
   ]
  },
  {
   "cell_type": "code",
   "execution_count": 74,
   "metadata": {},
   "outputs": [
    {
     "name": "stdout",
     "output_type": "stream",
     "text": [
      "on off on off on off on "
     ]
    }
   ],
   "source": [
    "# itertools.cycle() function for infinite iterator \n",
    "\n",
    "counter = itertools.cycle([\"on\", \"off\"])\n",
    "\n",
    "print(next(counter), end= \" \")\n",
    "print(next(counter), end= \" \")\n",
    "print(next(counter), end= \" \")\n",
    "print(next(counter), end= \" \")\n",
    "print(next(counter), end= \" \")\n",
    "print(next(counter), end= \" \")\n",
    "print(next(counter), end= \" \")"
   ]
  },
  {
   "cell_type": "code",
   "execution_count": 77,
   "metadata": {},
   "outputs": [
    {
     "name": "stdout",
     "output_type": "stream",
     "text": [
      "[1, 2, 3] [1, 2, 3] [1, 2, 3] "
     ]
    }
   ],
   "source": [
    "# itertools.repeat() function for infinite iterator \n",
    "\n",
    "counter = itertools.repeat([1,2,3])\n",
    "\n",
    "print(next(counter), end= \" \")\n",
    "print(next(counter), end= \" \")\n",
    "print(next(counter), end= \" \")"
   ]
  },
  {
   "cell_type": "code",
   "execution_count": 79,
   "metadata": {},
   "outputs": [
    {
     "name": "stdout",
     "output_type": "stream",
     "text": [
      "3\n",
      "3\n"
     ]
    },
    {
     "ename": "StopIteration",
     "evalue": "",
     "output_type": "error",
     "traceback": [
      "\u001b[1;31m---------------------------------------------------------------------------\u001b[0m",
      "\u001b[1;31mStopIteration\u001b[0m                             Traceback (most recent call last)",
      "\u001b[1;32m<ipython-input-79-3678bdbf9b22>\u001b[0m in \u001b[0;36m<module>\u001b[1;34m\u001b[0m\n\u001b[0;32m      5\u001b[0m \u001b[0mprint\u001b[0m\u001b[1;33m(\u001b[0m\u001b[0mnext\u001b[0m\u001b[1;33m(\u001b[0m\u001b[0mcounter\u001b[0m\u001b[1;33m)\u001b[0m\u001b[1;33m)\u001b[0m\u001b[1;33m\u001b[0m\u001b[1;33m\u001b[0m\u001b[0m\n\u001b[0;32m      6\u001b[0m \u001b[0mprint\u001b[0m\u001b[1;33m(\u001b[0m\u001b[0mnext\u001b[0m\u001b[1;33m(\u001b[0m\u001b[0mcounter\u001b[0m\u001b[1;33m)\u001b[0m\u001b[1;33m)\u001b[0m\u001b[1;33m\u001b[0m\u001b[1;33m\u001b[0m\u001b[0m\n\u001b[1;32m----> 7\u001b[1;33m \u001b[0mprint\u001b[0m\u001b[1;33m(\u001b[0m\u001b[0mnext\u001b[0m\u001b[1;33m(\u001b[0m\u001b[0mcounter\u001b[0m\u001b[1;33m)\u001b[0m\u001b[1;33m)\u001b[0m\u001b[1;33m\u001b[0m\u001b[1;33m\u001b[0m\u001b[0m\n\u001b[0m",
      "\u001b[1;31mStopIteration\u001b[0m: "
     ]
    }
   ],
   "source": [
    "# itertools.repeat() function for infinite iterator \n",
    "\n",
    "counter = itertools.repeat(3, times=2)\n",
    "\n",
    "print(next(counter))\n",
    "print(next(counter))\n",
    "print(next(counter))"
   ]
  },
  {
   "cell_type": "code",
   "execution_count": 89,
   "metadata": {},
   "outputs": [
    {
     "name": "stdout",
     "output_type": "stream",
     "text": [
      "[0, 1, 8, 27, 64, 125, 216, 343, 512, 729]\n"
     ]
    }
   ],
   "source": [
    "# itertools.repeat() function for infinite iterator \n",
    "\n",
    "counter = itertools.repeat(3)\n",
    "\n",
    "cubes = map(pow, range(10), counter)\n",
    "print(list(cubes))    # Since map returns a map object we should return it to a list.\n",
    "                     # we can use print(*cube), as well."
   ]
  },
  {
   "cell_type": "markdown",
   "metadata": {},
   "source": [
    "#### itertools.starmap() function\n",
    "\n",
    "It is similar to map() function but instead of taking arguments from iterables, it takes arguments that are already paired together."
   ]
  },
  {
   "cell_type": "code",
   "execution_count": 3,
   "metadata": {},
   "outputs": [
    {
     "name": "stdout",
     "output_type": "stream",
     "text": [
      "0 1 8 27\n"
     ]
    }
   ],
   "source": [
    "cubes = itertools.starmap(pow, [(0,3), (1,3),(2,3),(3,3)])\n",
    "print(*cubes)"
   ]
  },
  {
   "cell_type": "markdown",
   "metadata": {},
   "source": [
    "groupby takes any sequence and a function, grouping consecutive elements in the sequence by return\n",
    " value of the function."
   ]
  },
  {
   "cell_type": "code",
   "execution_count": 10,
   "metadata": {},
   "outputs": [
    {
     "name": "stdout",
     "output_type": "stream",
     "text": [
      "A ['Alan', 'Adam']\n",
      "W ['Wes', 'Will']\n",
      "A ['Albert']\n",
      "S ['Steven']\n"
     ]
    }
   ],
   "source": [
    "first_letter = lambda x: x[0]\n",
    "a_list = ['Alan', 'Adam', 'Wes', 'Will', 'Albert', 'Steven']\n",
    "\n",
    "for letter, names in itertools.groupby(a_list, first_letter):\n",
    "    print(letter, list(names)) # names is a generator"
   ]
  },
  {
   "cell_type": "markdown",
   "metadata": {},
   "source": [
    "### combinations and permutations\n",
    "\n",
    "\n",
    "* combinations are all different ways that you can group a certain number of items where the order does not matter.\n",
    "* permutations are all different ways that you can group a certain number of items where the order does matter."
   ]
  },
  {
   "cell_type": "code",
   "execution_count": 105,
   "metadata": {},
   "outputs": [
    {
     "name": "stdout",
     "output_type": "stream",
     "text": [
      "('a', 'b') ('a', 'c') ('a', 'd') ('b', 'c') ('b', 'd') ('c', 'd')\n"
     ]
    }
   ],
   "source": [
    "# combinations\n",
    "\n",
    "letters = ['a', 'b', 'c', 'd']\n",
    "numbers = [0, 1, 2, 3]\n",
    "names = ['Corey', 'Nicole']\n",
    "\n",
    "result = itertools.combinations(letters, 2)\n",
    "print(*result)"
   ]
  },
  {
   "cell_type": "code",
   "execution_count": 95,
   "metadata": {},
   "outputs": [
    {
     "name": "stdout",
     "output_type": "stream",
     "text": [
      "('a', 'b') ('a', 'c') ('a', 'd') ('b', 'a') ('b', 'c') ('b', 'd') ('c', 'a') ('c', 'b') ('c', 'd') ('d', 'a') ('d', 'b') ('d', 'c')\n"
     ]
    }
   ],
   "source": [
    "# permutations\n",
    "\n",
    "result = itertools.permutations(letters, 2)\n",
    "print(*result)"
   ]
  },
  {
   "cell_type": "code",
   "execution_count": 106,
   "metadata": {},
   "outputs": [
    {
     "name": "stdout",
     "output_type": "stream",
     "text": [
      "(0, 0, 0) (0, 0, 1) (0, 0, 2) (0, 0, 3) (0, 1, 0) (0, 1, 1) (0, 1, 2) (0, 1, 3) (0, 2, 0) (0, 2, 1) (0, 2, 2) (0, 2, 3) (0, 3, 0) (0, 3, 1) (0, 3, 2) (0, 3, 3) (1, 0, 0) (1, 0, 1) (1, 0, 2) (1, 0, 3) (1, 1, 0) (1, 1, 1) (1, 1, 2) (1, 1, 3) (1, 2, 0) (1, 2, 1) (1, 2, 2) (1, 2, 3) (1, 3, 0) (1, 3, 1) (1, 3, 2) (1, 3, 3) (2, 0, 0) (2, 0, 1) (2, 0, 2) (2, 0, 3) (2, 1, 0) (2, 1, 1) (2, 1, 2) (2, 1, 3) (2, 2, 0) (2, 2, 1) (2, 2, 2) (2, 2, 3) (2, 3, 0) (2, 3, 1) (2, 3, 2) (2, 3, 3) (3, 0, 0) (3, 0, 1) (3, 0, 2) (3, 0, 3) (3, 1, 0) (3, 1, 1) (3, 1, 2) (3, 1, 3) (3, 2, 0) (3, 2, 1) (3, 2, 2) (3, 2, 3) (3, 3, 0) (3, 3, 1) (3, 3, 2) (3, 3, 3)\n"
     ]
    }
   ],
   "source": [
    "# itertools.product() function for Cartesian product of input iterables\n",
    "\n",
    "result = itertools.product(numbers, repeat=3)\n",
    "print(*result)"
   ]
  },
  {
   "cell_type": "code",
   "execution_count": 108,
   "metadata": {},
   "outputs": [
    {
     "name": "stdout",
     "output_type": "stream",
     "text": [
      "(0, 0, 0) (0, 0, 1) (0, 0, 2) (0, 0, 3) (0, 1, 1) (0, 1, 2) (0, 1, 3) (0, 2, 2) (0, 2, 3) (0, 3, 3) (1, 1, 1) (1, 1, 2) (1, 1, 3) (1, 2, 2) (1, 2, 3) (1, 3, 3) (2, 2, 2) (2, 2, 3) (2, 3, 3) (3, 3, 3)\n"
     ]
    }
   ],
   "source": [
    "# itertools.combinations_with_replacement() function for all possible combinations include repeats \n",
    "\n",
    "result = itertools.combinations_with_replacement(numbers, r=3)\n",
    "print(*result)"
   ]
  },
  {
   "cell_type": "code",
   "execution_count": 113,
   "metadata": {},
   "outputs": [
    {
     "name": "stdout",
     "output_type": "stream",
     "text": [
      "['a', 'b', 'c', 'd', 0, 1, 2, 3, 'Corey', 'Nicole']\n",
      "a\n",
      "b c d 0 1 2 3 Corey Nicole\n"
     ]
    }
   ],
   "source": [
    "# itertools.chain() function for combining iterables \n",
    " \n",
    "result_1 = letters + numbers + names\n",
    "print (result_1)\n",
    "\n",
    "# similar to above, but not a list, an iterator, so holds much less storage \n",
    "\n",
    "result_2 = itertools.chain(letters, numbers, names) \n",
    "print(next(result_2))\n",
    "print(*result_2)"
   ]
  },
  {
   "cell_type": "code",
   "execution_count": 117,
   "metadata": {},
   "outputs": [
    {
     "name": "stdout",
     "output_type": "stream",
     "text": [
      "0 1 2 3 4\n"
     ]
    }
   ],
   "source": [
    "# itertools.islice() function for slicing iteartors\n",
    "# islice(iterable, stop) --> islice object\n",
    "# islice(iterable, start, stop[, step]) --> islice object\n",
    "\n",
    "result = itertools.islice(range(10), 5) \n",
    "print(*result)"
   ]
  },
  {
   "cell_type": "code",
   "execution_count": 118,
   "metadata": {},
   "outputs": [
    {
     "name": "stdout",
     "output_type": "stream",
     "text": [
      "1 2 3 4\n"
     ]
    }
   ],
   "source": [
    "# itertools.islice() function for slicing iteartors\n",
    "# islice(iterable, stop) --> islice object\n",
    "# islice(iterable, start, stop[, step]) --> islice object\n",
    "\n",
    "result = itertools.islice(range(10), 1, 5) \n",
    "print(*result)"
   ]
  },
  {
   "cell_type": "code",
   "execution_count": 119,
   "metadata": {},
   "outputs": [
    {
     "name": "stdout",
     "output_type": "stream",
     "text": [
      "1 3\n"
     ]
    }
   ],
   "source": [
    "# itertools.islice() function for slicing iteartors\n",
    "# islice(iterable, stop) --> islice object\n",
    "# islice(iterable, start, stop[, step]) --> islice object\n",
    "\n",
    "result = itertools.islice(range(10), 1, 5, 2) \n",
    "print(*result)"
   ]
  },
  {
   "cell_type": "code",
   "execution_count": 123,
   "metadata": {},
   "outputs": [
    {
     "name": "stdout",
     "output_type": "stream",
     "text": [
      "This is first line.\n",
      " This is second line.\n",
      " This is third line.\n",
      "\n"
     ]
    }
   ],
   "source": [
    "# itertools.islice() function for slicing iterators\n",
    "# islice(iterable, stop) --> islice object\n",
    "# islice(iterable, start, stop[, step]) --> islice object\n",
    "\n",
    "with open(\"file.txt\", \"r\") as f:\n",
    "    para = itertools.islice(f, 3)\n",
    "\n",
    "    print(*para)"
   ]
  },
  {
   "cell_type": "code",
   "execution_count": 134,
   "metadata": {},
   "outputs": [
    {
     "name": "stdout",
     "output_type": "stream",
     "text": [
      "a c d\n"
     ]
    }
   ],
   "source": [
    "# itertools.compress() function for returning data elements\n",
    "# compress(data, selectors) --> iterator over selected data\n",
    "# corresponding to true selector elements.\n",
    "# it returns an iterator over selected data\n",
    "\n",
    "letters = ['a', 'b', 'c', 'd']\n",
    "selectors = [True, False, True, True]\n",
    "\n",
    "result = itertools.compress(letters, selectors) \n",
    "print(*result)"
   ]
  },
  {
   "cell_type": "code",
   "execution_count": 140,
   "metadata": {},
   "outputs": [
    {
     "name": "stdout",
     "output_type": "stream",
     "text": [
      "0 1\n"
     ]
    }
   ],
   "source": [
    "# itertools.compress() function vs filter() function\n",
    "\n",
    "numbers = [0,1,2,3]\n",
    "\n",
    "def lt_2(n):\n",
    "    return True if n<2 else False\n",
    "    \n",
    "result = filter(lt_2, numbers) \n",
    "print(*result)    "
   ]
  },
  {
   "cell_type": "code",
   "execution_count": 141,
   "metadata": {},
   "outputs": [
    {
     "name": "stdout",
     "output_type": "stream",
     "text": [
      "2 3\n"
     ]
    }
   ],
   "source": [
    "# itertools.filterfalse() function vs filter() function\n",
    "# filterfalse(function or None, sequence) --> filterfalse object\n",
    "# itertools.filterfalse(): return those items of sequence for which function(item) is false.\n",
    "\n",
    "numbers = [0,1,2,3]\n",
    "\n",
    "def lt_2(n):\n",
    "    return True if n<2 else False\n",
    "    \n",
    "result = itertools.filterfalse(lt_2, numbers) \n",
    "print(*result)    "
   ]
  },
  {
   "cell_type": "code",
   "execution_count": 142,
   "metadata": {},
   "outputs": [
    {
     "name": "stdout",
     "output_type": "stream",
     "text": [
      "2 3 2 1 0 3 5\n"
     ]
    }
   ],
   "source": [
    "# itertools.dropwhile() function \n",
    "# dropwhile(predicate, iterable) --> dropwhile object\n",
    "# Drop items from the iterable while predicate(item) is true.\n",
    "# Afterwards, return every element until the iterable is exhausted.\n",
    "\n",
    "numbers = [0,1,2,3, 2, 1, 0, 3,5]\n",
    "\n",
    "def lt_2(n):\n",
    "    return True if n<2 else False\n",
    "    \n",
    "result = itertools.dropwhile(lt_2, numbers) \n",
    "print(*result)    "
   ]
  },
  {
   "cell_type": "code",
   "execution_count": 143,
   "metadata": {},
   "outputs": [
    {
     "name": "stdout",
     "output_type": "stream",
     "text": [
      "0 1\n"
     ]
    }
   ],
   "source": [
    "# itertools.takewhile() function \n",
    "# takewhile(predicate, iterable) --> takewhile object\n",
    "# Return successive entries from an iterable as long as the \n",
    "# predicate evaluates to true for each entry.\n",
    "\n",
    "numbers = [0,1,2,3, 2, 1, 0, 3,5]\n",
    "\n",
    "def lt_2(n):\n",
    "    return True if n<2 else False\n",
    "    \n",
    "result = itertools.takewhile(lt_2, numbers) \n",
    "print(*result)    "
   ]
  },
  {
   "cell_type": "code",
   "execution_count": 146,
   "metadata": {},
   "outputs": [
    {
     "name": "stdout",
     "output_type": "stream",
     "text": [
      "1 3 6 8 9 12 17 17\n"
     ]
    }
   ],
   "source": [
    "# itertools.accumulate() function \n",
    "# accumulate(iterable[, func]) --> accumulate object\n",
    "# Return series of accumulated sums (or other binary function results).\n",
    "\n",
    "numbers = [1,2,3, 2, 1, 3,5, 0]\n",
    "\n",
    "result = itertools.accumulate(numbers) \n",
    "print(*result)  "
   ]
  },
  {
   "cell_type": "code",
   "execution_count": 147,
   "metadata": {},
   "outputs": [
    {
     "name": "stdout",
     "output_type": "stream",
     "text": [
      "1 2 6 12 12 36 180 0\n"
     ]
    }
   ],
   "source": [
    "# itertools.accumulate() function \n",
    "# accumulate(iterable[, func]) --> accumulate object\n",
    "# Return series of accumulated sums (or other binary function results).\n",
    "\n",
    "import operator\n",
    "\n",
    "numbers = [1,2,3, 2, 1, 3,5, 0]\n",
    "\n",
    "result = itertools.accumulate(numbers, operator.mul)  # multiplicaiton function\n",
    "print(*result)  "
   ]
  },
  {
   "cell_type": "code",
   "execution_count": 164,
   "metadata": {},
   "outputs": [
    {
     "name": "stdout",
     "output_type": "stream",
     "text": [
      "1 3 6 8 9 12 17 17\n",
      "\n"
     ]
    }
   ],
   "source": [
    "# itertools.tee() function \n",
    "# tee(iterable, n=2) --> tuple of n independent iterators.\n",
    "# Return copies of an iterator\n",
    "# don't use the original iterator after tee() function \n",
    "\n",
    "numbers = [1,2,3, 2, 1, 3,5, 0]\n",
    "\n",
    "result = itertools.accumulate(numbers) \n",
    "copy1, copy2, copy3 = itertools.tee(result, 3) # 3 is the copy number, default is 2\n",
    "print(*copy1)\n",
    "print(*copy2)\n",
    "print(*copy3)"
   ]
  }
 ],
 "metadata": {
  "kernelspec": {
   "display_name": "Python 3",
   "language": "python",
   "name": "python3"
  },
  "language_info": {
   "codemirror_mode": {
    "name": "ipython",
    "version": 3
   },
   "file_extension": ".py",
   "mimetype": "text/x-python",
   "name": "python",
   "nbconvert_exporter": "python",
   "pygments_lexer": "ipython3",
   "version": "3.7.6"
  }
 },
 "nbformat": 4,
 "nbformat_minor": 4
}
