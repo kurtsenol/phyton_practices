{
 "cells": [
  {
   "cell_type": "markdown",
   "metadata": {},
   "source": [
    "## Sorting Lists, Tuples, and Objects"
   ]
  },
  {
   "cell_type": "markdown",
   "metadata": {},
   "source": [
    "### sorting lists"
   ]
  },
  {
   "cell_type": "code",
   "execution_count": 6,
   "metadata": {},
   "outputs": [
    {
     "name": "stdout",
     "output_type": "stream",
     "text": [
      "sorted variable:\t [0, 1, 2, 3, 4, 5, 6, 7, 8, 9]\n",
      "original variable:\t [9, 5, 6, 4, 3, 7, 8, 0, 1, 2]\n"
     ]
    }
   ],
   "source": [
    "# sorting a list with `sorted()` function\n",
    "# It returns a new list\n",
    "\n",
    "li = [9,5,6,4,3,7,8,0,1,2]\n",
    "\n",
    "sorted_li = sorted(li)\n",
    "print(\"sorted variable:\\t\", sorted_li)\n",
    "print(\"original variable:\\t\", li)"
   ]
  },
  {
   "cell_type": "code",
   "execution_count": 10,
   "metadata": {},
   "outputs": [
    {
     "name": "stdout",
     "output_type": "stream",
     "text": [
      "sorted variable:\t None\n",
      "original variable:\t [0, 1, 2, 3, 4, 5, 6, 7, 8, 9]\n"
     ]
    }
   ],
   "source": [
    "# sorting a list with `sort()` method\n",
    "# It sorts the list in place and returns none.\n",
    "\n",
    "li = [9,5,6,4,3,7,8,0,1,2]\n",
    "\n",
    "sorted_li = li.sort()\n",
    "\n",
    "print(\"sorted variable:\\t\", sorted_li)\n",
    "print(\"original variable:\\t\", li)"
   ]
  },
  {
   "cell_type": "code",
   "execution_count": 12,
   "metadata": {},
   "outputs": [
    {
     "name": "stdout",
     "output_type": "stream",
     "text": [
      "sorted variable:\t [9, 8, 7, 6, 5, 4, 3, 2, 1, 0]\n",
      "original variable:\t [9, 8, 7, 6, 5, 4, 3, 2, 1, 0]\n"
     ]
    }
   ],
   "source": [
    "# sorting in descending order\n",
    "# Both `sorted()` function and `sort()` method can be used\n",
    "\n",
    "li = [9,5,6,4,3,7,8,0,1,2]\n",
    "\n",
    "sorted_li = sorted(li, reverse=True)\n",
    "\n",
    "li.sort(reverse=True)\n",
    "\n",
    "print(\"sorted variable:\\t\", sorted_li)\n",
    "print(\"original variable:\\t\", li)"
   ]
  },
  {
   "cell_type": "markdown",
   "metadata": {},
   "source": [
    "### sorting tuples"
   ]
  },
  {
   "cell_type": "code",
   "execution_count": 16,
   "metadata": {},
   "outputs": [
    {
     "ename": "AttributeError",
     "evalue": "'tuple' object has no attribute 'sort'",
     "output_type": "error",
     "traceback": [
      "\u001b[1;31m---------------------------------------------------------------------------\u001b[0m",
      "\u001b[1;31mAttributeError\u001b[0m                            Traceback (most recent call last)",
      "\u001b[1;32m<ipython-input-16-bff6f019a97f>\u001b[0m in \u001b[0;36m<module>\u001b[1;34m\u001b[0m\n\u001b[0;32m      3\u001b[0m \u001b[0mtup\u001b[0m \u001b[1;33m=\u001b[0m \u001b[1;33m(\u001b[0m\u001b[1;36m9\u001b[0m\u001b[1;33m,\u001b[0m\u001b[1;36m5\u001b[0m\u001b[1;33m,\u001b[0m\u001b[1;36m6\u001b[0m\u001b[1;33m,\u001b[0m\u001b[1;36m4\u001b[0m\u001b[1;33m,\u001b[0m\u001b[1;36m3\u001b[0m\u001b[1;33m,\u001b[0m\u001b[1;36m7\u001b[0m\u001b[1;33m,\u001b[0m\u001b[1;36m8\u001b[0m\u001b[1;33m,\u001b[0m\u001b[1;36m0\u001b[0m\u001b[1;33m,\u001b[0m\u001b[1;36m1\u001b[0m\u001b[1;33m,\u001b[0m\u001b[1;36m2\u001b[0m\u001b[1;33m)\u001b[0m\u001b[1;33m\u001b[0m\u001b[1;33m\u001b[0m\u001b[0m\n\u001b[0;32m      4\u001b[0m \u001b[1;33m\u001b[0m\u001b[0m\n\u001b[1;32m----> 5\u001b[1;33m \u001b[0mtup\u001b[0m\u001b[1;33m.\u001b[0m\u001b[0msort\u001b[0m\u001b[1;33m(\u001b[0m\u001b[1;33m)\u001b[0m\u001b[1;33m\u001b[0m\u001b[1;33m\u001b[0m\u001b[0m\n\u001b[0m",
      "\u001b[1;31mAttributeError\u001b[0m: 'tuple' object has no attribute 'sort'"
     ]
    }
   ],
   "source": [
    "# tuples don't have `sort()` method!!!\n",
    "\n",
    "tup = (9,5,6,4,3,7,8,0,1,2)\n",
    "\n",
    "tup.sort()"
   ]
  },
  {
   "cell_type": "code",
   "execution_count": 17,
   "metadata": {},
   "outputs": [
    {
     "name": "stdout",
     "output_type": "stream",
     "text": [
      "sorted variable:\t [0, 1, 2, 3, 4, 5, 6, 7, 8, 9]\n"
     ]
    }
   ],
   "source": [
    "# we can use `sorted()` function for tuples.\n",
    "# be careful! It returns a sorted list \n",
    "\n",
    "tup = (9,5,6,4,3,7,8,0,1,2)\n",
    "\n",
    "sorted_tup = sorted(tup)\n",
    "\n",
    "print(\"sorted variable:\\t\", sorted_tup)"
   ]
  },
  {
   "cell_type": "markdown",
   "metadata": {},
   "source": [
    "### sorting dictionaries"
   ]
  },
  {
   "cell_type": "code",
   "execution_count": 23,
   "metadata": {},
   "outputs": [
    {
     "name": "stdout",
     "output_type": "stream",
     "text": [
      "sorted variable:\t ['age', 'first', 'job', 'last']\n"
     ]
    }
   ],
   "source": [
    "# we can use `sorted()` function for dictionaries.\n",
    "# be careful! It returns a sorted list of only the keys  \n",
    "\n",
    "a_dict = {\"first\":\"ali\",\"last\":\"bir\",\"age\":10, \"job\": None}\n",
    "\n",
    "sorted_a_dict = sorted(a_dict)\n",
    "\n",
    "print(\"sorted variable:\\t\", sorted_a_dict)"
   ]
  },
  {
   "cell_type": "markdown",
   "metadata": {},
   "source": [
    "#### sorting based on different criteria\n",
    "\n",
    "We use keyparameter in the `sorted()` function to specify a function to be called on each list element prior to making comparisons.  This key function transforms each element before sorting. The value of the key parameter should be a function that takes a single argument.\n",
    "\n"
   ]
  },
  {
   "cell_type": "code",
   "execution_count": 26,
   "metadata": {},
   "outputs": [
    {
     "name": "stdout",
     "output_type": "stream",
     "text": [
      "sorted variable:\t [0, 1, 2, -3, -4, -6]\n"
     ]
    }
   ],
   "source": [
    "# sorting based on absolute value of list items\n",
    "\n",
    "li = [-6,-4,-3,0,1,2]\n",
    "\n",
    "sorted_li = sorted(li, key=abs)\n",
    "\n",
    "print(\"sorted variable:\\t\", sorted_li)"
   ]
  },
  {
   "cell_type": "code",
   "execution_count": 27,
   "metadata": {},
   "outputs": [
    {
     "name": "stdout",
     "output_type": "stream",
     "text": [
      "sorted variable:\t ['a', 'xx', 'zzz', 'cccc', 'bbbbb']\n"
     ]
    }
   ],
   "source": [
    "# sorting based on length of strings in a list\n",
    "\n",
    "li = [\"zzz\",\"xx\",\"cccc\",\"a\",\"bbbbb\"]\n",
    "\n",
    "sorted_li = sorted(li, key=len)\n",
    "\n",
    "print(\"sorted variable:\\t\", sorted_li)"
   ]
  },
  {
   "cell_type": "code",
   "execution_count": 31,
   "metadata": {},
   "outputs": [
    {
     "name": "stdout",
     "output_type": "stream",
     "text": [
      "sorted variable:\t [('jane', 'B', 10), ('dave', 'B', 12), ('john', 'A', 15)]\n"
     ]
    }
   ],
   "source": [
    "# sort complex objects using some of the object’s indices as keys\n",
    "# sort by students' ages\n",
    "\n",
    "student_tuples = [\n",
    "    ('john', 'A', 15),\n",
    "    ('jane', 'B', 10),\n",
    "    ('dave', 'B', 12),\n",
    "]\n",
    "sorted_li = sorted(student_tuples, key=lambda student: student[2])\n",
    "print(\"sorted variable:\\t\", sorted_li)"
   ]
  },
  {
   "cell_type": "code",
   "execution_count": null,
   "metadata": {},
   "outputs": [],
   "source": []
  },
  {
   "cell_type": "markdown",
   "metadata": {},
   "source": [
    "Source:\n",
    "* [Corey Schafer - Python Tutorial: Sorting Lists, Tuples, and Objects](https://www.youtube.com/watch?v=D3JvDWO-BY4&list=WL&index=2&t=1s)\n",
    "* [python documentation](https://docs.python.org/3/howto/sorting.html)"
   ]
  }
 ],
 "metadata": {
  "kernelspec": {
   "display_name": "Python 3",
   "language": "python",
   "name": "python3"
  },
  "language_info": {
   "codemirror_mode": {
    "name": "ipython",
    "version": 3
   },
   "file_extension": ".py",
   "mimetype": "text/x-python",
   "name": "python",
   "nbconvert_exporter": "python",
   "pygments_lexer": "ipython3",
   "version": "3.7.6"
  }
 },
 "nbformat": 4,
 "nbformat_minor": 4
}
