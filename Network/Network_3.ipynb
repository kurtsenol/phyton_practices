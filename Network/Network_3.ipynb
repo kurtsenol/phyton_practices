{
 "cells": [
  {
   "cell_type": "markdown",
   "metadata": {},
   "source": [
    "## Adjacency Matrix with Pandas"
   ]
  },
  {
   "cell_type": "code",
   "execution_count": 18,
   "metadata": {},
   "outputs": [],
   "source": [
    "import pandas as pd\n",
    "import networkx as nx"
   ]
  },
  {
   "cell_type": "code",
   "execution_count": 19,
   "metadata": {},
   "outputs": [
    {
     "name": "stdout",
     "output_type": "stream",
     "text": [
      "           from            to  weight\n",
      "0          Died          Born     0.1\n",
      "1   Elected Rep  Elected Pres     1.0\n",
      "2       Married   Elected Rep     1.0\n",
      "3          Born       Married     1.0\n",
      "4  Elected Pres          Died     1.0\n"
     ]
    }
   ],
   "source": [
    "df = pd.DataFrame({\"from\": {0: \"Died\", 1: \"Elected Rep\", 2: \"Married\", 3: \"Born\", 4: \"Elected Pres\"},\n",
    "                    \"to\": {0: \"Born\", 1: \"Elected Pres\", 2: \"Elected Rep\", 3: \"Married\", 4: \"Died\"},\n",
    "                    \"weight\": {0: 0.1, 1: 1.0, 2: 1.0, 3: 1.0, 4: 1.0},\n",
    "                })\n",
    "print(df)"
   ]
  },
  {
   "cell_type": "markdown",
   "metadata": {},
   "source": [
    "The first parameter of `nx.from_pandas_dataframe()` is a DataFrame, each row defines one edge, and two of the columns, source and target, designate the start and end nodes of the edge. You can convert the remaining columns into edge attributes."
   ]
  },
  {
   "cell_type": "code",
   "execution_count": 20,
   "metadata": {},
   "outputs": [
    {
     "name": "stdout",
     "output_type": "stream",
     "text": [
      "[('Died', 'Born', {'weight': 0.1}), ('Died', 'Elected Pres', {'weight': 1.0}), ('Born', 'Married', {'weight': 1.0}), ('Elected Rep', 'Elected Pres', {'weight': 1.0}), ('Elected Rep', 'Married', {'weight': 1.0})]\n"
     ]
    }
   ],
   "source": [
    "G = nx.from_pandas_edgelist(df, \"from\", \"to\", edge_attr=[\"weight\"])\n",
    "print(G.edges(data=True))"
   ]
  },
  {
   "cell_type": "markdown",
   "metadata": {},
   "source": [
    "### Handling Node Attributes"
   ]
  },
  {
   "cell_type": "markdown",
   "metadata": {},
   "source": [
    "* let’s add a \"date\" parameter to Lincoln’s timeline:"
   ]
  },
  {
   "cell_type": "code",
   "execution_count": 24,
   "metadata": {},
   "outputs": [
    {
     "name": "stdout",
     "output_type": "stream",
     "text": [
      "[('Died', {'date': 1865}), ('Born', {'date': 1809}), ('Elected Rep', {'date': 1847}), ('Elected Pres', {'date': 1861}), ('Married', {'date': 1842})]\n"
     ]
    }
   ],
   "source": [
    "events = {\"Died\": 1865, \"Born\": 1809, \"Elected Rep\": 1847, \"Elected Pres\": 1861, \"Married\": 1842}\n",
    "nx.set_node_attributes(G, events, \"date\")\n",
    "node_data = G.nodes(data=True)\n",
    "print(node_data)"
   ]
  },
  {
   "cell_type": "markdown",
   "metadata": {},
   "source": [
    "Since node_data is a list of tuples, we can build a DataFrame from node_data."
   ]
  },
  {
   "cell_type": "code",
   "execution_count": 29,
   "metadata": {},
   "outputs": [
    {
     "name": "stdout",
     "output_type": "stream",
     "text": [
      "0\n",
      "Died            {'date': 1865}\n",
      "Born            {'date': 1809}\n",
      "Elected Rep     {'date': 1847}\n",
      "Elected Pres    {'date': 1861}\n",
      "Married         {'date': 1842}\n",
      "Name: 1, dtype: object\n",
      "<class 'pandas.core.series.Series'>\n"
     ]
    }
   ],
   "source": [
    "lincoln_ser = pd.DataFrame(node_data).set_index(0)[1]\n",
    "print(lincoln_ser)\n",
    "print(type(lincoln_ser))"
   ]
  },
  {
   "cell_type": "markdown",
   "metadata": {},
   "source": [
    "* The values in the\n",
    "column are node attribute dictionaries, and one of the Series constructors\n",
    "builds a Series from a dictionary. Let’s apply the constructor to each row."
   ]
  },
  {
   "cell_type": "code",
   "execution_count": 31,
   "metadata": {},
   "outputs": [
    {
     "data": {
      "text/html": [
       "<div>\n",
       "<style scoped>\n",
       "    .dataframe tbody tr th:only-of-type {\n",
       "        vertical-align: middle;\n",
       "    }\n",
       "\n",
       "    .dataframe tbody tr th {\n",
       "        vertical-align: top;\n",
       "    }\n",
       "\n",
       "    .dataframe thead th {\n",
       "        text-align: right;\n",
       "    }\n",
       "</style>\n",
       "<table border=\"1\" class=\"dataframe\">\n",
       "  <thead>\n",
       "    <tr style=\"text-align: right;\">\n",
       "      <th></th>\n",
       "      <th>date</th>\n",
       "    </tr>\n",
       "    <tr>\n",
       "      <th>0</th>\n",
       "      <th></th>\n",
       "    </tr>\n",
       "  </thead>\n",
       "  <tbody>\n",
       "    <tr>\n",
       "      <th>Died</th>\n",
       "      <td>1865</td>\n",
       "    </tr>\n",
       "    <tr>\n",
       "      <th>Born</th>\n",
       "      <td>1809</td>\n",
       "    </tr>\n",
       "    <tr>\n",
       "      <th>Elected Rep</th>\n",
       "      <td>1847</td>\n",
       "    </tr>\n",
       "    <tr>\n",
       "      <th>Elected Pres</th>\n",
       "      <td>1861</td>\n",
       "    </tr>\n",
       "    <tr>\n",
       "      <th>Married</th>\n",
       "      <td>1842</td>\n",
       "    </tr>\n",
       "  </tbody>\n",
       "</table>\n",
       "</div>"
      ],
      "text/plain": [
       "              date\n",
       "0                 \n",
       "Died          1865\n",
       "Born          1809\n",
       "Elected Rep   1847\n",
       "Elected Pres  1861\n",
       "Married       1842"
      ]
     },
     "execution_count": 31,
     "metadata": {},
     "output_type": "execute_result"
    }
   ],
   "source": [
    "df = lincoln_ser.apply(pd.Series)\n",
    "df"
   ]
  },
  {
   "cell_type": "markdown",
   "metadata": {},
   "source": [
    "* The result is a DataFrame suitable for further processing. For example, you can\n",
    "calculate the duration, in years, of each span of Lincoln’s biography:"
   ]
  },
  {
   "cell_type": "code",
   "execution_count": 35,
   "metadata": {},
   "outputs": [
    {
     "name": "stdout",
     "output_type": "stream",
     "text": [
      "              date\n",
      "0                 \n",
      "Born           NaN\n",
      "Married       33.0\n",
      "Elected Rep    5.0\n",
      "Elected Pres  14.0\n",
      "Died           4.0\n"
     ]
    }
   ],
   "source": [
    "spans = df.sort_values('date').diff()\n",
    "print(spans)"
   ]
  },
  {
   "cell_type": "code",
   "execution_count": 38,
   "metadata": {},
   "outputs": [
    {
     "data": {
      "text/plain": [
       "EdgeView([('Died', 'Born'), ('Died', 'Elected Pres'), ('Born', 'Married'), ('Elected Rep', 'Elected Pres'), ('Elected Rep', 'Married')])"
      ]
     },
     "execution_count": 38,
     "metadata": {},
     "output_type": "execute_result"
    }
   ],
   "source": []
  }
 ],
 "metadata": {
  "kernelspec": {
   "display_name": "Python 3",
   "language": "python",
   "name": "python3"
  },
  "language_info": {
   "codemirror_mode": {
    "name": "ipython",
    "version": 3
   },
   "file_extension": ".py",
   "mimetype": "text/x-python",
   "name": "python",
   "nbconvert_exporter": "python",
   "pygments_lexer": "ipython3",
   "version": "3.7.6"
  }
 },
 "nbformat": 4,
 "nbformat_minor": 4
}
