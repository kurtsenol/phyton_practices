{
 "cells": [
  {
   "cell_type": "markdown",
   "metadata": {},
   "source": [
    "## Constructing a Network of Wikipedia Pages\n",
    "\n",
    "Wikipedia page body has external links and links to other Wikipedia pages. To build a network out of the seed page and other relevant pages, let’s treat\n",
    "the pages as the network nodes and the links between the pages as the network edges. We will use snowball sampling to discover all the nodes and edges of interest. Our seed page is **\"complex network\"** ."
   ]
  },
  {
   "cell_type": "code",
   "execution_count": 2,
   "metadata": {},
   "outputs": [],
   "source": [
    "#the operator itemgetter for sorting a list of tuples\n",
    "from operator import itemgetter\n",
    "import networkx as nx\n",
    "import wikipedia\n",
    "\n",
    "SEED = \"Complex network\".title()\n",
    "\n",
    "# ignore any links to them\n",
    "STOPS = (\"International Standard Serial Number\",\n",
    "         \"International Standard Book Number\",\n",
    "         \"National Diet Library\",\n",
    "         \"International Standard Name Identifier\",\n",
    "         \"International Standard Book Number (Identifier)\",\n",
    "         \"Pubmed Identifier\", \"Pubmed Central\",\n",
    "         \"Digital Object Identifier\", \"Arxiv\",\n",
    "         \"Proc Natl Acad Sci Usa\", \"Bibcode\",\n",
    "         \"Library Of Congress Control Number\", \"Jstor\")"
   ]
  },
  {
   "cell_type": "code",
   "execution_count": 3,
   "metadata": {},
   "outputs": [],
   "source": [
    "todo_lst = [(0, SEED)] # The SEED is in the layer 0\n",
    "todo_set = set(SEED)   # The SEED itself\n",
    "done_set = set()       # Nothing is done yet"
   ]
  },
  {
   "cell_type": "code",
   "execution_count": 4,
   "metadata": {},
   "outputs": [],
   "source": [
    "# edges that represent HTML links are naturally directed: a link from page A to page B\n",
    "F = nx.DiGraph()\n",
    "\n",
    "# extracting the first “to-do” item\n",
    "layer, page = todo_lst[0]"
   ]
  },
  {
   "cell_type": "markdown",
   "metadata": {},
   "source": [
    "* we will process only the seed node itself and its immediate neighbors (layers 0 and 1)."
   ]
  },
  {
   "cell_type": "code",
   "execution_count": 5,
   "metadata": {},
   "outputs": [
    {
     "name": "stdout",
     "output_type": "stream",
     "text": [
      "Could not load Power-Law\n",
      "Could not load Sir Model\n",
      "12391 nodes, 23729 edges\n"
     ]
    }
   ],
   "source": [
    "while layer < 2:\n",
    "    del todo_lst[0] #(1)\n",
    "    done_set.add(page)\n",
    "#     print(layer, page) # Show progress\n",
    "\n",
    "    try: #(2)\n",
    "        wiki = wikipedia.page(page)\n",
    "    except:\n",
    "        layer, page = todo_lst[0]\n",
    "        print(\"Could not load\", page)\n",
    "        continue\n",
    "\n",
    "    for link in wiki.links: #(3)\n",
    "        link = link.title()\n",
    "        \n",
    "        # exclud pages whose names begin with \"List of\", because they are simply lists of other subjects.\n",
    "        if link not in STOPS and not link.startswith(\"List Of\"):\n",
    "            if link not in todo_set and link not in done_set:\n",
    "                todo_lst.append((layer + 1, link))\n",
    "                todo_set.add(link)\n",
    "            F.add_edge(page, link)\n",
    "\n",
    "    layer, page = todo_lst[0] #(4)\n",
    "print(\"{} nodes, {} edges\".format(len(F), nx.number_of_edges(F)))"
   ]
  },
  {
   "cell_type": "code",
   "execution_count": 8,
   "metadata": {},
   "outputs": [],
   "source": [
    "# removing self-loops (pages referring to themselves)\n",
    "F.remove_edges_from(list(nx.selfloop_edges(F)))\n",
    "\n",
    "# build duplicates by looking at each node in F and checking if a node with the same name, but\n",
    "# with an s at the end, is also in F.\n",
    "duplicates = [(node, node + \"s\") for node in F if node + \"s\" in F]\n",
    "\n",
    "# merges node v into node u in the graph F. The function reassigns all edges previously incident to v, to u. If you don’t\n",
    "# pass the option self_loops=False, the function converts an edge from v to u (if\n",
    "# any) to a self-loop.\n",
    "for dup in duplicates:\n",
    "    F = nx.contracted_nodes(F, *dup, self_loops=False)"
   ]
  },
  {
   "cell_type": "code",
   "execution_count": 9,
   "metadata": {},
   "outputs": [],
   "source": [
    "# checking if a node with the same name, but hyphen in the middle\n",
    "duplicates = [(x, y) for x, y \n",
    "              in [(node, node.replace(\"-\", \" \")) for node in F]\n",
    "              if x != y and y in F]\n",
    "\n",
    "for dup in duplicates:\n",
    "    F = nx.contracted_nodes(F, *dup, self_loops=False)"
   ]
  },
  {
   "cell_type": "markdown",
   "metadata": {},
   "source": [
    "* As a side effect, `nx.contracted_nodes()` creates a new node attribute called contraction. The value of the attribute is a dictionary, but GraphML does not support dictionary attributes. So, we set the contraction property to 0 for all nodes to avoid further troubles with exporting the graph. You could also delete the attribute for each node n with del n[\"contraction\"] in a loop."
   ]
  },
  {
   "cell_type": "code",
   "execution_count": 10,
   "metadata": {},
   "outputs": [],
   "source": [
    "nx.set_node_attributes(F, 0, \"contraction\")"
   ]
  },
  {
   "cell_type": "markdown",
   "metadata": {},
   "source": [
    "***node indegree :*** the number of edges directed into the node.\n",
    "the number of edges directed out of the node is called **outdegree**.\n",
    "\n",
    "The indegree of a node equals the number of HTML links pointing to the respective page. If a page has a lot of links to it, the\n",
    "topic of the page must be significant.\n",
    "\n",
    "We will remove all nodes with only one incident edge to make the network more compact and less complex. `F.degree()` method returns a dictionary with nodes as keys and\n",
    "degree as values."
   ]
  },
  {
   "cell_type": "code",
   "execution_count": 11,
   "metadata": {},
   "outputs": [],
   "source": [
    "core = [node for node, deg in dict(F.degree()).items() if deg >= 2]"
   ]
  },
  {
   "cell_type": "markdown",
   "metadata": {},
   "source": [
    "Function `nx.subgraph(F, core)` collects all core nodes from F and all edges connecting\n",
    "them and builds a new graph G—a subgraph of F."
   ]
  },
  {
   "cell_type": "code",
   "execution_count": 12,
   "metadata": {},
   "outputs": [
    {
     "name": "stdout",
     "output_type": "stream",
     "text": [
      "2872 nodes, 13179 edges\n"
     ]
    }
   ],
   "source": [
    "G = nx.subgraph(F, core)\n",
    "\n",
    "print(\"{} nodes, {} edges\".format(len(G), nx.number_of_edges(G)))"
   ]
  },
  {
   "cell_type": "markdown",
   "metadata": {},
   "source": [
    "Write it to a GraphML file so that you don’t have to rebuild it if you need it later again."
   ]
  },
  {
   "cell_type": "code",
   "execution_count": 16,
   "metadata": {},
   "outputs": [],
   "source": [
    "nx.write_graphml(G, \"cna_1.graphml\")"
   ]
  },
  {
   "cell_type": "code",
   "execution_count": 14,
   "metadata": {},
   "outputs": [
    {
     "name": "stdout",
     "output_type": "stream",
     "text": [
      "68 Graph (Discrete Mathematics)\n",
      "65 Vertex (Graph Theory)\n",
      "58 Directed Graph\n",
      "55 Social Network\n",
      "52 Network Theory\n",
      "52 Degree (Graph Theory)\n",
      "50 Graph Drawing\n",
      "49 Complete Graph\n",
      "49 Edge (Graph Theory)\n",
      "49 Graph (Abstract Data Type)\n"
     ]
    }
   ],
   "source": [
    "top_indegree = sorted(dict(G.in_degree()).items(),\n",
    "                      reverse=True, key=itemgetter(1))[:10]\n",
    "print(\"\\n\".join(map(lambda t: \"{} {}\".format(*reversed(t)), top_indegree)))"
   ]
  },
  {
   "cell_type": "code",
   "execution_count": 15,
   "metadata": {},
   "outputs": [
    {
     "name": "stdout",
     "output_type": "stream",
     "text": [
      "68 Graph (Discrete Mathematics)\n",
      "65 Vertex (Graph Theory)\n",
      "58 Directed Graph\n",
      "55 Social Network\n",
      "52 Network Theory\n",
      "52 Degree (Graph Theory)\n",
      "50 Graph Drawing\n",
      "49 Complete Graph\n",
      "49 Edge (Graph Theory)\n",
      "49 Graph (Abstract Data Type)\n"
     ]
    }
   ],
   "source": [
    "top_indegree = sorted(G.in_degree(),\n",
    "                      reverse=True, key=itemgetter(1))[:10]\n",
    "print(\"\\n\".join(map(lambda t: \"{} {}\".format(*reversed(t)), top_indegree)))"
   ]
  },
  {
   "cell_type": "code",
   "execution_count": null,
   "metadata": {},
   "outputs": [],
   "source": []
  },
  {
   "cell_type": "markdown",
   "metadata": {},
   "source": [
    "Source : Dmitry Zinoviev - Complex Network Analysis in Python"
   ]
  }
 ],
 "metadata": {
  "kernelspec": {
   "display_name": "Python 3",
   "language": "python",
   "name": "python3"
  },
  "language_info": {
   "codemirror_mode": {
    "name": "ipython",
    "version": 3
   },
   "file_extension": ".py",
   "mimetype": "text/x-python",
   "name": "python",
   "nbconvert_exporter": "python",
   "pygments_lexer": "ipython3",
   "version": "3.7.6"
  }
 },
 "nbformat": 4,
 "nbformat_minor": 4
}
