{
 "cells": [
  {
   "cell_type": "code",
   "execution_count": 2,
   "metadata": {},
   "outputs": [],
   "source": [
    "import networkx as nx"
   ]
  },
  {
   "cell_type": "code",
   "execution_count": 4,
   "metadata": {},
   "outputs": [],
   "source": [
    "# initialize an empty graph to which we can add nodes and edges\n",
    "\n",
    "G = nx.Graph()"
   ]
  },
  {
   "cell_type": "code",
   "execution_count": 5,
   "metadata": {},
   "outputs": [],
   "source": [
    "# add intergers 1, 2, 3 as nodes\n",
    "\n",
    "G.add_nodes_from([1,2,3])"
   ]
  },
  {
   "cell_type": "code",
   "execution_count": 17,
   "metadata": {},
   "outputs": [
    {
     "name": "stdout",
     "output_type": "stream",
     "text": [
      "[1, 2, 3]\n"
     ]
    }
   ],
   "source": [
    "# to show the present nodes\n",
    "\n",
    "print(G.nodes())"
   ]
  },
  {
   "cell_type": "code",
   "execution_count": 15,
   "metadata": {},
   "outputs": [
    {
     "name": "stdout",
     "output_type": "stream",
     "text": [
      "[(1, 2, {})]\n"
     ]
    }
   ],
   "source": [
    "# add edge between nodes 1 and 2\n",
    "# G.edges() method returns list of tuples\n",
    "\n",
    "G.add_edge(1,2)\n",
    "print(G.edges())"
   ]
  },
  {
   "cell_type": "code",
   "execution_count": 8,
   "metadata": {},
   "outputs": [],
   "source": [
    "# metadata can be stored on the graph\n",
    "# add \"label\" key with value \"blue\" to node 1 like we do in dictionaries\n",
    "\n",
    "G.nodes[1][\"label\"] = \"blue\""
   ]
  },
  {
   "cell_type": "code",
   "execution_count": 9,
   "metadata": {},
   "outputs": [
    {
     "name": "stdout",
     "output_type": "stream",
     "text": [
      "[(1, {'label': 'blue'}), (2, {}), (3, {})]\n"
     ]
    }
   ],
   "source": [
    "# retrieve node list with metadata by passing in data=True\n",
    "# returns a list of 2 tuples\n",
    "# the first element of each tuple is the node\n",
    "# the second element is a dictionary in which\n",
    "# key,value pairs correspond to the metadata \n",
    "\n",
    "\n",
    "print(G.nodes(data=True))"
   ]
  },
  {
   "cell_type": "code",
   "execution_count": 10,
   "metadata": {},
   "outputs": [
    {
     "data": {
      "image/png": "[encoded data removed]",
      "text/plain": [
       "<Figure size 432x288 with 1 Axes>"
      ]
     },
     "metadata": {},
     "output_type": "display_data"
    }
   ],
   "source": [
    "# draw the graph\n",
    "# It is called a \"node-link diagram rendering of the graph.\"\n",
    "\n",
    "import matplotlib.pyplot as plt\n",
    "\n",
    "nx.draw(G)\n",
    "\n",
    "plt.show()"
   ]
  },
  {
   "cell_type": "markdown",
   "metadata": {},
   "source": [
    "### Types of Graph\n",
    "\n",
    "* Undirected Graphs(Facebook): two nodes are related, no arrows between nodes\n",
    "    `G` = nx.Graph()`\n",
    "\n",
    "* Directed Graphs(Twitter): one node may follow other node but may not vice versa\n",
    "\n",
    "    ` D = nx.DiGraph()`\n",
    "    \n",
    "* Multi(Di)Graph: (Trip records between bike sharing stations): multiple line from one node to the other\n",
    "\n",
    "    ` M = nx.MultiGraph()`\n",
    "    \n",
    "* We can also give weight metadata for the multiline edges and just draw a single line. It typically indicates the \"strength\" of an edge.\n",
    "\n",
    "* Self loops : (trip begins as a station and ends at the same station) nodes that are connected to themselves."
   ]
  }
 ],
 "metadata": {
  "kernelspec": {
   "display_name": "Python 3",
   "language": "python",
   "name": "python3"
  },
  "language_info": {
   "codemirror_mode": {
    "name": "ipython",
    "version": 3
   },
   "file_extension": ".py",
   "mimetype": "text/x-python",
   "name": "python",
   "nbconvert_exporter": "python",
   "pygments_lexer": "ipython3",
   "version": "3.7.6"
  }
 },
 "nbformat": 4,
 "nbformat_minor": 4
}
