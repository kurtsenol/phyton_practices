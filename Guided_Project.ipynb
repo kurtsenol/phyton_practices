{
 "cells": [
  {
   "cell_type": "markdown",
   "metadata": {},
   "source": [
    "## Guided Project\n",
    "\n",
    "The project is about to analyze data to help our developers understand what type of apps are likely to attract more users."
   ]
  },
  {
   "cell_type": "code",
   "execution_count": null,
   "metadata": {},
   "outputs": [],
   "source": [
    "%config IPCompleter.greedy=True"
   ]
  },
  {
   "cell_type": "code",
   "execution_count": 2,
   "metadata": {},
   "outputs": [],
   "source": [
    "from csv import reader\n",
    "\n",
    "def open_file(dataset):\n",
    "    opened_file = open(dataset, encoding='utf8')\n",
    "    read_file = reader(opened_file)\n",
    "    opened_dataset = list (read_file)\n",
    "    dataset_header = opened_dataset[0]\n",
    "    data_dataset = opened_dataset[1:]\n",
    "    return dataset_header, data_dataset\n",
    "\n",
    "apps_data = open_file('Data/AppleStore.csv')[1]\n",
    "apps_header = open_file('Data/AppleStore.csv')[0]\n",
    "google_data = open_file('Data/googleplaystore.csv')[1]\n",
    "google_header= open_file('Data/googleplaystore.csv')[0]\n"
   ]
  },
  {
   "cell_type": "code",
   "execution_count": 3,
   "metadata": {},
   "outputs": [],
   "source": [
    "def explore_data(dataset, start, end, rows_and_columns=False):\n",
    "    dataset_slice = dataset[start:end]    \n",
    "    for row in dataset_slice:\n",
    "        print(row)\n",
    "        print('\\n') # adds a new (empty) line after each row\n",
    "\n",
    "    if rows_and_columns:\n",
    "        print('Number of rows:', len(dataset))\n",
    "        print('Number of columns:', len(dataset[0]))"
   ]
  },
  {
   "cell_type": "code",
   "execution_count": 4,
   "metadata": {},
   "outputs": [
    {
     "name": "stdout",
     "output_type": "stream",
     "text": [
      "['284882215', 'Facebook', '389879808', 'USD', '0.0', '2974676', '212', '3.5', '3.5', '95.0', '4+', 'Social Networking', '37', '1', '29', '1']\n",
      "\n",
      "\n",
      "['389801252', 'Instagram', '113954816', 'USD', '0.0', '2161558', '1289', '4.5', '4.0', '10.23', '12+', 'Photo & Video', '37', '0', '29', '1']\n",
      "\n",
      "\n",
      "['529479190', 'Clash of Clans', '116476928', 'USD', '0.0', '2130805', '579', '4.5', '4.5', '9.24.12', '9+', 'Games', '38', '5', '18', '1']\n",
      "\n",
      "\n",
      "['420009108', 'Temple Run', '65921024', 'USD', '0.0', '1724546', '3842', '4.5', '4.0', '1.6.2', '9+', 'Games', '40', '5', '1', '1']\n",
      "\n",
      "\n",
      "['284035177', 'Pandora - Music & Radio', '130242560', 'USD', '0.0', '1126879', '3594', '4.0', '4.5', '8.4.1', '12+', 'Music', '37', '4', '1', '1']\n",
      "\n",
      "\n",
      "Number of rows: 7197\n",
      "Number of columns: 16\n",
      "None\n",
      "\n",
      "\n",
      "['Photo Editor & Candy Camera & Grid & ScrapBook', 'ART_AND_DESIGN', '4.1', '159', '19M', '10,000+', 'Free', '0', 'Everyone', 'Art & Design', 'January 7, 2018', '1.0.0', '4.0.3 and up']\n",
      "\n",
      "\n",
      "['Coloring book moana', 'ART_AND_DESIGN', '3.9', '967', '14M', '500,000+', 'Free', '0', 'Everyone', 'Art & Design;Pretend Play', 'January 15, 2018', '2.0.0', '4.0.3 and up']\n",
      "\n",
      "\n",
      "['U Launcher Lite – FREE Live Cool Themes, Hide Apps', 'ART_AND_DESIGN', '4.7', '87510', '8.7M', '5,000,000+', 'Free', '0', 'Everyone', 'Art & Design', 'August 1, 2018', '1.2.4', '4.0.3 and up']\n",
      "\n",
      "\n",
      "['Sketch - Draw & Paint', 'ART_AND_DESIGN', '4.5', '215644', '25M', '50,000,000+', 'Free', '0', 'Teen', 'Art & Design', 'June 8, 2018', 'Varies with device', '4.2 and up']\n",
      "\n",
      "\n",
      "['Pixel Draw - Number Art Coloring Book', 'ART_AND_DESIGN', '4.3', '967', '2.8M', '100,000+', 'Free', '0', 'Everyone', 'Art & Design;Creativity', 'June 20, 2018', '1.1', '4.4 and up']\n",
      "\n",
      "\n",
      "Number of rows: 10841\n",
      "Number of columns: 13\n",
      "None\n"
     ]
    }
   ],
   "source": [
    "print(explore_data(apps_data, 0, 5, True))\n",
    "print('\\n')\n",
    "print(explore_data(google_data, 0, 5, True))"
   ]
  },
  {
   "cell_type": "code",
   "execution_count": 5,
   "metadata": {},
   "outputs": [
    {
     "name": "stdout",
     "output_type": "stream",
     "text": [
      "['id', 'track_name', 'size_bytes', 'currency', 'price', 'rating_count_tot', 'rating_count_ver', 'user_rating', 'user_rating_ver', 'ver', 'cont_rating', 'prime_genre', 'sup_devices.num', 'ipadSc_urls.num', 'lang.num', 'vpp_lic']\n",
      "['App', 'Category', 'Rating', 'Reviews', 'Size', 'Installs', 'Type', 'Price', 'Content Rating', 'Genres', 'Last Updated', 'Current Ver', 'Android Ver']\n"
     ]
    }
   ],
   "source": [
    "print (apps_header)\n",
    "print (google_header)\n"
   ]
  },
  {
   "cell_type": "code",
   "execution_count": 6,
   "metadata": {},
   "outputs": [
    {
     "name": "stdout",
     "output_type": "stream",
     "text": [
      "['Life Made WI-Fi Touchscreen Photo Frame', '1.9', '19', '3.0M', '1,000+', 'Free', '0', 'Everyone', '', 'February 11, 2018', '1.0.19', '4.0 and up']\n"
     ]
    }
   ],
   "source": [
    "print(google_data[10472])"
   ]
  },
  {
   "cell_type": "code",
   "execution_count": 7,
   "metadata": {},
   "outputs": [],
   "source": [
    "del google_data[10472]"
   ]
  },
  {
   "cell_type": "code",
   "execution_count": 8,
   "metadata": {},
   "outputs": [
    {
     "name": "stdout",
     "output_type": "stream",
     "text": [
      "['Instagram', 'SOCIAL', '4.5', '66577313', 'Varies with device', '1,000,000,000+', 'Free', '0', 'Teen', 'Social', 'July 31, 2018', 'Varies with device', 'Varies with device']\n",
      "['Instagram', 'SOCIAL', '4.5', '66577446', 'Varies with device', '1,000,000,000+', 'Free', '0', 'Teen', 'Social', 'July 31, 2018', 'Varies with device', 'Varies with device']\n",
      "['Instagram', 'SOCIAL', '4.5', '66577313', 'Varies with device', '1,000,000,000+', 'Free', '0', 'Teen', 'Social', 'July 31, 2018', 'Varies with device', 'Varies with device']\n",
      "['Instagram', 'SOCIAL', '4.5', '66509917', 'Varies with device', '1,000,000,000+', 'Free', '0', 'Teen', 'Social', 'July 31, 2018', 'Varies with device', 'Varies with device']\n"
     ]
    }
   ],
   "source": [
    "for row in google_data:\n",
    "    if row[0] == 'Instagram':\n",
    "        print(row)"
   ]
  },
  {
   "cell_type": "code",
   "execution_count": 9,
   "metadata": {},
   "outputs": [
    {
     "name": "stdout",
     "output_type": "stream",
     "text": [
      "1181\n",
      "9659\n"
     ]
    }
   ],
   "source": [
    "unique_google_apps = []\n",
    "duplicate_google_apps = []\n",
    "\n",
    "for row in google_data:\n",
    "    if row[0] in unique_google_apps:\n",
    "        duplicate_google_apps.append(row[0])\n",
    "    else:\n",
    "        unique_google_apps.append(row[0])\n",
    "        \n",
    "print(len(duplicate_google_apps))\n",
    "print(len(unique_google_apps))"
   ]
  },
  {
   "cell_type": "code",
   "execution_count": 10,
   "metadata": {},
   "outputs": [
    {
     "name": "stdout",
     "output_type": "stream",
     "text": [
      "9659\n"
     ]
    }
   ],
   "source": [
    "reviews_max = {}\n",
    "\n",
    "for row in google_data:\n",
    "    name = row[0]\n",
    "    n_reviews = float(row[3])\n",
    "    if name in reviews_max:\n",
    "        if reviews_max[name] < n_reviews:\n",
    "            reviews_max[name] = n_reviews\n",
    "    else: \n",
    "        reviews_max[name] = n_reviews\n",
    "\n",
    "print(len(reviews_max))"
   ]
  },
  {
   "cell_type": "code",
   "execution_count": 11,
   "metadata": {},
   "outputs": [
    {
     "name": "stdout",
     "output_type": "stream",
     "text": [
      "9659\n"
     ]
    }
   ],
   "source": [
    "google_clean = []\n",
    "already_added = []\n",
    "\n",
    "for row in google_data:\n",
    "    name = row[0]\n",
    "    n_reviews = float(row[3])\n",
    "    if (n_reviews == reviews_max[name]) and name not in already_added:\n",
    "        google_clean.append(row)\n",
    "        already_added.append(name)\n",
    " \n",
    "print(len(google_clean))"
   ]
  },
  {
   "cell_type": "code",
   "execution_count": 12,
   "metadata": {},
   "outputs": [
    {
     "name": "stdout",
     "output_type": "stream",
     "text": [
      "True\n",
      "False\n",
      "True\n",
      "True\n"
     ]
    }
   ],
   "source": [
    "def english_check(a_string):\n",
    "    i = 0\n",
    "    for character in a_string:\n",
    "        if ord(character) > 127:\n",
    "            i+=1\n",
    "    if i>3:\n",
    "        return False\n",
    "    return True\n",
    "\n",
    "print(english_check('Instagram'))\n",
    "print(english_check('爱奇艺PPS -《欢乐颂2》电视剧热播'))\n",
    "print(english_check('Docs To Go™ Free Office Suite'))\n",
    "print(english_check('Instachat 😜'))\n",
    "\n",
    "        "
   ]
  },
  {
   "cell_type": "code",
   "execution_count": 13,
   "metadata": {},
   "outputs": [
    {
     "name": "stdout",
     "output_type": "stream",
     "text": [
      "9614\n",
      "6183\n"
     ]
    }
   ],
   "source": [
    "google_clean_english=[]\n",
    "apps_data_english = []\n",
    "\n",
    "for row in google_clean:\n",
    "    name = row[0]\n",
    "    if english_check(name):\n",
    "        google_clean_english.append(row)\n",
    "        \n",
    "for row in apps_data:\n",
    "    name = row[1]\n",
    "    if english_check(name):\n",
    "        apps_data_english.append(row)\n",
    "        \n",
    "print(len(google_clean_english))\n",
    "print(len(apps_data_english))"
   ]
  },
  {
   "cell_type": "code",
   "execution_count": 14,
   "metadata": {},
   "outputs": [
    {
     "name": "stdout",
     "output_type": "stream",
     "text": [
      "8864\n",
      "3222\n"
     ]
    }
   ],
   "source": [
    "google_clean_english_free = []\n",
    "apps_data_english_free = []\n",
    "\n",
    "for row in google_clean_english:\n",
    "    price = row[7]\n",
    "    if price=='0':\n",
    "        google_clean_english_free.append(row)\n",
    "        \n",
    "for row in apps_data_english:\n",
    "    price = float(row[4])\n",
    "    if price==0:\n",
    "        apps_data_english_free.append(row)\n",
    "        \n",
    "print(len(google_clean_english_free))\n",
    "print(len(apps_data_english_free))"
   ]
  },
  {
   "cell_type": "code",
   "execution_count": 15,
   "metadata": {},
   "outputs": [
    {
     "name": "stdout",
     "output_type": "stream",
     "text": [
      "[('Games', 58.16), ('Entertainment', 7.88), ('Photo & Video', 4.97), ('Education', 3.66), ('Social Networking', 3.29), ('Shopping', 2.61), ('Utilities', 2.51), ('Sports', 2.14), ('Music', 2.05), ('Health & Fitness', 2.02), ('Productivity', 1.74), ('Lifestyle', 1.58), ('News', 1.33), ('Travel', 1.24), ('Finance', 1.12), ('Weather', 0.87), ('Food & Drink', 0.81), ('Reference', 0.56), ('Business', 0.53), ('Book', 0.43), ('Navigation', 0.19), ('Medical', 0.19), ('Catalogs', 0.12)]\n"
     ]
    }
   ],
   "source": [
    "google_freq={}\n",
    "apps_freq={}\n",
    "\n",
    "\n",
    "def freq_table(a_list, index):\n",
    "    total = 0\n",
    "    table_freq = {}\n",
    "    table_per = {}\n",
    "    for row in a_list:\n",
    "        cell= row[index]\n",
    "        if cell in table_freq:\n",
    "            table_freq[cell] += 1\n",
    "        else:\n",
    "            table_freq[cell] = 1\n",
    "    \n",
    "    for key in table_freq:\n",
    "        table_per[key] = round ((table_freq[key] / len(a_list)) * 100, 2)\n",
    "    \n",
    "    sorted_table_per = sorted(table_per.items(), key=lambda x:x[1], reverse = True)     \n",
    "    return sorted_table_per\n",
    "    \n",
    "google_freq_genres = freq_table(google_clean_english_free, 9)\n",
    "google_freq_category = freq_table(google_clean_english_free, 1)\n",
    "apps_data_freq_genres = freq_table(apps_data_english_free, 11)\n",
    "\n",
    "# print(google_freq_genres)\n",
    "# print(google_freq_category)\n",
    "print(apps_data_freq_genres)\n",
    "\n",
    "# for key, value in google_freq_genres:\n",
    "#     print (key, ':', value) \n",
    "\n",
    "# print('\\n')\n",
    "\n",
    "# for key, value in google_freq_category:\n",
    "#     print (key, ':', value) \n",
    "    \n",
    "# print('\\n')\n",
    "\n",
    "# for key, value in apps_data_freq_genres:\n",
    "#     print (key, ':', value) \n",
    "\n"
   ]
  },
  {
   "cell_type": "code",
   "execution_count": 16,
   "metadata": {},
   "outputs": [
    {
     "name": "stdout",
     "output_type": "stream",
     "text": [
      "[('Navigation', 86090.33333333333), ('Reference', 74942.11111111111), ('Social Networking', 71548.34905660378), ('Music', 57326.530303030304), ('Weather', 52279.892857142855), ('Book', 39758.5), ('Food & Drink', 33333.92307692308), ('Finance', 31467.944444444445), ('Photo & Video', 28441.54375), ('Travel', 28243.8), ('Shopping', 26919.690476190477), ('Health & Fitness', 23298.015384615384), ('Sports', 23008.898550724636), ('Games', 22788.6696905016), ('News', 21248.023255813954), ('Productivity', 21028.410714285714), ('Utilities', 18684.456790123455), ('Lifestyle', 16485.764705882353), ('Entertainment', 14029.830708661417), ('Business', 7491.117647058823), ('Education', 7003.983050847458), ('Catalogs', 4004.0), ('Medical', 612.0)]\n"
     ]
    }
   ],
   "source": [
    "apps_data_freq_genres = freq_table(apps_data_english_free, 11)\n",
    "avg_rating = {}\n",
    "\n",
    "\n",
    "for genre in apps_data_freq_genres:\n",
    "    total = 0\n",
    "    len_genre=0\n",
    "    for app in apps_data_english_free:\n",
    "        genre_app = app[11]\n",
    "        if genre_app == genre[0]:\n",
    "            user_rating = float(app[5])\n",
    "            total += user_rating\n",
    "            len_genre +=1\n",
    "    avg_rtg = total /len_genre\n",
    "    avg_rating[genre[0]] = avg_rtg\n",
    "#     print (genre[0], ':', avg_rtg)\n",
    "\n",
    "sorted_avg_rating = sorted(avg_rating.items(), key=lambda x:x[1], reverse = True)\n",
    "print(sorted_avg_rating)"
   ]
  },
  {
   "cell_type": "code",
   "execution_count": 17,
   "metadata": {},
   "outputs": [
    {
     "name": "stdout",
     "output_type": "stream",
     "text": [
      "[('COMMUNICATION', 38456119.167247385), ('VIDEO_PLAYERS', 24727872.452830188), ('SOCIAL', 23253652.127118643), ('PHOTOGRAPHY', 17840110.40229885), ('PRODUCTIVITY', 16787331.344927534), ('GAME', 15588015.603248259), ('TRAVEL_AND_LOCAL', 13984077.710144928), ('ENTERTAINMENT', 11640705.88235294), ('TOOLS', 10801391.298666667), ('NEWS_AND_MAGAZINES', 9549178.467741935), ('BOOKS_AND_REFERENCE', 8767811.894736841), ('SHOPPING', 7036877.311557789), ('PERSONALIZATION', 5201482.6122448975), ('WEATHER', 5074486.197183099), ('HEALTH_AND_FITNESS', 4188821.9853479853), ('MAPS_AND_NAVIGATION', 4056941.7741935486), ('FAMILY', 3695641.8198090694), ('SPORTS', 3638640.1428571427), ('ART_AND_DESIGN', 1986335.0877192982), ('FOOD_AND_DRINK', 1924897.7363636363), ('EDUCATION', 1833495.145631068), ('BUSINESS', 1712290.1474201474), ('LIFESTYLE', 1437816.2687861272), ('FINANCE', 1387692.475609756), ('HOUSE_AND_HOME', 1331540.5616438356), ('DATING', 854028.8303030303), ('COMICS', 817657.2727272727), ('AUTO_AND_VEHICLES', 647317.8170731707), ('LIBRARIES_AND_DEMO', 638503.734939759), ('PARENTING', 542603.6206896552), ('BEAUTY', 513151.88679245283), ('EVENTS', 253542.22222222222), ('MEDICAL', 120550.61980830671)]\n"
     ]
    }
   ],
   "source": [
    "google_freq_category = freq_table(google_clean_english_free, 1)\n",
    "avg_installs = {}\n",
    "\n",
    "for category in google_freq_category:\n",
    "    total =0\n",
    "    len_category=0\n",
    "    for app in google_clean_english_free:\n",
    "        category_app = app[1]\n",
    "        if category_app== category[0]:\n",
    "            n_installs = app[5]\n",
    "            n_installs = n_installs.replace('+', '')\n",
    "            n_installs = n_installs.replace(',', '')\n",
    "            total += float(n_installs)\n",
    "            len_category +=1\n",
    "    avg_install = total / len_category\n",
    "    avg_installs[category[0]] = avg_install\n",
    "    \n",
    "sorted_avg_installs = sorted(avg_installs.items(), key=lambda x:x[1], reverse = True)\n",
    "print(sorted_avg_installs)\n"
   ]
  },
  {
   "cell_type": "code",
   "execution_count": null,
   "metadata": {},
   "outputs": [],
   "source": []
  }
 ],
 "metadata": {
  "kernelspec": {
   "display_name": "Python 3",
   "language": "python",
   "name": "python3"
  },
  "language_info": {
   "codemirror_mode": {
    "name": "ipython",
    "version": 3
   },
   "file_extension": ".py",
   "mimetype": "text/x-python",
   "name": "python",
   "nbconvert_exporter": "python",
   "pygments_lexer": "ipython3",
   "version": "3.7.6"
  }
 },
 "nbformat": 4,
 "nbformat_minor": 4
}
