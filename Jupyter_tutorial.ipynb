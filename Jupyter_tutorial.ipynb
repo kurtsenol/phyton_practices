{
 "cells": [
  {
   "cell_type": "code",
   "execution_count": 1,
   "metadata": {},
   "outputs": [
    {
     "data": {
      "application/json": {
       "cell": {
        "!": "OSMagics",
        "HTML": "Other",
        "SVG": "Other",
        "bash": "Other",
        "capture": "ExecutionMagics",
        "cmd": "Other",
        "debug": "ExecutionMagics",
        "file": "Other",
        "html": "DisplayMagics",
        "javascript": "DisplayMagics",
        "js": "DisplayMagics",
        "latex": "DisplayMagics",
        "markdown": "DisplayMagics",
        "perl": "Other",
        "prun": "ExecutionMagics",
        "pypy": "Other",
        "python": "Other",
        "python2": "Other",
        "python3": "Other",
        "ruby": "Other",
        "script": "ScriptMagics",
        "sh": "Other",
        "svg": "DisplayMagics",
        "sx": "OSMagics",
        "system": "OSMagics",
        "time": "ExecutionMagics",
        "timeit": "ExecutionMagics",
        "writefile": "OSMagics"
       },
       "line": {
        "alias": "OSMagics",
        "alias_magic": "BasicMagics",
        "autoawait": "AsyncMagics",
        "autocall": "AutoMagics",
        "automagic": "AutoMagics",
        "autosave": "KernelMagics",
        "bookmark": "OSMagics",
        "cd": "OSMagics",
        "clear": "KernelMagics",
        "cls": "KernelMagics",
        "colors": "BasicMagics",
        "conda": "PackagingMagics",
        "config": "ConfigMagics",
        "connect_info": "KernelMagics",
        "copy": "Other",
        "ddir": "Other",
        "debug": "ExecutionMagics",
        "dhist": "OSMagics",
        "dirs": "OSMagics",
        "doctest_mode": "BasicMagics",
        "echo": "Other",
        "ed": "Other",
        "edit": "KernelMagics",
        "env": "OSMagics",
        "gui": "BasicMagics",
        "hist": "Other",
        "history": "HistoryMagics",
        "killbgscripts": "ScriptMagics",
        "ldir": "Other",
        "less": "KernelMagics",
        "load": "CodeMagics",
        "load_ext": "ExtensionMagics",
        "loadpy": "CodeMagics",
        "logoff": "LoggingMagics",
        "logon": "LoggingMagics",
        "logstart": "LoggingMagics",
        "logstate": "LoggingMagics",
        "logstop": "LoggingMagics",
        "ls": "Other",
        "lsmagic": "BasicMagics",
        "macro": "ExecutionMagics",
        "magic": "BasicMagics",
        "matplotlib": "PylabMagics",
        "mkdir": "Other",
        "more": "KernelMagics",
        "notebook": "BasicMagics",
        "page": "BasicMagics",
        "pastebin": "CodeMagics",
        "pdb": "ExecutionMagics",
        "pdef": "NamespaceMagics",
        "pdoc": "NamespaceMagics",
        "pfile": "NamespaceMagics",
        "pinfo": "NamespaceMagics",
        "pinfo2": "NamespaceMagics",
        "pip": "PackagingMagics",
        "popd": "OSMagics",
        "pprint": "BasicMagics",
        "precision": "BasicMagics",
        "prun": "ExecutionMagics",
        "psearch": "NamespaceMagics",
        "psource": "NamespaceMagics",
        "pushd": "OSMagics",
        "pwd": "OSMagics",
        "pycat": "OSMagics",
        "pylab": "PylabMagics",
        "qtconsole": "KernelMagics",
        "quickref": "BasicMagics",
        "recall": "HistoryMagics",
        "rehashx": "OSMagics",
        "reload_ext": "ExtensionMagics",
        "ren": "Other",
        "rep": "Other",
        "rerun": "HistoryMagics",
        "reset": "NamespaceMagics",
        "reset_selective": "NamespaceMagics",
        "rmdir": "Other",
        "run": "ExecutionMagics",
        "save": "CodeMagics",
        "sc": "OSMagics",
        "set_env": "OSMagics",
        "store": "StoreMagics",
        "sx": "OSMagics",
        "system": "OSMagics",
        "tb": "ExecutionMagics",
        "time": "ExecutionMagics",
        "timeit": "ExecutionMagics",
        "unalias": "OSMagics",
        "unload_ext": "ExtensionMagics",
        "who": "NamespaceMagics",
        "who_ls": "NamespaceMagics",
        "whos": "NamespaceMagics",
        "xdel": "NamespaceMagics",
        "xmode": "BasicMagics"
       }
      },
      "text/plain": [
       "Available line magics:\n",
       "%alias  %alias_magic  %autoawait  %autocall  %automagic  %autosave  %bookmark  %cd  %clear  %cls  %colors  %conda  %config  %connect_info  %copy  %ddir  %debug  %dhist  %dirs  %doctest_mode  %echo  %ed  %edit  %env  %gui  %hist  %history  %killbgscripts  %ldir  %less  %load  %load_ext  %loadpy  %logoff  %logon  %logstart  %logstate  %logstop  %ls  %lsmagic  %macro  %magic  %matplotlib  %mkdir  %more  %notebook  %page  %pastebin  %pdb  %pdef  %pdoc  %pfile  %pinfo  %pinfo2  %pip  %popd  %pprint  %precision  %prun  %psearch  %psource  %pushd  %pwd  %pycat  %pylab  %qtconsole  %quickref  %recall  %rehashx  %reload_ext  %ren  %rep  %rerun  %reset  %reset_selective  %rmdir  %run  %save  %sc  %set_env  %store  %sx  %system  %tb  %time  %timeit  %unalias  %unload_ext  %who  %who_ls  %whos  %xdel  %xmode\n",
       "\n",
       "Available cell magics:\n",
       "%%!  %%HTML  %%SVG  %%bash  %%capture  %%cmd  %%debug  %%file  %%html  %%javascript  %%js  %%latex  %%markdown  %%perl  %%prun  %%pypy  %%python  %%python2  %%python3  %%ruby  %%script  %%sh  %%svg  %%sx  %%system  %%time  %%timeit  %%writefile\n",
       "\n",
       "Automagic is ON, % prefix IS NOT needed for line magics."
      ]
     },
     "execution_count": 1,
     "metadata": {},
     "output_type": "execute_result"
    }
   ],
   "source": [
    "%lsmagic"
   ]
  },
  {
   "cell_type": "code",
   "execution_count": 3,
   "metadata": {},
   "outputs": [
    {
     "data": {
      "text/plain": [
       "'C:\\\\Users\\\\Berk Karaköz\\\\Desktop\\\\PythonProject'"
      ]
     },
     "execution_count": 3,
     "metadata": {},
     "output_type": "execute_result"
    }
   ],
   "source": [
    "%pwd"
   ]
  },
  {
   "cell_type": "code",
   "execution_count": 2,
   "metadata": {},
   "outputs": [
    {
     "name": "stdout",
     "output_type": "stream",
     "text": [
      " Volume in drive C has no label.\n",
      " Volume Serial Number is 5260-ABED\n",
      "\n",
      " Directory of C:\\Users\\Berk Karak”z\\Desktop\\PythonProject\n",
      "\n",
      "01.02.2020  18:57    <DIR>          .\n",
      "01.02.2020  18:57    <DIR>          ..\n",
      "01.02.2020  18:57    <DIR>          .ipynb_checkpoints\n",
      "20.05.2019  12:10    <DIR>          __MACOSX\n",
      "17.01.2020  20:57            64.763 Data Science Warm Up.xlsx\n",
      "01.02.2020  18:56                72 Jupyter_tutorial.ipynb\n",
      "01.02.2020  18:56           145.351 Pandas_C1.ipynb\n",
      "18.01.2020  01:43    <DIR>          PythonApplication1\n",
      "18.01.2020  12:25            13.030 Roadmap.docx\n",
      "01.02.2020  17:42    <DIR>          StackoverData\n",
      "               4 File(s)        223.216 bytes\n",
      "               6 Dir(s)  30.415.925.248 bytes free\n"
     ]
    }
   ],
   "source": [
    "%ls"
   ]
  },
  {
   "cell_type": "code",
   "execution_count": 5,
   "metadata": {},
   "outputs": [
    {
     "name": "stdout",
     "output_type": "stream",
     "text": [
      "Package            Version            \n",
      "------------------ -------------------\n",
      "attrs              19.3.0             \n",
      "backcall           0.1.0              \n",
      "bleach             3.1.0              \n",
      "certifi            2019.11.28         \n",
      "colorama           0.4.3              \n",
      "decorator          4.4.1              \n",
      "defusedxml         0.6.0              \n",
      "entrypoints        0.3                \n",
      "importlib-metadata 1.4.0              \n",
      "ipykernel          5.1.3              \n",
      "ipython            7.11.1             \n",
      "ipython-genutils   0.2.0              \n",
      "jedi               0.15.2             \n",
      "Jinja2             2.10.3             \n",
      "json5              0.8.5              \n",
      "jsonschema         3.2.0              \n",
      "jupyter-client     5.3.4              \n",
      "jupyter-core       4.6.1              \n",
      "jupyterlab         1.2.5              \n",
      "jupyterlab-server  1.0.6              \n",
      "MarkupSafe         1.1.1              \n",
      "mistune            0.8.4              \n",
      "mkl-fft            1.0.15             \n",
      "mkl-random         1.1.0              \n",
      "mkl-service        2.3.0              \n",
      "more-itertools     8.1.0              \n",
      "nbconvert          5.6.1              \n",
      "nbformat           5.0.3              \n",
      "notebook           6.0.1              \n",
      "numpy              1.18.1             \n",
      "pandas             0.25.3             \n",
      "pandocfilters      1.4.2              \n",
      "parso              0.5.2              \n",
      "pickleshare        0.7.5              \n",
      "pip                19.3.1             \n",
      "prometheus-client  0.7.1              \n",
      "prompt-toolkit     3.0.2              \n",
      "Pygments           2.5.2              \n",
      "pyrsistent         0.14.11            \n",
      "python-dateutil    2.8.1              \n",
      "pytz               2019.3             \n",
      "pywin32            225                \n",
      "pywinpty           0.5.7              \n",
      "pyzmq              18.1.1             \n",
      "Send2Trash         1.5.0              \n",
      "setuptools         44.0.0.post20200106\n",
      "six                1.14.0             \n",
      "terminado          0.8.3              \n",
      "testpath           0.4.4              \n",
      "tornado            6.0.3              \n",
      "traitlets          4.3.3              \n",
      "wcwidth            0.1.8              \n",
      "webencodings       0.5.1              \n",
      "wheel              0.33.6             \n",
      "wincertstore       0.2                \n",
      "zipp               1.0.0              \n"
     ]
    }
   ],
   "source": [
    "!pip list"
   ]
  },
  {
   "cell_type": "code",
   "execution_count": 14,
   "metadata": {},
   "outputs": [
    {
     "data": {
      "text/html": [
       "\n",
       "<iframe src= 'https://www.youtube.com/embed/YJC6ldI3hWk'> </iframe>\n"
      ],
      "text/plain": [
       "<IPython.core.display.HTML object>"
      ]
     },
     "metadata": {},
     "output_type": "display_data"
    }
   ],
   "source": [
    "%%HTML\n",
    "\n",
    "<iframe src= 'https://www.youtube.com/embed/YJC6ldI3hWk'> </iframe>"
   ]
  },
  {
   "cell_type": "code",
   "execution_count": 10,
   "metadata": {},
   "outputs": [
    {
     "name": "stdout",
     "output_type": "stream",
     "text": [
      "85.8 µs ± 7.18 µs per loop (mean ± std. dev. of 7 runs, 10000 loops each)\n"
     ]
    }
   ],
   "source": [
    "%%timeit\n",
    "square_evens = {n*n for n in range(1000)}"
   ]
  },
  {
   "cell_type": "code",
   "execution_count": 15,
   "metadata": {},
   "outputs": [
    {
     "data": {
      "text/html": [
       "<div>\n",
       "<style scoped>\n",
       "    .dataframe tbody tr th:only-of-type {\n",
       "        vertical-align: middle;\n",
       "    }\n",
       "\n",
       "    .dataframe tbody tr th {\n",
       "        vertical-align: top;\n",
       "    }\n",
       "\n",
       "    .dataframe thead th {\n",
       "        text-align: right;\n",
       "    }\n",
       "</style>\n",
       "<table border=\"1\" class=\"dataframe\">\n",
       "  <thead>\n",
       "    <tr style=\"text-align: right;\">\n",
       "      <th></th>\n",
       "      <th>0</th>\n",
       "      <th>1</th>\n",
       "      <th>2</th>\n",
       "      <th>3</th>\n",
       "      <th>4</th>\n",
       "    </tr>\n",
       "  </thead>\n",
       "  <tbody>\n",
       "    <tr>\n",
       "      <th>0</th>\n",
       "      <td>-0.225632</td>\n",
       "      <td>-0.903718</td>\n",
       "      <td>2.231369</td>\n",
       "      <td>-1.166197</td>\n",
       "      <td>-0.770620</td>\n",
       "    </tr>\n",
       "    <tr>\n",
       "      <th>1</th>\n",
       "      <td>-0.391673</td>\n",
       "      <td>-0.117309</td>\n",
       "      <td>1.061023</td>\n",
       "      <td>0.528119</td>\n",
       "      <td>-2.415766</td>\n",
       "    </tr>\n",
       "    <tr>\n",
       "      <th>2</th>\n",
       "      <td>-1.430640</td>\n",
       "      <td>1.989335</td>\n",
       "      <td>0.369385</td>\n",
       "      <td>0.136951</td>\n",
       "      <td>-0.770719</td>\n",
       "    </tr>\n",
       "    <tr>\n",
       "      <th>3</th>\n",
       "      <td>0.638860</td>\n",
       "      <td>1.760094</td>\n",
       "      <td>-1.202558</td>\n",
       "      <td>-1.315752</td>\n",
       "      <td>-0.773553</td>\n",
       "    </tr>\n",
       "    <tr>\n",
       "      <th>4</th>\n",
       "      <td>-0.888106</td>\n",
       "      <td>-0.008263</td>\n",
       "      <td>-1.604233</td>\n",
       "      <td>-1.321948</td>\n",
       "      <td>-0.522121</td>\n",
       "    </tr>\n",
       "    <tr>\n",
       "      <th>5</th>\n",
       "      <td>1.163372</td>\n",
       "      <td>0.444022</td>\n",
       "      <td>-0.812773</td>\n",
       "      <td>-0.623433</td>\n",
       "      <td>-0.820575</td>\n",
       "    </tr>\n",
       "    <tr>\n",
       "      <th>6</th>\n",
       "      <td>0.595476</td>\n",
       "      <td>0.068995</td>\n",
       "      <td>0.153929</td>\n",
       "      <td>-1.312479</td>\n",
       "      <td>0.774457</td>\n",
       "    </tr>\n",
       "    <tr>\n",
       "      <th>7</th>\n",
       "      <td>-1.041946</td>\n",
       "      <td>-0.839913</td>\n",
       "      <td>0.306964</td>\n",
       "      <td>0.089877</td>\n",
       "      <td>0.458084</td>\n",
       "    </tr>\n",
       "    <tr>\n",
       "      <th>8</th>\n",
       "      <td>0.969281</td>\n",
       "      <td>0.055572</td>\n",
       "      <td>0.308771</td>\n",
       "      <td>-0.817685</td>\n",
       "      <td>-0.002515</td>\n",
       "    </tr>\n",
       "    <tr>\n",
       "      <th>9</th>\n",
       "      <td>-0.221529</td>\n",
       "      <td>-0.046028</td>\n",
       "      <td>-1.199896</td>\n",
       "      <td>-0.897690</td>\n",
       "      <td>-0.614868</td>\n",
       "    </tr>\n",
       "  </tbody>\n",
       "</table>\n",
       "</div>"
      ],
      "text/plain": [
       "          0         1         2         3         4\n",
       "0 -0.225632 -0.903718  2.231369 -1.166197 -0.770620\n",
       "1 -0.391673 -0.117309  1.061023  0.528119 -2.415766\n",
       "2 -1.430640  1.989335  0.369385  0.136951 -0.770719\n",
       "3  0.638860  1.760094 -1.202558 -1.315752 -0.773553\n",
       "4 -0.888106 -0.008263 -1.604233 -1.321948 -0.522121\n",
       "5  1.163372  0.444022 -0.812773 -0.623433 -0.820575\n",
       "6  0.595476  0.068995  0.153929 -1.312479  0.774457\n",
       "7 -1.041946 -0.839913  0.306964  0.089877  0.458084\n",
       "8  0.969281  0.055572  0.308771 -0.817685 -0.002515\n",
       "9 -0.221529 -0.046028 -1.199896 -0.897690 -0.614868"
      ]
     },
     "execution_count": 15,
     "metadata": {},
     "output_type": "execute_result"
    }
   ],
   "source": [
    "import pandas as pd\n",
    "import numpy as np\n",
    "\n",
    "df =pd.DataFrame(np.random.randn(10,5))\n",
    "df"
   ]
  },
  {
   "cell_type": "code",
   "execution_count": null,
   "metadata": {},
   "outputs": [],
   "source": []
  }
 ],
 "metadata": {
  "kernelspec": {
   "display_name": "Python 3",
   "language": "python",
   "name": "python3"
  },
  "language_info": {
   "codemirror_mode": {
    "name": "ipython",
    "version": 3
   },
   "file_extension": ".py",
   "mimetype": "text/x-python",
   "name": "python",
   "nbconvert_exporter": "python",
   "pygments_lexer": "ipython3",
   "version": "3.7.6"
  }
 },
 "nbformat": 4,
 "nbformat_minor": 4
}
