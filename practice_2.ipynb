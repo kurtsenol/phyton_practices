{
 "cells": [
  {
   "cell_type": "code",
   "execution_count": 14,
   "metadata": {},
   "outputs": [
    {
     "name": "stdout",
     "output_type": "stream",
     "text": [
      "This\n",
      "is\n",
      "one\n",
      "of\n",
      "the\n",
      "test\n",
      "sentences!\n"
     ]
    }
   ],
   "source": [
    "# break a sentence into words using generator\n",
    "\n",
    "def sentence_breaker(sentence):\n",
    "    a_word = sentence.split()\n",
    "    for word in a_word:\n",
    "        yield word\n",
    "    \n",
    "iter_sentence= sentence_breaker(\"This is one of the test sentences!\")\n",
    "\n",
    "print(next(iter_sentence))\n",
    "print(next(iter_sentence))\n",
    "print(next(iter_sentence))\n",
    "print(next(iter_sentence))\n",
    "print(next(iter_sentence))\n",
    "print(next(iter_sentence))\n",
    "print(next(iter_sentence))"
   ]
  },
  {
   "cell_type": "code",
   "execution_count": 15,
   "metadata": {},
   "outputs": [
    {
     "name": "stdout",
     "output_type": "stream",
     "text": [
      "This\n",
      "is\n",
      "one\n",
      "of\n",
      "the\n",
      "test\n",
      "sentences!\n"
     ]
    }
   ],
   "source": [
    "# recreate the iter_sentence and loop through \n",
    "\n",
    "iter_sentence= sentence_breaker(\"This is one of the test sentences!\")\n",
    "\n",
    "for it in iter_sentence:\n",
    "     print(it)"
   ]
  }
 ],
 "metadata": {
  "kernelspec": {
   "display_name": "Python 3",
   "language": "python",
   "name": "python3"
  },
  "language_info": {
   "codemirror_mode": {
    "name": "ipython",
    "version": 3
   },
   "file_extension": ".py",
   "mimetype": "text/x-python",
   "name": "python",
   "nbconvert_exporter": "python",
   "pygments_lexer": "ipython3",
   "version": "3.7.6"
  }
 },
 "nbformat": 4,
 "nbformat_minor": 4
}
