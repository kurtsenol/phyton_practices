{
 "cells": [
  {
   "cell_type": "code",
   "execution_count": 1,
   "metadata": {},
   "outputs": [
    {
     "data": {
      "text/plain": [
       "780"
      ]
     },
     "execution_count": 1,
     "metadata": {},
     "output_type": "execute_result"
    }
   ],
   "source": [
    "# add Two Numbers\n",
    "def addTwoNumbers(l1, l2):\n",
    "    s= ''\n",
    "    for i in l1:\n",
    "        s += str(i)\n",
    "        s = s[::-1]\n",
    "\n",
    "    a=''\n",
    "    for i in l2:\n",
    "        a += str(i)\n",
    "        a = a[::-1]\n",
    "    result = int(s) + int(a)\n",
    "    return result\n",
    "addTwoNumbers(l1 = [3,4,2], l2 = [4,6,5])"
   ]
  },
  {
   "cell_type": "code",
   "execution_count": 2,
   "metadata": {},
   "outputs": [
    {
     "data": {
      "text/plain": [
       "-4561239"
      ]
     },
     "execution_count": 2,
     "metadata": {},
     "output_type": "execute_result"
    }
   ],
   "source": [
    "# Reverse Integer\n",
    "\n",
    "def reverse(x: int) -> int:\n",
    "    if x > (2**31-1) or x < -(2**31) :\n",
    "        a=0\n",
    "        return a\n",
    "    elif x >= 0:\n",
    "        a = str(x)\n",
    "        a = a[::-1]\n",
    "        a = int(a)\n",
    "    else:\n",
    "        a = str(x)\n",
    "        a = a[1:]\n",
    "        a = a[::-1]\n",
    "        a = int(a)*-1\n",
    "    if a > (2**31-1) or a < -(2**31) :\n",
    "        return 0\n",
    "    else:\n",
    "        return a\n",
    "reverse(-9321654)"
   ]
  },
  {
   "cell_type": "code",
   "execution_count": 3,
   "metadata": {},
   "outputs": [
    {
     "data": {
      "text/plain": [
       "3"
      ]
     },
     "execution_count": 3,
     "metadata": {},
     "output_type": "execute_result"
    }
   ],
   "source": [
    "#Longest Substring Without Repeating Characters\n",
    "\n",
    "def lengthOfLongestSubstring(s: str) -> int:\n",
    "    a_list = []\n",
    "    a_matrix = []\n",
    "    for i in range(0, len(s)):\n",
    "        for j in range(i, len(s)): \n",
    "            if s[j] not in a_list:\n",
    "                a_list.append(s[j])\n",
    "            else:\n",
    "                y = len(a_list)\n",
    "                a_matrix.append(y)\n",
    "                a_list=[]\n",
    "                break       \n",
    "    y = len(a_list)\n",
    "    a_matrix.append(y)\n",
    "    return max(a_matrix)\n",
    "\n",
    "lengthOfLongestSubstring(\"pwwkew\")"
   ]
  },
  {
   "cell_type": "code",
   "execution_count": 4,
   "metadata": {},
   "outputs": [
    {
     "name": "stdout",
     "output_type": "stream",
     "text": [
      "True\n"
     ]
    }
   ],
   "source": [
    "# Palindrome Number  \n",
    "\n",
    "def isPalindrome(x: int) -> bool:\n",
    "    if x >=0:\n",
    "        a = str(x)\n",
    "        r = a[::-1]\n",
    "        if x == int(r):\n",
    "            return True\n",
    "        else:\n",
    "            return False\n",
    "    else:\n",
    "        return False\n",
    "print(isPalindrome(0))"
   ]
  },
  {
   "cell_type": "code",
   "execution_count": 5,
   "metadata": {},
   "outputs": [
    {
     "data": {
      "text/plain": [
       "64"
      ]
     },
     "execution_count": 5,
     "metadata": {},
     "output_type": "execute_result"
    }
   ],
   "source": [
    "# Container With Most Water\n",
    "\n",
    "height = [1,8,6,2,5,4,8,3,7,12]\n",
    "def maxArea(height) -> int:\n",
    "    r=0\n",
    "    max_result=0\n",
    "    index=0\n",
    "    for x in height:\n",
    "        count=1\n",
    "        for y in  height[index+1:]:\n",
    "            if x<=y :\n",
    "                r = x*count\n",
    "            else:\n",
    "                r = y*count\n",
    "            if r>max_result:\n",
    "                max_result=r\n",
    "            count+=1\n",
    "        index+=1\n",
    "    return max_result\n",
    "\n",
    "maxArea(height)"
   ]
  },
  {
   "cell_type": "code",
   "execution_count": 6,
   "metadata": {},
   "outputs": [
    {
     "name": "stdout",
     "output_type": "stream",
     "text": [
      "9\n",
      "64\n",
      "42\n",
      "12\n",
      "25\n",
      "16\n",
      "24\n",
      "6\n",
      "7\n",
      "0\n"
     ]
    },
    {
     "data": {
      "text/plain": [
       "64"
      ]
     },
     "execution_count": 6,
     "metadata": {},
     "output_type": "execute_result"
    }
   ],
   "source": [
    "# Container With Most Water\n",
    "\n",
    "height = [1,8,6,2,5,4,8,3,7,12]\n",
    "head=0\n",
    "tail = -1\n",
    "r=0\n",
    "max_result=0\n",
    "width = len(height)-1\n",
    "\n",
    "\n",
    "for x in range(len(height)):\n",
    "#     if width==0:\n",
    "#         break\n",
    "    if height[head]<=height[tail]:\n",
    "        area = height[head]*width\n",
    "        print(area)\n",
    "        head+=1\n",
    "    else:\n",
    "        area = height[tail]*width \n",
    "        print(area)\n",
    "        tail-=1\n",
    "    if area>max_result:\n",
    "        max_result=area\n",
    "    width-=1\n",
    "max_result"
   ]
  },
  {
   "cell_type": "code",
   "execution_count": 7,
   "metadata": {},
   "outputs": [
    {
     "data": {
      "text/plain": [
       "4"
      ]
     },
     "execution_count": 7,
     "metadata": {},
     "output_type": "execute_result"
    }
   ],
   "source": [
    "# Unique Paths II\n",
    "\n",
    "trip =  [[0,1,0,0],\n",
    "         [0,1,0,0],\n",
    "         [0,0,0,0],\n",
    "         [0,0,0,0]]\n",
    "\n",
    "def uniquePathsWithObstacles(obstacleGrid):\n",
    "    m = len(obstacleGrid)\n",
    "    n = len(obstacleGrid[0])\n",
    "    \n",
    "    if obstacleGrid[0][0]:\n",
    "        return 0\n",
    "    else:\n",
    "        obstacleGrid[0][0] = 1\n",
    "        \n",
    "        # Filling the values for the first column\n",
    "    for i in range(1,m):\n",
    "        obstacleGrid[i][0] = int(obstacleGrid[i][0] == 0 and obstacleGrid[i-1][0] == 1)\n",
    "\n",
    "        # Filling the values for the first row        \n",
    "    for j in range(1, n):\n",
    "        obstacleGrid[0][j] = int(obstacleGrid[0][j] == 0 and obstacleGrid[0][j-1] == 1)\n",
    "\n",
    "        # Starting from cell(1,1) fill up the values\n",
    "        # No. of ways of reaching cell[i][j] = cell[i - 1][j] + cell[i][j - 1]\n",
    "        # i.e. From above and left.\n",
    "    for i in range(1,m):\n",
    "        for j in range(1,n):\n",
    "            if obstacleGrid[i][j] == 0:\n",
    "                obstacleGrid[i][j] = obstacleGrid[i-1][j] + obstacleGrid[i][j-1]\n",
    "            else:\n",
    "                obstacleGrid[i][j] = 0\n",
    "\n",
    "        # Return value stored in rightmost bottommost cell. That is the destination.            \n",
    "    return obstacleGrid[m-1][n-1]\n",
    "\n",
    "\n",
    "uniquePathsWithObstacles(trip)    "
   ]
  },
  {
   "cell_type": "code",
   "execution_count": 8,
   "metadata": {},
   "outputs": [
    {
     "data": {
      "text/plain": [
       "'CDXCIX'"
      ]
     },
     "execution_count": 8,
     "metadata": {},
     "output_type": "execute_result"
    }
   ],
   "source": [
    "#### Integer to Roman less than 3999\n",
    "\n",
    "def intToRoman(num: int) -> str:\n",
    "    a_dict = {1:\"I\", 5:\"V\", 10:\"X\", 50:\"L\", 100:\"C\", 500:\"D\", 1000:\"M\"}\n",
    "    result = ''\n",
    "    div = 1000\n",
    "    \n",
    "    while num != 0:\n",
    "        \n",
    "        temp, remainder = divmod(num, div)\n",
    "       \n",
    "        if temp == 9:\n",
    "            result += a_dict[div] + a_dict[div*10]\n",
    "        \n",
    "        elif temp == 4:\n",
    "            result += a_dict[div] + a_dict[div*5]\n",
    "        \n",
    "        elif temp>=5:\n",
    "            result += a_dict[div*5] + a_dict[div]*(temp-5)\n",
    "            \n",
    "        else:\n",
    "            result += a_dict[div]*temp\n",
    "        \n",
    "        div = div//10\n",
    "        num = remainder\n",
    "        \n",
    "    return result\n",
    "            \n",
    "\n",
    "intToRoman(499)\n",
    "    \n"
   ]
  },
  {
   "cell_type": "code",
   "execution_count": 9,
   "metadata": {},
   "outputs": [
    {
     "data": {
      "text/plain": [
       "58"
      ]
     },
     "execution_count": 9,
     "metadata": {},
     "output_type": "execute_result"
    }
   ],
   "source": [
    "# Roman to Integer less than 3999\n",
    "\n",
    "def romanToInt(s: str) -> int:\n",
    "    \n",
    "    a_dict = {\"I\":1, \"V\":5, \"X\":10, \"L\":50, \"C\":100, \"D\":500, \"M\":1000}\n",
    "    \n",
    "    result = a_dict[s[0]]   \n",
    "    \n",
    "    for i in range(1, len(s)):\n",
    "        \n",
    "        if a_dict[s[i]] <= a_dict[s[i-1]]:\n",
    "            result += a_dict[s[i]]\n",
    "        \n",
    "        else:\n",
    "            result += a_dict[s[i]] - 2*a_dict[s[i-1]] \n",
    "        \n",
    "    return result\n",
    "        \n",
    "romanToInt('LVIII')"
   ]
  },
  {
   "cell_type": "code",
   "execution_count": 1,
   "metadata": {},
   "outputs": [
    {
     "name": "stdout",
     "output_type": "stream",
     "text": [
      "[-4, -1, -1, 0, 0, 1, 1, 2, 2, 6]\n",
      "5\n",
      "5\n",
      "4\n",
      "4\n",
      "3\n",
      "3\n",
      "2\n",
      "2\n",
      "2\n",
      "1\n",
      "1\n",
      "0\n",
      "0\n",
      "-1\n",
      "0\n",
      "-1\n",
      "-1\n"
     ]
    },
    {
     "data": {
      "text/plain": [
       "{(-4, 2, 2), (-1, -1, 2), (-1, 0, 1)}"
      ]
     },
     "execution_count": 1,
     "metadata": {},
     "output_type": "execute_result"
    }
   ],
   "source": [
    "# Three sums\n",
    "\n",
    "def threeSum(nums):\n",
    "    nums = sorted(nums)\n",
    "    length =len(nums)\n",
    "    outer_set=set()\n",
    "    print(nums)\n",
    "    for i in range(length-2):\n",
    "        if nums[i]>0:\n",
    "            break\n",
    "        if nums[i] !=0 and nums[i] == nums[i-1]:\n",
    "            continue\n",
    "        for j in range(i+1, length-1):\n",
    "            remainder = -(nums[i]+nums[j])\n",
    "            print(remainder)\n",
    "            if remainder>=0:\n",
    "                if remainder in nums[j+1:]:\n",
    "                    inner_tuple=(nums[i], nums[j], remainder) \n",
    "                    if inner_tuple not in outer_set:\n",
    "                        outer_set.add(inner_tuple)\n",
    "            else:\n",
    "                break\n",
    "    return (outer_set)\n",
    "\n",
    "threeSum([-1,0,1,2,-1,-4, 2, 1, 0, 6])"
   ]
  },
  {
   "cell_type": "code",
   "execution_count": 101,
   "metadata": {},
   "outputs": [
    {
     "data": {
      "text/plain": [
       "{(-1, -1, 2), (-1, 0, 1)}"
      ]
     },
     "execution_count": 101,
     "metadata": {},
     "output_type": "execute_result"
    }
   ],
   "source": [
    "# Three sums, Alternative\n",
    "\n",
    "class Solution(object):\n",
    "    def threeSum(self, nums):\n",
    "        res = set()\n",
    "        nums.sort()\n",
    "        length = len(nums)\n",
    "        count = 0\n",
    "        for i in range(length-2):\n",
    "            if nums[i]>0: break\n",
    "            if i>0 and nums[i]==nums[i-1]: continue\n",
    "            l, r = i+1, length-1\n",
    "            while l<r:\n",
    "                total = nums[i]+nums[l]+nums[r]\n",
    "                if total<0:\n",
    "                    l+=1\n",
    "                elif total>0:\n",
    "                    r-=1\n",
    "                else:\n",
    "                    res.add(tuple([nums[i], nums[l], nums[r]]))\n",
    "                    l+=1\n",
    "                    r-=1\n",
    "        return list(res)\n"
   ]
  }
 ],
 "metadata": {
  "kernelspec": {
   "display_name": "Python 3",
   "language": "python",
   "name": "python3"
  },
  "language_info": {
   "codemirror_mode": {
    "name": "ipython",
    "version": 3
   },
   "file_extension": ".py",
   "mimetype": "text/x-python",
   "name": "python",
   "nbconvert_exporter": "python",
   "pygments_lexer": "ipython3",
   "version": "3.7.6"
  }
 },
 "nbformat": 4,
 "nbformat_minor": 4
}
